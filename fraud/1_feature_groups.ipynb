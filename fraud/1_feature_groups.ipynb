{
 "cells": [
  {
   "cell_type": "markdown",
   "id": "d2a871e4",
   "metadata": {},
   "source": [
    "## Fraud Tutorial - Feature Groups\n",
    "\n",
    "In this series of tutorials, we will work with data related to credit card transactions. The end goal is to train and serve a model on the Hopsworks platform that can predict whether a credit card transaction is fraudulent or not.\n",
    "\n",
    "In this particular tutorial you will learn how to:\n",
    "- Connect to the Hopsworks feature store.\n",
    "- Create feature groups and upload them to the feature store."
   ]
  },
  {
   "cell_type": "markdown",
   "id": "f11c6ca5",
   "metadata": {},
   "source": [
    "### Data\n",
    "\n",
    "The data we will use comes from three different CSV files:\n",
    "\n",
    "- `credit_cards.csv`: credit card information such as expiration date and provider.\n",
    "- `transactions.csv`: transaction information such as timestamp, location, and the amount. Importantly, the binary `fraud_label` variable tells us whether a transaction was fraudulent or not.\n",
    "- `profiles.csv`: credit card user information such as birthdate and city of residence.\n",
    "\n",
    "We can conceptualize these CSV files as originating from separate data sources. All three files have a credit card number column `cc_num` in common, which we will use later for joins related to feature engineering and dataset creation.\n",
    "\n",
    "Let's go ahead and load the data."
   ]
  },
  {
   "cell_type": "code",
   "execution_count": 7,
   "id": "d0ca814d",
   "metadata": {},
   "outputs": [
    {
     "data": {
      "text/html": [
       "<div>\n",
       "<style scoped>\n",
       "    .dataframe tbody tr th:only-of-type {\n",
       "        vertical-align: middle;\n",
       "    }\n",
       "\n",
       "    .dataframe tbody tr th {\n",
       "        vertical-align: top;\n",
       "    }\n",
       "\n",
       "    .dataframe thead th {\n",
       "        text-align: right;\n",
       "    }\n",
       "</style>\n",
       "<table border=\"1\" class=\"dataframe\">\n",
       "  <thead>\n",
       "    <tr style=\"text-align: right;\">\n",
       "      <th></th>\n",
       "      <th>cc_num</th>\n",
       "      <th>provider</th>\n",
       "      <th>expires</th>\n",
       "    </tr>\n",
       "  </thead>\n",
       "  <tbody>\n",
       "    <tr>\n",
       "      <th>0</th>\n",
       "      <td>4031433455074417</td>\n",
       "      <td>visa</td>\n",
       "      <td>02/25</td>\n",
       "    </tr>\n",
       "    <tr>\n",
       "      <th>1</th>\n",
       "      <td>4436104537406320</td>\n",
       "      <td>visa</td>\n",
       "      <td>08/24</td>\n",
       "    </tr>\n",
       "    <tr>\n",
       "      <th>2</th>\n",
       "      <td>4571305563689391</td>\n",
       "      <td>visa</td>\n",
       "      <td>02/21</td>\n",
       "    </tr>\n",
       "  </tbody>\n",
       "</table>\n",
       "</div>"
      ],
      "text/plain": [
       "             cc_num provider expires\n",
       "0  4031433455074417     visa   02/25\n",
       "1  4436104537406320     visa   08/24\n",
       "2  4571305563689391     visa   02/21"
      ]
     },
     "execution_count": 7,
     "metadata": {},
     "output_type": "execute_result"
    }
   ],
   "source": [
    "import pandas as pd\n",
    "\n",
    "credit_cards_df = pd.read_csv('https://raw.githubusercontent.com/logicalclocks/hopsworks-tutorials/fraud_detection/data/credit_cards.csv')\n",
    "credit_cards_df.head(3)"
   ]
  },
  {
   "cell_type": "code",
   "execution_count": 9,
   "id": "c43be5fe",
   "metadata": {},
   "outputs": [
    {
     "data": {
      "text/html": [
       "<div>\n",
       "<style scoped>\n",
       "    .dataframe tbody tr th:only-of-type {\n",
       "        vertical-align: middle;\n",
       "    }\n",
       "\n",
       "    .dataframe tbody tr th {\n",
       "        vertical-align: top;\n",
       "    }\n",
       "\n",
       "    .dataframe thead th {\n",
       "        text-align: right;\n",
       "    }\n",
       "</style>\n",
       "<table border=\"1\" class=\"dataframe\">\n",
       "  <thead>\n",
       "    <tr style=\"text-align: right;\">\n",
       "      <th></th>\n",
       "      <th>name</th>\n",
       "      <th>sex</th>\n",
       "      <th>mail</th>\n",
       "      <th>birthdate</th>\n",
       "      <th>City</th>\n",
       "      <th>Country</th>\n",
       "      <th>cc_num</th>\n",
       "    </tr>\n",
       "  </thead>\n",
       "  <tbody>\n",
       "    <tr>\n",
       "      <th>0</th>\n",
       "      <td>Teresa Smith</td>\n",
       "      <td>F</td>\n",
       "      <td>kevin70@yahoo.com</td>\n",
       "      <td>1972-11-07</td>\n",
       "      <td>Camarillo</td>\n",
       "      <td>US</td>\n",
       "      <td>4031433455074417</td>\n",
       "    </tr>\n",
       "    <tr>\n",
       "      <th>1</th>\n",
       "      <td>Luis Hays</td>\n",
       "      <td>M</td>\n",
       "      <td>kevinstewart@hotmail.com</td>\n",
       "      <td>1995-07-28</td>\n",
       "      <td>Troutdale</td>\n",
       "      <td>US</td>\n",
       "      <td>4436104537406320</td>\n",
       "    </tr>\n",
       "    <tr>\n",
       "      <th>2</th>\n",
       "      <td>Kyle Clark</td>\n",
       "      <td>M</td>\n",
       "      <td>davidflores@gmail.com</td>\n",
       "      <td>1954-12-30</td>\n",
       "      <td>Fort Washington</td>\n",
       "      <td>US</td>\n",
       "      <td>4571305563689391</td>\n",
       "    </tr>\n",
       "  </tbody>\n",
       "</table>\n",
       "</div>"
      ],
      "text/plain": [
       "           name sex                      mail  birthdate             City  \\\n",
       "0  Teresa Smith   F         kevin70@yahoo.com 1972-11-07        Camarillo   \n",
       "1     Luis Hays   M  kevinstewart@hotmail.com 1995-07-28        Troutdale   \n",
       "2    Kyle Clark   M     davidflores@gmail.com 1954-12-30  Fort Washington   \n",
       "\n",
       "  Country            cc_num  \n",
       "0      US  4031433455074417  \n",
       "1      US  4436104537406320  \n",
       "2      US  4571305563689391  "
      ]
     },
     "execution_count": 9,
     "metadata": {},
     "output_type": "execute_result"
    }
   ],
   "source": [
    "profiles_df = pd.read_csv('https://raw.githubusercontent.com/logicalclocks/hopsworks-tutorials/fraud_detection/data/profiles.csv', parse_dates=[\"birthdate\"])\n",
    "profiles_df.head(3)"
   ]
  },
  {
   "cell_type": "code",
   "execution_count": 10,
   "id": "0d7d1541",
   "metadata": {},
   "outputs": [],
   "source": [
    "# TODO fix the error:\n",
    "# ValueError: Multiple files found in ZIP file. Only one file per ZIP: ['transactions.csv', '__MACOSX/._transactions.csv']\n",
    "\n",
    "trans_df = pd.read_csv(\n",
    "    'https://raw.githubusercontent.com/logicalclocks/hopsworks-tutorials/fraud_detection/data/transactions.csv.zip',\n",
    "    parse_dates=[\"datetime\"])"
   ]
  },
  {
   "cell_type": "markdown",
   "id": "194b248c",
   "metadata": {},
   "source": [
    "#### Connect to the Feature Store\n",
    "\n",
    "We start by connecting to our feature store."
   ]
  },
  {
   "cell_type": "code",
   "execution_count": 11,
   "id": "117496ea",
   "metadata": {},
   "outputs": [
    {
     "name": "stdout",
     "output_type": "stream",
     "text": [
      "Connected. Call `.close()` to terminate connection gracefully.\n"
     ]
    }
   ],
   "source": [
    "import hsfs\n",
    "\n",
    "conn = hsfs.connection()\n",
    "fs = conn.get_feature_store()"
   ]
  },
  {
   "cell_type": "markdown",
   "id": "e143a945",
   "metadata": {},
   "source": [
    "#### Creating Feature Groups\n",
    "\n",
    "A [feature group](https://docs.hopsworks.ai/feature-store-api/latest/generated/feature_group/) can be seen as a collection of conceptually related features that typically originate from the same data source. In our problem setting, we can imagine that our transaction data comes from a real-time stream, whereas the profile and credit card data streams are much more seldom updated. Here it makes sense to create a feature group for each csv data file.\n",
    "\n",
    "To create a feature group we need to give it a name and specify a primary key. The primary key is the set of features that are used to uniquely identify a row in the feature group, e.g. transaction ID `tid` for the transaction data.\n",
    "\n",
    "Let's start by creating a feature group for the credit card data."
   ]
  },
  {
   "cell_type": "code",
   "execution_count": 12,
   "id": "6a21a53b",
   "metadata": {},
   "outputs": [],
   "source": [
    "credit_cards_fg = fs.create_feature_group(\n",
    "    name=\"credit_cards\",\n",
    "    description=\"Credit card user information.\",\n",
    "    primary_key=[\"cc_num\"],\n",
    "    online_enabled=True\n",
    ")"
   ]
  },
  {
   "cell_type": "markdown",
   "id": "858ba925",
   "metadata": {},
   "source": [
    "By setting `online_enabled=True` we enable low latency access to the data. A full list of arguments can be found in the [documentation](https://docs.hopsworks.ai/feature-store-api/latest/generated/api/feature_store_api/#create_feature_group).\n",
    "\n",
    "At this point, we have only specified some basic metadata for the feature group. It does not store any data or even have a schema defined for it. To make the feature group persistent we populate it with its associated data using the `save` function."
   ]
  },
  {
   "cell_type": "code",
   "execution_count": 13,
   "id": "37f05133",
   "metadata": {},
   "outputs": [
    {
     "name": "stdout",
     "output_type": "stream",
     "text": [
      "Configuring ingestion job...\n",
      "Uploading Pandas dataframe...\n",
      "Launching ingestion job...\n",
      "Ingestion Job started successfully, you can follow the progress at https://hopsworks.glassfish.service.consul:8182/p/125/jobs/named/credit_cards_1_insert_fg_25042022201841/executions\n"
     ]
    },
    {
     "name": "stderr",
     "output_type": "stream",
     "text": [
      "VersionWarning: No version provided for creating feature group `credit_cards`, incremented version to `1`.\n"
     ]
    },
    {
     "data": {
      "text/plain": [
       "<hsfs.core.job.Job at 0x7fe741bd9bb0>"
      ]
     },
     "execution_count": 13,
     "metadata": {},
     "output_type": "execute_result"
    }
   ],
   "source": [
    "credit_cards_fg.save(credit_cards_df)"
   ]
  },
  {
   "cell_type": "markdown",
   "id": "1c9c2eec",
   "metadata": {},
   "source": [
    "We repeat the process for the transaction and user profile data."
   ]
  },
  {
   "cell_type": "code",
   "execution_count": 14,
   "id": "509b44be",
   "metadata": {},
   "outputs": [
    {
     "name": "stdout",
     "output_type": "stream",
     "text": [
      "Configuring ingestion job...\n",
      "Uploading Pandas dataframe...\n",
      "Launching ingestion job...\n",
      "Ingestion Job started successfully, you can follow the progress at https://hopsworks.glassfish.service.consul:8182/p/125/jobs/named/transactions_1_insert_fg_25042022202441/executions\n"
     ]
    },
    {
     "name": "stderr",
     "output_type": "stream",
     "text": [
      "VersionWarning: No version provided for creating feature group `transactions`, incremented version to `1`.\n"
     ]
    },
    {
     "name": "stdout",
     "output_type": "stream",
     "text": [
      "Configuring ingestion job...\n",
      "Uploading Pandas dataframe...\n",
      "Launching ingestion job...\n",
      "Ingestion Job started successfully, you can follow the progress at https://hopsworks.glassfish.service.consul:8182/p/125/jobs/named/profiles_1_insert_fg_25042022202725/executions\n"
     ]
    },
    {
     "name": "stderr",
     "output_type": "stream",
     "text": [
      "VersionWarning: No version provided for creating feature group `profiles`, incremented version to `1`.\n"
     ]
    },
    {
     "data": {
      "text/plain": [
       "<hsfs.core.job.Job at 0x7fe740d0c4c0>"
      ]
     },
     "execution_count": 14,
     "metadata": {},
     "output_type": "execute_result"
    }
   ],
   "source": [
    "# TODO do we really need event_time??\n",
    "# Not sure if we will actually do a point in time split...,\n",
    "# or if it's needed for the chronological split.\n",
    "\n",
    "trans_fg = fs.create_feature_group(\n",
    "    name=\"transactions\",\n",
    "    description=\"Transaction data.\",\n",
    "    primary_key=['tid'],\n",
    "    online_enabled=True,\n",
    "    event_time=['datetime']\n",
    ")\n",
    "trans_fg.save(trans_df)\n",
    "\n",
    "profiles_fg = fs.create_feature_group(\n",
    "    name=\"profiles\",\n",
    "    description=\"Credit card user information.\",\n",
    "    primary_key=[\"cc_num\"],\n",
    "    online_enabled=True\n",
    ")\n",
    "profiles_fg.save(profiles_df)"
   ]
  },
  {
   "cell_type": "markdown",
   "id": "042eae49",
   "metadata": {},
   "source": [
    "You should now be able to inspect the feature groups in the Hopsworks UI."
   ]
  },
  {
   "cell_type": "markdown",
   "id": "99cb137d",
   "metadata": {},
   "source": [
    "### Next Steps\n",
    "\n",
    "In this notebook, we created feature groups containing raw features. In the next notebook, we will do some feature engineering on these features to create additional features and feature groups."
   ]
  }
 ],
 "metadata": {
  "interpreter": {
   "hash": "31f2aee4e71d21fbe5cf8b01ff0e069b9275f58929596ceb00d14d90e3e16cd6"
  },
  "kernelspec": {
   "display_name": "Python",
   "language": "python",
   "name": "python3"
  },
  "language_info": {
   "codemirror_mode": {
    "name": "ipython",
    "version": 3
   },
   "file_extension": ".py",
   "mimetype": "text/x-python",
   "name": "python",
   "nbconvert_exporter": "python",
   "pygments_lexer": "ipython3",
   "version": "3.8.11"
  }
 },
 "nbformat": 4,
 "nbformat_minor": 5
}
