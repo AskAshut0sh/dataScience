{
 "cells": [
  {
   "cell_type": "markdown",
   "id": "02c73b6d",
   "metadata": {},
   "source": [
    "## Fraud Tutorial - Feature Groups\n",
    "\n",
    "In this series of tutorials, we will work with data related to credit card transactions. The end goal is to train and serve a model on the Hopsworks platform that can predict whether a credit card transaction is fraudulent or not.\n",
    "\n",
    "In this particular tutorial you will learn how to:\n",
    "- Connect to the Hopsworks feature store.\n",
    "- Create feature groups and upload them to the feature store."
   ]
  },
  {
   "cell_type": "markdown",
   "id": "41d65920",
   "metadata": {},
   "source": [
    "#### Connect to the Feature Store\n",
    "\n",
    "We start by connecting to our feature store."
   ]
  },
  {
   "cell_type": "code",
   "execution_count": 1,
   "id": "16a317bc",
   "metadata": {},
   "outputs": [
    {
     "name": "stdout",
     "output_type": "stream",
     "text": [
      "Connected. Call `.close()` to terminate connection gracefully.\n"
     ]
    }
   ],
   "source": [
    "import hsfs\n",
    "\n",
    "conn = hsfs.connection()\n",
    "fs = conn.get_feature_store()"
   ]
  },
  {
   "cell_type": "markdown",
   "id": "564a10dc",
   "metadata": {},
   "source": [
    "### Data\n",
    "\n",
    "The data we will use comes from three different CSV files:\n",
    "\n",
    "- `credit_cards.csv`: credit card information such as expiration date and provider.\n",
    "- `transactions.csv`: transaction information such as timestamp, location, and the amount. Importantly, the binary `fraud_label` variable tells us whether a transaction was fraudulent or not.\n",
    "- `profiles.csv`: credit card user information such as birthdate and city of residence.\n",
    "\n",
    "We can conceptualize these CSV files as originating from separate data sources. All three files have a credit card number column `cc_num` in common, which we will use later for joins related to feature engineering and dataset creation.\n",
    "\n",
    "Let's go ahead and load the data."
   ]
  },
  {
   "cell_type": "code",
   "execution_count": 5,
   "id": "2330d649",
   "metadata": {},
   "outputs": [
    {
     "data": {
      "text/html": [
       "<div>\n",
       "<style scoped>\n",
       "    .dataframe tbody tr th:only-of-type {\n",
       "        vertical-align: middle;\n",
       "    }\n",
       "\n",
       "    .dataframe tbody tr th {\n",
       "        vertical-align: top;\n",
       "    }\n",
       "\n",
       "    .dataframe thead th {\n",
       "        text-align: right;\n",
       "    }\n",
       "</style>\n",
       "<table border=\"1\" class=\"dataframe\">\n",
       "  <thead>\n",
       "    <tr style=\"text-align: right;\">\n",
       "      <th></th>\n",
       "      <th>cc_num</th>\n",
       "      <th>provider</th>\n",
       "      <th>expires</th>\n",
       "    </tr>\n",
       "  </thead>\n",
       "  <tbody>\n",
       "    <tr>\n",
       "      <th>0</th>\n",
       "      <td>4031433455074417</td>\n",
       "      <td>visa</td>\n",
       "      <td>02/25</td>\n",
       "    </tr>\n",
       "    <tr>\n",
       "      <th>1</th>\n",
       "      <td>4436104537406320</td>\n",
       "      <td>visa</td>\n",
       "      <td>08/24</td>\n",
       "    </tr>\n",
       "    <tr>\n",
       "      <th>2</th>\n",
       "      <td>4571305563689391</td>\n",
       "      <td>visa</td>\n",
       "      <td>02/21</td>\n",
       "    </tr>\n",
       "  </tbody>\n",
       "</table>\n",
       "</div>"
      ],
      "text/plain": [
       "             cc_num provider expires\n",
       "0  4031433455074417     visa   02/25\n",
       "1  4436104537406320     visa   08/24\n",
       "2  4571305563689391     visa   02/21"
      ]
     },
     "execution_count": 5,
     "metadata": {},
     "output_type": "execute_result"
    }
   ],
   "source": [
    "import pandas as pd\n",
    "\n",
    "credit_cards_df = pd.read_csv('https://raw.githubusercontent.com/logicalclocks/hopsworks-tutorials/fraud_detection/data/credit_cards.csv')\n",
    "credit_cards_df.head(3)"
   ]
  },
  {
   "cell_type": "code",
   "execution_count": 6,
   "id": "968df2c4",
   "metadata": {},
   "outputs": [
    {
     "data": {
      "text/html": [
       "<div>\n",
       "<style scoped>\n",
       "    .dataframe tbody tr th:only-of-type {\n",
       "        vertical-align: middle;\n",
       "    }\n",
       "\n",
       "    .dataframe tbody tr th {\n",
       "        vertical-align: top;\n",
       "    }\n",
       "\n",
       "    .dataframe thead th {\n",
       "        text-align: right;\n",
       "    }\n",
       "</style>\n",
       "<table border=\"1\" class=\"dataframe\">\n",
       "  <thead>\n",
       "    <tr style=\"text-align: right;\">\n",
       "      <th></th>\n",
       "      <th>name</th>\n",
       "      <th>sex</th>\n",
       "      <th>mail</th>\n",
       "      <th>birthdate</th>\n",
       "      <th>City</th>\n",
       "      <th>Country</th>\n",
       "      <th>cc_num</th>\n",
       "    </tr>\n",
       "  </thead>\n",
       "  <tbody>\n",
       "    <tr>\n",
       "      <th>0</th>\n",
       "      <td>Teresa Smith</td>\n",
       "      <td>F</td>\n",
       "      <td>kevin70@yahoo.com</td>\n",
       "      <td>1972-11-07</td>\n",
       "      <td>Camarillo</td>\n",
       "      <td>US</td>\n",
       "      <td>4031433455074417</td>\n",
       "    </tr>\n",
       "    <tr>\n",
       "      <th>1</th>\n",
       "      <td>Luis Hays</td>\n",
       "      <td>M</td>\n",
       "      <td>kevinstewart@hotmail.com</td>\n",
       "      <td>1995-07-28</td>\n",
       "      <td>Troutdale</td>\n",
       "      <td>US</td>\n",
       "      <td>4436104537406320</td>\n",
       "    </tr>\n",
       "    <tr>\n",
       "      <th>2</th>\n",
       "      <td>Kyle Clark</td>\n",
       "      <td>M</td>\n",
       "      <td>davidflores@gmail.com</td>\n",
       "      <td>1954-12-30</td>\n",
       "      <td>Fort Washington</td>\n",
       "      <td>US</td>\n",
       "      <td>4571305563689391</td>\n",
       "    </tr>\n",
       "  </tbody>\n",
       "</table>\n",
       "</div>"
      ],
      "text/plain": [
       "           name sex                      mail  birthdate             City  \\\n",
       "0  Teresa Smith   F         kevin70@yahoo.com 1972-11-07        Camarillo   \n",
       "1     Luis Hays   M  kevinstewart@hotmail.com 1995-07-28        Troutdale   \n",
       "2    Kyle Clark   M     davidflores@gmail.com 1954-12-30  Fort Washington   \n",
       "\n",
       "  Country            cc_num  \n",
       "0      US  4031433455074417  \n",
       "1      US  4436104537406320  \n",
       "2      US  4571305563689391  "
      ]
     },
     "execution_count": 6,
     "metadata": {},
     "output_type": "execute_result"
    }
   ],
   "source": [
    "profiles_df = pd.read_csv('https://raw.githubusercontent.com/logicalclocks/hopsworks-tutorials/fraud_detection/data/profiles.csv', parse_dates=[\"birthdate\"])\n",
    "profiles_df.head(3)"
   ]
  },
  {
   "cell_type": "code",
   "execution_count": 4,
   "id": "bfc9cdb9",
   "metadata": {},
   "outputs": [
    {
     "ename": "ValueError",
     "evalue": "Multiple files found in ZIP file. Only one file per ZIP: ['transactions.csv', '__MACOSX/._transactions.csv']",
     "output_type": "error",
     "traceback": [
      "\u001b[0;31m---------------------------------------------------------------------------\u001b[0m",
      "\u001b[0;31mValueError\u001b[0m                                Traceback (most recent call last)",
      "\u001b[1;32m/Users/jacob/Desktop/git-proj/hopsworks/1_feature_groups.ipynb Cell 6'\u001b[0m in \u001b[0;36m<cell line: 5>\u001b[0;34m()\u001b[0m\n\u001b[1;32m      <a href='vscode-notebook-cell:/Users/jacob/Desktop/git-proj/hopsworks/1_feature_groups.ipynb#ch0000026?line=0'>1</a>\u001b[0m \u001b[39m# TODO fix the error:\u001b[39;00m\n\u001b[1;32m      <a href='vscode-notebook-cell:/Users/jacob/Desktop/git-proj/hopsworks/1_feature_groups.ipynb#ch0000026?line=1'>2</a>\u001b[0m \u001b[39m# ValueError: Multiple files found in ZIP file. Only one file per ZIP: ['transactions.csv', '__MACOSX/._transactions.csv']\u001b[39;00m\n\u001b[1;32m      <a href='vscode-notebook-cell:/Users/jacob/Desktop/git-proj/hopsworks/1_feature_groups.ipynb#ch0000026?line=2'>3</a>\u001b[0m \n\u001b[1;32m      <a href='vscode-notebook-cell:/Users/jacob/Desktop/git-proj/hopsworks/1_feature_groups.ipynb#ch0000026?line=3'>4</a>\u001b[0m \u001b[39m# Contains info about transactions.\u001b[39;00m\n\u001b[0;32m----> <a href='vscode-notebook-cell:/Users/jacob/Desktop/git-proj/hopsworks/1_feature_groups.ipynb#ch0000026?line=4'>5</a>\u001b[0m trans_df \u001b[39m=\u001b[39m pd\u001b[39m.\u001b[39;49mread_csv(\n\u001b[1;32m      <a href='vscode-notebook-cell:/Users/jacob/Desktop/git-proj/hopsworks/1_feature_groups.ipynb#ch0000026?line=5'>6</a>\u001b[0m     \u001b[39m'\u001b[39;49m\u001b[39mhttps://raw.githubusercontent.com/logicalclocks/hopsworks-tutorials/fraud_detection/data/transactions.csv.zip\u001b[39;49m\u001b[39m'\u001b[39;49m,\n\u001b[1;32m      <a href='vscode-notebook-cell:/Users/jacob/Desktop/git-proj/hopsworks/1_feature_groups.ipynb#ch0000026?line=6'>7</a>\u001b[0m     parse_dates\u001b[39m=\u001b[39;49m[\u001b[39m\"\u001b[39;49m\u001b[39mdatetime\u001b[39;49m\u001b[39m\"\u001b[39;49m])\n",
      "File \u001b[0;32m~/Library/Python/3.8/lib/python/site-packages/pandas/util/_decorators.py:311\u001b[0m, in \u001b[0;36mdeprecate_nonkeyword_arguments.<locals>.decorate.<locals>.wrapper\u001b[0;34m(*args, **kwargs)\u001b[0m\n\u001b[1;32m    <a href='file:///Users/jacob/Library/Python/3.8/lib/python/site-packages/pandas/util/_decorators.py?line=304'>305</a>\u001b[0m \u001b[39mif\u001b[39;00m \u001b[39mlen\u001b[39m(args) \u001b[39m>\u001b[39m num_allow_args:\n\u001b[1;32m    <a href='file:///Users/jacob/Library/Python/3.8/lib/python/site-packages/pandas/util/_decorators.py?line=305'>306</a>\u001b[0m     warnings\u001b[39m.\u001b[39mwarn(\n\u001b[1;32m    <a href='file:///Users/jacob/Library/Python/3.8/lib/python/site-packages/pandas/util/_decorators.py?line=306'>307</a>\u001b[0m         msg\u001b[39m.\u001b[39mformat(arguments\u001b[39m=\u001b[39marguments),\n\u001b[1;32m    <a href='file:///Users/jacob/Library/Python/3.8/lib/python/site-packages/pandas/util/_decorators.py?line=307'>308</a>\u001b[0m         \u001b[39mFutureWarning\u001b[39;00m,\n\u001b[1;32m    <a href='file:///Users/jacob/Library/Python/3.8/lib/python/site-packages/pandas/util/_decorators.py?line=308'>309</a>\u001b[0m         stacklevel\u001b[39m=\u001b[39mstacklevel,\n\u001b[1;32m    <a href='file:///Users/jacob/Library/Python/3.8/lib/python/site-packages/pandas/util/_decorators.py?line=309'>310</a>\u001b[0m     )\n\u001b[0;32m--> <a href='file:///Users/jacob/Library/Python/3.8/lib/python/site-packages/pandas/util/_decorators.py?line=310'>311</a>\u001b[0m \u001b[39mreturn\u001b[39;00m func(\u001b[39m*\u001b[39;49margs, \u001b[39m*\u001b[39;49m\u001b[39m*\u001b[39;49mkwargs)\n",
      "File \u001b[0;32m~/Library/Python/3.8/lib/python/site-packages/pandas/io/parsers/readers.py:680\u001b[0m, in \u001b[0;36mread_csv\u001b[0;34m(filepath_or_buffer, sep, delimiter, header, names, index_col, usecols, squeeze, prefix, mangle_dupe_cols, dtype, engine, converters, true_values, false_values, skipinitialspace, skiprows, skipfooter, nrows, na_values, keep_default_na, na_filter, verbose, skip_blank_lines, parse_dates, infer_datetime_format, keep_date_col, date_parser, dayfirst, cache_dates, iterator, chunksize, compression, thousands, decimal, lineterminator, quotechar, quoting, doublequote, escapechar, comment, encoding, encoding_errors, dialect, error_bad_lines, warn_bad_lines, on_bad_lines, delim_whitespace, low_memory, memory_map, float_precision, storage_options)\u001b[0m\n\u001b[1;32m    <a href='file:///Users/jacob/Library/Python/3.8/lib/python/site-packages/pandas/io/parsers/readers.py?line=664'>665</a>\u001b[0m kwds_defaults \u001b[39m=\u001b[39m _refine_defaults_read(\n\u001b[1;32m    <a href='file:///Users/jacob/Library/Python/3.8/lib/python/site-packages/pandas/io/parsers/readers.py?line=665'>666</a>\u001b[0m     dialect,\n\u001b[1;32m    <a href='file:///Users/jacob/Library/Python/3.8/lib/python/site-packages/pandas/io/parsers/readers.py?line=666'>667</a>\u001b[0m     delimiter,\n\u001b[0;32m   (...)\u001b[0m\n\u001b[1;32m    <a href='file:///Users/jacob/Library/Python/3.8/lib/python/site-packages/pandas/io/parsers/readers.py?line=675'>676</a>\u001b[0m     defaults\u001b[39m=\u001b[39m{\u001b[39m\"\u001b[39m\u001b[39mdelimiter\u001b[39m\u001b[39m\"\u001b[39m: \u001b[39m\"\u001b[39m\u001b[39m,\u001b[39m\u001b[39m\"\u001b[39m},\n\u001b[1;32m    <a href='file:///Users/jacob/Library/Python/3.8/lib/python/site-packages/pandas/io/parsers/readers.py?line=676'>677</a>\u001b[0m )\n\u001b[1;32m    <a href='file:///Users/jacob/Library/Python/3.8/lib/python/site-packages/pandas/io/parsers/readers.py?line=677'>678</a>\u001b[0m kwds\u001b[39m.\u001b[39mupdate(kwds_defaults)\n\u001b[0;32m--> <a href='file:///Users/jacob/Library/Python/3.8/lib/python/site-packages/pandas/io/parsers/readers.py?line=679'>680</a>\u001b[0m \u001b[39mreturn\u001b[39;00m _read(filepath_or_buffer, kwds)\n",
      "File \u001b[0;32m~/Library/Python/3.8/lib/python/site-packages/pandas/io/parsers/readers.py:575\u001b[0m, in \u001b[0;36m_read\u001b[0;34m(filepath_or_buffer, kwds)\u001b[0m\n\u001b[1;32m    <a href='file:///Users/jacob/Library/Python/3.8/lib/python/site-packages/pandas/io/parsers/readers.py?line=571'>572</a>\u001b[0m _validate_names(kwds\u001b[39m.\u001b[39mget(\u001b[39m\"\u001b[39m\u001b[39mnames\u001b[39m\u001b[39m\"\u001b[39m, \u001b[39mNone\u001b[39;00m))\n\u001b[1;32m    <a href='file:///Users/jacob/Library/Python/3.8/lib/python/site-packages/pandas/io/parsers/readers.py?line=573'>574</a>\u001b[0m \u001b[39m# Create the parser.\u001b[39;00m\n\u001b[0;32m--> <a href='file:///Users/jacob/Library/Python/3.8/lib/python/site-packages/pandas/io/parsers/readers.py?line=574'>575</a>\u001b[0m parser \u001b[39m=\u001b[39m TextFileReader(filepath_or_buffer, \u001b[39m*\u001b[39;49m\u001b[39m*\u001b[39;49mkwds)\n\u001b[1;32m    <a href='file:///Users/jacob/Library/Python/3.8/lib/python/site-packages/pandas/io/parsers/readers.py?line=576'>577</a>\u001b[0m \u001b[39mif\u001b[39;00m chunksize \u001b[39mor\u001b[39;00m iterator:\n\u001b[1;32m    <a href='file:///Users/jacob/Library/Python/3.8/lib/python/site-packages/pandas/io/parsers/readers.py?line=577'>578</a>\u001b[0m     \u001b[39mreturn\u001b[39;00m parser\n",
      "File \u001b[0;32m~/Library/Python/3.8/lib/python/site-packages/pandas/io/parsers/readers.py:933\u001b[0m, in \u001b[0;36mTextFileReader.__init__\u001b[0;34m(self, f, engine, **kwds)\u001b[0m\n\u001b[1;32m    <a href='file:///Users/jacob/Library/Python/3.8/lib/python/site-packages/pandas/io/parsers/readers.py?line=929'>930</a>\u001b[0m     \u001b[39mself\u001b[39m\u001b[39m.\u001b[39moptions[\u001b[39m\"\u001b[39m\u001b[39mhas_index_names\u001b[39m\u001b[39m\"\u001b[39m] \u001b[39m=\u001b[39m kwds[\u001b[39m\"\u001b[39m\u001b[39mhas_index_names\u001b[39m\u001b[39m\"\u001b[39m]\n\u001b[1;32m    <a href='file:///Users/jacob/Library/Python/3.8/lib/python/site-packages/pandas/io/parsers/readers.py?line=931'>932</a>\u001b[0m \u001b[39mself\u001b[39m\u001b[39m.\u001b[39mhandles: IOHandles \u001b[39m|\u001b[39m \u001b[39mNone\u001b[39;00m \u001b[39m=\u001b[39m \u001b[39mNone\u001b[39;00m\n\u001b[0;32m--> <a href='file:///Users/jacob/Library/Python/3.8/lib/python/site-packages/pandas/io/parsers/readers.py?line=932'>933</a>\u001b[0m \u001b[39mself\u001b[39m\u001b[39m.\u001b[39m_engine \u001b[39m=\u001b[39m \u001b[39mself\u001b[39;49m\u001b[39m.\u001b[39;49m_make_engine(f, \u001b[39mself\u001b[39;49m\u001b[39m.\u001b[39;49mengine)\n",
      "File \u001b[0;32m~/Library/Python/3.8/lib/python/site-packages/pandas/io/parsers/readers.py:1217\u001b[0m, in \u001b[0;36mTextFileReader._make_engine\u001b[0;34m(self, f, engine)\u001b[0m\n\u001b[1;32m   <a href='file:///Users/jacob/Library/Python/3.8/lib/python/site-packages/pandas/io/parsers/readers.py?line=1212'>1213</a>\u001b[0m     mode \u001b[39m=\u001b[39m \u001b[39m\"\u001b[39m\u001b[39mrb\u001b[39m\u001b[39m\"\u001b[39m\n\u001b[1;32m   <a href='file:///Users/jacob/Library/Python/3.8/lib/python/site-packages/pandas/io/parsers/readers.py?line=1213'>1214</a>\u001b[0m \u001b[39m# error: No overload variant of \"get_handle\" matches argument types\u001b[39;00m\n\u001b[1;32m   <a href='file:///Users/jacob/Library/Python/3.8/lib/python/site-packages/pandas/io/parsers/readers.py?line=1214'>1215</a>\u001b[0m \u001b[39m# \"Union[str, PathLike[str], ReadCsvBuffer[bytes], ReadCsvBuffer[str]]\"\u001b[39;00m\n\u001b[1;32m   <a href='file:///Users/jacob/Library/Python/3.8/lib/python/site-packages/pandas/io/parsers/readers.py?line=1215'>1216</a>\u001b[0m \u001b[39m# , \"str\", \"bool\", \"Any\", \"Any\", \"Any\", \"Any\", \"Any\"\u001b[39;00m\n\u001b[0;32m-> <a href='file:///Users/jacob/Library/Python/3.8/lib/python/site-packages/pandas/io/parsers/readers.py?line=1216'>1217</a>\u001b[0m \u001b[39mself\u001b[39m\u001b[39m.\u001b[39mhandles \u001b[39m=\u001b[39m get_handle(  \u001b[39m# type: ignore[call-overload]\u001b[39;49;00m\n\u001b[1;32m   <a href='file:///Users/jacob/Library/Python/3.8/lib/python/site-packages/pandas/io/parsers/readers.py?line=1217'>1218</a>\u001b[0m     f,\n\u001b[1;32m   <a href='file:///Users/jacob/Library/Python/3.8/lib/python/site-packages/pandas/io/parsers/readers.py?line=1218'>1219</a>\u001b[0m     mode,\n\u001b[1;32m   <a href='file:///Users/jacob/Library/Python/3.8/lib/python/site-packages/pandas/io/parsers/readers.py?line=1219'>1220</a>\u001b[0m     encoding\u001b[39m=\u001b[39;49m\u001b[39mself\u001b[39;49m\u001b[39m.\u001b[39;49moptions\u001b[39m.\u001b[39;49mget(\u001b[39m\"\u001b[39;49m\u001b[39mencoding\u001b[39;49m\u001b[39m\"\u001b[39;49m, \u001b[39mNone\u001b[39;49;00m),\n\u001b[1;32m   <a href='file:///Users/jacob/Library/Python/3.8/lib/python/site-packages/pandas/io/parsers/readers.py?line=1220'>1221</a>\u001b[0m     compression\u001b[39m=\u001b[39;49m\u001b[39mself\u001b[39;49m\u001b[39m.\u001b[39;49moptions\u001b[39m.\u001b[39;49mget(\u001b[39m\"\u001b[39;49m\u001b[39mcompression\u001b[39;49m\u001b[39m\"\u001b[39;49m, \u001b[39mNone\u001b[39;49;00m),\n\u001b[1;32m   <a href='file:///Users/jacob/Library/Python/3.8/lib/python/site-packages/pandas/io/parsers/readers.py?line=1221'>1222</a>\u001b[0m     memory_map\u001b[39m=\u001b[39;49m\u001b[39mself\u001b[39;49m\u001b[39m.\u001b[39;49moptions\u001b[39m.\u001b[39;49mget(\u001b[39m\"\u001b[39;49m\u001b[39mmemory_map\u001b[39;49m\u001b[39m\"\u001b[39;49m, \u001b[39mFalse\u001b[39;49;00m),\n\u001b[1;32m   <a href='file:///Users/jacob/Library/Python/3.8/lib/python/site-packages/pandas/io/parsers/readers.py?line=1222'>1223</a>\u001b[0m     is_text\u001b[39m=\u001b[39;49mis_text,\n\u001b[1;32m   <a href='file:///Users/jacob/Library/Python/3.8/lib/python/site-packages/pandas/io/parsers/readers.py?line=1223'>1224</a>\u001b[0m     errors\u001b[39m=\u001b[39;49m\u001b[39mself\u001b[39;49m\u001b[39m.\u001b[39;49moptions\u001b[39m.\u001b[39;49mget(\u001b[39m\"\u001b[39;49m\u001b[39mencoding_errors\u001b[39;49m\u001b[39m\"\u001b[39;49m, \u001b[39m\"\u001b[39;49m\u001b[39mstrict\u001b[39;49m\u001b[39m\"\u001b[39;49m),\n\u001b[1;32m   <a href='file:///Users/jacob/Library/Python/3.8/lib/python/site-packages/pandas/io/parsers/readers.py?line=1224'>1225</a>\u001b[0m     storage_options\u001b[39m=\u001b[39;49m\u001b[39mself\u001b[39;49m\u001b[39m.\u001b[39;49moptions\u001b[39m.\u001b[39;49mget(\u001b[39m\"\u001b[39;49m\u001b[39mstorage_options\u001b[39;49m\u001b[39m\"\u001b[39;49m, \u001b[39mNone\u001b[39;49;00m),\n\u001b[1;32m   <a href='file:///Users/jacob/Library/Python/3.8/lib/python/site-packages/pandas/io/parsers/readers.py?line=1225'>1226</a>\u001b[0m )\n\u001b[1;32m   <a href='file:///Users/jacob/Library/Python/3.8/lib/python/site-packages/pandas/io/parsers/readers.py?line=1226'>1227</a>\u001b[0m \u001b[39massert\u001b[39;00m \u001b[39mself\u001b[39m\u001b[39m.\u001b[39mhandles \u001b[39mis\u001b[39;00m \u001b[39mnot\u001b[39;00m \u001b[39mNone\u001b[39;00m\n\u001b[1;32m   <a href='file:///Users/jacob/Library/Python/3.8/lib/python/site-packages/pandas/io/parsers/readers.py?line=1227'>1228</a>\u001b[0m f \u001b[39m=\u001b[39m \u001b[39mself\u001b[39m\u001b[39m.\u001b[39mhandles\u001b[39m.\u001b[39mhandle\n",
      "File \u001b[0;32m~/Library/Python/3.8/lib/python/site-packages/pandas/io/common.py:754\u001b[0m, in \u001b[0;36mget_handle\u001b[0;34m(path_or_buf, mode, encoding, compression, memory_map, is_text, errors, storage_options)\u001b[0m\n\u001b[1;32m    <a href='file:///Users/jacob/Library/Python/3.8/lib/python/site-packages/pandas/io/common.py?line=751'>752</a>\u001b[0m             \u001b[39mraise\u001b[39;00m \u001b[39mValueError\u001b[39;00m(\u001b[39mf\u001b[39m\u001b[39m\"\u001b[39m\u001b[39mZero files found in ZIP file \u001b[39m\u001b[39m{\u001b[39;00mpath_or_buf\u001b[39m}\u001b[39;00m\u001b[39m\"\u001b[39m)\n\u001b[1;32m    <a href='file:///Users/jacob/Library/Python/3.8/lib/python/site-packages/pandas/io/common.py?line=752'>753</a>\u001b[0m         \u001b[39melse\u001b[39;00m:\n\u001b[0;32m--> <a href='file:///Users/jacob/Library/Python/3.8/lib/python/site-packages/pandas/io/common.py?line=753'>754</a>\u001b[0m             \u001b[39mraise\u001b[39;00m \u001b[39mValueError\u001b[39;00m(\n\u001b[1;32m    <a href='file:///Users/jacob/Library/Python/3.8/lib/python/site-packages/pandas/io/common.py?line=754'>755</a>\u001b[0m                 \u001b[39m\"\u001b[39m\u001b[39mMultiple files found in ZIP file. \u001b[39m\u001b[39m\"\u001b[39m\n\u001b[1;32m    <a href='file:///Users/jacob/Library/Python/3.8/lib/python/site-packages/pandas/io/common.py?line=755'>756</a>\u001b[0m                 \u001b[39mf\u001b[39m\u001b[39m\"\u001b[39m\u001b[39mOnly one file per ZIP: \u001b[39m\u001b[39m{\u001b[39;00mzip_names\u001b[39m}\u001b[39;00m\u001b[39m\"\u001b[39m\n\u001b[1;32m    <a href='file:///Users/jacob/Library/Python/3.8/lib/python/site-packages/pandas/io/common.py?line=756'>757</a>\u001b[0m             )\n\u001b[1;32m    <a href='file:///Users/jacob/Library/Python/3.8/lib/python/site-packages/pandas/io/common.py?line=758'>759</a>\u001b[0m \u001b[39m# XZ Compression\u001b[39;00m\n\u001b[1;32m    <a href='file:///Users/jacob/Library/Python/3.8/lib/python/site-packages/pandas/io/common.py?line=759'>760</a>\u001b[0m \u001b[39melif\u001b[39;00m compression \u001b[39m==\u001b[39m \u001b[39m\"\u001b[39m\u001b[39mxz\u001b[39m\u001b[39m\"\u001b[39m:\n",
      "\u001b[0;31mValueError\u001b[0m: Multiple files found in ZIP file. Only one file per ZIP: ['transactions.csv', '__MACOSX/._transactions.csv']"
     ]
    }
   ],
   "source": [
    "# TODO fix the error:\n",
    "# ValueError: Multiple files found in ZIP file. Only one file per ZIP: ['transactions.csv', '__MACOSX/._transactions.csv']\n",
    "\n",
    "trans_df = pd.read_csv(\n",
    "    'https://raw.githubusercontent.com/logicalclocks/hopsworks-tutorials/fraud_detection/data/transactions.csv.zip',\n",
    "    parse_dates=[\"datetime\"])"
   ]
  },
  {
   "cell_type": "markdown",
   "id": "2fc9bbd3",
   "metadata": {},
   "source": [
    "#### Creating Feature Groups\n",
    "\n",
    "A [feature group](https://docs.hopsworks.ai/feature-store-api/latest/generated/feature_group/) can be seen as a collection of conceptually related features that typically originate from the same data source. In our problem setting, we can imagine that our transaction data comes from a real-time stream, whereas the profile and credit card data streams are much more seldom updated. Here it makes sense to create a feature group for each csv data file.\n",
    "\n",
    "To create a feature group we need to give it a name and specify a primary key. The primary key is the set of features that are used to uniquely identify a row in the feature group, e.g. transaction ID `tid` for the transaction data.\n",
    "\n",
    "Let's start by creating a feature group for the credit card data."
   ]
  },
  {
   "cell_type": "code",
   "execution_count": null,
   "id": "0e53a7d6",
   "metadata": {},
   "outputs": [],
   "source": [
    "credit_cards_fg = fs.create_feature_group(\n",
    "    name=\"credit_cards\",\n",
    "    description=\"Credit card user information.\",\n",
    "    primary_key=[\"cc_num\"],\n",
    "    online_enabled=True\n",
    ")"
   ]
  },
  {
   "cell_type": "markdown",
   "id": "b9a31887",
   "metadata": {},
   "source": [
    "By setting `online_enabled=True` we enable low latency access to the data. A full list of arguments can be found in the [documentation](https://docs.hopsworks.ai/feature-store-api/latest/generated/api/feature_store_api/#create_feature_group).\n",
    "\n",
    "At this point, we have only specified some basic metadata for the feature group. It does not store any data or even have a schema defined for it. To make the feature group persistent we populate it with its associated data using the `save` function."
   ]
  },
  {
   "cell_type": "code",
   "execution_count": null,
   "id": "6bd7116e",
   "metadata": {},
   "outputs": [],
   "source": [
    "credit_cards_fg.save(credit_cards_df)"
   ]
  },
  {
   "cell_type": "markdown",
   "id": "1ebf8a27",
   "metadata": {},
   "source": [
    "We repeat the process for the transaction and user profile data."
   ]
  },
  {
   "cell_type": "code",
   "execution_count": 1,
   "id": "cd787ceb",
   "metadata": {},
   "outputs": [
    {
     "ename": "NameError",
     "evalue": "name 'fs' is not defined",
     "output_type": "error",
     "traceback": [
      "\u001b[0;31m---------------------------------------------------------------------------\u001b[0m",
      "\u001b[0;31mNameError\u001b[0m                                 Traceback (most recent call last)",
      "\u001b[1;32m/Users/jacob/Desktop/git-proj/hopsworks/1_feature_groups.ipynb Cell 13'\u001b[0m in \u001b[0;36m<cell line: 4>\u001b[0;34m()\u001b[0m\n\u001b[1;32m      <a href='vscode-notebook-cell:/Users/jacob/Desktop/git-proj/hopsworks/1_feature_groups.ipynb#ch0000027?line=0'>1</a>\u001b[0m \u001b[39m# TODO do we really need event_time??\u001b[39;00m\n\u001b[1;32m      <a href='vscode-notebook-cell:/Users/jacob/Desktop/git-proj/hopsworks/1_feature_groups.ipynb#ch0000027?line=1'>2</a>\u001b[0m \u001b[39m# Not sure if we will actually do a point in time split...\u001b[39;00m\n\u001b[0;32m----> <a href='vscode-notebook-cell:/Users/jacob/Desktop/git-proj/hopsworks/1_feature_groups.ipynb#ch0000027?line=3'>4</a>\u001b[0m trans_fg \u001b[39m=\u001b[39m fs\u001b[39m.\u001b[39mcreate_feature_group(\n\u001b[1;32m      <a href='vscode-notebook-cell:/Users/jacob/Desktop/git-proj/hopsworks/1_feature_groups.ipynb#ch0000027?line=4'>5</a>\u001b[0m     name\u001b[39m=\u001b[39m\u001b[39m\"\u001b[39m\u001b[39mtransactions\u001b[39m\u001b[39m\"\u001b[39m,\n\u001b[1;32m      <a href='vscode-notebook-cell:/Users/jacob/Desktop/git-proj/hopsworks/1_feature_groups.ipynb#ch0000027?line=5'>6</a>\u001b[0m     description\u001b[39m=\u001b[39m\u001b[39m\"\u001b[39m\u001b[39mTransaction data.\u001b[39m\u001b[39m\"\u001b[39m,\n\u001b[1;32m      <a href='vscode-notebook-cell:/Users/jacob/Desktop/git-proj/hopsworks/1_feature_groups.ipynb#ch0000027?line=6'>7</a>\u001b[0m     online_enabled\u001b[39m=\u001b[39m\u001b[39mTrue\u001b[39;00m,\n\u001b[1;32m      <a href='vscode-notebook-cell:/Users/jacob/Desktop/git-proj/hopsworks/1_feature_groups.ipynb#ch0000027?line=7'>8</a>\u001b[0m     primary_key\u001b[39m=\u001b[39m[\u001b[39m'\u001b[39m\u001b[39mtid\u001b[39m\u001b[39m'\u001b[39m],\n\u001b[1;32m      <a href='vscode-notebook-cell:/Users/jacob/Desktop/git-proj/hopsworks/1_feature_groups.ipynb#ch0000027?line=8'>9</a>\u001b[0m     event_time\u001b[39m=\u001b[39m[\u001b[39m'\u001b[39m\u001b[39mdatetime\u001b[39m\u001b[39m'\u001b[39m],\n\u001b[1;32m     <a href='vscode-notebook-cell:/Users/jacob/Desktop/git-proj/hopsworks/1_feature_groups.ipynb#ch0000027?line=9'>10</a>\u001b[0m )\n\u001b[1;32m     <a href='vscode-notebook-cell:/Users/jacob/Desktop/git-proj/hopsworks/1_feature_groups.ipynb#ch0000027?line=10'>11</a>\u001b[0m trans_fg\u001b[39m.\u001b[39msave(trans_df)\n\u001b[1;32m     <a href='vscode-notebook-cell:/Users/jacob/Desktop/git-proj/hopsworks/1_feature_groups.ipynb#ch0000027?line=12'>13</a>\u001b[0m profiles_fg \u001b[39m=\u001b[39m fs\u001b[39m.\u001b[39mcreate_feature_group(\n\u001b[1;32m     <a href='vscode-notebook-cell:/Users/jacob/Desktop/git-proj/hopsworks/1_feature_groups.ipynb#ch0000027?line=13'>14</a>\u001b[0m     name\u001b[39m=\u001b[39m\u001b[39m\"\u001b[39m\u001b[39mprofiles\u001b[39m\u001b[39m\"\u001b[39m,\n\u001b[1;32m     <a href='vscode-notebook-cell:/Users/jacob/Desktop/git-proj/hopsworks/1_feature_groups.ipynb#ch0000027?line=14'>15</a>\u001b[0m     description\u001b[39m=\u001b[39m\u001b[39m\"\u001b[39m\u001b[39mCredit card user information.\u001b[39m\u001b[39m\"\u001b[39m,\n\u001b[1;32m     <a href='vscode-notebook-cell:/Users/jacob/Desktop/git-proj/hopsworks/1_feature_groups.ipynb#ch0000027?line=15'>16</a>\u001b[0m     online_enabled\u001b[39m=\u001b[39m\u001b[39mTrue\u001b[39;00m,\n\u001b[1;32m     <a href='vscode-notebook-cell:/Users/jacob/Desktop/git-proj/hopsworks/1_feature_groups.ipynb#ch0000027?line=16'>17</a>\u001b[0m     primary_key\u001b[39m=\u001b[39m[\u001b[39m\"\u001b[39m\u001b[39mcc_num\u001b[39m\u001b[39m\"\u001b[39m],\n\u001b[1;32m     <a href='vscode-notebook-cell:/Users/jacob/Desktop/git-proj/hopsworks/1_feature_groups.ipynb#ch0000027?line=17'>18</a>\u001b[0m )\n",
      "\u001b[0;31mNameError\u001b[0m: name 'fs' is not defined"
     ]
    }
   ],
   "source": [
    "# TODO do we really need event_time??\n",
    "# Not sure if we will actually do a point in time split...,\n",
    "# or if it's needed for the chronological split.\n",
    "\n",
    "trans_fg = fs.create_feature_group(\n",
    "    name=\"transactions\",\n",
    "    description=\"Transaction data.\",\n",
    "    primary_key=['tid'],\n",
    "    online_enabled=True,\n",
    "    event_time=['datetime']\n",
    ")\n",
    "trans_fg.save(trans_df)\n",
    "\n",
    "profiles_fg = fs.create_feature_group(\n",
    "    name=\"profiles\",\n",
    "    description=\"Credit card user information.\",\n",
    "    primary_key=[\"cc_num\"],\n",
    "    online_enabled=True\n",
    ")\n",
    "profiles_fg.save(profiles_df)"
   ]
  },
  {
   "cell_type": "markdown",
   "id": "2988761e",
   "metadata": {},
   "source": [
    "You should now be able to inspect the feature groups in the Hopsworks UI."
   ]
  },
  {
   "cell_type": "markdown",
   "id": "21cefc0c",
   "metadata": {},
   "source": [
    "### Next Steps\n",
    "\n",
    "In this notebook, we created feature groups containing raw features. In the next notebook, we will do some feature engineering on these features to create additional features and feature groups."
   ]
  }
 ],
 "metadata": {
  "interpreter": {
   "hash": "31f2aee4e71d21fbe5cf8b01ff0e069b9275f58929596ceb00d14d90e3e16cd6"
  },
  "kernelspec": {
   "display_name": "Python 3",
   "language": "python",
   "name": "python3"
  },
  "language_info": {
   "codemirror_mode": {
    "name": "ipython",
    "version": 3
   },
   "file_extension": ".py",
   "mimetype": "text/x-python",
   "name": "python",
   "nbconvert_exporter": "python",
   "pygments_lexer": "ipython3",
   "version": "3.8.2"
  }
 },
 "nbformat": 4,
 "nbformat_minor": 5
}
