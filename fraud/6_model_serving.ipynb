{
 "cells": [
  {
   "cell_type": "markdown",
   "id": "62f64619-e023-4682-8a34-6e4e7170a183",
   "metadata": {},
   "source": [
    "## Model serving with HSML\n",
    "\n",
    "In this example, we are going to serve the model that we created in the model training notebook.\n",
    "\n",
    "For the example to work, you need to have serving enabled in your project. In the settings tab for your project, select Serving to enable it. Now your UI should show a new tab called Model Serving.\n",
    "\n",
    "A model deployment (also called \"model serving\") can be created directly in the Hopsworks UI, by clicking on Model Serving and then on Create New Serving. In this example, however, we will create it through code with the HSML library."
   ]
  },
  {
   "cell_type": "markdown",
   "id": "01ed8b6c-3459-4796-8ab3-9a084b7f21e9",
   "metadata": {},
   "source": [
    "## About model serving\n",
    "\n",
    "Models can be served via KFServing or \"default\" serving, which means a Docker container exposing a Flask server. For KFServing models, or models written in Tensorflow, you do not need to write a prediction file (see the section below). However, for sklearn models using default serving, you do need to proceed to write a prediction file.\n",
    "\n",
    "In order to use KFServing, you must have Kubernetes installed and enabled on your cluster."
   ]
  },
  {
   "cell_type": "markdown",
   "id": "448cae87-967f-457a-9093-ad671dc77e98",
   "metadata": {},
   "source": [
    "### Create the prediction file (only necessary for sklearn models with default serving)\n",
    "\n",
    "In order to deploy a model, you need to write a Python file containing the logic to return a prediction from the model. Don't worry, this is usually a matter of just modifying some paths in a template script.\n",
    "\n",
    "There is an example of such a template script [here](https://hopsworks.readthedocs.io/en/latest/hopsml/python_model_serving.html). For our case, we can modify it so that the `__init__` method reads as follows (the rest can be left as is):\n",
    "\n",
    "```\n",
    "    def __init__(self):\n",
    "        \"\"\" Initializes the serving state, reads a trained model from HDFS\"\"\"\n",
    "        self.model_path = \"Models/fraud_tutorial_model/1/model.pkl\"\n",
    "        print(\"Copying Scikit-Learn model from HDFS to local directory\")\n",
    "        hdfs.copy_to_local(self.model_path)\n",
    "        print(\"Reading local Scikit-Learn model for serving\")\n",
    "        self.model = joblib.load(\"./model.pkl\")\n",
    "        print(\"Initialization Complete\")\n",
    "```\n",
    "\n",
    "If you wonder why we use the path `Models/fraud_tutorial_model/2/model.pkl`, it is useful to know that the Data Sets tab in the Hopsworks UI lets you browse among the different files in the project. Registered models will be found underneath the `Models` directory. Since we saved our model with the name `fraud_tutorial`, that's the directory we shpuld look in. `1` is just the version of the model we want to deploy.\n",
    "\n",
    "This script needs to be put into a known location in the Hopsworks file system. Let's call the file `predict_example.py` and put it in the `Models` directory."
   ]
  },
  {
   "cell_type": "markdown",
   "id": "505a0ae0-6ae2-4b33-9213-d8a5510858fc",
   "metadata": {},
   "source": [
    "## Create the deployment\n",
    "\n",
    "Here, we fetch the model we want from the model registry and define a configuration for the deployment. For the configuration, we need to specify the serving type (default or KFserving) and in this case, since we use default serving and an sklearn model, we need to give the location of the prediction script."
   ]
  },
  {
   "cell_type": "code",
   "execution_count": 3,
   "id": "83244da9-8f21-42b8-b792-9d1a88b62409",
   "metadata": {},
   "outputs": [
    {
     "name": "stdout",
     "output_type": "stream",
     "text": [
      "Connected. Call `.close()` to terminate connection gracefully.\n"
     ]
    },
    {
     "ename": "KeyError",
     "evalue": "'id'",
     "output_type": "error",
     "traceback": [
      "\u001b[0;31m---------------------------------------------------------------------------\u001b[0m",
      "\u001b[0;31mKeyError\u001b[0m                                  Traceback (most recent call last)",
      "\u001b[0;32m<ipython-input-3-59d358bd34d9>\u001b[0m in \u001b[0;36m<module>\u001b[0;34m\u001b[0m\n\u001b[1;32m     17\u001b[0m \u001b[0;34m\u001b[0m\u001b[0m\n\u001b[1;32m     18\u001b[0m \u001b[0;31m# Give it any name you want\u001b[0m\u001b[0;34m\u001b[0m\u001b[0;34m\u001b[0m\u001b[0;34m\u001b[0m\u001b[0m\n\u001b[0;32m---> 19\u001b[0;31m \u001b[0mmodel\u001b[0m\u001b[0;34m.\u001b[0m\u001b[0mdeploy\u001b[0m\u001b[0;34m(\u001b[0m\u001b[0mname\u001b[0m\u001b[0;34m=\u001b[0m\u001b[0;34m'frauddeployment3'\u001b[0m\u001b[0;34m,\u001b[0m \u001b[0mpredictor_config\u001b[0m\u001b[0;34m=\u001b[0m\u001b[0mpredictor_config\u001b[0m\u001b[0;34m)\u001b[0m\u001b[0;34m\u001b[0m\u001b[0;34m\u001b[0m\u001b[0m\n\u001b[0m",
      "\u001b[0;32m/srv/hops/anaconda/envs/theenv/lib/python3.8/site-packages/hsml/model.py\u001b[0m in \u001b[0;36mdeploy\u001b[0;34m(self, name, artifact_version, predictor_config, transformer_config)\u001b[0m\n\u001b[1;32m    118\u001b[0m             \u001b[0mpredictor_config\u001b[0m \u001b[0;34m=\u001b[0m \u001b[0mPredictorConfig\u001b[0m\u001b[0;34m.\u001b[0m\u001b[0mfor_model\u001b[0m\u001b[0;34m(\u001b[0m\u001b[0mself\u001b[0m\u001b[0;34m)\u001b[0m\u001b[0;34m\u001b[0m\u001b[0;34m\u001b[0m\u001b[0m\n\u001b[1;32m    119\u001b[0m \u001b[0;34m\u001b[0m\u001b[0m\n\u001b[0;32m--> 120\u001b[0;31m         return Predictor(\n\u001b[0m\u001b[1;32m    121\u001b[0m             \u001b[0mname\u001b[0m\u001b[0;34m,\u001b[0m\u001b[0;34m\u001b[0m\u001b[0;34m\u001b[0m\u001b[0m\n\u001b[1;32m    122\u001b[0m             \u001b[0mself\u001b[0m\u001b[0;34m.\u001b[0m\u001b[0m_name\u001b[0m\u001b[0;34m,\u001b[0m\u001b[0;34m\u001b[0m\u001b[0;34m\u001b[0m\u001b[0m\n",
      "\u001b[0;32m/srv/hops/anaconda/envs/theenv/lib/python3.8/site-packages/hsml/predictor.py\u001b[0m in \u001b[0;36mdeploy\u001b[0;34m(self)\u001b[0m\n\u001b[1;32m     63\u001b[0m \u001b[0;34m\u001b[0m\u001b[0m\n\u001b[1;32m     64\u001b[0m         \u001b[0m_deployment\u001b[0m \u001b[0;34m=\u001b[0m \u001b[0mdeployment\u001b[0m\u001b[0;34m.\u001b[0m\u001b[0mDeployment\u001b[0m\u001b[0;34m(\u001b[0m\u001b[0mpredictor\u001b[0m\u001b[0;34m=\u001b[0m\u001b[0mself\u001b[0m\u001b[0;34m,\u001b[0m \u001b[0mname\u001b[0m\u001b[0;34m=\u001b[0m\u001b[0mself\u001b[0m\u001b[0;34m.\u001b[0m\u001b[0m_name\u001b[0m\u001b[0;34m)\u001b[0m\u001b[0;34m\u001b[0m\u001b[0;34m\u001b[0m\u001b[0m\n\u001b[0;32m---> 65\u001b[0;31m         \u001b[0m_deployment\u001b[0m\u001b[0;34m.\u001b[0m\u001b[0msave\u001b[0m\u001b[0;34m(\u001b[0m\u001b[0;34m)\u001b[0m\u001b[0;34m\u001b[0m\u001b[0;34m\u001b[0m\u001b[0m\n\u001b[0m\u001b[1;32m     66\u001b[0m \u001b[0;34m\u001b[0m\u001b[0m\n\u001b[1;32m     67\u001b[0m         \u001b[0;32mreturn\u001b[0m \u001b[0m_deployment\u001b[0m\u001b[0;34m\u001b[0m\u001b[0;34m\u001b[0m\u001b[0m\n",
      "\u001b[0;32m/srv/hops/anaconda/envs/theenv/lib/python3.8/site-packages/hsml/deployment.py\u001b[0m in \u001b[0;36msave\u001b[0;34m(self)\u001b[0m\n\u001b[1;32m     46\u001b[0m         \u001b[0;34m\"\"\"Persist this deployment including the predictor and metadata to model serving.\"\"\"\u001b[0m\u001b[0;34m\u001b[0m\u001b[0;34m\u001b[0m\u001b[0m\n\u001b[1;32m     47\u001b[0m \u001b[0;34m\u001b[0m\u001b[0m\n\u001b[0;32m---> 48\u001b[0;31m         \u001b[0mself\u001b[0m\u001b[0;34m.\u001b[0m\u001b[0m_serving_api\u001b[0m\u001b[0;34m.\u001b[0m\u001b[0mput\u001b[0m\u001b[0;34m(\u001b[0m\u001b[0mself\u001b[0m\u001b[0;34m,\u001b[0m \u001b[0mquery_params\u001b[0m\u001b[0;34m=\u001b[0m\u001b[0;34m{\u001b[0m\u001b[0;34m}\u001b[0m\u001b[0;34m)\u001b[0m\u001b[0;34m\u001b[0m\u001b[0;34m\u001b[0m\u001b[0m\n\u001b[0m\u001b[1;32m     49\u001b[0m \u001b[0;34m\u001b[0m\u001b[0m\n\u001b[1;32m     50\u001b[0m     \u001b[0;32mdef\u001b[0m \u001b[0mstart\u001b[0m\u001b[0;34m(\u001b[0m\u001b[0mself\u001b[0m\u001b[0;34m,\u001b[0m \u001b[0mawait_running\u001b[0m\u001b[0;34m:\u001b[0m \u001b[0mOptional\u001b[0m\u001b[0;34m[\u001b[0m\u001b[0mint\u001b[0m\u001b[0;34m]\u001b[0m \u001b[0;34m=\u001b[0m \u001b[0;36m60\u001b[0m\u001b[0;34m)\u001b[0m\u001b[0;34m:\u001b[0m\u001b[0;34m\u001b[0m\u001b[0;34m\u001b[0m\u001b[0m\n",
      "\u001b[0;32m/srv/hops/anaconda/envs/theenv/lib/python3.8/site-packages/hsml/core/serving_api.py\u001b[0m in \u001b[0;36mput\u001b[0;34m(self, deployment_instance, query_params)\u001b[0m\n\u001b[1;32m     81\u001b[0m         \u001b[0mpath_params\u001b[0m \u001b[0;34m=\u001b[0m \u001b[0;34m[\u001b[0m\u001b[0;34m\"project\"\u001b[0m\u001b[0;34m,\u001b[0m \u001b[0m_client\u001b[0m\u001b[0;34m.\u001b[0m\u001b[0m_project_id\u001b[0m\u001b[0;34m,\u001b[0m \u001b[0;34m\"serving\"\u001b[0m\u001b[0;34m]\u001b[0m\u001b[0;34m\u001b[0m\u001b[0;34m\u001b[0m\u001b[0m\n\u001b[1;32m     82\u001b[0m         \u001b[0mheaders\u001b[0m \u001b[0;34m=\u001b[0m \u001b[0;34m{\u001b[0m\u001b[0;34m\"content-type\"\u001b[0m\u001b[0;34m:\u001b[0m \u001b[0;34m\"application/json\"\u001b[0m\u001b[0;34m}\u001b[0m\u001b[0;34m\u001b[0m\u001b[0;34m\u001b[0m\u001b[0m\n\u001b[0;32m---> 83\u001b[0;31m         return deployment_instance.update_from_response_json(\n\u001b[0m\u001b[1;32m     84\u001b[0m             _client._send_request(\n\u001b[1;32m     85\u001b[0m                 \u001b[0;34m\"PUT\"\u001b[0m\u001b[0;34m,\u001b[0m\u001b[0;34m\u001b[0m\u001b[0;34m\u001b[0m\u001b[0m\n",
      "\u001b[0;32m/srv/hops/anaconda/envs/theenv/lib/python3.8/site-packages/hsml/deployment.py\u001b[0m in \u001b[0;36mupdate_from_response_json\u001b[0;34m(self, json_dict)\u001b[0m\n\u001b[1;32m     96\u001b[0m \u001b[0;34m\u001b[0m\u001b[0m\n\u001b[1;32m     97\u001b[0m     \u001b[0;32mdef\u001b[0m \u001b[0mupdate_from_response_json\u001b[0m\u001b[0;34m(\u001b[0m\u001b[0mself\u001b[0m\u001b[0;34m,\u001b[0m \u001b[0mjson_dict\u001b[0m\u001b[0;34m)\u001b[0m\u001b[0;34m:\u001b[0m\u001b[0;34m\u001b[0m\u001b[0;34m\u001b[0m\u001b[0m\n\u001b[0;32m---> 98\u001b[0;31m         \u001b[0mself\u001b[0m\u001b[0;34m.\u001b[0m\u001b[0m_predictor\u001b[0m\u001b[0;34m.\u001b[0m\u001b[0mupdate_from_response_json\u001b[0m\u001b[0;34m(\u001b[0m\u001b[0mjson_dict\u001b[0m\u001b[0;34m)\u001b[0m\u001b[0;34m\u001b[0m\u001b[0;34m\u001b[0m\u001b[0m\n\u001b[0m\u001b[1;32m     99\u001b[0m         \u001b[0mself\u001b[0m\u001b[0;34m.\u001b[0m\u001b[0m__init__\u001b[0m\u001b[0;34m(\u001b[0m\u001b[0mpredictor\u001b[0m\u001b[0;34m=\u001b[0m\u001b[0mself\u001b[0m\u001b[0;34m.\u001b[0m\u001b[0m_predictor\u001b[0m\u001b[0;34m,\u001b[0m \u001b[0mname\u001b[0m\u001b[0;34m=\u001b[0m\u001b[0mself\u001b[0m\u001b[0;34m.\u001b[0m\u001b[0m_predictor\u001b[0m\u001b[0;34m.\u001b[0m\u001b[0m_name\u001b[0m\u001b[0;34m)\u001b[0m\u001b[0;34m\u001b[0m\u001b[0;34m\u001b[0m\u001b[0m\n\u001b[1;32m    100\u001b[0m         \u001b[0;32mreturn\u001b[0m \u001b[0mself\u001b[0m\u001b[0;34m\u001b[0m\u001b[0;34m\u001b[0m\u001b[0m\n",
      "\u001b[0;32m/srv/hops/anaconda/envs/theenv/lib/python3.8/site-packages/hsml/predictor.py\u001b[0m in \u001b[0;36mupdate_from_response_json\u001b[0;34m(self, json_dict)\u001b[0m\n\u001b[1;32m    107\u001b[0m     \u001b[0;32mdef\u001b[0m \u001b[0mupdate_from_response_json\u001b[0m\u001b[0;34m(\u001b[0m\u001b[0mself\u001b[0m\u001b[0;34m,\u001b[0m \u001b[0mjson_dict\u001b[0m\u001b[0;34m)\u001b[0m\u001b[0;34m:\u001b[0m\u001b[0;34m\u001b[0m\u001b[0;34m\u001b[0m\u001b[0m\n\u001b[1;32m    108\u001b[0m         \u001b[0mjson_decamelized\u001b[0m \u001b[0;34m=\u001b[0m \u001b[0mhumps\u001b[0m\u001b[0;34m.\u001b[0m\u001b[0mdecamelize\u001b[0m\u001b[0;34m(\u001b[0m\u001b[0mjson_dict\u001b[0m\u001b[0;34m)\u001b[0m\u001b[0;34m\u001b[0m\u001b[0;34m\u001b[0m\u001b[0m\n\u001b[0;32m--> 109\u001b[0;31m         \u001b[0mself\u001b[0m\u001b[0;34m.\u001b[0m\u001b[0m__init__\u001b[0m\u001b[0;34m(\u001b[0m\u001b[0;34m*\u001b[0m\u001b[0mself\u001b[0m\u001b[0;34m.\u001b[0m\u001b[0mextract_fields_from_json\u001b[0m\u001b[0;34m(\u001b[0m\u001b[0mjson_decamelized\u001b[0m\u001b[0;34m)\u001b[0m\u001b[0;34m)\u001b[0m\u001b[0;34m\u001b[0m\u001b[0;34m\u001b[0m\u001b[0m\n\u001b[0m\u001b[1;32m    110\u001b[0m         \u001b[0mself\u001b[0m\u001b[0;34m.\u001b[0m\u001b[0mset_state\u001b[0m\u001b[0;34m(\u001b[0m\u001b[0mPredictorState\u001b[0m\u001b[0;34m.\u001b[0m\u001b[0mfrom_response_json\u001b[0m\u001b[0;34m(\u001b[0m\u001b[0mjson_decamelized\u001b[0m\u001b[0;34m)\u001b[0m\u001b[0;34m)\u001b[0m\u001b[0;34m\u001b[0m\u001b[0;34m\u001b[0m\u001b[0m\n\u001b[1;32m    111\u001b[0m         \u001b[0;32mreturn\u001b[0m \u001b[0mself\u001b[0m\u001b[0;34m\u001b[0m\u001b[0;34m\u001b[0m\u001b[0m\n",
      "\u001b[0;32m/srv/hops/anaconda/envs/theenv/lib/python3.8/site-packages/hsml/predictor.py\u001b[0m in \u001b[0;36mextract_fields_from_json\u001b[0;34m(cls, json_decamelized)\u001b[0m\n\u001b[1;32m    100\u001b[0m         \u001b[0mpc\u001b[0m \u001b[0;34m=\u001b[0m \u001b[0mPredictorConfig\u001b[0m\u001b[0;34m.\u001b[0m\u001b[0mfrom_json\u001b[0m\u001b[0;34m(\u001b[0m\u001b[0mjson_decamelized\u001b[0m\u001b[0;34m)\u001b[0m\u001b[0;34m\u001b[0m\u001b[0;34m\u001b[0m\u001b[0m\n\u001b[1;32m    101\u001b[0m         \u001b[0mtc\u001b[0m \u001b[0;34m=\u001b[0m \u001b[0mTransformerConfig\u001b[0m\u001b[0;34m.\u001b[0m\u001b[0mfrom_json\u001b[0m\u001b[0;34m(\u001b[0m\u001b[0mjson_decamelized\u001b[0m\u001b[0;34m)\u001b[0m\u001b[0;34m\u001b[0m\u001b[0;34m\u001b[0m\u001b[0m\n\u001b[0;32m--> 102\u001b[0;31m         \u001b[0mid\u001b[0m \u001b[0;34m=\u001b[0m \u001b[0mjson_decamelized\u001b[0m\u001b[0;34m.\u001b[0m\u001b[0mpop\u001b[0m\u001b[0;34m(\u001b[0m\u001b[0;34m\"id\"\u001b[0m\u001b[0;34m)\u001b[0m\u001b[0;34m\u001b[0m\u001b[0;34m\u001b[0m\u001b[0m\n\u001b[0m\u001b[1;32m    103\u001b[0m         \u001b[0mca\u001b[0m \u001b[0;34m=\u001b[0m \u001b[0mjson_decamelized\u001b[0m\u001b[0;34m.\u001b[0m\u001b[0mpop\u001b[0m\u001b[0;34m(\u001b[0m\u001b[0;34m\"created\"\u001b[0m\u001b[0;34m)\u001b[0m\u001b[0;34m\u001b[0m\u001b[0;34m\u001b[0m\u001b[0m\n\u001b[1;32m    104\u001b[0m         \u001b[0mc\u001b[0m \u001b[0;34m=\u001b[0m \u001b[0mjson_decamelized\u001b[0m\u001b[0;34m.\u001b[0m\u001b[0mpop\u001b[0m\u001b[0;34m(\u001b[0m\u001b[0;34m\"creator\"\u001b[0m\u001b[0;34m)\u001b[0m\u001b[0;34m\u001b[0m\u001b[0;34m\u001b[0m\u001b[0m\n",
      "\u001b[0;31mKeyError\u001b[0m: 'id'"
     ]
    }
   ],
   "source": [
    "import hsml\n",
    "from hsml.predictor_config import PredictorConfig\n",
    "\n",
    "conn = hsml.connection()\n",
    "mr = conn.get_model_registry()\n",
    "\n",
    "# Use the location where you saved the prediction file\n",
    "PREDICTOR_SCRIPT = \"/Projects/fraud_tutorial/Models/predict_example.py\"\n",
    "\n",
    "# Use the model name from notebook 4, where we registered the model\n",
    "model = mr.get_model('fraud_tutorial_model', version=2)\n",
    "\n",
    "predictor_config = PredictorConfig(model_server=\"PYTHON\",\n",
    "                                   serving_tool=\"DEFAULT\",\n",
    "                                   script_file=PREDICTOR_SCRIPT,\n",
    "                                    )\n",
    "\n",
    "# Give it any name you want\n",
    "model.deploy(name='frauddeployment3', predictor_config=predictor_config)"
   ]
  },
  {
   "cell_type": "markdown",
   "id": "b6727393-625a-49da-8e27-0f8677eff525",
   "metadata": {},
   "source": [
    "Your new deployment should now be visible in the UI under Model Serving. Press run to start the deployment. "
   ]
  },
  {
   "cell_type": "markdown",
   "id": "323e42b6-b466-4f13-8861-dada4e88dd8e",
   "metadata": {},
   "source": [
    "### Using the deployment\n",
    "\n",
    "Let's create a fake data point with which we can query the deployment."
   ]
  },
  {
   "cell_type": "code",
   "execution_count": 33,
   "id": "25eb3498-7fa4-43c2-bbbc-b1f86b4f35fc",
   "metadata": {},
   "outputs": [],
   "source": [
    "test_inputs = [[4.00000000e+00, 2.87415201e-06, 2.87415201e-06,\n",
    "        0.00000000e+00, 4.79025335e-05, 1.26263643e-05, 1.26263643e-05,\n",
    "        1.97967580e-03, 2.79541810e-02],\n",
    "       [4.00000000e+00, 3.02887719e-03, 3.01897734e-03,\n",
    "        3.78048219e-04, 1.43707600e-04, 3.89754901e-06, 5.64310547e-06,\n",
    "        4.37811982e-03, 5.83522294e-02]]\n",
    "\n",
    "\n",
    "data = {\n",
    "            \"inputs\": test_inputs\n",
    "        }"
   ]
  },
  {
   "cell_type": "markdown",
   "id": "33536f7f-fdee-4217-a11b-34de1f13b19c",
   "metadata": {},
   "source": [
    "### Fetch the serving via HSML\n",
    "\n",
    "... and make the prediction!"
   ]
  },
  {
   "cell_type": "code",
   "execution_count": 26,
   "id": "1acc54ac-5ea1-4ea6-aa40-2a6fea569df3",
   "metadata": {},
   "outputs": [],
   "source": [
    "ms = conn.get_model_serving()\n",
    "deployment = ms.get_deployment('frauddeployment')"
   ]
  },
  {
   "cell_type": "code",
   "execution_count": 35,
   "id": "73bcfcd6-9190-4f24-8a28-78b66bac042c",
   "metadata": {},
   "outputs": [],
   "source": [
    "deployment.predict(data)"
   ]
  },
  {
   "cell_type": "markdown",
   "id": "4dfc2997-0dd2-4d1e-8dc3-ca01b8f62506",
   "metadata": {},
   "source": [
    "### Use REST endpoint\n",
    "\n",
    "We can also use the REST endpoint that you can find in the Model Serving UI by clicking on the eye icon next to a model. The shorter URL is an internal endpoint that you can only reach from within Hopsworks. If you want to call it from outside, you need one of the longer URLs."
   ]
  },
  {
   "cell_type": "code",
   "execution_count": 7,
   "id": "17bb4cd1-a38a-41c7-a03c-b0b04bc90cf3",
   "metadata": {},
   "outputs": [],
   "source": [
    "import requests\n",
    "\n",
    "data = {\"inputs\": test_inputs}\n",
    "url = 'https://791bb4a0-bb1c-11ec-8721-7bd8cdac0b54.cloud.hopsworks.ai:443/hopsworks-api/api/project/120/inference/models/frauddeployment3:predict' # Found in the UI\n",
    "headers = {'Content-Type': 'application/json', 'Accept':'application/json'}\n",
    "\n",
    "response = requests.post(url, headers=headers, json=data)"
   ]
  },
  {
   "cell_type": "code",
   "execution_count": 8,
   "id": "0f2c11e7-c73e-4659-b2ec-53e68dc11eb9",
   "metadata": {},
   "outputs": [
    {
     "data": {
      "text/plain": [
       "{'type': 'restApiJsonResponse',\n",
       " 'errorCode': 200003,\n",
       " 'errorMsg': 'Authorization header not set.'}"
      ]
     },
     "execution_count": 8,
     "metadata": {},
     "output_type": "execute_result"
    }
   ],
   "source": [
    "response.json()"
   ]
  },
  {
   "cell_type": "markdown",
   "id": "9fe0af30-7c6a-42dd-b2d0-beb2b9587f55",
   "metadata": {},
   "source": [
    "## (Work in progress) Simple GUI with Gradio\n",
    "\n",
    "In order to have users input natural features (age in years, transaction amounts in euros etc.), we would need to have the normalization constants available here (i.e. the min/max values that were used for min-max scaling). Then the normalized feature values could be computed. \n",
    "\n",
    "For now, we will have to make do with an interface where users input min-max scaled values."
   ]
  },
  {
   "cell_type": "code",
   "execution_count": 39,
   "id": "e5358d76-5e33-4760-bb81-ae790341a7e9",
   "metadata": {},
   "outputs": [
    {
     "name": "stdout",
     "output_type": "stream",
     "text": [
      "Running on local URL:  http://127.0.0.1:7871/\n",
      "2022-04-25 12:18:26,912 INFO: Connected (version 2.0, client OpenSSH_7.6p1)\n",
      "2022-04-25 12:18:27,737 INFO: Authentication (publickey) successful!\n",
      "Running on public URL: https://58788.gradio.app\n",
      "\n",
      "This share link expires in 72 hours. For free permanent hosting, check out Spaces (https://huggingface.co/spaces)\n"
     ]
    },
    {
     "data": {
      "text/html": [
       "\n",
       "        <iframe\n",
       "            width=\"900\"\n",
       "            height=\"500\"\n",
       "            src=\"https://58788.gradio.app\"\n",
       "            frameborder=\"0\"\n",
       "            allowfullscreen\n",
       "            \n",
       "        ></iframe>\n",
       "        "
      ],
      "text/plain": [
       "<IPython.lib.display.IFrame at 0x7f85bc6bbf70>"
      ]
     },
     "metadata": {},
     "output_type": "display_data"
    }
   ],
   "source": [
    "import gradio as gr\n",
    "\n",
    "def get_prediction(cat, tx_vol_mean, tx_vol_std, tx_amt, tx_frq, age, days_exp, loc_delta, loc_delta_avg):\n",
    "    '''\n",
    "    The Gradio interface does an implicit mapping between category values and ints, so we don't need to \n",
    "    specify that mapping explicitly here.\n",
    "    '''\n",
    "    feat_vec = [[cat, tx_vol_mean, tx_vol_std, tx_amt, tx_frq, age, days_exp, loc_delta, loc_delta_avg]]\n",
    "    res = deployment.predict(data)\n",
    "    prediction = res['predictions'][0]\n",
    "    return prediction\n",
    "\n",
    "\n",
    "input_ui = [\n",
    "        gr.inputs.Dropdown(list(category_mapping.keys()), type=\"index\", label=\"category\"),\n",
    "        gr.inputs.Slider(0, 1, label=\"4h avg transaction volume (normalized)\"),\n",
    "        gr.inputs.Slider(0, 1, label=\"4h avg transaction volume (normalized)\"),\n",
    "        gr.inputs.Slider(0, 1, label=\"Transaction amount (normalized\"),\n",
    "        gr.inputs.Slider(0, 1, label=\"Transaction frequency (normalized\"),\n",
    "        gr.inputs.Slider(0, 1, label=\"Age at transaction (normalized)\"),\n",
    "        gr.inputs.Slider(0, 1, label=\"Days until card expires (normalized)\"),\n",
    "        gr.inputs.Slider(0, 1, label=\"Location delta (normalized)\"),\n",
    "        gr.inputs.Slider(0, 1, label=\"4h avg location delta (normalized)\"),\n",
    "    ]\n",
    "\n",
    "iface = gr.Interface(fn=get_prediction, inputs=input_ui, outputs=\"label\").launch(share=True)"
   ]
  },
  {
   "cell_type": "markdown",
   "id": "a34fc0ac-10be-4797-8f7b-97878095014f",
   "metadata": {},
   "source": [
    "Now you can change the values with the slider and press Submit at the bottom. A prediction will then appear in the box labeled \"Output\" in the upper right column."
   ]
  }
 ],
 "metadata": {
  "kernelspec": {
   "display_name": "Python 3",
   "language": "python",
   "name": "python3"
  },
  "language_info": {
   "codemirror_mode": {
    "name": "ipython",
    "version": 3
   },
   "file_extension": ".py",
   "mimetype": "text/x-python",
   "name": "python",
   "nbconvert_exporter": "python",
   "pygments_lexer": "ipython3",
   "version": "3.8.10"
  }
 },
 "nbformat": 4,
 "nbformat_minor": 5
}
