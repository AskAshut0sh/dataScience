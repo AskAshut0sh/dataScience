{
 "cells": [
  {
   "cell_type": "markdown",
   "metadata": {},
   "source": [
    "## Dataset Creation\n",
    "\n",
    "In this notebook, we will create the actual dataset that we will train our model on. In particular, we will:\n",
    "1. Select the features we want to train our model on.\n",
    "2. Specify how the features should be preprocessed.\n",
    "3. Create a dataset split for training and validation data.\n",
    "\n",
    "![tutorial-flow](images/create_training_dataset.png)"
   ]
  },
  {
   "cell_type": "code",
   "execution_count": 1,
   "metadata": {},
   "outputs": [
    {
     "name": "stdout",
     "output_type": "stream",
     "text": [
      "Connected. Call `.close()` to terminate connection gracefully.\n"
     ]
    }
   ],
   "source": [
    "import hsfs\n",
    "\n",
    "conn = hsfs.connection()\n",
    "fs = conn.get_feature_store()"
   ]
  },
  {
   "cell_type": "markdown",
   "metadata": {},
   "source": [
    "### Feature Selection\n",
    "\n",
    "We start by selecting all the features we want to include for model training/inference."
   ]
  },
  {
   "cell_type": "code",
   "execution_count": 2,
   "metadata": {},
   "outputs": [
    {
     "name": "stdout",
     "output_type": "stream",
     "text": [
      "2022-05-24 17:47:33,994 INFO: USE `fv_test_featurestore`\n",
      "2022-05-24 17:47:34,882 INFO: WITH right_fg0 AS (SELECT *\n",
      "FROM (SELECT `fg1`.`fraud_label` `fraud_label`, `fg1`.`category` `category`, `fg1`.`amount` `amount`, `fg1`.`age_at_transaction` `age_at_transaction`, `fg1`.`days_until_card_expires` `days_until_card_expires`, `fg1`.`loc_delta` `loc_delta`, `fg1`.`cc_num` `join_pk_cc_num`, `fg1`.`datetime` `join_evt_datetime`, `fg0`.`trans_volume_mstd` `trans_volume_mstd`, `fg0`.`trans_volume_mavg` `trans_volume_mavg`, `fg0`.`trans_freq` `trans_freq`, `fg0`.`loc_delta_mavg` `loc_delta_mavg`, RANK() OVER (PARTITION BY `fg1`.`cc_num`, `fg1`.`datetime` ORDER BY `fg0`.`datetime` DESC) pit_rank_hopsworks\n",
      "FROM `fv_test_featurestore`.`transactions_1` `fg1`\n",
      "INNER JOIN `fv_test_featurestore`.`transactions_4h_aggs_1` `fg0` ON `fg1`.`cc_num` = `fg0`.`cc_num` AND `fg1`.`datetime` >= `fg0`.`datetime`) NA\n",
      "WHERE `pit_rank_hopsworks` = 1) (SELECT `right_fg0`.`fraud_label` `fraud_label`, `right_fg0`.`category` `category`, `right_fg0`.`amount` `amount`, `right_fg0`.`age_at_transaction` `age_at_transaction`, `right_fg0`.`days_until_card_expires` `days_until_card_expires`, `right_fg0`.`loc_delta` `loc_delta`, `right_fg0`.`trans_volume_mstd` `trans_volume_mstd`, `right_fg0`.`trans_volume_mavg` `trans_volume_mavg`, `right_fg0`.`trans_freq` `trans_freq`, `right_fg0`.`loc_delta_mavg` `loc_delta_mavg`\n",
      "FROM right_fg0)\n"
     ]
    },
    {
     "data": {
      "text/html": [
       "<div>\n",
       "<style scoped>\n",
       "    .dataframe tbody tr th:only-of-type {\n",
       "        vertical-align: middle;\n",
       "    }\n",
       "\n",
       "    .dataframe tbody tr th {\n",
       "        vertical-align: top;\n",
       "    }\n",
       "\n",
       "    .dataframe thead th {\n",
       "        text-align: right;\n",
       "    }\n",
       "</style>\n",
       "<table border=\"1\" class=\"dataframe\">\n",
       "  <thead>\n",
       "    <tr style=\"text-align: right;\">\n",
       "      <th></th>\n",
       "      <th>fraud_label</th>\n",
       "      <th>category</th>\n",
       "      <th>amount</th>\n",
       "      <th>age_at_transaction</th>\n",
       "      <th>days_until_card_expires</th>\n",
       "      <th>loc_delta</th>\n",
       "      <th>trans_volume_mstd</th>\n",
       "      <th>trans_volume_mavg</th>\n",
       "      <th>trans_freq</th>\n",
       "      <th>loc_delta_mavg</th>\n",
       "    </tr>\n",
       "  </thead>\n",
       "  <tbody>\n",
       "    <tr>\n",
       "      <th>0</th>\n",
       "      <td>0</td>\n",
       "      <td>Grocery</td>\n",
       "      <td>93.51</td>\n",
       "      <td>25.334094</td>\n",
       "      <td>175.912280</td>\n",
       "      <td>0.000000</td>\n",
       "      <td>93.510</td>\n",
       "      <td>93.510</td>\n",
       "      <td>93.510</td>\n",
       "      <td>0.000000</td>\n",
       "    </tr>\n",
       "    <tr>\n",
       "      <th>1</th>\n",
       "      <td>0</td>\n",
       "      <td>Domestic Transport</td>\n",
       "      <td>65.14</td>\n",
       "      <td>25.335632</td>\n",
       "      <td>175.350486</td>\n",
       "      <td>0.319574</td>\n",
       "      <td>65.140</td>\n",
       "      <td>65.140</td>\n",
       "      <td>65.140</td>\n",
       "      <td>0.319574</td>\n",
       "    </tr>\n",
       "    <tr>\n",
       "      <th>2</th>\n",
       "      <td>0</td>\n",
       "      <td>Grocery</td>\n",
       "      <td>0.26</td>\n",
       "      <td>25.336235</td>\n",
       "      <td>175.130347</td>\n",
       "      <td>0.314148</td>\n",
       "      <td>0.260</td>\n",
       "      <td>0.260</td>\n",
       "      <td>0.260</td>\n",
       "      <td>0.314148</td>\n",
       "    </tr>\n",
       "    <tr>\n",
       "      <th>3</th>\n",
       "      <td>0</td>\n",
       "      <td>Grocery</td>\n",
       "      <td>1.43</td>\n",
       "      <td>25.336660</td>\n",
       "      <td>174.975058</td>\n",
       "      <td>0.000000</td>\n",
       "      <td>0.845</td>\n",
       "      <td>0.845</td>\n",
       "      <td>0.845</td>\n",
       "      <td>0.157074</td>\n",
       "    </tr>\n",
       "    <tr>\n",
       "      <th>4</th>\n",
       "      <td>0</td>\n",
       "      <td>Grocery</td>\n",
       "      <td>19.75</td>\n",
       "      <td>25.344710</td>\n",
       "      <td>172.034664</td>\n",
       "      <td>0.105313</td>\n",
       "      <td>19.750</td>\n",
       "      <td>19.750</td>\n",
       "      <td>19.750</td>\n",
       "      <td>0.105313</td>\n",
       "    </tr>\n",
       "  </tbody>\n",
       "</table>\n",
       "</div>"
      ],
      "text/plain": [
       "   fraud_label            category  amount  age_at_transaction  \\\n",
       "0            0             Grocery   93.51           25.334094   \n",
       "1            0  Domestic Transport   65.14           25.335632   \n",
       "2            0             Grocery    0.26           25.336235   \n",
       "3            0             Grocery    1.43           25.336660   \n",
       "4            0             Grocery   19.75           25.344710   \n",
       "\n",
       "   days_until_card_expires  loc_delta  trans_volume_mstd  trans_volume_mavg  \\\n",
       "0               175.912280   0.000000             93.510             93.510   \n",
       "1               175.350486   0.319574             65.140             65.140   \n",
       "2               175.130347   0.314148              0.260              0.260   \n",
       "3               174.975058   0.000000              0.845              0.845   \n",
       "4               172.034664   0.105313             19.750             19.750   \n",
       "\n",
       "   trans_freq  loc_delta_mavg  \n",
       "0      93.510        0.000000  \n",
       "1      65.140        0.319574  \n",
       "2       0.260        0.314148  \n",
       "3       0.845        0.157074  \n",
       "4      19.750        0.105313  "
      ]
     },
     "execution_count": 2,
     "metadata": {},
     "output_type": "execute_result"
    }
   ],
   "source": [
    "# Load feature groups.\n",
    "trans_fg = fs.get_feature_group(\"transactions\", 1)\n",
    "window_aggs_fg = fs.get_feature_group(\"transactions_4h_aggs\", 1)\n",
    "\n",
    "# Select features for training data.\n",
    "ds_query = trans_fg.select([\"fraud_label\", \"category\", \"amount\", \"age_at_transaction\", \"days_until_card_expires\", \"loc_delta\"])\\\n",
    "    .join(window_aggs_fg.select_except([\"cc_num\"]), on=\"cc_num\")\\\n",
    "\n",
    "ds_query.show(5)"
   ]
  },
  {
   "cell_type": "markdown",
   "metadata": {},
   "source": [
    "Recall that we computed the features in `transactions_4h_aggs` using 4-hour aggregates. If we had created multiple feature groups with identical schema for different window lengths, and wanted to include them in the join we would need to include a prefix argument in the join to avoid feature name clash. See the [documentation](https://docs.hopsworks.ai/feature-store-api/latest/generated/api/query_api/#join) for more details."
   ]
  },
  {
   "cell_type": "markdown",
   "metadata": {},
   "source": [
    "### Transformation Functions\n",
    "Transformation functions are a mathematical mapping of input data that may be stateful - requiring statistics from the partent feature view (such as number of instances of a category, or mean value of a numerical feature)\n",
    "\n",
    "We will preprocess our data using *min-max scaling* on numerical features and *label encoding* on categorical features. To do this we simply define a mapping between our features and transformation functions. This ensures that transformation functions such as *min-max scaling* are fitted only on the training data (and not the validation/test data), which ensures that there is no data leakage."
   ]
  },
  {
   "cell_type": "code",
   "execution_count": 3,
   "metadata": {},
   "outputs": [],
   "source": [
    "# Load transformation functions.\n",
    "min_max_scaler = fs.get_transformation_function(name=\"min_max_scaler\")\n",
    "label_encoder = fs.get_transformation_function(name=\"label_encoder\")\n",
    "\n",
    "# Map features to transformations.\n",
    "transformation_functions = {\n",
    "    \"category\": label_encoder,\n",
    "    \"amount\": min_max_scaler,\n",
    "    \"trans_volume_mavg\": min_max_scaler,\n",
    "    \"trans_volume_mstd\": min_max_scaler,\n",
    "    \"trans_freq\": min_max_scaler,\n",
    "    \"loc_delta\": min_max_scaler,\n",
    "    \"loc_delta_mavg\": min_max_scaler,\n",
    "    \"age_at_transaction\": min_max_scaler,\n",
    "    \"days_until_card_expires\": min_max_scaler,\n",
    "}"
   ]
  },
  {
   "cell_type": "markdown",
   "metadata": {},
   "source": [
    "### Feature View Creation\n",
    "\n",
    "Feature view are a logical view over features in feature groups, with support for associating a label with a feature, and transformation functions with features. "
   ]
  },
  {
   "cell_type": "code",
   "execution_count": 4,
   "metadata": {},
   "outputs": [],
   "source": [
    "feature_view = fs.create_feature_view(\n",
    "    name='transactions_view',\n",
    "    query=ds_query,\n",
    "    label=[\"fraud_label\"],\n",
    "    transformation_functions=transformation_functions\n",
    ")"
   ]
  },
  {
   "cell_type": "markdown",
   "metadata": {},
   "source": [
    "To view and explore data in the feature view we can retrieve batch data using `get_batch_data()` method "
   ]
  },
  {
   "cell_type": "code",
   "execution_count": 9,
   "metadata": {},
   "outputs": [
    {
     "name": "stdout",
     "output_type": "stream",
     "text": [
      "2022-05-24 18:55:35,679 INFO: USE `fv_test_featurestore`\n",
      "2022-05-24 18:55:36,543 INFO: WITH right_fg0 AS (SELECT *\n",
      "FROM (SELECT `fg1`.`category` `category`, `fg1`.`amount` `amount`, `fg1`.`age_at_transaction` `age_at_transaction`, `fg1`.`days_until_card_expires` `days_until_card_expires`, `fg1`.`loc_delta` `loc_delta`, `fg1`.`cc_num` `join_pk_cc_num`, `fg1`.`datetime` `join_evt_datetime`, `fg0`.`trans_volume_mstd` `trans_volume_mstd`, `fg0`.`trans_volume_mavg` `trans_volume_mavg`, `fg0`.`trans_freq` `trans_freq`, `fg0`.`loc_delta_mavg` `loc_delta_mavg`, RANK() OVER (PARTITION BY `fg1`.`cc_num`, `fg1`.`datetime` ORDER BY `fg0`.`datetime` DESC) pit_rank_hopsworks\n",
      "FROM `fv_test_featurestore`.`transactions_1` `fg1`\n",
      "INNER JOIN `fv_test_featurestore`.`transactions_4h_aggs_1` `fg0` ON `fg1`.`cc_num` = `fg0`.`cc_num` AND `fg1`.`datetime` >= `fg0`.`datetime`) NA\n",
      "WHERE `pit_rank_hopsworks` = 1) (SELECT `right_fg0`.`category` `category`, `right_fg0`.`amount` `amount`, `right_fg0`.`age_at_transaction` `age_at_transaction`, `right_fg0`.`days_until_card_expires` `days_until_card_expires`, `right_fg0`.`loc_delta` `loc_delta`, `right_fg0`.`trans_volume_mstd` `trans_volume_mstd`, `right_fg0`.`trans_volume_mavg` `trans_volume_mavg`, `right_fg0`.`trans_freq` `trans_freq`, `right_fg0`.`loc_delta_mavg` `loc_delta_mavg`\n",
      "FROM right_fg0)\n"
     ]
    },
    {
     "data": {
      "text/html": [
       "<div>\n",
       "<style scoped>\n",
       "    .dataframe tbody tr th:only-of-type {\n",
       "        vertical-align: middle;\n",
       "    }\n",
       "\n",
       "    .dataframe tbody tr th {\n",
       "        vertical-align: top;\n",
       "    }\n",
       "\n",
       "    .dataframe thead th {\n",
       "        text-align: right;\n",
       "    }\n",
       "</style>\n",
       "<table border=\"1\" class=\"dataframe\">\n",
       "  <thead>\n",
       "    <tr style=\"text-align: right;\">\n",
       "      <th></th>\n",
       "      <th>category</th>\n",
       "      <th>amount</th>\n",
       "      <th>age_at_transaction</th>\n",
       "      <th>days_until_card_expires</th>\n",
       "      <th>loc_delta</th>\n",
       "      <th>trans_volume_mstd</th>\n",
       "      <th>trans_volume_mavg</th>\n",
       "      <th>trans_freq</th>\n",
       "      <th>loc_delta_mavg</th>\n",
       "    </tr>\n",
       "  </thead>\n",
       "  <tbody>\n",
       "    <tr>\n",
       "      <th>0</th>\n",
       "      <td>Grocery</td>\n",
       "      <td>93.51</td>\n",
       "      <td>25.334094</td>\n",
       "      <td>175.912280</td>\n",
       "      <td>0.000000</td>\n",
       "      <td>93.510</td>\n",
       "      <td>93.510</td>\n",
       "      <td>93.510</td>\n",
       "      <td>0.000000</td>\n",
       "    </tr>\n",
       "    <tr>\n",
       "      <th>1</th>\n",
       "      <td>Domestic Transport</td>\n",
       "      <td>65.14</td>\n",
       "      <td>25.335632</td>\n",
       "      <td>175.350486</td>\n",
       "      <td>0.319574</td>\n",
       "      <td>65.140</td>\n",
       "      <td>65.140</td>\n",
       "      <td>65.140</td>\n",
       "      <td>0.319574</td>\n",
       "    </tr>\n",
       "    <tr>\n",
       "      <th>2</th>\n",
       "      <td>Grocery</td>\n",
       "      <td>0.26</td>\n",
       "      <td>25.336235</td>\n",
       "      <td>175.130347</td>\n",
       "      <td>0.314148</td>\n",
       "      <td>0.260</td>\n",
       "      <td>0.260</td>\n",
       "      <td>0.260</td>\n",
       "      <td>0.314148</td>\n",
       "    </tr>\n",
       "    <tr>\n",
       "      <th>3</th>\n",
       "      <td>Grocery</td>\n",
       "      <td>1.43</td>\n",
       "      <td>25.336660</td>\n",
       "      <td>174.975058</td>\n",
       "      <td>0.000000</td>\n",
       "      <td>0.845</td>\n",
       "      <td>0.845</td>\n",
       "      <td>0.845</td>\n",
       "      <td>0.157074</td>\n",
       "    </tr>\n",
       "    <tr>\n",
       "      <th>4</th>\n",
       "      <td>Grocery</td>\n",
       "      <td>19.75</td>\n",
       "      <td>25.344710</td>\n",
       "      <td>172.034664</td>\n",
       "      <td>0.105313</td>\n",
       "      <td>19.750</td>\n",
       "      <td>19.750</td>\n",
       "      <td>19.750</td>\n",
       "      <td>0.105313</td>\n",
       "    </tr>\n",
       "  </tbody>\n",
       "</table>\n",
       "</div>"
      ],
      "text/plain": [
       "             category  amount  age_at_transaction  days_until_card_expires  \\\n",
       "0             Grocery   93.51           25.334094               175.912280   \n",
       "1  Domestic Transport   65.14           25.335632               175.350486   \n",
       "2             Grocery    0.26           25.336235               175.130347   \n",
       "3             Grocery    1.43           25.336660               174.975058   \n",
       "4             Grocery   19.75           25.344710               172.034664   \n",
       "\n",
       "   loc_delta  trans_volume_mstd  trans_volume_mavg  trans_freq  loc_delta_mavg  \n",
       "0   0.000000             93.510             93.510      93.510        0.000000  \n",
       "1   0.319574             65.140             65.140      65.140        0.319574  \n",
       "2   0.314148              0.260              0.260       0.260        0.314148  \n",
       "3   0.000000              0.845              0.845       0.845        0.157074  \n",
       "4   0.105313             19.750             19.750      19.750        0.105313  "
      ]
     },
     "execution_count": 9,
     "metadata": {},
     "output_type": "execute_result"
    }
   ],
   "source": [
    "feature_view.get_batch_data().head(5)"
   ]
  },
  {
   "cell_type": "markdown",
   "metadata": {},
   "source": [
    "#### Training Dataset Creation\n",
    "\n",
    "In Hopsworks training data is a query where the projection (set of features) is determined by the parent FeatureView with an optional snapshot on disk of the data returned by the query.\n",
    "\n",
    "Training Dataset  may contain splits such as: \n",
    "* Training set - the subset of training data used to train a model.\n",
    "* Validation set - the subset of training data used to evaluate hparams when training a model\n",
    "* Test set - the holdout subset of training data used to evaluate a mode\n",
    "\n",
    "Training dataset is created using `fs.create_training_dataset()` method."
   ]
  },
  {
   "cell_type": "code",
   "execution_count": 2,
   "metadata": {},
   "outputs": [
    {
     "name": "stdout",
     "output_type": "stream",
     "text": [
      "Training dataset job started successfully, you can follow the progress at https://hopsworks.glassfish.service.consul:8182/p/119/jobs/named/transactions_view_1_1_create_fv_td_24052022184211/executions\n"
     ]
    },
    {
     "name": "stderr",
     "output_type": "stream",
     "text": [
      "VersionWarning: No version provided for creating training dataset, incremented version to `1`.\n"
     ]
    }
   ],
   "source": [
    "td_version, td_job = feature_view.create_training_dataset(\n",
    "    description = 'transactions_dataset_splitted',\n",
    "    data_format = 'csv',\n",
    "    splits = {'train': 80, 'validation': 20},\n",
    "    train_split = \"train\",\n",
    "    write_options = {'wait_for_job': True},\n",
    "    coalesce = True\n",
    ")"
   ]
  },
  {
   "cell_type": "markdown",
   "metadata": {},
   "source": [
    "#### Training Dataset retreival\n",
    "To retrieve training data from storage (already materialised) or from feature groups direcly we can use `get_training_dataset_splits` or `get_training_dataset` methods. If version is not provided or provided version has not already existed, it creates a new version of training data according to given arguments and returns a dataframe. If version is provided and has already existed, it reads training data from storage or feature groups and returns a dataframe. If split is provided, it reads the specific split."
   ]
  },
  {
   "cell_type": "code",
   "execution_count": 3,
   "metadata": {},
   "outputs": [
    {
     "name": "stderr",
     "output_type": "stream",
     "text": [
      "UserWarning: Training dataset splits were defined but no `train_split` (the name of the split that is going to be used for training) was provided. Setting this property to `train`. The statistics of this split will be used for transformation functions.\n",
      "FutureWarning: pyarrow.hdfs.HadoopFileSystem is deprecated as of 2.0.0, please use pyarrow.fs.HadoopFileSystem instead.\n"
     ]
    }
   ],
   "source": [
    "td_version, train_df = feature_view.get_training_dataset_splits({'train': 80}, start_time=None, end_time=None, version = td_version)"
   ]
  },
  {
   "cell_type": "code",
   "execution_count": 4,
   "metadata": {},
   "outputs": [
    {
     "data": {
      "text/plain": [
       "{'train':        fraud_label  category    amount  age_at_transaction  \\\n",
       " 0                0         0  0.000000            0.010738   \n",
       " 1                0         0  0.000000            0.047263   \n",
       " 2                0         0  0.000000            0.063646   \n",
       " 3                0         0  0.000000            0.340523   \n",
       " 4                0         0  0.000000            0.954656   \n",
       " ...            ...       ...       ...                 ...   \n",
       " 84632            1         5  0.007304            0.909320   \n",
       " 84633            1         5  0.013629            0.516229   \n",
       " 84634            1         8  0.000170            0.132060   \n",
       " 84635            1         8  0.000488            0.488922   \n",
       " 84636            1         8  0.003099            0.266807   \n",
       " \n",
       "        days_until_card_expires  loc_delta  trans_volume_mstd  \\\n",
       " 0                     0.850530   0.024955           0.000000   \n",
       " 1                     0.943808   0.035718           0.000000   \n",
       " 2                     0.132038   0.000044           0.000000   \n",
       " 3                     0.208485   0.211902           0.000000   \n",
       " 4                     0.874915   0.183911           0.000000   \n",
       " ...                        ...        ...                ...   \n",
       " 84632                 0.729056   0.214688           0.004702   \n",
       " 84633                 0.314472   0.086154           0.005832   \n",
       " 84634                 0.816506   0.217638           0.000170   \n",
       " 84635                 0.607059   0.043470           0.000488   \n",
       " 84636                 0.270388   0.097779           0.003099   \n",
       " \n",
       "        trans_volume_mavg  trans_freq  loc_delta_mavg  \n",
       " 0               0.000000    0.000000        0.026888  \n",
       " 1               0.000000    0.000000        0.038485  \n",
       " 2               0.000000    0.000000        0.000047  \n",
       " 3               0.000000    0.000000        0.228318  \n",
       " 4               0.000000    0.000000        0.198159  \n",
       " ...                  ...         ...             ...  \n",
       " 84632           0.004702    0.004702        0.204941  \n",
       " 84633           0.005832    0.005832        0.099539  \n",
       " 84634           0.000170    0.000170        0.234498  \n",
       " 84635           0.000488    0.000488        0.046838  \n",
       " 84636           0.003099    0.003099        0.105353  \n",
       " \n",
       " [84637 rows x 10 columns]}"
      ]
     },
     "execution_count": 4,
     "metadata": {},
     "output_type": "execute_result"
    }
   ],
   "source": [
    "train_df"
   ]
  },
  {
   "cell_type": "code",
   "execution_count": 5,
   "metadata": {},
   "outputs": [
    {
     "name": "stderr",
     "output_type": "stream",
     "text": [
      "UserWarning: Training dataset splits were defined but no `train_split` (the name of the split that is going to be used for training) was provided. Setting this property to `train`. The statistics of this split will be used for transformation functions.\n"
     ]
    }
   ],
   "source": [
    "td_version, val_df = feature_view.get_training_dataset_splits({'validation': 20}, start_time=None, end_time=None, version = td_version)"
   ]
  },
  {
   "cell_type": "code",
   "execution_count": 6,
   "metadata": {},
   "outputs": [
    {
     "data": {
      "text/plain": [
       "{'validation':        fraud_label  category        amount  age_at_transaction  \\\n",
       " 0                0         0  3.336858e-07            0.961833   \n",
       " 1                0         0  6.673716e-07            0.466099   \n",
       " 2                0         0  6.673716e-07            0.501453   \n",
       " 3                0         0  6.673716e-07            0.659576   \n",
       " 4                0         0  6.673716e-07            0.827305   \n",
       " ...            ...       ...           ...                 ...   \n",
       " 21378            1         4  2.247374e-03            0.677929   \n",
       " 21379            1         4  2.690842e-03            0.206518   \n",
       " 21380            1         4  3.267118e-03            0.909320   \n",
       " 21381            1         5  4.428011e-03            0.922000   \n",
       " 21382            1         5  5.702691e-03            0.206518   \n",
       " \n",
       "        days_until_card_expires  loc_delta  trans_volume_mstd  \\\n",
       " 0                     0.766848   0.185500       1.365109e-03   \n",
       " 1                     0.924525   0.089776       6.673716e-07   \n",
       " 2                     0.770627   0.060860       6.673716e-07   \n",
       " 3                     0.211434   0.058561       6.673716e-07   \n",
       " 4                     0.071267   0.094535       2.581560e-03   \n",
       " ...                        ...        ...                ...   \n",
       " 21378                 0.860417   0.219932       2.454593e-03   \n",
       " 21379                 0.228957   0.027481       2.856851e-03   \n",
       " 21380                 0.729053   0.198211       2.489482e-03   \n",
       " 21381                 0.287235   0.093682       2.328126e-03   \n",
       " 21382                 0.228954   0.098071       2.155544e-03   \n",
       " \n",
       "        trans_volume_mavg    trans_freq  loc_delta_mavg  \n",
       " 0           1.365109e-03  1.365109e-03        0.146589  \n",
       " 1           6.673716e-07  6.673716e-07        0.096731  \n",
       " 2           6.673716e-07  6.673716e-07        0.065575  \n",
       " 3           6.673716e-07  6.673716e-07        0.063098  \n",
       " 4           2.581560e-03  2.581560e-03        0.071501  \n",
       " ...                  ...           ...             ...  \n",
       " 21378       2.454593e-03  2.454593e-03        0.146335  \n",
       " 21379       2.856851e-03  2.856851e-03        0.032057  \n",
       " 21380       2.489482e-03  2.489482e-03        0.167911  \n",
       " 21381       2.328126e-03  2.328126e-03        0.073158  \n",
       " 21382       2.155544e-03  2.155544e-03        0.101301  \n",
       " \n",
       " [21383 rows x 10 columns]}"
      ]
     },
     "execution_count": 6,
     "metadata": {},
     "output_type": "execute_result"
    }
   ],
   "source": [
    "val_df"
   ]
  },
  {
   "cell_type": "code",
   "execution_count": 7,
   "metadata": {},
   "outputs": [
    {
     "name": "stderr",
     "output_type": "stream",
     "text": [
      "UserWarning: Training dataset splits were defined but no `train_split` (the name of the split that is going to be used for training) was provided. Setting this property to `train`. The statistics of this split will be used for transformation functions.\n"
     ]
    }
   ],
   "source": [
    "td_version, df = feature_view.get_training_dataset_splits({'train': 80, 'validation': 20}, start_time=None, end_time=None, version = td_version)"
   ]
  },
  {
   "cell_type": "code",
   "execution_count": 8,
   "metadata": {},
   "outputs": [
    {
     "data": {
      "text/plain": [
       "{'train':        fraud_label  category    amount  age_at_transaction  \\\n",
       " 0                0         0  0.000000            0.010738   \n",
       " 1                0         0  0.000000            0.047263   \n",
       " 2                0         0  0.000000            0.063646   \n",
       " 3                0         0  0.000000            0.340523   \n",
       " 4                0         0  0.000000            0.954656   \n",
       " ...            ...       ...       ...                 ...   \n",
       " 84632            1         5  0.007304            0.909320   \n",
       " 84633            1         5  0.013629            0.516229   \n",
       " 84634            1         8  0.000170            0.132060   \n",
       " 84635            1         8  0.000488            0.488922   \n",
       " 84636            1         8  0.003099            0.266807   \n",
       " \n",
       "        days_until_card_expires  loc_delta  trans_volume_mstd  \\\n",
       " 0                     0.850530   0.024955           0.000000   \n",
       " 1                     0.943808   0.035718           0.000000   \n",
       " 2                     0.132038   0.000044           0.000000   \n",
       " 3                     0.208485   0.211902           0.000000   \n",
       " 4                     0.874915   0.183911           0.000000   \n",
       " ...                        ...        ...                ...   \n",
       " 84632                 0.729056   0.214688           0.004702   \n",
       " 84633                 0.314472   0.086154           0.005832   \n",
       " 84634                 0.816506   0.217638           0.000170   \n",
       " 84635                 0.607059   0.043470           0.000488   \n",
       " 84636                 0.270388   0.097779           0.003099   \n",
       " \n",
       "        trans_volume_mavg  trans_freq  loc_delta_mavg  \n",
       " 0               0.000000    0.000000        0.026888  \n",
       " 1               0.000000    0.000000        0.038485  \n",
       " 2               0.000000    0.000000        0.000047  \n",
       " 3               0.000000    0.000000        0.228318  \n",
       " 4               0.000000    0.000000        0.198159  \n",
       " ...                  ...         ...             ...  \n",
       " 84632           0.004702    0.004702        0.204941  \n",
       " 84633           0.005832    0.005832        0.099539  \n",
       " 84634           0.000170    0.000170        0.234498  \n",
       " 84635           0.000488    0.000488        0.046838  \n",
       " 84636           0.003099    0.003099        0.105353  \n",
       " \n",
       " [84637 rows x 10 columns],\n",
       " 'validation':        fraud_label  category        amount  age_at_transaction  \\\n",
       " 0                0         0  3.336858e-07            0.961833   \n",
       " 1                0         0  6.673716e-07            0.466099   \n",
       " 2                0         0  6.673716e-07            0.501453   \n",
       " 3                0         0  6.673716e-07            0.659576   \n",
       " 4                0         0  6.673716e-07            0.827305   \n",
       " ...            ...       ...           ...                 ...   \n",
       " 21378            1         4  2.247374e-03            0.677929   \n",
       " 21379            1         4  2.690842e-03            0.206518   \n",
       " 21380            1         4  3.267118e-03            0.909320   \n",
       " 21381            1         5  4.428011e-03            0.922000   \n",
       " 21382            1         5  5.702691e-03            0.206518   \n",
       " \n",
       "        days_until_card_expires  loc_delta  trans_volume_mstd  \\\n",
       " 0                     0.766848   0.185500       1.365109e-03   \n",
       " 1                     0.924525   0.089776       6.673716e-07   \n",
       " 2                     0.770627   0.060860       6.673716e-07   \n",
       " 3                     0.211434   0.058561       6.673716e-07   \n",
       " 4                     0.071267   0.094535       2.581560e-03   \n",
       " ...                        ...        ...                ...   \n",
       " 21378                 0.860417   0.219932       2.454593e-03   \n",
       " 21379                 0.228957   0.027481       2.856851e-03   \n",
       " 21380                 0.729053   0.198211       2.489482e-03   \n",
       " 21381                 0.287235   0.093682       2.328126e-03   \n",
       " 21382                 0.228954   0.098071       2.155544e-03   \n",
       " \n",
       "        trans_volume_mavg    trans_freq  loc_delta_mavg  \n",
       " 0           1.365109e-03  1.365109e-03        0.146589  \n",
       " 1           6.673716e-07  6.673716e-07        0.096731  \n",
       " 2           6.673716e-07  6.673716e-07        0.065575  \n",
       " 3           6.673716e-07  6.673716e-07        0.063098  \n",
       " 4           2.581560e-03  2.581560e-03        0.071501  \n",
       " ...                  ...           ...             ...  \n",
       " 21378       2.454593e-03  2.454593e-03        0.146335  \n",
       " 21379       2.856851e-03  2.856851e-03        0.032057  \n",
       " 21380       2.489482e-03  2.489482e-03        0.167911  \n",
       " 21381       2.328126e-03  2.328126e-03        0.073158  \n",
       " 21382       2.155544e-03  2.155544e-03        0.101301  \n",
       " \n",
       " [21383 rows x 10 columns]}"
      ]
     },
     "execution_count": 8,
     "metadata": {},
     "output_type": "execute_result"
    }
   ],
   "source": [
    "df"
   ]
  },
  {
   "cell_type": "markdown",
   "metadata": {},
   "source": [
    "## From feature view we can also retrieve feature vecors from online store for low latency model serving \n",
    "Training data version is required for transformation. Call `feature_view.init_serving(version)` to pass the training dataset version. "
   ]
  },
  {
   "cell_type": "code",
   "execution_count": 15,
   "metadata": {},
   "outputs": [],
   "source": [
    "feature_view.init_serving(td_version)"
   ]
  },
  {
   "cell_type": "markdown",
   "metadata": {},
   "source": [
    "### Retrieve single feature vector"
   ]
  },
  {
   "cell_type": "code",
   "execution_count": 11,
   "metadata": {},
   "outputs": [
    {
     "data": {
      "text/plain": [
       "[0,\n",
       " 0.0031516625395292554,\n",
       " 0.9651877430221095,\n",
       " 0.7179505149718097,\n",
       " 4.6053745689962795e-05,\n",
       " 0.0031516625395292554,\n",
       " 0.0031516625395292554,\n",
       " 0.0031516625395292554,\n",
       " 4.962147746344275e-05]"
      ]
     },
     "execution_count": 11,
     "metadata": {},
     "output_type": "execute_result"
    }
   ],
   "source": [
    "feature_view.get_feature_vector({\"cc_num\": \"4473593503484549\"})"
   ]
  },
  {
   "cell_type": "markdown",
   "metadata": {},
   "source": [
    "### Retrieve batch of feature vectors\n",
    "\n",
    "Here we have to let feature_view that we need to get batch of feature vectors by passing `batch=True` to `init_serving` method  "
   ]
  },
  {
   "cell_type": "code",
   "execution_count": 17,
   "metadata": {},
   "outputs": [
    {
     "data": {
      "text/plain": [
       "[[4,\n",
       "  0.002657473844871466,\n",
       "  0.20621260449599255,\n",
       "  0.08422812335515834,\n",
       "  0.015244317743686607,\n",
       "  0.002837664185935076,\n",
       "  0.002837664185935076,\n",
       "  0.002837664185935076,\n",
       "  0.10358870705000209],\n",
       " [0,\n",
       "  0.010312893853540624,\n",
       "  0.9201764105420973,\n",
       "  0.3617157360201056,\n",
       "  1.5696794982265385e-05,\n",
       "  0.010312893853540624,\n",
       "  0.010312893853540624,\n",
       "  0.010312893853540624,\n",
       "  1.691280799841865e-05],\n",
       " [2,\n",
       "  0.003054559966844977,\n",
       "  0.1260833208082077,\n",
       "  0.6789481436010685,\n",
       "  0.04029573683352209,\n",
       "  0.003054559966844977,\n",
       "  0.003054559966844977,\n",
       "  0.003054559966844977,\n",
       "  0.04341740215092864],\n",
       " [0,\n",
       "  0.0031516625395292554,\n",
       "  0.9651877430221095,\n",
       "  0.7179505149718097,\n",
       "  4.6053745689962795e-05,\n",
       "  0.0031516625395292554,\n",
       "  0.0031516625395292554,\n",
       "  0.0031516625395292554,\n",
       "  4.962147746344275e-05],\n",
       " [0,\n",
       "  0.002340472318926226,\n",
       "  0.3446710725993161,\n",
       "  0.39386150765299255,\n",
       "  0.06939270102016566,\n",
       "  0.0026661496761078616,\n",
       "  0.0026661496761078616,\n",
       "  0.0026661496761078616,\n",
       "  0.24965591627238473],\n",
       " [0,\n",
       "  0.002843003159003627,\n",
       "  0.4910009487933842,\n",
       "  0.441817859593234,\n",
       "  2.4343444866554853e-05,\n",
       "  0.002843003159003627,\n",
       "  0.002843003159003627,\n",
       "  0.002843003159003627,\n",
       "  2.6229304103673615e-05],\n",
       " [2,\n",
       "  0.0003757302296993057,\n",
       "  0.5454154928691769,\n",
       "  0.6795727217819746,\n",
       "  0.03768831438005737,\n",
       "  0.0003757302296993057,\n",
       "  0.0003757302296993057,\n",
       "  0.0003757302296993057,\n",
       "  0.04060798561867391]]"
      ]
     },
     "execution_count": 17,
     "metadata": {},
     "output_type": "execute_result"
    }
   ],
   "source": [
    "feature_view.init_serving(td_version, batch=True)\n",
    "card_ids = [\n",
    "    \"4473593503484549\",\n",
    "    \"4336399961348201\",\n",
    "    \"4219785543443381\",\n",
    "    \"4137709749259770\",\n",
    "    \"4573366597272313\",\n",
    "    \"4929411498746287\",\n",
    "    \"4855787436134696\"    \n",
    "]\n",
    "feature_view.get_feature_vectors(entry={\"cc_num\": card_ids})"
   ]
  },
  {
   "cell_type": "markdown",
   "metadata": {},
   "source": [
    "### Next Steps\n",
    "\n",
    "In the next notebook, we will train a model on the dataset we created in this notebook."
   ]
  }
 ],
 "metadata": {
  "interpreter": {
   "hash": "31f2aee4e71d21fbe5cf8b01ff0e069b9275f58929596ceb00d14d90e3e16cd6"
  },
  "kernelspec": {
   "display_name": "Python",
   "language": "python",
   "name": "python3"
  },
  "language_info": {
   "codemirror_mode": {
    "name": "ipython",
    "version": 3
   },
   "file_extension": ".py",
   "mimetype": "text/x-python",
   "name": "python",
   "nbconvert_exporter": "python",
   "pygments_lexer": "ipython3",
   "version": "3.8.11"
  }
 },
 "nbformat": 4,
 "nbformat_minor": 4
}