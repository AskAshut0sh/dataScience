{
 "cells": [
  {
   "cell_type": "markdown",
   "id": "e43a4107",
   "metadata": {},
   "source": [
    "## Hyperparameter Optimization with Maggy\n",
    "\n",
    "### **Note: currently this notebook needs to be run with a PySpark kernel to work properly!*\n",
    "\n",
    "In this notebook, we'll use the [Maggy](https://maggy.ai/master/) library from Hopsworks to run experiments with hyperparameter tuning. In particular we will:\n",
    "\n",
    "- Load a training dataset from the feature store.\n",
    "- Train models on the dataset using different hyperparameters.\n",
    "\n",
    "![tutorial-flow](images/maggy_hp.png)\n",
    "\n",
    "We will train our model using standard Python and Scikit-learn, although it could just as well be trained with other machine learning frameworks such as PySpark, TensorFlow, and PyTorch."
   ]
  },
  {
   "cell_type": "code",
   "execution_count": 12,
   "id": "2f3827a2",
   "metadata": {},
   "outputs": [
    {
     "name": "stdout",
     "output_type": "stream",
     "text": [
      "Connected. Call `.close()` to terminate connection gracefully."
     ]
    }
   ],
   "source": [
    "import hsfs\n",
    "\n",
    "conn = hsfs.connection()\n",
    "fs = conn.get_feature_store()"
   ]
  },
  {
   "cell_type": "code",
   "execution_count": 13,
   "id": "1b368852",
   "metadata": {},
   "outputs": [],
   "source": [
    "feature_view = fs.get_feature_view(\"transactions_view\", 1)"
   ]
  },
  {
   "cell_type": "markdown",
   "id": "78cdc89c",
   "metadata": {},
   "source": [
    "As we described in the previus notebook feature view contains information about associating a label feature"
   ]
  },
  {
   "cell_type": "code",
   "execution_count": 14,
   "id": "b800ce22",
   "metadata": {},
   "outputs": [
    {
     "name": "stdout",
     "output_type": "stream",
     "text": [
      "['fraud_label']"
     ]
    }
   ],
   "source": [
    "feature_view.label"
   ]
  },
  {
   "cell_type": "markdown",
   "id": "62a43bef",
   "metadata": {},
   "source": [
    "### Load Training Data\n",
    "\n",
    "First, we'll need to fetch the training dataset that we created in the previous notebook. Since we're running this notebook in a PySpark Kernel we'll get Spark Dataframes, which we'll need to convert back to Pandas Dataframes.\n"
   ]
  },
  {
   "cell_type": "code",
   "execution_count": 15,
   "id": "454e9f5d",
   "metadata": {},
   "outputs": [
    {
     "name": "stdout",
     "output_type": "stream",
     "text": [
      "UserWarning: Training dataset splits were defined but no `train_split` (the name of the split that is going to be used for training) was provided. Setting this property to `train`. The statistics of this split will be used for transformation functions."
     ]
    }
   ],
   "source": [
    "_, train_df = feature_view.get_training_dataset_splits({'train': 80}, start_time=None, end_time=None, version = 1)\n",
    "_, val_df = feature_view.get_training_dataset_splits({'validation': 20}, start_time=None, end_time=None, version = 1)"
   ]
  },
  {
   "cell_type": "code",
   "execution_count": 16,
   "id": "7004bdba",
   "metadata": {},
   "outputs": [
    {
     "name": "stdout",
     "output_type": "stream",
     "text": [
      "+-----------+--------+--------------------+--------------------+-----------------------+--------------------+--------------------+--------------------+--------------------+--------------------+\n",
      "|fraud_label|category|              amount|  age_at_transaction|days_until_card_expires|           loc_delta|   trans_volume_mstd|   trans_volume_mavg|          trans_freq|      loc_delta_mavg|\n",
      "+-----------+--------+--------------------+--------------------+-----------------------+--------------------+--------------------+--------------------+--------------------+--------------------+\n",
      "|          0|       5|                 0.0|0.010857525685185158|      0.850452102272883| 0.02643666207054658|0.003957852755597837|0.003957852755597837|0.003957852755597837|3.537142033300619E-5|\n",
      "|          0|       5|                 0.0| 0.06375899915694981|    0.13202567526070316|4.646804946588130...|0.002620771903082...|0.002620771903082...|0.002620771903082...| 0.07444650122044412|\n",
      "|          0|       5|                 0.0|  0.3406026681512318|    0.20846589038714164| 0.22448690570022248| 0.15899950180641056| 0.15899950180641056| 0.15899950180641056|1.283038258642346...|\n",
      "|          0|       5|                 0.0|  0.9546614061881592|     0.8748343106555162| 0.19483380180431736| 0.07430292105617041| 0.07430292105617041| 0.07430292105617041|8.590388853669053E-5|\n",
      "|          0|       5|3.336858167844633E-7|  0.3640754689843095|     0.6643821816071711| 0.09862386902304916|2.265729720133995E-4|2.265729720133995E-4|2.265729720133995E-4| 0.03450473906834248|\n",
      "|          0|       5|3.336858167844633E-7|  0.3745697825924874|    0.45887861923036527| 0.26084450418578636|0.002364167167474132|0.002364167167474132|0.002364167167474132|9.238720957603193E-5|\n",
      "|          0|       5|3.336858167844633E-7|  0.5739375243853139|    0.20507640937834415|0.024463076009757247|  0.2963117323756093|  0.2963117323756093|  0.2963117323756093|9.624746243548574E-5|\n",
      "|          0|       5|3.336858167844633E-7|  0.8352808297481108|     0.7356705390528864|  0.0460992981780954|0.001820592246399...|0.001820592246399...|0.001820592246399...|9.949453894369476E-5|\n",
      "|          0|       5|3.336858167844633E-7|  0.8501747608573965|      0.948012453222466| 0.14263373045787633|0.003018192241327244|0.003018192241327244|0.003018192241327244|1.182774502538534E-4|\n",
      "|          0|       5|3.336858167844633E-7|  0.9618373121476121|     0.7667774047657139|  0.1965172158820042|0.011723399448817031|0.011723399448817031|0.011723399448817031| 0.18011314049449462|\n",
      "|          0|       5|6.673716335689265E-7| 0.03182480989714328|     0.6915114849098136|  0.2533051519465008|0.027832103755071617|0.027832103755071617|0.027832103755071617| 8.04264883672363E-5|\n",
      "|          0|       5|6.673716335689265E-7|   0.332688338568864|    0.28462339938354225| 0.09723264612001503|0.008876721946245145|0.008876721946245145|0.008876721946245145|9.250937198005584E-5|\n",
      "|          0|       5|6.673716335689265E-7| 0.34079900850574363|     0.1632930981200481| 0.21810345710406123|0.002317451090770338|0.002317451090770338|0.002317451090770338| 0.08829092792845063|\n",
      "|          0|       5|6.673716335689265E-7| 0.38853553491059156|    0.10458898852704633| 0.17837629500476915| 0.22128771530688957| 0.22128771530688957| 0.22128771530688957|1.080435581309193...|\n",
      "|          0|       5|6.673716335689265E-7|   0.449000267898079|    0.09084207247949987|4.602495234102343...|0.001120852154628...|0.001120852154628...|0.001120852154628...|8.903901175559988E-5|\n",
      "|          0|       5|6.673716335689265E-7|  0.5827534394135987|    0.26388043194603117| 0.07470222515810696|0.002663150058378...|0.002663150058378...|0.002663150058378...|1.683665117254737E-4|\n",
      "|          0|       5|6.673716335689265E-7|  0.6065114141216232|      0.574170620636482|  0.0437057172510494|0.024249981730677148|0.024249981730677148|0.024249981730677148|3.029566347729296E-5|\n",
      "|          0|       5|6.673716335689265E-7|  0.6686908968189473|     0.3091892784366757| 0.12475074109659459|3.987550832930963E-4|3.987550832930963E-4|3.987550832930963E-4| 1.06483427460433E-4|\n",
      "|          0|       5|6.673716335689265E-7|  0.6719362361093397|      0.773185836012253|  0.2010138987400931|  0.0150200528759251|  0.0150200528759251|  0.0150200528759251| 0.19526576920133115|\n",
      "|          0|       5|6.673716335689265E-7|  0.8158241181682689|     0.7678842438718322| 0.09673243539669675| 0.17840235689280695| 0.17840235689280695| 0.17840235689280695|1.216679900551950...|\n",
      "+-----------+--------+--------------------+--------------------+-----------------------+--------------------+--------------------+--------------------+--------------------+--------------------+\n",
      "only showing top 20 rows"
     ]
    }
   ],
   "source": [
    "train_df[\"train\"].show()"
   ]
  },
  {
   "cell_type": "code",
   "execution_count": 17,
   "id": "4a8e90f7",
   "metadata": {},
   "outputs": [
    {
     "name": "stdout",
     "output_type": "stream",
     "text": [
      "root\n",
      " |-- fraud_label: integer (nullable = true)\n",
      " |-- category: integer (nullable = true)\n",
      " |-- amount: double (nullable = true)\n",
      " |-- age_at_transaction: double (nullable = true)\n",
      " |-- days_until_card_expires: double (nullable = true)\n",
      " |-- loc_delta: double (nullable = true)\n",
      " |-- trans_volume_mstd: double (nullable = true)\n",
      " |-- trans_volume_mavg: double (nullable = true)\n",
      " |-- trans_freq: double (nullable = true)\n",
      " |-- loc_delta_mavg: double (nullable = true)"
     ]
    }
   ],
   "source": [
    "train_df[\"train\"].printSchema()"
   ]
  },
  {
   "cell_type": "code",
   "execution_count": 18,
   "id": "457c2a8b",
   "metadata": {},
   "outputs": [
    {
     "name": "stdout",
     "output_type": "stream",
     "text": [
      "   fraud_label  category  ...  trans_freq  loc_delta_mavg\n",
      "0            0         5  ...    0.003958        0.000035\n",
      "1            0         5  ...    0.002621        0.074447\n",
      "2            0         5  ...    0.159000        0.000128\n",
      "3            0         5  ...    0.074303        0.000086\n",
      "4            0         5  ...    0.000227        0.034505\n",
      "\n",
      "[5 rows x 10 columns]"
     ]
    }
   ],
   "source": [
    "X_train = train_df[\"train\"].toPandas()\n",
    "X_val = val_df['validation'].toPandas()\n",
    "\n",
    "X_train.head()"
   ]
  },
  {
   "cell_type": "markdown",
   "id": "ae8e8aa0",
   "metadata": {},
   "source": [
    "We will train a model to predict `fraud_label` given the rest of the features."
   ]
  },
  {
   "cell_type": "code",
   "execution_count": 19,
   "id": "f5afe272",
   "metadata": {},
   "outputs": [],
   "source": [
    "target = feature_view.label[0]\n",
    "\n",
    "y_train = X_train.pop(target)\n",
    "y_val = X_val.pop(target)"
   ]
  },
  {
   "cell_type": "markdown",
   "id": "2ae4f4e8",
   "metadata": {},
   "source": [
    "Let's check the distribution of our target label."
   ]
  },
  {
   "cell_type": "code",
   "execution_count": 20,
   "id": "75b0a096",
   "metadata": {},
   "outputs": [
    {
     "name": "stdout",
     "output_type": "stream",
     "text": [
      "0    0.99849\n",
      "1    0.00151\n",
      "Name: fraud_label, dtype: float64"
     ]
    }
   ],
   "source": [
    "y_train.value_counts(normalize=True)"
   ]
  },
  {
   "cell_type": "markdown",
   "id": "2a7cf6d8",
   "metadata": {},
   "source": [
    "Notice that the distribution is extremely skewed, which is natural considering that fraudulent transactions make up a tiny part of all transactions. Thus we should somehow address the class imbalance. There are many approaches for this, such as weighting the loss function, over- or undersampling, creating synthetic data, or modifying the decision threshold. In this example, we'll use the simplest method which is to just supply a class weight parameter to our learning algorithm. The class weight will affect how much importance is attached to each class, which in our case means that higher importance will be placed on positive (fraudulent) samples."
   ]
  },
  {
   "cell_type": "markdown",
   "id": "619ae265",
   "metadata": {},
   "source": [
    "### Hyperparameter Optimization\n",
    "\n",
    "In the following example, we'll use a simple logistic regression model and do a hyperparameter search over class weights. Since our dataset is unbalanced we will evaluate each hyperparameter configuration using the *F1-score* rather than *accuracy*.\n",
    "\n",
    "First, we define a training function that will return an evaluation score given a hyperparameter configuration."
   ]
  },
  {
   "cell_type": "code",
   "execution_count": 21,
   "id": "40db21ae",
   "metadata": {},
   "outputs": [],
   "source": [
    "from sklearn.linear_model import LogisticRegression\n",
    "from sklearn.metrics import f1_score\n",
    "\n",
    "def training_function(pos_class_weight):\n",
    "    clf = LogisticRegression(class_weight={0: 1.0 - pos_class_weight, 1: pos_class_weight}, solver='liblinear')\n",
    "    clf.fit(X_train, y_train)\n",
    "    preds = clf.predict(X_val)\n",
    "    score = f1_score(y_val, preds)\n",
    "    return {'metric': score} "
   ]
  },
  {
   "cell_type": "markdown",
   "id": "f3fc9ec9",
   "metadata": {},
   "source": [
    "Note that this code assumes that the `X_train`, `y_train` etc variables already exist in the namespace.\n",
    "\n",
    "Let's test the code to see that it works."
   ]
  },
  {
   "cell_type": "code",
   "execution_count": 22,
   "id": "6f18c993",
   "metadata": {},
   "outputs": [],
   "source": [
    "score = training_function(0.5)"
   ]
  },
  {
   "cell_type": "markdown",
   "id": "c8bd5ee8",
   "metadata": {},
   "source": [
    "Now let's see if we can find a value for `class_weight` that gives us a better score.\n",
    "\n",
    "To do this we'll define a search space, which represents the set of possible values we want to consider for our hyperparameters. We'll also need to define datatypes for the hyperparameters."
   ]
  },
  {
   "cell_type": "code",
   "execution_count": 23,
   "id": "67ff812f",
   "metadata": {},
   "outputs": [
    {
     "name": "stdout",
     "output_type": "stream",
     "text": [
      "Hyperparameter added: pos_class_weight"
     ]
    }
   ],
   "source": [
    "from maggy import Searchspace\n",
    "\n",
    "sp = Searchspace(pos_class_weight=('DOUBLE', [0.1, 0.9]))"
   ]
  },
  {
   "cell_type": "markdown",
   "id": "69b341d4",
   "metadata": {},
   "source": [
    "Next we'll define a configuration for our hyperparameter search. Some important parameters are:\n",
    "- `num_trials`: Number of models to train. You should set this based on how much time you are willing to spend. We'll just do five trials here to showcase the functionality.\n",
    "- `optimizer`: Strategy used to determine the next parameter value to try. We will just use grid search, but you can read about alternatives [here](https://maggy.ai/master/hpo/strategies/).\n",
    "- `direction`: Should be set to `max` if the output of `train_fn` should be maximized, otherwise `min`."
   ]
  },
  {
   "cell_type": "markdown",
   "id": "01dee1e0",
   "metadata": {},
   "source": [
    "Now we can run the `lagom` method, which tries to find the best value. Lagom is a Swedish word that means \"just right\". The function is \"lagom\" in the way it uses your resources."
   ]
  },
  {
   "cell_type": "code",
   "execution_count": 24,
   "id": "124d3216",
   "metadata": {},
   "outputs": [
    {
     "data": {
      "application/vnd.jupyter.widget-view+json": {
       "model_id": "082571a2a5fe4a1080b0804b7e1c29bc",
       "version_major": 2,
       "version_minor": 0
      },
      "text/plain": [
       "HBox(children=(FloatProgress(value=0.0, description='Maggy experiment', max=2.0, style=ProgressStyle(descripti…"
      ]
     },
     "metadata": {},
     "output_type": "display_data"
    },
    {
     "name": "stdout",
     "output_type": "stream",
     "text": [
      "Started Maggy Experiment: fraud_lr, application_1653174608434_0007, run 1\n",
      "\n",
      "------ RandomSearch Results ------ direction(max) \n",
      "BEST combination {\"pos_class_weight\": 0.8028691730680396} -- metric 0.0\n",
      "WORST combination {\"pos_class_weight\": 0.8028691730680396} -- metric 0.0\n",
      "AVERAGE metric -- 0.0\n",
      "EARLY STOPPED Trials -- 0\n",
      "Total job time 0 hours, 0 minutes, 39 seconds\n",
      "\n",
      "Finished Experiment\n"
     ]
    }
   ],
   "source": [
    "from maggy import experiment\n",
    "result = experiment.lagom(train_fn=training_function, \n",
    "                          searchspace=sp,\n",
    "                          optimizer='randomsearch', \n",
    "                          direction='max',\n",
    "                          num_trials=2,\n",
    "                          name='fraud_lr')"
   ]
  },
  {
   "cell_type": "markdown",
   "id": "ab05855c",
   "metadata": {},
   "source": [
    "The function returns a dict with results from our experiment. Of special interest is of course the `best_config` dict, which contains the best hyperparameters found. Let's save this dict."
   ]
  },
  {
   "cell_type": "code",
   "execution_count": 25,
   "id": "139ac825",
   "metadata": {},
   "outputs": [
    {
     "name": "stdout",
     "output_type": "stream",
     "text": [
      "{'best_id': '2177ee17a6b4ad19', 'best_val': 0.0, 'best_hp': {'pos_class_weight': 0.8028691730680396}, 'worst_id': '2177ee17a6b4ad19', 'worst_val': 0.0, 'worst_hp': {'pos_class_weight': 0.8028691730680396}, 'avg': 0.0, 'metric_list': [0.0, 0.0], 'num_trials': 2, 'early_stopped': 0}"
     ]
    }
   ],
   "source": [
    "result"
   ]
  },
  {
   "cell_type": "code",
   "execution_count": 26,
   "id": "82950f7a",
   "metadata": {},
   "outputs": [],
   "source": [
    "import pickle\n",
    "\n",
    "with open(\"best_params.pickle\", \"wb\") as f:\n",
    "    pickle.dump(result[\"best_hp\"], f)"
   ]
  },
  {
   "cell_type": "markdown",
   "id": "4cf8c7c1",
   "metadata": {},
   "source": [
    "You can also upload this file to your cluster using the *hopsworks* library. To do this you would run the following code:"
   ]
  },
  {
   "cell_type": "code",
   "execution_count": 27,
   "id": "c26658f4",
   "metadata": {},
   "outputs": [
    {
     "name": "stdout",
     "output_type": "stream",
     "text": [
      "Connected. Call `.close()` to terminate connection gracefully.\n",
      "Resources/best_params.pickle\n",
      "Uploading: 100.000%|##########| 43/43 elapsed<00:00 remaining<00:00"
     ]
    }
   ],
   "source": [
    "import hopsworks\n",
    "\n",
    "hopsworks_conn = hopsworks.connection()\n",
    "project = hopsworks_conn.get_project()\n",
    "dataset_api = project.get_dataset_api()\n",
    "\n",
    "uploaded_file_path = dataset_api.upload(\"best_params.pickle\", \"Resources\")\n",
    "print(uploaded_file_path)"
   ]
  },
  {
   "cell_type": "markdown",
   "id": "7fc986a5",
   "metadata": {},
   "source": [
    "### Next Steps\n",
    "\n",
    "In the next notebook, we'll look at how to register a model to the [Hopsworks Model Registry](https://docs.hopsworks.ai/machine-learning-api/latest), which enables us to version control our models and easily create APIs for them."
   ]
  }
 ],
 "metadata": {
  "kernelspec": {
   "display_name": "PySpark",
   "language": "python",
   "name": "pysparkkernel"
  },
  "language_info": {
   "codemirror_mode": {
    "name": "python",
    "version": 3
   },
   "mimetype": "text/x-python",
   "name": "pyspark",
   "pygments_lexer": "python3"
  }
 },
 "nbformat": 4,
 "nbformat_minor": 5
}