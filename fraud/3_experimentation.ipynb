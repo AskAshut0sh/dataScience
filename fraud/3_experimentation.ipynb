{
 "cells": [
  {
   "cell_type": "markdown",
   "id": "6295a172",
   "metadata": {},
   "source": [
    "## Hyperparameter Optimization with Maggy\n",
    "\n",
    "### **Note: currently this notebook needs to be run with a PySpark kernel to work properly!*\n",
    "\n",
    "In this notebook, we'll use the [Maggy](https://maggy.ai/master/) library from Hopsworks to run experiments with hyperparameter tuning. In particular we will:\n",
    "\n",
    "- Load a training dataset from the feature store.\n",
    "- Train models on the dataset using different hyperparameters.\n",
    "\n",
    "![tutorial-flow](images/maggy_hp.png)\n",
    "\n",
    "We will train our model using standard Python and Scikit-learn, although it could just as well be trained with other machine learning frameworks such as PySpark, TensorFlow, and PyTorch."
   ]
  },
  {
   "cell_type": "code",
   "execution_count": 1,
   "id": "e69eade0",
   "metadata": {},
   "outputs": [
    {
     "name": "stdout",
     "output_type": "stream",
     "text": [
      "Starting Spark application\n"
     ]
    },
    {
     "data": {
      "text/html": [
       "<table>\n",
       "<tr><th>ID</th><th>Application ID</th><th>Kind</th><th>State</th><th>Spark UI</th><th>Driver log</th></tr><tr><td>0</td><td>application_1653266850468_0007</td><td>pyspark</td><td>idle</td><td><a target=\"_blank\" href=\"/hopsworks-api/yarnui/https://hopsworks0.logicalclocks.com:8089/proxy/application_1653266850468_0007/\">Link</a></td><td><a target=\"_blank\" href=\"/hopsworks-api/yarnui/https://hopsworks0.logicalclocks.com:8044/node/containerlogs/container_1653266850468_0007_01_000001/test_fv__meb10000\">Link</a></td></tr></table>"
      ],
      "text/plain": [
       "<IPython.core.display.HTML object>"
      ]
     },
     "metadata": {},
     "output_type": "display_data"
    },
    {
     "name": "stdout",
     "output_type": "stream",
     "text": [
      "SparkSession available as 'spark'.\n",
      "Connected. Call `.close()` to terminate connection gracefully."
     ]
    }
   ],
   "source": [
    "import hsfs\n",
    "\n",
    "conn = hsfs.connection()\n",
    "fs = conn.get_feature_store()"
   ]
  },
  {
   "cell_type": "code",
   "execution_count": 2,
   "id": "748a9fdb",
   "metadata": {},
   "outputs": [],
   "source": [
    "feature_view = fs.get_feature_view(\"transactions_view\", 1)"
   ]
  },
  {
   "cell_type": "markdown",
   "id": "e1e81db1",
   "metadata": {},
   "source": [
    "As we described in the previus notebook feature view contains information about associating a label feature"
   ]
  },
  {
   "cell_type": "code",
   "execution_count": 3,
   "id": "499a12d2",
   "metadata": {},
   "outputs": [
    {
     "name": "stdout",
     "output_type": "stream",
     "text": [
      "['fraud_label']"
     ]
    }
   ],
   "source": [
    "feature_view.label"
   ]
  },
  {
   "cell_type": "markdown",
   "id": "b519ab9c",
   "metadata": {},
   "source": [
    "### Load Training Data\n",
    "\n",
    "First, we'll need to fetch the training dataset that we created in the previous notebook. Since we're running this notebook in a PySpark Kernel we'll get Spark Dataframes, which we'll need to convert back to Pandas Dataframes.\n"
   ]
  },
  {
   "cell_type": "code",
   "execution_count": 4,
   "id": "3d136c9a",
   "metadata": {},
   "outputs": [
    {
     "name": "stdout",
     "output_type": "stream",
     "text": [
      "UserWarning: Training dataset splits were defined but no `train_split` (the name of the split that is going to be used for training) was provided. Setting this property to `train`. The statistics of this split will be used for transformation functions."
     ]
    }
   ],
   "source": [
    "_, td_df = feature_view.get_training_dataset_splits({'train': 80, 'validation': 20}, start_time=None, end_time=None, version = 1)"
   ]
  },
  {
   "cell_type": "code",
   "execution_count": 5,
   "id": "c79bda15",
   "metadata": {},
   "outputs": [
    {
     "name": "stdout",
     "output_type": "stream",
     "text": [
      "+-----------+--------+--------------------+--------------------+-----------------------+--------------------+--------------------+--------------------+--------------------+--------------------+\n",
      "|fraud_label|category|              amount|  age_at_transaction|days_until_card_expires|           loc_delta|   trans_volume_mstd|   trans_volume_mavg|          trans_freq|      loc_delta_mavg|\n",
      "+-----------+--------+--------------------+--------------------+-----------------------+--------------------+--------------------+--------------------+--------------------+--------------------+\n",
      "|          0|       5|                 0.0|0.010857729704653134|      0.850452102272883| 0.02495461846742725|0.003957852755597837|0.003957852755597837|0.003957852755597837|3.537142033300619E-5|\n",
      "|          0|       5|                 0.0| 0.04737893138702051|     0.9437215841540204|0.035718227936116044|5.155452750525806E-4|5.155452750525806E-4|5.155452750525806E-4| 0.09750806388585448|\n",
      "|          0|       5|                 0.0| 0.06376019722706852|    0.13202567526070316|4.386304300642104...|0.002620771903082...|0.002620771903082...|0.002620771903082...| 0.07444650122044412|\n",
      "|          0|       5|                 0.0|  0.3406090682811658|    0.20846589038714164| 0.21190213302017483| 0.15899950180641056| 0.15899950180641056| 0.15899950180641056|1.283038258642346...|\n",
      "|          0|       5|                 0.0|  0.9546793448528085|     0.8748343106555162| 0.18391138698262133| 0.07430292105617041| 0.07430292105617041| 0.07430292105617041|8.590388853669053E-5|\n",
      "|          0|       5|3.336858167844633E-7| 0.36408231018235393|     0.6643821816071711| 0.09309499878177417|2.265729720133995E-4|2.265729720133995E-4|2.265729720133995E-4| 0.03450473906834248|\n",
      "|          0|       5|3.336858167844633E-7|  0.3745768209850255|    0.45887861923036527|  0.2462215185832252|0.002364167167474132|0.002364167167474132|0.002364167167474132|9.238720957603193E-5|\n",
      "|          0|       5|3.336858167844633E-7|  0.5739483090181825|    0.20507640937834415|0.023091671964264107|  0.2963117323756093|  0.2963117323756093|  0.2963117323756093|9.624746243548574E-5|\n",
      "|          0|       5|3.336858167844633E-7|  0.6124590573532849|     0.2787811679106728|  0.1666811160749806| 0.03171354235663253| 0.03171354235663253| 0.03171354235663253|6.122645373067235E-5|\n",
      "|          0|       5|3.336858167844633E-7|  0.8352965251795964|     0.7356705390528864|  0.0435149639761897|0.001820592246399...|0.001820592246399...|0.001820592246399...|9.949453894369476E-5|\n",
      "|          0|       5|3.336858167844633E-7|   0.850190736154847|      0.948012453222466| 0.13463766018054532|0.003018192241327244|0.003018192241327244|0.003018192241327244|1.182774502538534E-4|\n",
      "|          0|       5|3.336858167844633E-7|  0.9618553856518702|     0.7667774047657139| 0.18550042859155325|0.011723399448817031|0.011723399448817031|0.011723399448817031| 0.18011314049449462|\n",
      "|          0|       5|6.673716335689265E-7| 0.03182540790455048|     0.6915114849098136| 0.23910482366459831|0.027832103755071617|0.027832103755071617|0.027832103755071617| 8.04264883672363E-5|\n",
      "|          0|       5|6.673716335689265E-7| 0.07112039664786457|     0.7629068710780452|  0.1150871930526537| 0.03032040221207297| 0.03032040221207297| 0.03032040221207297|0.037578976804940725|\n",
      "|          0|       5|6.673716335689265E-7| 0.34080541232503153|     0.1632930981200481| 0.20587654159722768|0.002317451090770338|0.002317451090770338|0.002317451090770338| 0.08829092792845063|\n",
      "|          0|       5|6.673716335689265E-7|  0.4661718337409892|     0.9244402250716102| 0.08977620626541756|0.003129643452892009|0.003129643452892009|0.003129643452892009|1.081109192401406...|\n",
      "|          0|       5|6.673716335689265E-7|  0.5015220960742377|     0.7705566431274541| 0.06086035995555162|0.013835633488352848|0.013835633488352848|0.013835633488352848|1.535295915353932...|\n",
      "|          0|       5|6.673716335689265E-7|  0.5288977455907047|     0.8487523891826481|2.414443175166731...| 0.27883558176698225| 0.27883558176698225| 0.27883558176698225|6.093144857910131E-5|\n",
      "|          0|       5|6.673716335689265E-7|  0.5827643897028375|    0.26388043194603117| 0.07051440618765918|0.002663150058378...|0.002663150058378...|0.002663150058378...|1.683665117254737E-4|\n",
      "|          0|       5|6.673716335689265E-7|  0.6065228108375619|      0.574170620636482| 0.04125556758772163|0.024249981730677148|0.024249981730677148|0.024249981730677148|3.029566347729296E-5|\n",
      "+-----------+--------+--------------------+--------------------+-----------------------+--------------------+--------------------+--------------------+--------------------+--------------------+\n",
      "only showing top 20 rows"
     ]
    }
   ],
   "source": [
    "td_df[\"train\"].show()"
   ]
  },
  {
   "cell_type": "code",
   "execution_count": 6,
   "id": "c878fa4b",
   "metadata": {},
   "outputs": [
    {
     "name": "stdout",
     "output_type": "stream",
     "text": [
      "root\n",
      " |-- fraud_label: integer (nullable = true)\n",
      " |-- category: integer (nullable = true)\n",
      " |-- amount: double (nullable = true)\n",
      " |-- age_at_transaction: double (nullable = true)\n",
      " |-- days_until_card_expires: double (nullable = true)\n",
      " |-- loc_delta: double (nullable = true)\n",
      " |-- trans_volume_mstd: double (nullable = true)\n",
      " |-- trans_volume_mavg: double (nullable = true)\n",
      " |-- trans_freq: double (nullable = true)\n",
      " |-- loc_delta_mavg: double (nullable = true)"
     ]
    }
   ],
   "source": [
    "td_df[\"train\"].printSchema()"
   ]
  },
  {
   "cell_type": "code",
   "execution_count": 7,
   "id": "59fdbcef",
   "metadata": {},
   "outputs": [
    {
     "name": "stdout",
     "output_type": "stream",
     "text": [
      "   fraud_label  category  amount  ...  trans_volume_mavg  trans_freq  loc_delta_mavg\n",
      "0            0         5     0.0  ...           0.003958    0.003958        0.000035\n",
      "1            0         5     0.0  ...           0.000516    0.000516        0.097508\n",
      "2            0         5     0.0  ...           0.002621    0.002621        0.074447\n",
      "3            0         5     0.0  ...           0.159000    0.159000        0.000128\n",
      "4            0         5     0.0  ...           0.074303    0.074303        0.000086\n",
      "\n",
      "[5 rows x 10 columns]"
     ]
    }
   ],
   "source": [
    "X_train = td_df[\"train\"].toPandas()\n",
    "X_val = td_df['validation'].toPandas()\n",
    "\n",
    "X_train.head()"
   ]
  },
  {
   "cell_type": "markdown",
   "id": "e16c7607",
   "metadata": {},
   "source": [
    "We will train a model to predict `fraud_label` given the rest of the features."
   ]
  },
  {
   "cell_type": "code",
   "execution_count": 8,
   "id": "e0df1f3e",
   "metadata": {},
   "outputs": [],
   "source": [
    "target = feature_view.label[0]\n",
    "\n",
    "y_train = X_train.pop(target)\n",
    "y_val = X_val.pop(target)"
   ]
  },
  {
   "cell_type": "markdown",
   "id": "90917116",
   "metadata": {},
   "source": [
    "Let's check the distribution of our target label."
   ]
  },
  {
   "cell_type": "code",
   "execution_count": 9,
   "id": "0e5aa38d",
   "metadata": {},
   "outputs": [
    {
     "name": "stdout",
     "output_type": "stream",
     "text": [
      "0    0.998444\n",
      "1    0.001556\n",
      "Name: fraud_label, dtype: float64"
     ]
    }
   ],
   "source": [
    "y_train.value_counts(normalize=True)"
   ]
  },
  {
   "cell_type": "markdown",
   "id": "3e695b4e",
   "metadata": {},
   "source": [
    "Notice that the distribution is extremely skewed, which is natural considering that fraudulent transactions make up a tiny part of all transactions. Thus we should somehow address the class imbalance. There are many approaches for this, such as weighting the loss function, over- or undersampling, creating synthetic data, or modifying the decision threshold. In this example, we'll use the simplest method which is to just supply a class weight parameter to our learning algorithm. The class weight will affect how much importance is attached to each class, which in our case means that higher importance will be placed on positive (fraudulent) samples."
   ]
  },
  {
   "cell_type": "markdown",
   "id": "c53f0859",
   "metadata": {},
   "source": [
    "### Hyperparameter Optimization\n",
    "\n",
    "In the following example, we'll use a simple logistic regression model and do a hyperparameter search over class weights. Since our dataset is unbalanced we will evaluate each hyperparameter configuration using the *F1-score* rather than *accuracy*.\n",
    "\n",
    "First, we define a training function that will return an evaluation score given a hyperparameter configuration."
   ]
  },
  {
   "cell_type": "code",
   "execution_count": 10,
   "id": "211ca48d",
   "metadata": {},
   "outputs": [],
   "source": [
    "from sklearn.linear_model import LogisticRegression\n",
    "from sklearn.metrics import f1_score\n",
    "\n",
    "def training_function(pos_class_weight):\n",
    "    clf = LogisticRegression(class_weight={0: 1.0 - pos_class_weight, 1: pos_class_weight}, solver='liblinear')\n",
    "    clf.fit(X_train, y_train)\n",
    "    preds = clf.predict(X_val)\n",
    "    score = f1_score(y_val, preds)\n",
    "    return {'metric': score} "
   ]
  },
  {
   "cell_type": "markdown",
   "id": "f4b7f0c2",
   "metadata": {},
   "source": [
    "Note that this code assumes that the `X_train`, `y_train` etc variables already exist in the namespace.\n",
    "\n",
    "Let's test the code to see that it works."
   ]
  },
  {
   "cell_type": "code",
   "execution_count": 11,
   "id": "dac40604",
   "metadata": {},
   "outputs": [],
   "source": [
    "score = training_function(0.5)"
   ]
  },
  {
   "cell_type": "markdown",
   "id": "9b95eb23",
   "metadata": {},
   "source": [
    "Now let's see if we can find a value for `class_weight` that gives us a better score.\n",
    "\n",
    "To do this we'll define a search space, which represents the set of possible values we want to consider for our hyperparameters. We'll also need to define datatypes for the hyperparameters."
   ]
  },
  {
   "cell_type": "code",
   "execution_count": 12,
   "id": "c2cbaf34",
   "metadata": {},
   "outputs": [
    {
     "name": "stdout",
     "output_type": "stream",
     "text": [
      "Hyperparameter added: pos_class_weight"
     ]
    }
   ],
   "source": [
    "from maggy import Searchspace\n",
    "\n",
    "sp = Searchspace(pos_class_weight=('DOUBLE', [0.1, 0.9]))"
   ]
  },
  {
   "cell_type": "markdown",
   "id": "f55358e1",
   "metadata": {},
   "source": [
    "Next we'll define a configuration for our hyperparameter search. Some important parameters are:\n",
    "- `num_trials`: Number of models to train. You should set this based on how much time you are willing to spend. We'll just do five trials here to showcase the functionality.\n",
    "- `optimizer`: Strategy used to determine the next parameter value to try. We will just use grid search, but you can read about alternatives [here](https://maggy.ai/master/hpo/strategies/).\n",
    "- `direction`: Should be set to `max` if the output of `train_fn` should be maximized, otherwise `min`."
   ]
  },
  {
   "cell_type": "markdown",
   "id": "126b5b72",
   "metadata": {},
   "source": [
    "Now we can run the `lagom` method, which tries to find the best value. Lagom is a Swedish word that means \"just right\". The function is \"lagom\" in the way it uses your resources."
   ]
  },
  {
   "cell_type": "code",
   "execution_count": 13,
   "id": "49a9284b",
   "metadata": {},
   "outputs": [
    {
     "data": {
      "application/vnd.jupyter.widget-view+json": {
       "model_id": "65537418264d482cac66d50f5832ea3a",
       "version_major": 2,
       "version_minor": 0
      },
      "text/plain": [
       "HBox(children=(FloatProgress(value=0.0, description='Maggy experiment', max=2.0, style=ProgressStyle(descripti…"
      ]
     },
     "metadata": {},
     "output_type": "display_data"
    },
    {
     "name": "stdout",
     "output_type": "stream",
     "text": [
      "Started Maggy Experiment: fraud_lr, application_1653266850468_0007, run 1\n",
      "\n",
      "------ RandomSearch Results ------ direction(max) \n",
      "BEST combination {\"pos_class_weight\": 0.772225376982996} -- metric 0.0\n",
      "WORST combination {\"pos_class_weight\": 0.772225376982996} -- metric 0.0\n",
      "AVERAGE metric -- 0.0\n",
      "EARLY STOPPED Trials -- 0\n",
      "Total job time 0 hours, 0 minutes, 40 seconds\n",
      "\n",
      "Finished Experiment\n"
     ]
    }
   ],
   "source": [
    "from maggy import experiment\n",
    "result = experiment.lagom(train_fn=training_function, \n",
    "                          searchspace=sp,\n",
    "                          optimizer='randomsearch', \n",
    "                          direction='max',\n",
    "                          num_trials=2,\n",
    "                          name='fraud_lr')"
   ]
  },
  {
   "cell_type": "markdown",
   "id": "582ab179",
   "metadata": {},
   "source": [
    "The function returns a dict with results from our experiment. Of special interest is of course the `best_config` dict, which contains the best hyperparameters found. Let's save this dict."
   ]
  },
  {
   "cell_type": "code",
   "execution_count": 14,
   "id": "97e5509d",
   "metadata": {},
   "outputs": [
    {
     "name": "stdout",
     "output_type": "stream",
     "text": [
      "{'best_id': 'f6959958e73eeda3', 'best_val': 0.0, 'best_hp': {'pos_class_weight': 0.772225376982996}, 'worst_id': 'f6959958e73eeda3', 'worst_val': 0.0, 'worst_hp': {'pos_class_weight': 0.772225376982996}, 'avg': 0.0, 'metric_list': [0.0, 0.0], 'num_trials': 2, 'early_stopped': 0}"
     ]
    }
   ],
   "source": [
    "result"
   ]
  },
  {
   "cell_type": "code",
   "execution_count": 15,
   "id": "3ead6854",
   "metadata": {},
   "outputs": [],
   "source": [
    "import pickle\n",
    "\n",
    "with open(\"best_params.pickle\", \"wb\") as f:\n",
    "    pickle.dump(result[\"best_hp\"], f)"
   ]
  },
  {
   "cell_type": "markdown",
   "id": "12da007c",
   "metadata": {},
   "source": [
    "You can also upload this file to your cluster using the *hopsworks* library. To do this you would run the following code:"
   ]
  },
  {
   "cell_type": "code",
   "execution_count": 16,
   "id": "1a2ecb2e",
   "metadata": {},
   "outputs": [
    {
     "name": "stdout",
     "output_type": "stream",
     "text": [
      "Connected. Call `.close()` to terminate connection gracefully.\n",
      "Resources/best_params.pickle\n",
      "Uploading: 100.000%|##########| 43/43 elapsed<00:00 remaining<00:00"
     ]
    }
   ],
   "source": [
    "import hopsworks\n",
    "\n",
    "hopsworks_conn = hopsworks.connection()\n",
    "project = hopsworks_conn.get_project()\n",
    "dataset_api = project.get_dataset_api()\n",
    "\n",
    "uploaded_file_path = dataset_api.upload(\"best_params.pickle\", \"Resources\")\n",
    "print(uploaded_file_path)"
   ]
  },
  {
   "cell_type": "markdown",
   "id": "9d75af23",
   "metadata": {},
   "source": [
    "### Next Steps\n",
    "\n",
    "In the next notebook, we'll look at how to register a model to the [Hopsworks Model Registry](https://docs.hopsworks.ai/machine-learning-api/latest), which enables us to version control our models and easily create APIs for them."
   ]
  }
 ],
 "metadata": {
  "kernelspec": {
   "display_name": "PySpark",
   "language": "python",
   "name": "pysparkkernel"
  },
  "language_info": {
   "codemirror_mode": {
    "name": "python",
    "version": 3
   },
   "mimetype": "text/x-python",
   "name": "pyspark",
   "pygments_lexer": "python3"
  }
 },
 "nbformat": 4,
 "nbformat_minor": 5
}