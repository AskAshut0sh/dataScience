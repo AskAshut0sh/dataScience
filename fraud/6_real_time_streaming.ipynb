{
 "cells": [
  {
   "cell_type": "markdown",
   "metadata": {},
   "source": [
    "---\n",
    "title: \"2. Generate credit card transactions data and send to kafka topic\"\n",
    "date: 2021-04-25\n",
    "type: technical_note\n",
    "draft: false\n",
    "---"
   ]
  },
  {
   "cell_type": "markdown",
   "metadata": {
    "button": false,
    "new_sheet": false,
    "run_control": {
     "read_only": false
    }
   },
   "source": [
    "# Generate credit card transactions data and send to kafka topic."
   ]
  },
  {
   "cell_type": "markdown",
   "metadata": {
    "button": false,
    "new_sheet": false,
    "run_control": {
     "read_only": false
    }
   },
   "source": [
    "### Inspiration of this example was taken from [here](https://github.com/aws-samples/amazon-sagemaker-feature-store-streaming-aggregation)."
   ]
  },
  {
   "cell_type": "markdown",
   "metadata": {
    "button": false,
    "new_sheet": false,
    "run_control": {
     "read_only": false
    }
   },
   "source": [
    "#### Prerequisites "
   ]
  },
  {
   "cell_type": "code",
   "execution_count": 1,
   "metadata": {
    "button": false,
    "new_sheet": false,
    "run_control": {
     "read_only": false
    }
   },
   "outputs": [],
   "source": [
    "#!pip install Faker"
   ]
  },
  {
   "cell_type": "markdown",
   "metadata": {
    "button": false,
    "new_sheet": false,
    "run_control": {
     "read_only": false
    }
   },
   "source": [
    "#### Imports "
   ]
  },
  {
   "cell_type": "code",
   "execution_count": 1,
   "metadata": {
    "button": false,
    "new_sheet": false,
    "run_control": {
     "read_only": false
    }
   },
   "outputs": [],
   "source": [
    "import os\n",
    "import bisect\n",
    "import datetime\n",
    "import hashlib\n",
    "import math\n",
    "import random\n",
    "\n",
    "from collections import defaultdict\n",
    "from typing import Optional, Union, Any, Dict, List, TypeVar, Tuple\n",
    "\n",
    "import pandas as pd\n",
    "import numpy as np\n",
    "\n",
    "from faker import Faker"
   ]
  },
  {
   "cell_type": "code",
   "execution_count": 2,
   "metadata": {
    "button": false,
    "new_sheet": false,
    "run_control": {
     "read_only": false
    }
   },
   "outputs": [],
   "source": [
    "# Seed for Reproducibility\n",
    "faker = Faker()\n",
    "faker.seed_locale('en_US', 0)"
   ]
  },
  {
   "cell_type": "code",
   "execution_count": 3,
   "metadata": {
    "button": false,
    "new_sheet": false,
    "run_control": {
     "read_only": false
    }
   },
   "outputs": [],
   "source": [
    "SEED = 12345\n",
    "random.seed(SEED)\n",
    "np.random.seed(SEED)\n",
    "faker.seed_instance(SEED)"
   ]
  },
  {
   "cell_type": "markdown",
   "metadata": {},
   "source": [
    "#### Constants "
   ]
  },
  {
   "cell_type": "code",
   "execution_count": 4,
   "metadata": {},
   "outputs": [],
   "source": [
    "TOTAL_UNIQUE_USERS = 2000\n",
    "TOTAL_UNIQUE_TRANSACTIONS = 54000\n",
    "CASH_WITHRAWAL_CARDS_TOTAL = 1000 \n",
    "TOTAL_UNIQUE_CASH_WITHDRAWALS = 12000 \n",
    "ATM_WITHRAWAL_SEQ_LENGTH = [3, 4, 5, 6, 7, 8, 9, 10]\n",
    "NORMAL_ATM_RADIUS = 0.01\n",
    "START_DATE = '2022-01-01 00:00:00'\n",
    "END_DATE = '2022-03-01 00:00:00'\n",
    "DATE_FORMAT = '%Y-%m-%d %H:%M:%S'\n",
    "\n",
    "AMOUNT_DISTRIBUTION_PERCENTAGES = {\n",
    "                                   0.05: (0.01, 1.01), \n",
    "                                   0.075: (1, 11.01),\n",
    "                                   0.525: (10, 100.01),\n",
    "                                   0.25: (100, 1000.01),\n",
    "                                   0.099: (1000, 10000.01),\n",
    "                                   0.001: (10000, 30000.01)\n",
    "                                  }\n",
    "\n",
    "CATEGORY_PERC_PRICE = {\n",
    "                       \"Grocery\":              (0.5, 0.01, 100), \n",
    "                       \"Restaurant/Cafeteria\": (0.2, 1, 100),\n",
    "                       \"Health/Beauty\":        (0.1, 10, 500.01),\n",
    "                       \"Domestic Transport\":   (0.1, 10, 100.01),\n",
    "                       \"Clothing\":             (0.05, 10, 2000.01),\n",
    "                       \"Electronics\":          (0.02, 100, 10000.01),\n",
    "                       \"Sports/Outdoors\":      (0.015, 10, 100.01),\n",
    "                       \"Holliday/Travel\":      (0.014, 10, 100.01),              \n",
    "                       \"Jewelery\":             (0.001, 10, 100.01)\n",
    "                       }\n",
    "\n",
    "FRAUD_RATIO = 0.0025 # percentage of transactions that are fraudulent\n",
    "NUMBER_OF_FRAUDULENT_TRANSACTIONS = int(FRAUD_RATIO * TOTAL_UNIQUE_TRANSACTIONS)\n",
    "ATTACK_CHAIN_LENGTHS = [3, 4, 5, 6, 7, 8, 9, 10]"
   ]
  },
  {
   "cell_type": "markdown",
   "metadata": {
    "button": false,
    "new_sheet": false,
    "run_control": {
     "read_only": false
    }
   },
   "source": [
    "### Generate Transactions"
   ]
  },
  {
   "cell_type": "markdown",
   "metadata": {
    "button": false,
    "new_sheet": false,
    "run_control": {
     "read_only": false
    }
   },
   "source": [
    "#### Generate Unique Credit Card Numbers \n",
    "<p> Credit card numbers are uniquely assigned to users. Since, there are 10K users, we would want to generate 10K unique card numbers.</p>"
   ]
  },
  {
   "cell_type": "code",
   "execution_count": 5,
   "metadata": {
    "button": false,
    "new_sheet": false,
    "run_control": {
     "read_only": false
    }
   },
   "outputs": [],
   "source": [
    "def generate_unique_credit_card_numbers(n: int) -> list:\n",
    "    cc_ids = set()\n",
    "    for _ in range(n):\n",
    "        cc_id = faker.credit_card_number(card_type='visa')\n",
    "        cc_ids.add(cc_id)\n",
    "    return list(cc_ids) "
   ]
  },
  {
   "cell_type": "code",
   "execution_count": 6,
   "metadata": {
    "button": false,
    "new_sheet": false,
    "run_control": {
     "read_only": false
    }
   },
   "outputs": [],
   "source": [
    "credit_card_numbers = generate_unique_credit_card_numbers(TOTAL_UNIQUE_USERS)"
   ]
  },
  {
   "cell_type": "code",
   "execution_count": 7,
   "metadata": {
    "button": false,
    "new_sheet": false,
    "run_control": {
     "read_only": false
    }
   },
   "outputs": [],
   "source": [
    "assert len(credit_card_numbers) == TOTAL_UNIQUE_USERS \n",
    "assert len(credit_card_numbers[0]) == 16 # validate if generated number is 16-digit"
   ]
  },
  {
   "cell_type": "code",
   "execution_count": 8,
   "metadata": {
    "button": false,
    "new_sheet": false,
    "run_control": {
     "read_only": false
    }
   },
   "outputs": [
    {
     "data": {
      "text/plain": [
       "['4913642076996526',\n",
       " '4148299918528368',\n",
       " '4002894877268355',\n",
       " '4351659675456339',\n",
       " '4208821021263067']"
      ]
     },
     "execution_count": 8,
     "metadata": {},
     "output_type": "execute_result"
    }
   ],
   "source": [
    "# inspect random sample of credit card numbers \n",
    "random.sample(credit_card_numbers, 5)"
   ]
  },
  {
   "cell_type": "markdown",
   "metadata": {},
   "source": [
    "# Generate credit card numbers"
   ]
  },
  {
   "cell_type": "code",
   "execution_count": 9,
   "metadata": {},
   "outputs": [],
   "source": [
    "delta_time_object = datetime.datetime.strptime(START_DATE, DATE_FORMAT)\n",
    "delta_time_object + datetime.timedelta(days=-728)\n",
    "\n",
    "credit_cards = []\n",
    "for cc_num in credit_card_numbers:\n",
    "    credit_cards.append({'cc_num': cc_num, 'provider': 'visa', 'expires': faker.credit_card_expire(start=delta_time_object, end=\"+5y\", date_format=\"%m/%y\")})"
   ]
  },
  {
   "cell_type": "code",
   "execution_count": 10,
   "metadata": {},
   "outputs": [
    {
     "data": {
      "text/html": [
       "<div>\n",
       "<style scoped>\n",
       "    .dataframe tbody tr th:only-of-type {\n",
       "        vertical-align: middle;\n",
       "    }\n",
       "\n",
       "    .dataframe tbody tr th {\n",
       "        vertical-align: top;\n",
       "    }\n",
       "\n",
       "    .dataframe thead th {\n",
       "        text-align: right;\n",
       "    }\n",
       "</style>\n",
       "<table border=\"1\" class=\"dataframe\">\n",
       "  <thead>\n",
       "    <tr style=\"text-align: right;\">\n",
       "      <th></th>\n",
       "      <th>cc_num</th>\n",
       "      <th>provider</th>\n",
       "      <th>expires</th>\n",
       "    </tr>\n",
       "  </thead>\n",
       "  <tbody>\n",
       "    <tr>\n",
       "      <th>0</th>\n",
       "      <td>4796807885357879</td>\n",
       "      <td>visa</td>\n",
       "      <td>05/23</td>\n",
       "    </tr>\n",
       "    <tr>\n",
       "      <th>1</th>\n",
       "      <td>4529266636192966</td>\n",
       "      <td>visa</td>\n",
       "      <td>03/22</td>\n",
       "    </tr>\n",
       "    <tr>\n",
       "      <th>2</th>\n",
       "      <td>4922690008243953</td>\n",
       "      <td>visa</td>\n",
       "      <td>02/27</td>\n",
       "    </tr>\n",
       "    <tr>\n",
       "      <th>3</th>\n",
       "      <td>4897369589533543</td>\n",
       "      <td>visa</td>\n",
       "      <td>04/22</td>\n",
       "    </tr>\n",
       "    <tr>\n",
       "      <th>4</th>\n",
       "      <td>4848518335893425</td>\n",
       "      <td>visa</td>\n",
       "      <td>10/26</td>\n",
       "    </tr>\n",
       "  </tbody>\n",
       "</table>\n",
       "</div>"
      ],
      "text/plain": [
       "             cc_num provider expires\n",
       "0  4796807885357879     visa   05/23\n",
       "1  4529266636192966     visa   03/22\n",
       "2  4922690008243953     visa   02/27\n",
       "3  4897369589533543     visa   04/22\n",
       "4  4848518335893425     visa   10/26"
      ]
     },
     "execution_count": 10,
     "metadata": {},
     "output_type": "execute_result"
    }
   ],
   "source": [
    "credit_cards_pdf = pd.DataFrame.from_records(credit_cards)\n",
    "credit_cards_pdf.head()"
   ]
  },
  {
   "cell_type": "markdown",
   "metadata": {},
   "source": [
    "# Generate user identity "
   ]
  },
  {
   "cell_type": "code",
   "execution_count": 11,
   "metadata": {},
   "outputs": [],
   "source": [
    "profiles = []\n",
    "for credit_card in credit_cards:\n",
    "    address = faker.local_latlng(country_code = 'US')\n",
    "    age = 0 \n",
    "    profile = None\n",
    "    while age < 18 or age > 100:\n",
    "        profile = faker.profile(fields=['name', 'sex', 'mail', 'birthdate'])\n",
    "        dday = profile['birthdate']\n",
    "        delta = datetime.datetime.now() - datetime.datetime(dday.year, dday.month, dday.day)\n",
    "        age = int(delta.days / 365)\n",
    "    if age >= 18 or age <= 100:\n",
    "        profile['City'] = address[2]\n",
    "        profile['Country'] = address[3]\n",
    "        profile['cc_num'] = credit_card['cc_num']\n",
    "        profile['age'] = age\n",
    "        credit_card['age'] = age\n",
    "        profiles.append(profile)"
   ]
  },
  {
   "cell_type": "code",
   "execution_count": 12,
   "metadata": {},
   "outputs": [
    {
     "data": {
      "text/html": [
       "<div>\n",
       "<style scoped>\n",
       "    .dataframe tbody tr th:only-of-type {\n",
       "        vertical-align: middle;\n",
       "    }\n",
       "\n",
       "    .dataframe tbody tr th {\n",
       "        vertical-align: top;\n",
       "    }\n",
       "\n",
       "    .dataframe thead th {\n",
       "        text-align: right;\n",
       "    }\n",
       "</style>\n",
       "<table border=\"1\" class=\"dataframe\">\n",
       "  <thead>\n",
       "    <tr style=\"text-align: right;\">\n",
       "      <th></th>\n",
       "      <th>name</th>\n",
       "      <th>sex</th>\n",
       "      <th>mail</th>\n",
       "      <th>birthdate</th>\n",
       "      <th>City</th>\n",
       "      <th>Country</th>\n",
       "      <th>cc_num</th>\n",
       "    </tr>\n",
       "  </thead>\n",
       "  <tbody>\n",
       "    <tr>\n",
       "      <th>0</th>\n",
       "      <td>Catherine Zimmerman</td>\n",
       "      <td>F</td>\n",
       "      <td>valenciajason@hotmail.com</td>\n",
       "      <td>1988-09-20</td>\n",
       "      <td>Bryn Mawr-Skyway</td>\n",
       "      <td>US</td>\n",
       "      <td>4796807885357879</td>\n",
       "    </tr>\n",
       "    <tr>\n",
       "      <th>1</th>\n",
       "      <td>Michael Williams</td>\n",
       "      <td>M</td>\n",
       "      <td>brettkennedy@yahoo.com</td>\n",
       "      <td>1977-03-01</td>\n",
       "      <td>Gates-North Gates</td>\n",
       "      <td>US</td>\n",
       "      <td>4529266636192966</td>\n",
       "    </tr>\n",
       "    <tr>\n",
       "      <th>2</th>\n",
       "      <td>Jessica Krueger</td>\n",
       "      <td>F</td>\n",
       "      <td>marthacruz@hotmail.com</td>\n",
       "      <td>1947-09-10</td>\n",
       "      <td>Greenfield</td>\n",
       "      <td>US</td>\n",
       "      <td>4922690008243953</td>\n",
       "    </tr>\n",
       "    <tr>\n",
       "      <th>3</th>\n",
       "      <td>Ruth Harris</td>\n",
       "      <td>F</td>\n",
       "      <td>james11@yahoo.com</td>\n",
       "      <td>1983-12-27</td>\n",
       "      <td>New City</td>\n",
       "      <td>US</td>\n",
       "      <td>4897369589533543</td>\n",
       "    </tr>\n",
       "    <tr>\n",
       "      <th>4</th>\n",
       "      <td>Paul Ashley</td>\n",
       "      <td>M</td>\n",
       "      <td>matthew97@hotmail.com</td>\n",
       "      <td>1974-11-10</td>\n",
       "      <td>Peabody</td>\n",
       "      <td>US</td>\n",
       "      <td>4848518335893425</td>\n",
       "    </tr>\n",
       "  </tbody>\n",
       "</table>\n",
       "</div>"
      ],
      "text/plain": [
       "                  name sex                       mail   birthdate  \\\n",
       "0  Catherine Zimmerman   F  valenciajason@hotmail.com  1988-09-20   \n",
       "1     Michael Williams   M     brettkennedy@yahoo.com  1977-03-01   \n",
       "2      Jessica Krueger   F     marthacruz@hotmail.com  1947-09-10   \n",
       "3          Ruth Harris   F          james11@yahoo.com  1983-12-27   \n",
       "4          Paul Ashley   M      matthew97@hotmail.com  1974-11-10   \n",
       "\n",
       "                City Country            cc_num  \n",
       "0   Bryn Mawr-Skyway      US  4796807885357879  \n",
       "1  Gates-North Gates      US  4529266636192966  \n",
       "2         Greenfield      US  4922690008243953  \n",
       "3           New City      US  4897369589533543  \n",
       "4            Peabody      US  4848518335893425  "
      ]
     },
     "execution_count": 12,
     "metadata": {},
     "output_type": "execute_result"
    }
   ],
   "source": [
    "profiles_pdf = pd.DataFrame.from_records(profiles)\n",
    "profiles_pdf.drop('age', axis=1, inplace=True)\n",
    "profiles_pdf.head()"
   ]
  },
  {
   "cell_type": "markdown",
   "metadata": {
    "button": false,
    "new_sheet": false,
    "run_control": {
     "read_only": false
    }
   },
   "source": [
    "#### Generate Time Series\n"
   ]
  },
  {
   "cell_type": "code",
   "execution_count": 13,
   "metadata": {
    "button": false,
    "new_sheet": false,
    "run_control": {
     "read_only": false
    }
   },
   "outputs": [],
   "source": [
    "def generate_timestamps(n: int) -> list:\n",
    "    start = datetime.datetime.strptime(START_DATE, DATE_FORMAT)\n",
    "    end = datetime.datetime.strptime(END_DATE, DATE_FORMAT)\n",
    "    timestamps = list()\n",
    "    for _ in range(n):\n",
    "        timestamp = faker.date_time_between(start_date=start, end_date=end, tzinfo=None).strftime(DATE_FORMAT)\n",
    "        timestamps.append(timestamp)\n",
    "    timestamps = sorted(timestamps)\n",
    "    return timestamps"
   ]
  },
  {
   "cell_type": "code",
   "execution_count": 14,
   "metadata": {
    "button": false,
    "new_sheet": false,
    "run_control": {
     "read_only": false
    }
   },
   "outputs": [],
   "source": [
    "timestamps = generate_timestamps(TOTAL_UNIQUE_TRANSACTIONS)"
   ]
  },
  {
   "cell_type": "code",
   "execution_count": 15,
   "metadata": {
    "button": false,
    "new_sheet": false,
    "run_control": {
     "read_only": false
    }
   },
   "outputs": [],
   "source": [
    "assert len(timestamps) == TOTAL_UNIQUE_TRANSACTIONS"
   ]
  },
  {
   "cell_type": "code",
   "execution_count": 16,
   "metadata": {
    "button": false,
    "new_sheet": false,
    "run_control": {
     "read_only": false
    }
   },
   "outputs": [
    {
     "data": {
      "text/plain": [
       "['2022-02-27 13:51:28',\n",
       " '2022-01-22 12:22:21',\n",
       " '2022-01-27 11:25:06',\n",
       " '2022-01-14 22:11:46',\n",
       " '2022-01-20 11:40:26']"
      ]
     },
     "execution_count": 16,
     "metadata": {},
     "output_type": "execute_result"
    }
   ],
   "source": [
    "# inspect random sample of timestamps\n",
    "random.sample(timestamps, 5)"
   ]
  },
  {
   "cell_type": "markdown",
   "metadata": {
    "button": false,
    "new_sheet": false,
    "run_control": {
     "read_only": false
    }
   },
   "source": [
    "#### Generate Random Transaction Amounts \n",
    "<p>The transaction amounts are presumed to follow Pareto distribution, as it is logical for consumers to make many more smaller purchases than large ones. The break down of the distribution is shown in the table below.</p>\n",
    "\n",
    "\n",
    "| Percentage        | Range (Amount in $)     |\n",
    "| :-------------: | :----------: |\n",
    "|  5\\% | 0.01 to 1    |\n",
    "| 7.5\\%   | 1 to 10 |\n",
    "| 52.5\\%   | 10 to 100 |\n",
    "| 25\\%   | 100 to 1000 |\n",
    "| 10\\%   | 1000 to 10000 |"
   ]
  },
  {
   "cell_type": "code",
   "execution_count": 17,
   "metadata": {
    "button": false,
    "new_sheet": false,
    "run_control": {
     "read_only": false
    }
   },
   "outputs": [],
   "source": [
    "def get_random_transaction_amount(start: float, end: float) -> float:\n",
    "    amt = round(np.random.uniform(start, end), 2)\n",
    "    return amt"
   ]
  },
  {
   "cell_type": "code",
   "execution_count": 18,
   "metadata": {
    "button": false,
    "new_sheet": false,
    "run_control": {
     "read_only": false
    }
   },
   "outputs": [],
   "source": [
    "amounts = []\n",
    "for percentage, span in AMOUNT_DISTRIBUTION_PERCENTAGES.items():\n",
    "    n = int(TOTAL_UNIQUE_TRANSACTIONS * percentage)\n",
    "    start, end = span\n",
    "    for _ in range(n):\n",
    "        amounts.append(get_random_transaction_amount(start, end+1))\n",
    "\n",
    "categories = []        \n",
    "for category, category_perc_price in CATEGORY_PERC_PRICE.items():\n",
    "    percentage, min_price, max_price = category_perc_price\n",
    "    n = int(TOTAL_UNIQUE_TRANSACTIONS * percentage)\n",
    "    for _ in range(n):\n",
    "        min_price_i = bisect.bisect_left(amounts, min_price)\n",
    "        max_price_i = bisect.bisect_right(amounts, max_price, lo=min_price_i)\n",
    "        categories.append({\"category\":category, \"amount\":random.choice(amounts[min_price_i:max_price_i])})\n",
    "        \n",
    "random.shuffle(categories)"
   ]
  },
  {
   "cell_type": "code",
   "execution_count": 19,
   "metadata": {},
   "outputs": [
    {
     "data": {
      "text/plain": [
       "54000"
      ]
     },
     "execution_count": 19,
     "metadata": {},
     "output_type": "execute_result"
    }
   ],
   "source": [
    "len(categories)"
   ]
  },
  {
   "cell_type": "code",
   "execution_count": 20,
   "metadata": {},
   "outputs": [
    {
     "data": {
      "text/plain": [
       "54000"
      ]
     },
     "execution_count": 20,
     "metadata": {},
     "output_type": "execute_result"
    }
   ],
   "source": [
    "len(amounts)"
   ]
  },
  {
   "cell_type": "code",
   "execution_count": 21,
   "metadata": {
    "button": false,
    "new_sheet": false,
    "run_control": {
     "read_only": false
    }
   },
   "outputs": [
    {
     "data": {
      "text/plain": [
       "[{'category': 'Grocery', 'amount': 16.4},\n",
       " {'category': 'Grocery', 'amount': 43.19},\n",
       " {'category': 'Grocery', 'amount': 37.13},\n",
       " {'category': 'Grocery', 'amount': 0.82},\n",
       " {'category': 'Grocery', 'amount': 80.37}]"
      ]
     },
     "execution_count": 21,
     "metadata": {},
     "output_type": "execute_result"
    }
   ],
   "source": [
    "# inspect random sample of transaction amounts\n",
    "random.sample(categories, 5)"
   ]
  },
  {
   "cell_type": "markdown",
   "metadata": {
    "button": false,
    "new_sheet": false,
    "run_control": {
     "read_only": false
    }
   },
   "source": [
    "#### Generate Credit Card Transactions\n",
    "<br>\n",
    "<div style=\"text-align: justify\">\n",
    "Using the random credit card numbers, timestamps and transaction amounts generated in the above steps, \n",
    "we can generate random credit card transactions by combining them. The transaction id for the transaction is the md5\n",
    "hash of the above mentioned entities.\n",
    "</div>"
   ]
  },
  {
   "cell_type": "code",
   "execution_count": 22,
   "metadata": {
    "button": false,
    "new_sheet": false,
    "run_control": {
     "read_only": false
    }
   },
   "outputs": [],
   "source": [
    "def generate_transaction_id(timestamp: str, credit_card_number: str, transaction_amount: float) -> str:\n",
    "    hashable = f'{timestamp}{credit_card_number}{transaction_amount}'\n",
    "    hexdigest = hashlib.md5(hashable.encode('utf-8')).hexdigest()\n",
    "    return hexdigest"
   ]
  },
  {
   "cell_type": "code",
   "execution_count": 23,
   "metadata": {
    "button": false,
    "new_sheet": false,
    "run_control": {
     "read_only": false
    }
   },
   "outputs": [],
   "source": [
    "transactions = []\n",
    "for timestamp, category in zip(timestamps, categories):\n",
    "    credit_card_number = random.choice(credit_card_numbers)\n",
    "    point_of_tr = faker.local_latlng(country_code = 'US')\n",
    "    transaction_id = generate_transaction_id(timestamp, credit_card_number, category['amount'])\n",
    "    transactions.append({\n",
    "                         'tid': transaction_id, \n",
    "                         'datetime': timestamp, \n",
    "                         'cc_num': credit_card_number, \n",
    "                         'category': category['category'], \n",
    "                         'amount': category['amount'],\n",
    "                         'latitude': point_of_tr[0], \n",
    "                         'longitude': point_of_tr[1],\n",
    "                         'city': point_of_tr[2],\n",
    "                         'country': point_of_tr[3],\n",
    "                         'fraud_label': 0\n",
    "                        }\n",
    "                       )"
   ]
  },
  {
   "cell_type": "code",
   "execution_count": 24,
   "metadata": {
    "button": false,
    "new_sheet": false,
    "run_control": {
     "read_only": false
    }
   },
   "outputs": [
    {
     "data": {
      "text/plain": [
       "[{'tid': '99883edc4d8aaa94b94b159865829379',\n",
       "  'datetime': '2022-01-29 02:38:15',\n",
       "  'cc_num': '4929411498746287',\n",
       "  'category': 'Restaurant/Cafeteria',\n",
       "  'amount': 53.95,\n",
       "  'latitude': '44.99012',\n",
       "  'longitude': '-123.02621',\n",
       "  'city': 'Keizer',\n",
       "  'country': 'US',\n",
       "  'fraud_label': 0}]"
      ]
     },
     "execution_count": 24,
     "metadata": {},
     "output_type": "execute_result"
    }
   ],
   "source": [
    "# inspect random sample of credit card transactions\n",
    "random.sample(transactions, 1)"
   ]
  },
  {
   "cell_type": "markdown",
   "metadata": {
    "button": false,
    "new_sheet": false,
    "run_control": {
     "read_only": false
    }
   },
   "source": [
    "#### Create Transaction Chains "
   ]
  },
  {
   "cell_type": "code",
   "execution_count": 25,
   "metadata": {
    "button": false,
    "new_sheet": false,
    "run_control": {
     "read_only": false
    }
   },
   "outputs": [],
   "source": [
    "visited = set()\n",
    "chains = defaultdict(list)"
   ]
  },
  {
   "cell_type": "code",
   "execution_count": 26,
   "metadata": {
    "button": false,
    "new_sheet": false,
    "run_control": {
     "read_only": false
    }
   },
   "outputs": [],
   "source": [
    "def size(chains: dict) -> int:\n",
    "    counts = {key: len(values)+1 for (key, values) in chains.items()}\n",
    "    return sum(counts.values())"
   ]
  },
  {
   "cell_type": "code",
   "execution_count": 27,
   "metadata": {
    "button": false,
    "new_sheet": false,
    "run_control": {
     "read_only": false
    }
   },
   "outputs": [],
   "source": [
    "def create_attack_chain(i: int):\n",
    "    chain_length = random.choice(ATTACK_CHAIN_LENGTHS)\n",
    "    for j in range(1, chain_length):\n",
    "        if i+j not in visited:\n",
    "            if size(chains) == NUMBER_OF_FRAUDULENT_TRANSACTIONS:\n",
    "                break\n",
    "            chains[i].append(i+j)\n",
    "            visited.add(i+j)"
   ]
  },
  {
   "cell_type": "code",
   "execution_count": 28,
   "metadata": {
    "button": false,
    "new_sheet": false,
    "run_control": {
     "read_only": false
    }
   },
   "outputs": [],
   "source": [
    "while size(chains) < NUMBER_OF_FRAUDULENT_TRANSACTIONS:\n",
    "    i = random.choice(range(TOTAL_UNIQUE_TRANSACTIONS))\n",
    "    if i not in visited:\n",
    "        create_attack_chain(i)\n",
    "        visited.add(i)"
   ]
  },
  {
   "cell_type": "markdown",
   "metadata": {},
   "source": [
    "## Create ATM cash withdrawal"
   ]
  },
  {
   "cell_type": "code",
   "execution_count": 29,
   "metadata": {},
   "outputs": [],
   "source": [
    "cash_amounts = []\n",
    "for percentage, span in AMOUNT_DISTRIBUTION_PERCENTAGES.items():\n",
    "    n = int(TOTAL_UNIQUE_CASH_WITHDRAWALS * percentage)\n",
    "    start, end = span\n",
    "    for _ in range(n):\n",
    "        cash_amounts.append(get_random_transaction_amount(start, end+1))"
   ]
  },
  {
   "cell_type": "code",
   "execution_count": 30,
   "metadata": {},
   "outputs": [
    {
     "data": {
      "text/plain": [
       "12000"
      ]
     },
     "execution_count": 30,
     "metadata": {},
     "output_type": "execute_result"
    }
   ],
   "source": [
    "len(cash_amounts)"
   ]
  },
  {
   "cell_type": "code",
   "execution_count": 31,
   "metadata": {},
   "outputs": [],
   "source": [
    "def generate_atm_withdrawal(credit_card_number: str, cash_amounts: list, length: int, delta: int, radius: float = None, country_code = 'US') -> List[Dict]:\n",
    "    atms = [] \n",
    "    start = datetime.datetime.strptime(START_DATE, DATE_FORMAT)\n",
    "    end = datetime.datetime.strptime(END_DATE, DATE_FORMAT)\n",
    "    timestamp = faker.date_time_between(start_date=start, end_date=end, tzinfo=None)\n",
    "    point_of_tr = faker.local_latlng(country_code = country_code)\n",
    "    latitude = point_of_tr[0] \n",
    "    longitude = point_of_tr[1]\n",
    "    city = point_of_tr[2]\n",
    "    for _ in range(length):\n",
    "        current = timestamp + datetime.timedelta(hours=delta)\n",
    "        if radius is not None:\n",
    "            latitude = faker.coordinate(latitude, radius) \n",
    "            longitude = faker.coordinate(longitude, radius)  \n",
    "        transaction_id = generate_transaction_id(timestamp, credit_card_number, category['amount'])\n",
    "        atms.append({'tid': transaction_id, \n",
    "                     'datetime': current.strftime(DATE_FORMAT), \n",
    "                     'cc_num': credit_card_number, \n",
    "                     'category': 'Cash Withdrawal', \n",
    "                     'amount': random.sample(cash_amounts, 1)[0],\n",
    "                     'latitude': latitude, \n",
    "                     'longitude': longitude,\n",
    "                     'city': city,\n",
    "                     'country': 'US',\n",
    "                     'fraud_label': 0\n",
    "                     })\n",
    "        timestamp = current\n",
    "    return atms"
   ]
  },
  {
   "cell_type": "code",
   "execution_count": 32,
   "metadata": {},
   "outputs": [],
   "source": [
    "SUSCEPTIBLE_CARDS_DISTRIBUTION_BY_AGE = {\n",
    "                                   0.055: (17, 24), \n",
    "                                   0.0015: (24, 34),\n",
    "                                   0.0015: (34, 44),\n",
    "                                   0.02: (44, 54),\n",
    "                                   0.022: (54, 64),\n",
    "                                   0.1: (64, 74),\n",
    "                                   0.40: (74, 84),\n",
    "                                   0.40: (84, 100),\n",
    "                                  }\n",
    "susseptible_cards = []\n",
    "visited = []\n",
    "for percentage, span in SUSCEPTIBLE_CARDS_DISTRIBUTION_BY_AGE.items():\n",
    "    n = int(TOTAL_UNIQUE_CASH_WITHDRAWALS * percentage) ## TODO: here total expected fraud \n",
    "    start, end = span\n",
    "    for _ in range(n):\n",
    "        for card in credit_cards:\n",
    "            if card['age'] > start and card['age'] < end:\n",
    "                if card['cc_num'] not in visited:\n",
    "                    current = card\n",
    "                    visited.append(card['cc_num'])\n",
    "                    break\n",
    "                else:\n",
    "                    current = None                    \n",
    "        if current is not None:\n",
    "            susseptible_cards.append(current)"
   ]
  },
  {
   "cell_type": "code",
   "execution_count": 33,
   "metadata": {},
   "outputs": [],
   "source": [
    "normal_atm_withdrawals = []\n",
    "atm_transactions = len(cash_amounts)\n",
    "cash_withdrawal_cards = random.sample(susseptible_cards, CASH_WITHRAWAL_CARDS_TOTAL//(CASH_WITHRAWAL_CARDS_TOTAL//len(susseptible_cards)+1))\n",
    "atm_count = 0\n",
    "while atm_count < atm_transactions:\n",
    "    for card in cash_withdrawal_cards:\n",
    "        for ATM_WITHRAWAL_SEQ in ATM_WITHRAWAL_SEQ_LENGTH: \n",
    "            # interval in hours between normal cash withdrawals\n",
    "            delta = random.randint(6, 168)\n",
    "            atm_tr = generate_atm_withdrawal(credit_card_number = card['cc_num'], cash_amounts = cash_amounts, length=ATM_WITHRAWAL_SEQ, delta=delta, radius = NORMAL_ATM_RADIUS)         \n",
    "            normal_atm_withdrawals.append(atm_tr)\n",
    "            atm_count += ATM_WITHRAWAL_SEQ"
   ]
  },
  {
   "cell_type": "code",
   "execution_count": 34,
   "metadata": {},
   "outputs": [
    {
     "data": {
      "text/plain": [
       "8000"
      ]
     },
     "execution_count": 34,
     "metadata": {},
     "output_type": "execute_result"
    }
   ],
   "source": [
    "len(normal_atm_withdrawals)"
   ]
  },
  {
   "cell_type": "markdown",
   "metadata": {
    "button": false,
    "new_sheet": false,
    "run_control": {
     "read_only": false
    }
   },
   "source": [
    "#### Modify Transactions with Fraud Chain Attacks "
   ]
  },
  {
   "cell_type": "code",
   "execution_count": 35,
   "metadata": {
    "button": false,
    "new_sheet": false,
    "run_control": {
     "read_only": false
    }
   },
   "outputs": [],
   "source": [
    "def generate_timestamps_for_fraud_attacks(timestamp: str, chain_length: int) -> list:\n",
    "    timestamps = []\n",
    "    timestamp = datetime.datetime.strptime(timestamp, DATE_FORMAT)\n",
    "    for _ in range(chain_length):\n",
    "        # interval in seconds between fraudulent attacks\n",
    "        delta = random.randint(30, 120)\n",
    "        current = timestamp + datetime.timedelta(seconds=delta)\n",
    "        timestamps.append(current.strftime(DATE_FORMAT))\n",
    "        timestamp = current\n",
    "    return timestamps "
   ]
  },
  {
   "cell_type": "code",
   "execution_count": 36,
   "metadata": {
    "button": false,
    "new_sheet": false,
    "run_control": {
     "read_only": false
    }
   },
   "outputs": [],
   "source": [
    "def generate_amounts_for_fraud_attacks(chain_length: int) -> list:\n",
    "    amounts = []\n",
    "    for percentage, span in AMOUNT_DISTRIBUTION_PERCENTAGES.items():\n",
    "        n = math.ceil(chain_length * percentage)\n",
    "        start, end = span\n",
    "        for _ in range(n):\n",
    "            amounts.append(get_random_transaction_amount(start, end+1))\n",
    "    return amounts[:chain_length]"
   ]
  },
  {
   "cell_type": "code",
   "execution_count": 37,
   "metadata": {
    "button": false,
    "new_sheet": false,
    "run_control": {
     "read_only": false
    }
   },
   "outputs": [],
   "source": [
    "for key, chain in chains.items():\n",
    "    transaction = transactions[key]\n",
    "    timestamp = transaction['datetime']\n",
    "    cc_num = transaction['cc_num']\n",
    "    amount = transaction['amount']\n",
    "    transaction['fraud_label'] = 1\n",
    "    inject_timestamps = generate_timestamps_for_fraud_attacks(timestamp, len(chain))\n",
    "    inject_amounts = generate_amounts_for_fraud_attacks(len(chain))\n",
    "    random.shuffle(inject_amounts)\n",
    "    for i, idx in enumerate(chain):\n",
    "        original_transaction = transactions[idx]\n",
    "        inject_timestamp = inject_timestamps[i]\n",
    "        original_transaction['datetime'] = inject_timestamp\n",
    "        original_transaction['fraud_label'] = 1\n",
    "        original_transaction['cc_num'] = cc_num\n",
    "        original_transaction['amount'] = inject_amounts[i]\n",
    "        original_transaction['category'] = [category for category, category_perc_price in CATEGORY_PERC_PRICE.items() if int(inject_amounts[i]) in range(int(category_perc_price[1]), int(category_perc_price[2]))][0]\n",
    "        original_transaction['tid'] = generate_transaction_id(inject_timestamp, cc_num, amount)\n",
    "        transactions[idx] = original_transaction"
   ]
  },
  {
   "cell_type": "markdown",
   "metadata": {},
   "source": [
    "#### Modify ATM normal cash withdrawals with fraudulent ones"
   ]
  },
  {
   "cell_type": "code",
   "execution_count": 38,
   "metadata": {},
   "outputs": [],
   "source": [
    "fraudulent_atm_tr_indxs = random.sample([i for i in range(0, len(normal_atm_withdrawals))], int(FRAUD_RATIO * len(normal_atm_withdrawals)))"
   ]
  },
  {
   "cell_type": "code",
   "execution_count": 39,
   "metadata": {},
   "outputs": [
    {
     "data": {
      "text/plain": [
       "[{'tid': 'ba3dc86c26230994301510dd4241e1bf',\n",
       "  'datetime': '2022-02-26 05:14:58',\n",
       "  'cc_num': '4978837587432787',\n",
       "  'category': 'Cash Withdrawal',\n",
       "  'amount': 66.79,\n",
       "  'latitude': Decimal('27.107439'),\n",
       "  'longitude': Decimal('-82.462260'),\n",
       "  'city': 'Venice',\n",
       "  'country': 'US',\n",
       "  'fraud_label': 0},\n",
       " {'tid': '453c7ea434a3cbfeef5891a0eea429b8',\n",
       "  'datetime': '2022-03-04 17:14:58',\n",
       "  'cc_num': '4978837587432787',\n",
       "  'category': 'Cash Withdrawal',\n",
       "  'amount': 895.29,\n",
       "  'latitude': Decimal('27.105581'),\n",
       "  'longitude': Decimal('-82.454755'),\n",
       "  'city': 'Venice',\n",
       "  'country': 'US',\n",
       "  'fraud_label': 0},\n",
       " {'tid': 'eaef30560442f424d97dee84a65f820a',\n",
       "  'datetime': '2022-03-11 05:14:58',\n",
       "  'cc_num': '4978837587432787',\n",
       "  'category': 'Cash Withdrawal',\n",
       "  'amount': 3779.88,\n",
       "  'latitude': Decimal('27.102719'),\n",
       "  'longitude': Decimal('-82.448723'),\n",
       "  'city': 'Venice',\n",
       "  'country': 'US',\n",
       "  'fraud_label': 0}]"
      ]
     },
     "execution_count": 39,
     "metadata": {},
     "output_type": "execute_result"
    }
   ],
   "source": [
    "normal_atm_withdrawals[0]"
   ]
  },
  {
   "cell_type": "code",
   "execution_count": 40,
   "metadata": {},
   "outputs": [],
   "source": [
    "for fraudulent_atm_tr_indx in fraudulent_atm_tr_indxs:\n",
    "    # interval in seconds between fraudulent attacks\n",
    "    delta = random.randint(1, 5)\n",
    "    atm_withdrawal = normal_atm_withdrawals[fraudulent_atm_tr_indx]\n",
    "    pre_fraudulent_atm_tr = atm_withdrawal[0]\n",
    "    fraudulent_atm_tr = generate_atm_withdrawal(credit_card_number = pre_fraudulent_atm_tr['cc_num'], cash_amounts = cash_amounts, length=1, delta=delta, radius = None)[0]\n",
    "    fraudulent_atm_location = faker.location_on_land()\n",
    "    while fraudulent_atm_location[3] == 'US':\n",
    "        fraudulent_atm_location = faker.location_on_land()\n",
    "    fraudulent_atm_tr['datetime'] = (datetime.datetime.strptime(pre_fraudulent_atm_tr['datetime'], DATE_FORMAT) + datetime.timedelta(hours=delta)).strftime(DATE_FORMAT)\n",
    "    fraudulent_atm_tr['latitude'] = fraudulent_atm_location[0]\n",
    "    fraudulent_atm_tr['longitude'] = fraudulent_atm_location[1]\n",
    "    fraudulent_atm_tr['city'] = fraudulent_atm_location[2]\n",
    "    fraudulent_atm_tr['country'] = fraudulent_atm_location[3]  \n",
    "    fraudulent_atm_tr['fraud_label'] = 1 \n",
    "    atm_withdrawal.append(fraudulent_atm_tr)\n",
    "    normal_atm_withdrawals[fraudulent_atm_tr_indx] = atm_withdrawal"
   ]
  },
  {
   "cell_type": "code",
   "execution_count": 41,
   "metadata": {},
   "outputs": [],
   "source": [
    "for atm_withdrawal in normal_atm_withdrawals:\n",
    "    for withdrawal in atm_withdrawal:\n",
    "        transactions.append(withdrawal)  "
   ]
  },
  {
   "cell_type": "raw",
   "metadata": {},
   "source": [
    "import pandas as pd\n",
    "from hops import hdfs\n",
    "from hops import pandas_helper as pandas\n",
    "                                            \n",
    "transactions_pdf = pd.DataFrame.from_records(transactions)\n",
    "transactions_pdf.head()\n",
    "\n",
    "pandas.write_csv(hdfs.project_path() + \"/Resources/transactions.csv\", transactions_pdf, index=False)\n",
    "pandas.write_csv(hdfs.project_path() + \"/Resources/profiles.csv\", profiles_pdf, index=False)\n",
    "pandas.write_csv(hdfs.project_path() + \"/Resources/credit_cards.csv\", credit_cards_pdf, index=False)"
   ]
  },
  {
   "cell_type": "markdown",
   "metadata": {},
   "source": [
    "### Produce transactions "
   ]
  },
  {
   "cell_type": "code",
   "execution_count": 42,
   "metadata": {},
   "outputs": [],
   "source": [
    "from hops import kafka\n",
    "from hops import tls\n",
    "from hops import hdfs\n",
    "import json\n",
    "from confluent_kafka import Producer"
   ]
  },
  {
   "cell_type": "markdown",
   "metadata": {},
   "source": [
    "## TODO (davit): gif how to create kafka topic from the UI"
   ]
  },
  {
   "cell_type": "code",
   "execution_count": 43,
   "metadata": {},
   "outputs": [],
   "source": [
    "# change this according to your settings\n",
    "KAFKA_BROKER_ADDRES = \"broker.kafka.service.consul:9091\"\n",
    "KAFKA_TOPIC_NAME = \"credit_card_transactions\""
   ]
  },
  {
   "cell_type": "code",
   "execution_count": 44,
   "metadata": {},
   "outputs": [],
   "source": [
    "config = {\n",
    "    \"bootstrap.servers\": KAFKA_BROKER_ADDRES,\n",
    "    \"security.protocol\": kafka.get_security_protocol(),\n",
    "    \"ssl.ca.location\": tls.get_ca_chain_location(),\n",
    "    \"ssl.certificate.location\": tls.get_client_certificate_location(),\n",
    "    \"ssl.key.location\": tls.get_client_key_location(),\n",
    "    \"group.id\": \"1\"\n",
    "}\n",
    "\n",
    "producer = Producer(config)"
   ]
  },
  {
   "cell_type": "code",
   "execution_count": null,
   "metadata": {},
   "outputs": [
    {
     "name": "stdout",
     "output_type": "stream",
     "text": [
      "{\"tid\": \"11df919988c134d97bbff2678eb68e22\", \"datetime\": \"2022-01-01 00:00:24\", \"cc_num\": \"4473593503484549\", \"category\": \"Health/Beauty\", \"amount\": 62.95, \"latitude\": \"42.30865\", \"longitude\": \"-83.48216\", \"city\": \"Canton\", \"country\": \"US\"}\n"
     ]
    },
    {
     "name": "stderr",
     "output_type": "stream",
     "text": [
      "<ipython-input-45-5dc0991d36c3>:7: DeprecationWarning: PY_SSIZE_T_CLEAN will be required for '#' formats\n",
      "  producer.produce(KAFKA_TOPIC_NAME, json.dumps(transaction))\n"
     ]
    },
    {
     "name": "stdout",
     "output_type": "stream",
     "text": [
      "{\"tid\": \"585d1cc7c8e35f8d9763be7df58f859f\", \"datetime\": \"2022-01-02 02:16:51\", \"cc_num\": \"4336399961348201\", \"category\": \"Health/Beauty\", \"amount\": 90.86, \"latitude\": \"30.5427\", \"longitude\": \"-97.54667\", \"city\": \"Hutto\", \"country\": \"US\"}\n",
      "{\"tid\": \"6893a79897ce7eccc7aa489f38d469b1\", \"datetime\": \"2022-01-03 04:46:13\", \"cc_num\": \"4219785543443381\", \"category\": \"Health/Beauty\", \"amount\": 17.25, \"latitude\": \"40.65538\", \"longitude\": \"-74.38987\", \"city\": \"Scotch Plains\", \"country\": \"US\"}\n",
      "{\"tid\": \"2418faeea20042faaf6126ed11a39cfe\", \"datetime\": \"2022-01-04 07:01:34\", \"cc_num\": \"4089569454422049\", \"category\": \"Electronics\", \"amount\": 620.79, \"latitude\": \"40.57788\", \"longitude\": \"-73.95958\", \"city\": \"Brighton Beach\", \"country\": \"US\"}\n",
      "{\"tid\": \"25885316b241205c901dae82d65f6576\", \"datetime\": \"2022-01-05 08:24:24\", \"cc_num\": \"4826919959712584\", \"category\": \"Grocery\", \"amount\": 13.94, \"latitude\": \"42.35843\", \"longitude\": \"-71.05977\", \"city\": \"Boston\", \"country\": \"US\"}\n",
      "{\"tid\": \"908be1d569154614656d18306f77c678\", \"datetime\": \"2022-01-06 10:07:52\", \"cc_num\": \"4056556887456123\", \"category\": \"Domestic Transport\", \"amount\": 54.25, \"latitude\": \"43.1009\", \"longitude\": \"-75.23266\", \"city\": \"Utica\", \"country\": \"US\"}\n",
      "{\"tid\": \"3940e4c696ff21c6e70aba143bf4389b\", \"datetime\": \"2022-01-07 13:17:08\", \"cc_num\": \"4149919657740556\", \"category\": \"Grocery\", \"amount\": 93.67, \"latitude\": \"34.21639\", \"longitude\": \"-119.0376\", \"city\": \"Camarillo\", \"country\": \"US\"}\n",
      "{\"tid\": \"2d8cc50177edada264be16a06f57a3a5\", \"datetime\": \"2022-01-08 15:14:12\", \"cc_num\": \"4928737432664066\", \"category\": \"Electronics\", \"amount\": 7719.49, \"latitude\": \"40.34912\", \"longitude\": \"-111.90466\", \"city\": \"Saratoga Springs\", \"country\": \"US\"}\n",
      "{\"tid\": \"201209bc29f918f28956da351d95ba37\", \"datetime\": \"2022-01-09 17:28:01\", \"cc_num\": \"4148299918528368\", \"category\": \"Health/Beauty\", \"amount\": 63.77, \"latitude\": \"41.14676\", \"longitude\": \"-73.49484\", \"city\": \"New Canaan\", \"country\": \"US\"}\n",
      "{\"tid\": \"5865f8019497ca4a6d4565fd217d6c34\", \"datetime\": \"2022-01-10 19:14:43\", \"cc_num\": \"4387069901220731\", \"category\": \"Health/Beauty\", \"amount\": 462.55, \"latitude\": \"25.67927\", \"longitude\": \"-80.31727\", \"city\": \"Kendall\", \"country\": \"US\"}\n",
      "{\"tid\": \"3046c4c0f565f05c17ee2634709c9593\", \"datetime\": \"2022-01-11 22:30:59\", \"cc_num\": \"4128818208635148\", \"category\": \"Domestic Transport\", \"amount\": 92.03, \"latitude\": \"47.4943\", \"longitude\": \"-122.24092\", \"city\": \"Bryn Mawr-Skyway\", \"country\": \"US\"}\n",
      "{\"tid\": \"d038b0cb38449fb44212001ec5dd9a77\", \"datetime\": \"2022-01-13 01:44:31\", \"cc_num\": \"4088284352412552\", \"category\": \"Electronics\", \"amount\": 3901.53, \"latitude\": \"40.63316\", \"longitude\": \"-74.13653\", \"city\": \"Port Richmond\", \"country\": \"US\"}\n",
      "{\"tid\": \"76a162d1862ae897a3e473d662aef1fe\", \"datetime\": \"2022-01-14 04:44:40\", \"cc_num\": \"4734534259756925\", \"category\": \"Grocery\", \"amount\": 26.75, \"latitude\": \"39.08367\", \"longitude\": \"-84.50855\", \"city\": \"Covington\", \"country\": \"US\"}\n",
      "{\"tid\": \"29c8abe8fd7aa1035145a3b9537d8c52\", \"datetime\": \"2022-01-15 06:46:29\", \"cc_num\": \"4989258607013779\", \"category\": \"Restaurant/Cafeteria\", \"amount\": 13.8, \"latitude\": \"40.56754\", \"longitude\": \"-89.64066\", \"city\": \"Pekin\", \"country\": \"US\"}\n",
      "{\"tid\": \"90e6f3548afaa59b652d9141ba0d1b68\", \"datetime\": \"2022-01-16 10:09:48\", \"cc_num\": \"4214331812017609\", \"category\": \"Grocery\", \"amount\": 85.55, \"latitude\": \"40.81\", \"longitude\": \"-73.9625\", \"city\": \"Morningside Heights\", \"country\": \"US\"}\n",
      "{\"tid\": \"7ee1eb6804c7e8365dc3a8eb7100a24a\", \"datetime\": \"2022-01-17 12:24:05\", \"cc_num\": \"4062262509023464\", \"category\": \"Grocery\", \"amount\": 5.83, \"latitude\": \"47.92526\", \"longitude\": \"-97.03285\", \"city\": \"Grand Forks\", \"country\": \"US\"}\n",
      "{\"tid\": \"e41b053719217ca98f5579a4eac87631\", \"datetime\": \"2022-01-18 15:32:33\", \"cc_num\": \"4862486694523044\", \"category\": \"Grocery\", \"amount\": 26.54, \"latitude\": \"40.60538\", \"longitude\": \"-73.75513\", \"city\": \"Far Rockaway\", \"country\": \"US\"}\n",
      "{\"tid\": \"a9444bdcde1cad74e9c9a5594c75b999\", \"datetime\": \"2022-01-19 17:38:54\", \"cc_num\": \"4772103066529538\", \"category\": \"Clothing\", \"amount\": 99.16, \"latitude\": \"34.95303\", \"longitude\": \"-120.43572\", \"city\": \"Santa Maria\", \"country\": \"US\"}\n",
      "{\"tid\": \"ca698ba55620a3dc32bc165475cd1993\", \"datetime\": \"2022-01-20 18:54:15\", \"cc_num\": \"4137709749259770\", \"category\": \"Domestic Transport\", \"amount\": 43.84, \"latitude\": \"41.72059\", \"longitude\": \"-87.70172\", \"city\": \"Evergreen Park\", \"country\": \"US\"}\n",
      "{\"tid\": \"675f5b35922c779eb35f8b3016f42258\", \"datetime\": \"2022-01-21 20:56:03\", \"cc_num\": \"4511617312600872\", \"category\": \"Grocery\", \"amount\": 23.06, \"latitude\": \"40.57788\", \"longitude\": \"-73.95958\", \"city\": \"Brighton Beach\", \"country\": \"US\"}\n",
      "{\"tid\": \"2487b115d3e08365b1a7a905dfcfe3eb\", \"datetime\": \"2022-01-22 23:45:10\", \"cc_num\": \"4463273975007092\", \"category\": \"Clothing\", \"amount\": 181.98, \"latitude\": \"43.16547\", \"longitude\": \"-77.70066\", \"city\": \"Gates-North Gates\", \"country\": \"US\"}\n",
      "{\"tid\": \"24fbc77e85fe08343d8ed499ee3c1953\", \"datetime\": \"2022-01-24 00:48:28\", \"cc_num\": \"4266938833275045\", \"category\": \"Health/Beauty\", \"amount\": 100.55, \"latitude\": \"43.1009\", \"longitude\": \"-75.23266\", \"city\": \"Utica\", \"country\": \"US\"}\n",
      "{\"tid\": \"9cf05eb2ea152931f28fd26db2647bb9\", \"datetime\": \"2022-01-25 03:16:53\", \"cc_num\": \"4097059622606582\", \"category\": \"Sports/Outdoors\", \"amount\": 47.7, \"latitude\": \"40.72371\", \"longitude\": \"-73.95097\", \"city\": \"Greenpoint\", \"country\": \"US\"}\n",
      "{\"tid\": \"a1377de8acd19ea090fac69130927a56\", \"datetime\": \"2022-01-26 05:35:39\", \"cc_num\": \"4016920934553846\", \"category\": \"Grocery\", \"amount\": 21.96, \"latitude\": \"47.38093\", \"longitude\": \"-122.23484\", \"city\": \"Kent\", \"country\": \"US\"}\n",
      "{\"tid\": \"f8f14d6e5308c1a94abcd55ae385f268\", \"datetime\": \"2022-01-27 07:35:44\", \"cc_num\": \"4779034307700120\", \"category\": \"Clothing\", \"amount\": 83.14, \"latitude\": \"41.85059\", \"longitude\": \"-87.882\", \"city\": \"Westchester\", \"country\": \"US\"}\n",
      "{\"tid\": \"6b63f81debf1e14f80eb90114a9a6dfe\", \"datetime\": \"2022-01-28 10:14:34\", \"cc_num\": \"4800626934861234\", \"category\": \"Grocery\", \"amount\": 75.15, \"latitude\": \"31.84568\", \"longitude\": \"-102.36764\", \"city\": \"Odessa\", \"country\": \"US\"}\n",
      "{\"tid\": \"0ccaf775ce66c738657a77cd082d58bd\", \"datetime\": \"2022-01-29 12:34:00\", \"cc_num\": \"4921423732308756\", \"category\": \"Grocery\", \"amount\": 60.02, \"latitude\": \"41.57721\", \"longitude\": \"-93.71133\", \"city\": \"West Des Moines\", \"country\": \"US\"}\n",
      "{\"tid\": \"4880fff48165061944cc73eb6363dc57\", \"datetime\": \"2022-01-30 14:31:43\", \"cc_num\": \"4843486148030947\", \"category\": \"Health/Beauty\", \"amount\": 100.49, \"latitude\": \"38.54491\", \"longitude\": \"-121.74052\", \"city\": \"Davis\", \"country\": \"US\"}\n"
     ]
    }
   ],
   "source": [
    "i = 0\n",
    "for transaction in transactions:\n",
    "    transaction_label = {}\n",
    "    _ = transaction.pop(\"fraud_label\")\n",
    "    if i % 1000 == 0:\n",
    "        print(json.dumps(transaction))\n",
    "    producer.produce(KAFKA_TOPIC_NAME, json.dumps(transaction))\n",
    "    producer.flush()    \n",
    "    i += 1"
   ]
  },
  {
   "cell_type": "markdown",
   "metadata": {},
   "source": [
    "### Next Steps\n",
    "\n",
    "In the next notebook, we'll look at how to do streaming aggregations using Spark structured streaming."
   ]
  }
 ],
 "metadata": {
  "kernelspec": {
   "display_name": "Python",
   "language": "python",
   "name": "python3"
  },
  "language_info": {
   "codemirror_mode": {
    "name": "ipython",
    "version": 3
   },
   "file_extension": ".py",
   "mimetype": "text/x-python",
   "name": "python",
   "nbconvert_exporter": "python",
   "pygments_lexer": "ipython3",
   "version": "3.8.11"
  }
 },
 "nbformat": 4,
 "nbformat_minor": 4
}