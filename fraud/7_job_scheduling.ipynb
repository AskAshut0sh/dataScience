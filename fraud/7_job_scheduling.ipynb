{
 "cells": [
  {
   "cell_type": "markdown",
   "id": "bcc3c712-6527-4cef-91e4-8127b3942032",
   "metadata": {},
   "source": [
    "## Job scheduling with Airflow\n",
    "\n",
    "In this part of the tutorial, you'll learn how to automate running jobs in Hopsworks with the Airflow integration. This can be useful if you have tasks that need to be repeated with a certain time interval, such as ingesting and preprocessing data or training a new model.\n",
    "\n",
    "- Create a job\n",
    "- Create an Airflow DAG (graph that describes how steps in the workflow are connected)"
   ]
  },
  {
   "cell_type": "markdown",
   "id": "0af7ddb6-e0e1-4223-abf9-e7d56d6f8f09",
   "metadata": {},
   "source": [
    "## Creating a job\n",
    "\n",
    "You can create a job in the Hopsworks UI as described in the [documentation](https://docs.hopsworks.ai/hopsworks/2.5.0/compute/jobs/). A job can be a JAR file, a Python script or a Jupyter Notebook\n",
    "\n",
    "(TODO: Check if this is still the case as the new documentation suggests is is more flexible now)\n",
    "\n",
    "In this example, we'll use a Jupyter notebook.\n",
    "\n",
    "There are four types of job you can create: Spark, Flink, Python and Docker, where the latter two are only available in the Enterprise Edition of Hopsworks. In this example, we will use a Spark job.\n",
    "\n",
    "Let's try to schedule a daily retraining of our fraud model. Of course, in a real project, this would also require that new data have been continually ingested and preprocessed. Those steps could also be automated in a similar way?\n",
    "\n",
    "(TODO: Check if there is documentation about creating a job programmatically)\n",
    "\n",
    "In the new Hopsworks UI, go to `Jobs => New Job`, give the job a name (maybe \"retrain\" for instance), click `From Project` and navigate to the `4_model_training_and_registration.ipynb` file."
   ]
  },
  {
   "cell_type": "code",
   "execution_count": null,
   "id": "728362c0-8c0b-45a5-818d-1225c0abd771",
   "metadata": {},
   "outputs": [],
   "source": []
  }
 ],
 "metadata": {
  "kernelspec": {
   "display_name": "Python",
   "language": "python",
   "name": "python3"
  },
  "language_info": {
   "codemirror_mode": {
    "name": "ipython",
    "version": 3
   },
   "file_extension": ".py",
   "mimetype": "text/x-python",
   "name": "python",
   "nbconvert_exporter": "python",
   "pygments_lexer": "ipython3",
   "version": "3.8.11"
  }
 },
 "nbformat": 4,
 "nbformat_minor": 5
}