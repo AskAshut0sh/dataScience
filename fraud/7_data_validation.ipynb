{
 "cells": [
  {
   "cell_type": "markdown",
   "id": "b37daa2c",
   "metadata": {},
   "source": [
    "# Data validation \n",
    "\n",
    "We can define rules for data validation, so that bad data do not get inserted into the feature store.\n",
    "\n",
    "First, let's just connect and get a reference to the feature store."
   ]
  },
  {
   "cell_type": "code",
   "execution_count": 5,
   "id": "f332dd1f",
   "metadata": {},
   "outputs": [
    {
     "name": "stdout",
     "output_type": "stream",
     "text": [
      "Connected. Call `.close()` to terminate connection gracefully.\n"
     ]
    }
   ],
   "source": [
    "import hsfs\n",
    "from hsfs.rule import Rule\n",
    "\n",
    "# Replace with appropriate values\n",
    "HOST = \"791bb4a0-bb1c-11ec-8721-7bd8cdac0b54.cloud.hopsworks.ai\"\n",
    "PROJECT = \"fraud_tutorial\"\n",
    "API_KEY_FILE = \"api-key.txt\"\n",
    "\n",
    "# If you are trying this in a Hopsworks Jupyter notebook, you can just do\n",
    "# conn = hsfs.connection() here\n",
    "\n",
    "conn = hsfs.connection(\n",
    "    host=HOST,\n",
    "    project=PROJECT,\n",
    "    hostname_verification=False,\n",
    "    secrets_store=\"local\",\n",
    "    api_key_file=API_KEY_FILE,\n",
    "    engine='hive'\n",
    ")\n",
    "\n",
    "fs = conn.get_feature_store()  "
   ]
  },
  {
   "cell_type": "markdown",
   "id": "ee23656f",
   "metadata": {},
   "source": [
    "## Create a rule \n",
    "\n",
    "As a simple example, let's create a rule that enforces that transaction amounts should be nonnegative.\n",
    "\n",
    "You can find a list of the possible rules in the [documentation](https://docs.hopsworks.ai/feature-store-api/2.5.4/generated/feature_validation/). In this case it seems reasonable to use the rule named `IS_POSITIVE`.\n",
    "\n",
    "The `Rule` definition has some parameters except for the rule name. The `level` parameter indicates the severity level: \"WARNING\" or \"ERROR\". If it is set to \"ERROR\", any attempt to update the feature store with data that does not adhere to the rule will throw an error. If it is set to \"WARNING\", the result of an attempt to insert such data will depend on the `validation_type` setting when creating a feature group (see below). You'll also need to set either the `max` or `min` parameter; in this case it does not matter what you use, but it would have been important if you had required the value to be between certain defined limits."
   ]
  },
  {
   "cell_type": "code",
   "execution_count": 7,
   "id": "cbf5f7af",
   "metadata": {},
   "outputs": [],
   "source": [
    "nonneg_rule = fs.create_expectation('nonneg_rule',\n",
    "                          description='Check that transaction amount is not negative',\n",
    "                          features=['amount'], \n",
    "                          rules=[Rule(name=\"IS_POSITIVE\", level=\"ERROR\", min=0)])\n",
    "                                        \n",
    "nonneg_rule.save()"
   ]
  },
  {
   "cell_type": "markdown",
   "id": "18a3a6b0",
   "metadata": {},
   "source": [
    "#### Attaching an expectation to a feature group\n",
    "\n",
    "TODO: Check which feature group we should attach it to"
   ]
  },
  {
   "cell_type": "code",
   "execution_count": 8,
   "id": "925f1fee",
   "metadata": {},
   "outputs": [],
   "source": [
    "# If you already created the expectation before and did not run the cell above, use\n",
    "# nonneg = fs.get_expectation('nonneg_rule')\n",
    "\n",
    "trans_fg = fs.get_feature_group('transactions', version = 2)\n",
    "trans_fg.attach_expectation(nonneg_rule)"
   ]
  },
  {
   "cell_type": "code",
   "execution_count": 12,
   "id": "31c7222c",
   "metadata": {},
   "outputs": [
    {
     "data": {
      "text/plain": [
       "'{\"type\":\"record\",\"name\":\"transactions_2\",\"namespace\":\"fraud_tutorial_featurestore.db\",\"fields\":[{\"name\":\"tid\",\"type\":[\"null\",\"string\"]},{\"name\":\"datetime\",\"type\":[\"null\",{\"type\":\"long\",\"logicalType\":\"timestamp-micros\"}]},{\"name\":\"cc_num\",\"type\":[\"null\",\"long\"]},{\"name\":\"category\",\"type\":[\"null\",\"string\"]},{\"name\":\"amount\",\"type\":[\"null\",\"double\"]},{\"name\":\"latitude\",\"type\":[\"null\",\"double\"]},{\"name\":\"longitude\",\"type\":[\"null\",\"double\"]},{\"name\":\"city\",\"type\":[\"null\",\"string\"]},{\"name\":\"country\",\"type\":[\"null\",\"string\"]},{\"name\":\"fraud_label\",\"type\":[\"null\",\"long\"]}]}'"
      ]
     },
     "execution_count": 12,
     "metadata": {},
     "output_type": "execute_result"
    }
   ],
   "source": [
    "trans_fg.avro_schema"
   ]
  },
  {
   "cell_type": "markdown",
   "id": "96fcf2ba",
   "metadata": {},
   "source": [
    "#### What happens if we try to insert faulty data?\n",
    "\n",
    "Let's construct a very small data frame where one of the rows has -5.0 as the amount. This is negative and the datapoint should therefore be rejected."
   ]
  },
  {
   "cell_type": "code",
   "execution_count": 9,
   "id": "1daab52e",
   "metadata": {},
   "outputs": [],
   "source": [
    "import pandas as pd\n",
    "\n",
    "# Create a fake transaction\n",
    "fake_trans = pd.DataFrame.from_dict({'tid': ['1234567', '222121'],\n",
    "                                  'datetime': [pd.to_datetime('2021-01-01'), pd.to_datetime('2021-01-02')],\n",
    "                                  'cc_num': [1234567, 678943],\n",
    "                                  'category': ['Unknown', 'Groceries'],\n",
    "                                  'amount': [-5.0, 18.0], \n",
    "                                  'latitude': [0.00, 1.0],\n",
    "                                  'longitude': [0.0, 2.0],\n",
    "                                  'city': ['Austin', 'NYC'],\n",
    "                                  'country': ['US', 'Russia'], 'fraud_label': [1, 0]}, \n",
    "                                 orient='columns')"
   ]
  },
  {
   "cell_type": "markdown",
   "id": "5800d6e0",
   "metadata": {},
   "source": [
    "Now we try to ingest the faulty data. The command below should trigger an ingestion job and print out a link where you can follow the progress of the job. It should fail with an error message such as `FeatureStoreException: The Hopsworks Job failed, use the Hopsworks UI to access the job logs`. Follow the job progress link and look at the output for the stout log. It should show an error like \n",
    "\n",
    "```HTTP code: 417, HTTP reason: Expectation Failed, error code: 270149, error msg: Feature group validation checks did not pass, will not persist the data., user msg: Results: [ExpectationResult{status=Failure, results=[ValidationResult{status=Failure, message='Value: 0.5 does not meet the constraint requirement! IS_POSITIVE', value='0.5', features='[amount]', rule=Rule{name=IS_POSITIVE, level=ERROR, min=0.0, max=0.0, pattern='null', acceptedType=null, feature=null, legalValues=[]}}], expectation=Expectation{name='nonneg_rule', features=[amount], rules=[Rule{name=IS_POSITIVE, level=ERROR, min=0.0, max=0.0, pattern='null', acceptedType=null, feature=null, legalValues=[]}]}}]```\n",
    "\n",
    "This lets you know that an expectation was violated."
   ]
  },
  {
   "cell_type": "code",
   "execution_count": 10,
   "id": "9f6e967a",
   "metadata": {},
   "outputs": [
    {
     "name": "stdout",
     "output_type": "stream",
     "text": [
      "Configuring ingestion job...\n",
      "Uploading Pandas dataframe...\n",
      "Launching ingestion job...\n",
      "Ingestion Job started successfully, you can follow the progress at https://791bb4a0-bb1c-11ec-8721-7bd8cdac0b54.cloud.hopsworks.ai/p/120/jobs/named/transactions_2_insert_fg_19042022121143/executions\n"
     ]
    }
   ],
   "source": [
    "trans_fg.insert(fake_trans)"
   ]
  }
 ],
 "metadata": {
  "kernelspec": {
   "display_name": "Python (hopsworks)",
   "language": "python",
   "name": "hopsworks"
  },
  "language_info": {
   "codemirror_mode": {
    "name": "ipython",
    "version": 3
   },
   "file_extension": ".py",
   "mimetype": "text/x-python",
   "name": "python",
   "nbconvert_exporter": "python",
   "pygments_lexer": "ipython3",
   "version": "3.8.10"
  }
 },
 "nbformat": 4,
 "nbformat_minor": 5
}
