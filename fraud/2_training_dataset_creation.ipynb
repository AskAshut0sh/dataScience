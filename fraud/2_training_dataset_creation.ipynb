{
 "cells": [
  {
   "cell_type": "markdown",
   "metadata": {},
   "source": [
    "## Dataset Creation\n",
    "\n",
    "In this notebook, we will create the actual dataset that we will train our model on. In particular, we will:\n",
    "1. Select the features we want to train our model on.\n",
    "2. Specify how the features should be preprocessed.\n",
    "3. Create a dataset split for training and validation data.\n",
    "\n",
    "![tutorial-flow](images/create_training_dataset.png)"
   ]
  },
  {
   "cell_type": "code",
   "execution_count": 1,
   "metadata": {},
   "outputs": [
    {
     "name": "stdout",
     "output_type": "stream",
     "text": [
      "Connected. Call `.close()` to terminate connection gracefully.\n"
     ]
    }
   ],
   "source": [
    "import hsfs\n",
    "\n",
    "conn = hsfs.connection()\n",
    "fs = conn.get_feature_store()"
   ]
  },
  {
   "cell_type": "markdown",
   "metadata": {},
   "source": [
    "### Feature Selection\n",
    "\n",
    "We start by selecting all the features we want to include for model training/inference."
   ]
  },
  {
   "cell_type": "code",
   "execution_count": 2,
   "metadata": {},
   "outputs": [
    {
     "name": "stdout",
     "output_type": "stream",
     "text": [
      "2022-05-22 09:09:46,219 INFO: USE `fraud_streaming_featurestore`\n",
      "2022-05-22 09:09:47,135 INFO: WITH right_fg0 AS (SELECT *\n",
      "FROM (SELECT `fg1`.`fraud_label` `fraud_label`, `fg1`.`category` `category`, `fg1`.`amount` `amount`, `fg1`.`age_at_transaction` `age_at_transaction`, `fg1`.`days_until_card_expires` `days_until_card_expires`, `fg1`.`loc_delta` `loc_delta`, `fg1`.`cc_num` `join_pk_cc_num`, `fg1`.`datetime` `join_evt_datetime`, `fg0`.`trans_volume_mstd` `trans_volume_mstd`, `fg0`.`trans_volume_mavg` `trans_volume_mavg`, `fg0`.`trans_freq` `trans_freq`, `fg0`.`loc_delta_mavg` `loc_delta_mavg`, RANK() OVER (PARTITION BY `fg1`.`cc_num`, `fg1`.`datetime` ORDER BY `fg0`.`datetime` DESC) pit_rank_hopsworks\n",
      "FROM `fraud_streaming_featurestore`.`transactions_1` `fg1`\n",
      "INNER JOIN `fraud_streaming_featurestore`.`transactions_4h_aggs_1` `fg0` ON `fg1`.`cc_num` = `fg0`.`cc_num` AND `fg1`.`datetime` >= `fg0`.`datetime`) NA\n",
      "WHERE `pit_rank_hopsworks` = 1) (SELECT `right_fg0`.`fraud_label` `fraud_label`, `right_fg0`.`category` `category`, `right_fg0`.`amount` `amount`, `right_fg0`.`age_at_transaction` `age_at_transaction`, `right_fg0`.`days_until_card_expires` `days_until_card_expires`, `right_fg0`.`loc_delta` `loc_delta`, `right_fg0`.`trans_volume_mstd` `trans_volume_mstd`, `right_fg0`.`trans_volume_mavg` `trans_volume_mavg`, `right_fg0`.`trans_freq` `trans_freq`, `right_fg0`.`loc_delta_mavg` `loc_delta_mavg`\n",
      "FROM right_fg0)\n"
     ]
    },
    {
     "data": {
      "text/html": [
       "<div>\n",
       "<style scoped>\n",
       "    .dataframe tbody tr th:only-of-type {\n",
       "        vertical-align: middle;\n",
       "    }\n",
       "\n",
       "    .dataframe tbody tr th {\n",
       "        vertical-align: top;\n",
       "    }\n",
       "\n",
       "    .dataframe thead th {\n",
       "        text-align: right;\n",
       "    }\n",
       "</style>\n",
       "<table border=\"1\" class=\"dataframe\">\n",
       "  <thead>\n",
       "    <tr style=\"text-align: right;\">\n",
       "      <th></th>\n",
       "      <th>fraud_label</th>\n",
       "      <th>category</th>\n",
       "      <th>amount</th>\n",
       "      <th>age_at_transaction</th>\n",
       "      <th>days_until_card_expires</th>\n",
       "      <th>loc_delta</th>\n",
       "      <th>trans_volume_mstd</th>\n",
       "      <th>trans_volume_mavg</th>\n",
       "      <th>trans_freq</th>\n",
       "      <th>loc_delta_mavg</th>\n",
       "    </tr>\n",
       "  </thead>\n",
       "  <tbody>\n",
       "    <tr>\n",
       "      <th>0</th>\n",
       "      <td>0</td>\n",
       "      <td>Grocery</td>\n",
       "      <td>93.51</td>\n",
       "      <td>25.334094</td>\n",
       "      <td>175.912280</td>\n",
       "      <td>0.000000</td>\n",
       "      <td>24.86</td>\n",
       "      <td>24.86</td>\n",
       "      <td>24.86</td>\n",
       "      <td>0.132314</td>\n",
       "    </tr>\n",
       "    <tr>\n",
       "      <th>1</th>\n",
       "      <td>0</td>\n",
       "      <td>Domestic Transport</td>\n",
       "      <td>65.14</td>\n",
       "      <td>25.335632</td>\n",
       "      <td>175.350486</td>\n",
       "      <td>0.319574</td>\n",
       "      <td>24.86</td>\n",
       "      <td>24.86</td>\n",
       "      <td>24.86</td>\n",
       "      <td>0.132314</td>\n",
       "    </tr>\n",
       "    <tr>\n",
       "      <th>2</th>\n",
       "      <td>0</td>\n",
       "      <td>Grocery</td>\n",
       "      <td>0.26</td>\n",
       "      <td>25.336235</td>\n",
       "      <td>175.130347</td>\n",
       "      <td>0.314148</td>\n",
       "      <td>24.86</td>\n",
       "      <td>24.86</td>\n",
       "      <td>24.86</td>\n",
       "      <td>0.132314</td>\n",
       "    </tr>\n",
       "    <tr>\n",
       "      <th>3</th>\n",
       "      <td>0</td>\n",
       "      <td>Grocery</td>\n",
       "      <td>1.43</td>\n",
       "      <td>25.336660</td>\n",
       "      <td>174.975058</td>\n",
       "      <td>0.000000</td>\n",
       "      <td>24.86</td>\n",
       "      <td>24.86</td>\n",
       "      <td>24.86</td>\n",
       "      <td>0.132314</td>\n",
       "    </tr>\n",
       "    <tr>\n",
       "      <th>4</th>\n",
       "      <td>0</td>\n",
       "      <td>Grocery</td>\n",
       "      <td>19.75</td>\n",
       "      <td>25.344710</td>\n",
       "      <td>172.034664</td>\n",
       "      <td>0.105313</td>\n",
       "      <td>24.86</td>\n",
       "      <td>24.86</td>\n",
       "      <td>24.86</td>\n",
       "      <td>0.132314</td>\n",
       "    </tr>\n",
       "  </tbody>\n",
       "</table>\n",
       "</div>"
      ],
      "text/plain": [
       "   fraud_label            category  amount  age_at_transaction  \\\n",
       "0            0             Grocery   93.51           25.334094   \n",
       "1            0  Domestic Transport   65.14           25.335632   \n",
       "2            0             Grocery    0.26           25.336235   \n",
       "3            0             Grocery    1.43           25.336660   \n",
       "4            0             Grocery   19.75           25.344710   \n",
       "\n",
       "   days_until_card_expires  loc_delta  trans_volume_mstd  trans_volume_mavg  \\\n",
       "0               175.912280   0.000000              24.86              24.86   \n",
       "1               175.350486   0.319574              24.86              24.86   \n",
       "2               175.130347   0.314148              24.86              24.86   \n",
       "3               174.975058   0.000000              24.86              24.86   \n",
       "4               172.034664   0.105313              24.86              24.86   \n",
       "\n",
       "   trans_freq  loc_delta_mavg  \n",
       "0       24.86        0.132314  \n",
       "1       24.86        0.132314  \n",
       "2       24.86        0.132314  \n",
       "3       24.86        0.132314  \n",
       "4       24.86        0.132314  "
      ]
     },
     "execution_count": 2,
     "metadata": {},
     "output_type": "execute_result"
    }
   ],
   "source": [
    "# Load feature groups.\n",
    "trans_fg = fs.get_feature_group(\"transactions\", 1)\n",
    "window_aggs_fg = fs.get_feature_group(\"transactions_4h_aggs\", 1)\n",
    "\n",
    "# Select features for training data.\n",
    "ds_query = trans_fg.select([\"fraud_label\", \"category\", \"amount\", \"age_at_transaction\", \"days_until_card_expires\", \"loc_delta\"])\\\n",
    "    .join(window_aggs_fg.select_except([\"cc_num\"]), on=\"cc_num\")\\\n",
    "\n",
    "ds_query.show(5)"
   ]
  },
  {
   "cell_type": "markdown",
   "metadata": {},
   "source": [
    "Recall that we computed the features in `transactions_4h_aggs` using 4-hour aggregates. If we had created multiple feature groups with identical schema for different window lengths, and wanted to include them in the join we would need to include a prefix argument in the join to avoid feature name clash. See the [documentation](https://docs.hopsworks.ai/feature-store-api/latest/generated/api/query_api/#join) for more details."
   ]
  },
  {
   "cell_type": "markdown",
   "metadata": {},
   "source": [
    "### Transformation Functions\n",
    "\n",
    "We will preprocess our data using *min-max scaling* on numerical features and *label encoding* on categorical features. To do this we simply define a mapping between our features and transformation functions. This ensures that transformation functions such as *min-max scaling* are fitted only on the training data (and not the validation/test data), which ensures that there is no data leakage."
   ]
  },
  {
   "cell_type": "code",
   "execution_count": 3,
   "metadata": {},
   "outputs": [],
   "source": [
    "# Load transformation functions.\n",
    "min_max_scaler = fs.get_transformation_function(name=\"min_max_scaler\")\n",
    "label_encoder = fs.get_transformation_function(name=\"label_encoder\")\n",
    "\n",
    "# Map features to transformations.\n",
    "transformation_functions = {\n",
    "    \"category\": label_encoder,\n",
    "    \"amount\": min_max_scaler,\n",
    "    \"trans_volume_mavg\": min_max_scaler,\n",
    "    \"trans_volume_mstd\": min_max_scaler,\n",
    "    \"trans_freq\": min_max_scaler,\n",
    "    \"loc_delta\": min_max_scaler,\n",
    "    \"loc_delta_mavg\": min_max_scaler,\n",
    "    \"age_at_transaction\": min_max_scaler,\n",
    "    \"days_until_card_expires\": min_max_scaler,\n",
    "}"
   ]
  },
  {
   "cell_type": "markdown",
   "metadata": {},
   "source": [
    "### Feature View Creation\n",
    "\n",
    "Feature view are a logical view over features in feature groups, with support for associating a label with a feature, and transformation functions with features. "
   ]
  },
  {
   "cell_type": "code",
   "execution_count": 4,
   "metadata": {},
   "outputs": [],
   "source": [
    "feature_view = fs.create_feature_view(\n",
    "    name='transactions_view',\n",
    "    query=ds_query,\n",
    "    label=[\"fraud_label\"],\n",
    "    transformation_functions=transformation_functions\n",
    ")"
   ]
  },
  {
   "cell_type": "markdown",
   "metadata": {},
   "source": [
    "## TODO: FV exploration and some text"
   ]
  },
  {
   "cell_type": "code",
   "execution_count": 5,
   "metadata": {},
   "outputs": [
    {
     "name": "stdout",
     "output_type": "stream",
     "text": [
      "2022-05-22 09:12:47,138 INFO: USE `fraud_streaming_featurestore`\n",
      "2022-05-22 09:12:48,061 INFO: WITH right_fg0 AS (SELECT *\n",
      "FROM (SELECT `fg1`.`category` `category`, `fg1`.`amount` `amount`, `fg1`.`age_at_transaction` `age_at_transaction`, `fg1`.`days_until_card_expires` `days_until_card_expires`, `fg1`.`loc_delta` `loc_delta`, `fg1`.`cc_num` `join_pk_cc_num`, `fg1`.`datetime` `join_evt_datetime`, `fg0`.`trans_volume_mstd` `trans_volume_mstd`, `fg0`.`trans_volume_mavg` `trans_volume_mavg`, `fg0`.`trans_freq` `trans_freq`, `fg0`.`loc_delta_mavg` `loc_delta_mavg`, RANK() OVER (PARTITION BY `fg1`.`cc_num`, `fg1`.`datetime` ORDER BY `fg0`.`datetime` DESC) pit_rank_hopsworks\n",
      "FROM `fraud_streaming_featurestore`.`transactions_1` `fg1`\n",
      "INNER JOIN `fraud_streaming_featurestore`.`transactions_4h_aggs_1` `fg0` ON `fg1`.`cc_num` = `fg0`.`cc_num` AND `fg1`.`datetime` >= `fg0`.`datetime`) NA\n",
      "WHERE `pit_rank_hopsworks` = 1) (SELECT `right_fg0`.`category` `category`, `right_fg0`.`amount` `amount`, `right_fg0`.`age_at_transaction` `age_at_transaction`, `right_fg0`.`days_until_card_expires` `days_until_card_expires`, `right_fg0`.`loc_delta` `loc_delta`, `right_fg0`.`trans_volume_mstd` `trans_volume_mstd`, `right_fg0`.`trans_volume_mavg` `trans_volume_mavg`, `right_fg0`.`trans_freq` `trans_freq`, `right_fg0`.`loc_delta_mavg` `loc_delta_mavg`\n",
      "FROM right_fg0)\n"
     ]
    },
    {
     "data": {
      "text/html": [
       "<div>\n",
       "<style scoped>\n",
       "    .dataframe tbody tr th:only-of-type {\n",
       "        vertical-align: middle;\n",
       "    }\n",
       "\n",
       "    .dataframe tbody tr th {\n",
       "        vertical-align: top;\n",
       "    }\n",
       "\n",
       "    .dataframe thead th {\n",
       "        text-align: right;\n",
       "    }\n",
       "</style>\n",
       "<table border=\"1\" class=\"dataframe\">\n",
       "  <thead>\n",
       "    <tr style=\"text-align: right;\">\n",
       "      <th></th>\n",
       "      <th>category</th>\n",
       "      <th>amount</th>\n",
       "      <th>age_at_transaction</th>\n",
       "      <th>days_until_card_expires</th>\n",
       "      <th>loc_delta</th>\n",
       "      <th>trans_volume_mstd</th>\n",
       "      <th>trans_volume_mavg</th>\n",
       "      <th>trans_freq</th>\n",
       "      <th>loc_delta_mavg</th>\n",
       "    </tr>\n",
       "  </thead>\n",
       "  <tbody>\n",
       "    <tr>\n",
       "      <th>0</th>\n",
       "      <td>Grocery</td>\n",
       "      <td>93.51</td>\n",
       "      <td>25.334094</td>\n",
       "      <td>175.912280</td>\n",
       "      <td>0.000000</td>\n",
       "      <td>24.86</td>\n",
       "      <td>24.86</td>\n",
       "      <td>24.86</td>\n",
       "      <td>0.132314</td>\n",
       "    </tr>\n",
       "    <tr>\n",
       "      <th>1</th>\n",
       "      <td>Domestic Transport</td>\n",
       "      <td>65.14</td>\n",
       "      <td>25.335632</td>\n",
       "      <td>175.350486</td>\n",
       "      <td>0.319574</td>\n",
       "      <td>24.86</td>\n",
       "      <td>24.86</td>\n",
       "      <td>24.86</td>\n",
       "      <td>0.132314</td>\n",
       "    </tr>\n",
       "    <tr>\n",
       "      <th>2</th>\n",
       "      <td>Grocery</td>\n",
       "      <td>0.26</td>\n",
       "      <td>25.336235</td>\n",
       "      <td>175.130347</td>\n",
       "      <td>0.314148</td>\n",
       "      <td>24.86</td>\n",
       "      <td>24.86</td>\n",
       "      <td>24.86</td>\n",
       "      <td>0.132314</td>\n",
       "    </tr>\n",
       "    <tr>\n",
       "      <th>3</th>\n",
       "      <td>Grocery</td>\n",
       "      <td>1.43</td>\n",
       "      <td>25.336660</td>\n",
       "      <td>174.975058</td>\n",
       "      <td>0.000000</td>\n",
       "      <td>24.86</td>\n",
       "      <td>24.86</td>\n",
       "      <td>24.86</td>\n",
       "      <td>0.132314</td>\n",
       "    </tr>\n",
       "    <tr>\n",
       "      <th>4</th>\n",
       "      <td>Grocery</td>\n",
       "      <td>19.75</td>\n",
       "      <td>25.344710</td>\n",
       "      <td>172.034664</td>\n",
       "      <td>0.105313</td>\n",
       "      <td>24.86</td>\n",
       "      <td>24.86</td>\n",
       "      <td>24.86</td>\n",
       "      <td>0.132314</td>\n",
       "    </tr>\n",
       "  </tbody>\n",
       "</table>\n",
       "</div>"
      ],
      "text/plain": [
       "             category  amount  age_at_transaction  days_until_card_expires  \\\n",
       "0             Grocery   93.51           25.334094               175.912280   \n",
       "1  Domestic Transport   65.14           25.335632               175.350486   \n",
       "2             Grocery    0.26           25.336235               175.130347   \n",
       "3             Grocery    1.43           25.336660               174.975058   \n",
       "4             Grocery   19.75           25.344710               172.034664   \n",
       "\n",
       "   loc_delta  trans_volume_mstd  trans_volume_mavg  trans_freq  loc_delta_mavg  \n",
       "0   0.000000              24.86              24.86       24.86        0.132314  \n",
       "1   0.319574              24.86              24.86       24.86        0.132314  \n",
       "2   0.314148              24.86              24.86       24.86        0.132314  \n",
       "3   0.000000              24.86              24.86       24.86        0.132314  \n",
       "4   0.105313              24.86              24.86       24.86        0.132314  "
      ]
     },
     "execution_count": 5,
     "metadata": {},
     "output_type": "execute_result"
    }
   ],
   "source": [
    "feature_view.get_batch_data().head(5)"
   ]
  },
  {
   "cell_type": "markdown",
   "metadata": {},
   "source": [
    "#### Training Dataset Creation\n",
    "\n",
    "In Hopsworks training data is a query where the projection (set of features) is determined by the parent FeatureView with an optional snapshot on disk of the data returned by the query.\n",
    "\n",
    "Training Dataset  may contain splits such as: \n",
    "* Training set - the subset of training data used to train a model.\n",
    "* Validation set - the subset of training data used to evaluate hparams when training a model\n",
    "* Test set - the holdout subset of training data used to evaluate a mode\n",
    "\n",
    "Training dataset is created using `fs.create_training_dataset()` method."
   ]
  },
  {
   "cell_type": "code",
   "execution_count": 6,
   "metadata": {},
   "outputs": [
    {
     "name": "stdout",
     "output_type": "stream",
     "text": [
      "Training dataset job started successfully, you can follow the progress at https://hopsworks.glassfish.service.consul:8182/p/119/jobs/named/transactions_view_2_1_create_fv_td_22052022091521/executions\n"
     ]
    },
    {
     "name": "stderr",
     "output_type": "stream",
     "text": [
      "VersionWarning: No version provided for creating training dataset, incremented version to `1`.\n"
     ]
    }
   ],
   "source": [
    "td_version, td_job = feature_view.create_training_dataset(\n",
    "    description = 'transactions_dataset_splitted',\n",
    "    data_format = 'csv',\n",
    "    splits = {'train': 80, 'validation': 20},\n",
    "    train_split = \"train\",\n",
    "    write_options = {'wait_for_job': True},\n",
    "    coalesce = True\n",
    ")"
   ]
  },
  {
   "cell_type": "markdown",
   "metadata": {},
   "source": [
    "## TODO: TD exploration and some text"
   ]
  },
  {
   "cell_type": "code",
   "execution_count": 8,
   "metadata": {},
   "outputs": [
    {
     "name": "stderr",
     "output_type": "stream",
     "text": [
      "FutureWarning: pyarrow.hdfs.HadoopFileSystem is deprecated as of 2.0.0, please use pyarrow.fs.HadoopFileSystem instead.\n"
     ]
    }
   ],
   "source": [
    "td_version, train_df = feature_view.get_training_dataset_splits({'train': 80}, start_time=None, end_time=None, version = td_version)"
   ]
  },
  {
   "cell_type": "code",
   "execution_count": 9,
   "metadata": {},
   "outputs": [
    {
     "data": {
      "text/plain": [
       "{'train':        fraud_label  category        amount  age_at_transaction  \\\n",
       " 0                0         5  0.000000e+00            0.047379   \n",
       " 1                0         5  0.000000e+00            0.954679   \n",
       " 2                0         5  3.336858e-07            0.573948   \n",
       " 3                0         5  3.336858e-07            0.817831   \n",
       " 4                0         5  3.336858e-07            0.850191   \n",
       " ...            ...       ...           ...                 ...   \n",
       " 84654            1         7  4.428011e-03            0.922027   \n",
       " 84655            1         7  5.702691e-03            0.206617   \n",
       " 84656            1         7  1.362873e-02            0.516297   \n",
       " 84657            1         3  1.698461e-04            0.132167   \n",
       " 84658            1         3  4.875150e-04            0.488992   \n",
       " \n",
       "        days_until_card_expires  loc_delta  trans_volume_mstd  \\\n",
       " 0                     0.943722   0.035718           0.000516   \n",
       " 1                     0.874834   0.183911           0.074303   \n",
       " 2                     0.205076   0.023092           0.296312   \n",
       " 3                     0.368723   0.117315           0.003280   \n",
       " 4                     0.948012   0.134638           0.003018   \n",
       " ...                        ...        ...                ...   \n",
       " 84654                 0.287209   0.093682           0.000133   \n",
       " 84655                 0.228933   0.098071           0.002340   \n",
       " 84656                 0.314443   0.086154           0.003179   \n",
       " 84657                 0.816431   0.217638           0.002325   \n",
       " 84658                 0.607004   0.043470           0.000704   \n",
       " \n",
       "        trans_volume_mavg  trans_freq  loc_delta_mavg  \n",
       " 0               0.000516    0.000516        0.097508  \n",
       " 1               0.074303    0.074303        0.000086  \n",
       " 2               0.296312    0.296312        0.000096  \n",
       " 3               0.003280    0.003280        0.000131  \n",
       " 4               0.003018    0.003018        0.000118  \n",
       " ...                  ...         ...             ...  \n",
       " 84654           0.000133    0.000133        0.319316  \n",
       " 84655           0.002340    0.002340        0.221066  \n",
       " 84656           0.003179    0.003179        0.000120  \n",
       " 84657           0.002325    0.002325        0.309634  \n",
       " 84658           0.000704    0.000704        0.261125  \n",
       " \n",
       " [84659 rows x 10 columns]}"
      ]
     },
     "execution_count": 9,
     "metadata": {},
     "output_type": "execute_result"
    }
   ],
   "source": [
    "train_df"
   ]
  },
  {
   "cell_type": "code",
   "execution_count": null,
   "metadata": {},
   "outputs": [],
   "source": [
    "td_version, val_df = feature_view.get_training_dataset_splits({'validation': 20}, start_time=None, end_time=None, version = td_version)"
   ]
  },
  {
   "cell_type": "code",
   "execution_count": null,
   "metadata": {},
   "outputs": [],
   "source": [
    "val_df"
   ]
  },
  {
   "cell_type": "code",
   "execution_count": null,
   "metadata": {},
   "outputs": [],
   "source": [
    "td_version, df = feature_view.get_training_dataset_splits({'train': 80, 'validation': 20}, start_time=None, end_time=None, version = td_version)"
   ]
  },
  {
   "cell_type": "code",
   "execution_count": null,
   "metadata": {},
   "outputs": [],
   "source": [
    "df"
   ]
  },
  {
   "cell_type": "markdown",
   "metadata": {},
   "source": [
    "### Next Steps\n",
    "\n",
    "In the next notebook, we will train a model on the dataset we created in this notebook."
   ]
  }
 ],
 "metadata": {
  "interpreter": {
   "hash": "31f2aee4e71d21fbe5cf8b01ff0e069b9275f58929596ceb00d14d90e3e16cd6"
  },
  "kernelspec": {
   "display_name": "Python",
   "language": "python",
   "name": "python3"
  },
  "language_info": {
   "codemirror_mode": {
    "name": "ipython",
    "version": 3
   },
   "file_extension": ".py",
   "mimetype": "text/x-python",
   "name": "python",
   "nbconvert_exporter": "python",
   "pygments_lexer": "ipython3",
   "version": "3.8.11"
  }
 },
 "nbformat": 4,
 "nbformat_minor": 4
}