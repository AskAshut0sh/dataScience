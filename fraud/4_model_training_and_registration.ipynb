{
 "cells": [
  {
   "cell_type": "markdown",
   "id": "5bbdfd41",
   "metadata": {},
   "source": [
    "# Model training and registration\n",
    "\n",
    "In this notebook we will\n",
    "\n",
    "- Load a training dataset from the feature store\n",
    "- Train a model\n",
    "- Register the model in the model registry.\n",
    "\n",
    "This will introduce a new library, hsml, which contains functionality to keep track of models and deploy them.\n",
    "\n",
    "In this notebook, we will train a model using standard Python and Scikit-learn. It could also have been done with e.g. PySpark, Tensorflow or PyTorch."
   ]
  },
  {
   "cell_type": "markdown",
   "id": "05e5847a",
   "metadata": {},
   "source": [
    "## (1) Load training data from feature store\n",
    "\n",
    "First, we need to interface with our project's feature store and fetch the training dataset that we created in the previous step of the tutorial. As you might remember, the feature store has mutable feature groups and immutable training datasets. The feature groups can get continuously updated, but a training dataset is \"frozen\" once created, including potential training validation splits.  \n",
    "\n",
    "Start by connecting to the feature store."
   ]
  },
  {
   "cell_type": "code",
   "execution_count": 1,
   "id": "3f3b9bd3",
   "metadata": {},
   "outputs": [
    {
     "name": "stdout",
     "output_type": "stream",
     "text": [
      "Connected. Call `.close()` to terminate connection gracefully.\n"
     ]
    }
   ],
   "source": [
    "import hsfs\n",
    "import pandas as pd\n",
    "\n",
    "conn = hsfs.connection()\n",
    "fs = conn.get_feature_store()"
   ]
  },
  {
   "cell_type": "code",
   "execution_count": 4,
   "id": "ebec6329",
   "metadata": {},
   "outputs": [
    {
     "name": "stderr",
     "output_type": "stream",
     "text": [
      "FutureWarning: pyarrow.hdfs.HadoopFileSystem is deprecated as of 2.0.0, please use pyarrow.fs.HadoopFileSystem instead.\n"
     ]
    }
   ],
   "source": [
    "td = fs.get_training_dataset(\"transactions_dataset_splitted\", version=1)\n",
    "train_df = td.read('train')\n",
    "val_df = td.read('validation')"
   ]
  },
  {
   "cell_type": "markdown",
   "id": "fa69d5e0",
   "metadata": {},
   "source": [
    "Look briefly at the data to make sure everything looks all right (in particular, we should not have any categorical features left here, only numercial features)."
   ]
  },
  {
   "cell_type": "code",
   "execution_count": 5,
   "id": "0279190d",
   "metadata": {},
   "outputs": [
    {
     "data": {
      "text/html": [
       "<div>\n",
       "<style scoped>\n",
       "    .dataframe tbody tr th:only-of-type {\n",
       "        vertical-align: middle;\n",
       "    }\n",
       "\n",
       "    .dataframe tbody tr th {\n",
       "        vertical-align: top;\n",
       "    }\n",
       "\n",
       "    .dataframe thead th {\n",
       "        text-align: right;\n",
       "    }\n",
       "</style>\n",
       "<table border=\"1\" class=\"dataframe\">\n",
       "  <thead>\n",
       "    <tr style=\"text-align: right;\">\n",
       "      <th></th>\n",
       "      <th>category</th>\n",
       "      <th>amount</th>\n",
       "      <th>fraud_label</th>\n",
       "      <th>trans_volume_mavg</th>\n",
       "      <th>trans_volume_mstd</th>\n",
       "      <th>trans_freq</th>\n",
       "      <th>loc_delta</th>\n",
       "      <th>loc_delta_mavg</th>\n",
       "      <th>age_at_transaction</th>\n",
       "      <th>days_until_card_expires</th>\n",
       "    </tr>\n",
       "  </thead>\n",
       "  <tbody>\n",
       "    <tr>\n",
       "      <th>0</th>\n",
       "      <td>5</td>\n",
       "      <td>0.121806</td>\n",
       "      <td>0</td>\n",
       "      <td>0.121806</td>\n",
       "      <td>0.000000</td>\n",
       "      <td>0.380643</td>\n",
       "      <td>0.123069</td>\n",
       "      <td>0.123069</td>\n",
       "      <td>8.552278</td>\n",
       "      <td>487.124915</td>\n",
       "    </tr>\n",
       "    <tr>\n",
       "      <th>1</th>\n",
       "      <td>5</td>\n",
       "      <td>0.137032</td>\n",
       "      <td>0</td>\n",
       "      <td>0.137032</td>\n",
       "      <td>0.000000</td>\n",
       "      <td>0.380643</td>\n",
       "      <td>0.017971</td>\n",
       "      <td>0.017971</td>\n",
       "      <td>24.205971</td>\n",
       "      <td>646.860639</td>\n",
       "    </tr>\n",
       "    <tr>\n",
       "      <th>2</th>\n",
       "      <td>5</td>\n",
       "      <td>0.137032</td>\n",
       "      <td>0</td>\n",
       "      <td>0.137032</td>\n",
       "      <td>0.000000</td>\n",
       "      <td>0.380643</td>\n",
       "      <td>0.054782</td>\n",
       "      <td>0.054782</td>\n",
       "      <td>33.803787</td>\n",
       "      <td>603.660132</td>\n",
       "    </tr>\n",
       "    <tr>\n",
       "      <th>3</th>\n",
       "      <td>5</td>\n",
       "      <td>0.171289</td>\n",
       "      <td>0</td>\n",
       "      <td>108.059502</td>\n",
       "      <td>157.590145</td>\n",
       "      <td>1.141929</td>\n",
       "      <td>0.058668</td>\n",
       "      <td>0.050028</td>\n",
       "      <td>24.796981</td>\n",
       "      <td>-115.985469</td>\n",
       "    </tr>\n",
       "    <tr>\n",
       "      <th>4</th>\n",
       "      <td>5</td>\n",
       "      <td>0.232192</td>\n",
       "      <td>0</td>\n",
       "      <td>5.188166</td>\n",
       "      <td>7.008805</td>\n",
       "      <td>0.761286</td>\n",
       "      <td>0.110207</td>\n",
       "      <td>0.093298</td>\n",
       "      <td>17.547099</td>\n",
       "      <td>65.412143</td>\n",
       "    </tr>\n",
       "  </tbody>\n",
       "</table>\n",
       "</div>"
      ],
      "text/plain": [
       "   category    amount  fraud_label  trans_volume_mavg  trans_volume_mstd  \\\n",
       "0         5  0.121806            0           0.121806           0.000000   \n",
       "1         5  0.137032            0           0.137032           0.000000   \n",
       "2         5  0.137032            0           0.137032           0.000000   \n",
       "3         5  0.171289            0         108.059502         157.590145   \n",
       "4         5  0.232192            0           5.188166           7.008805   \n",
       "\n",
       "   trans_freq  loc_delta  loc_delta_mavg  age_at_transaction  \\\n",
       "0    0.380643   0.123069        0.123069            8.552278   \n",
       "1    0.380643   0.017971        0.017971           24.205971   \n",
       "2    0.380643   0.054782        0.054782           33.803787   \n",
       "3    1.141929   0.058668        0.050028           24.796981   \n",
       "4    0.761286   0.110207        0.093298           17.547099   \n",
       "\n",
       "   days_until_card_expires  \n",
       "0               487.124915  \n",
       "1               646.860639  \n",
       "2               603.660132  \n",
       "3              -115.985469  \n",
       "4                65.412143  "
      ]
     },
     "execution_count": 5,
     "metadata": {},
     "output_type": "execute_result"
    }
   ],
   "source": [
    "train_df.head()"
   ]
  },
  {
   "cell_type": "markdown",
   "id": "34cf4de6",
   "metadata": {},
   "source": [
    "## (2) Train logistic regression model\n",
    "\n",
    "Here we will train a predictive model on the training split and assess performance on the validation split. The focus will not be on training a good model; there are many ways to try to train one that has better performance than the one shown here. The emphasis is rather on showing how to train models and track them in the model registry.\n",
    "\n",
    "With that being said, notice that the dataset is very skewed in terms of outcome, which is natural considering that fraudulent transactions make up a tiny part of all transactions. Thus we should somehow address the class imbalance. There are many approaches for this, such as weighting the loss function, over- or undersampling, creating synthetic data or modifying the decision threshold. In this example, we'll use the simplest method which is to just supply a class weight parameter to our learning algorithm. The class weight will affect how much importance is attached to each class.\n",
    "\n",
    "The `class_weight` parameter can either be set to \"balanced\", in which case the weights will just be set in proportion to the ration of labels, or we can specify numeric weights for each label by ourselves. Let's first use the \"balanced\" option.\n",
    "\n",
    "When we save the trained model, we'll also want to attach a performance metric to it. In this scenario with unbalanced classes, it is more useful to look at precision and recall rather than accuracy."
   ]
  },
  {
   "cell_type": "code",
   "execution_count": 6,
   "id": "7b02ce04",
   "metadata": {},
   "outputs": [],
   "source": [
    "# from sklearn.ensemble import RandomForestClassifier\n",
    "from sklearn.linear_model import LogisticRegression\n",
    "from sklearn.metrics import classification_report, precision_score, recall_score"
   ]
  },
  {
   "cell_type": "markdown",
   "id": "83bf1f62",
   "metadata": {},
   "source": [
    "The next cell is just a type check to make sure we have Pandas data frames. The reason for the check is that if this notebook ever gets executed as a Hopsworks Job, it may be executed with a PySpark kernel and `train_df` and `val_df` would be PySpark data frames at this point, which would not work with the `clf.fit()` function below."
   ]
  },
  {
   "cell_type": "code",
   "execution_count": 7,
   "id": "42fa63ea",
   "metadata": {},
   "outputs": [],
   "source": [
    "if not type(train_df) == pd.core.frame.DataFrame: \n",
    "    train_df = train_df.toPandas()\n",
    "    val_df = val_df.toPandas()"
   ]
  },
  {
   "cell_type": "markdown",
   "id": "f23cf52a",
   "metadata": {},
   "source": [
    "Separate the predictive features from the label to prepare for model fitting."
   ]
  },
  {
   "cell_type": "code",
   "execution_count": 8,
   "id": "2e05dde2",
   "metadata": {},
   "outputs": [],
   "source": [
    "target = 'fraud_label'\n",
    "features = list(set(train_df.columns) - set([target]))\n",
    "\n",
    "X_train, y_train = train_df[features], train_df[target]\n",
    "X_val, y_val = val_df[features], val_df[target]"
   ]
  },
  {
   "cell_type": "markdown",
   "id": "5622660e",
   "metadata": {},
   "source": [
    "Fit the model."
   ]
  },
  {
   "cell_type": "code",
   "execution_count": 9,
   "id": "55cb337c",
   "metadata": {},
   "outputs": [
    {
     "data": {
      "text/plain": [
       "LogisticRegression(C=1.0, class_weight='balanced', dual=False,\n",
       "                   fit_intercept=True, intercept_scaling=1, l1_ratio=None,\n",
       "                   max_iter=100, multi_class='auto', n_jobs=None, penalty='l2',\n",
       "                   random_state=None, solver='liblinear', tol=0.0001, verbose=0,\n",
       "                   warm_start=False)"
      ]
     },
     "execution_count": 9,
     "metadata": {},
     "output_type": "execute_result"
    }
   ],
   "source": [
    "clf = LogisticRegression(class_weight='balanced', solver='liblinear')\n",
    "# clf = RandomForestClassifier(class_weight='balanced', n_estimators=500)\n",
    "clf.fit(X_train, y_train)"
   ]
  },
  {
   "cell_type": "markdown",
   "id": "bbfeb4d1",
   "metadata": {},
   "source": [
    "Evaluate model performance on the validation data. \n",
    "\n",
    "For human consumption, a `classification_report` is nice."
   ]
  },
  {
   "cell_type": "code",
   "execution_count": 10,
   "id": "52e23e2c",
   "metadata": {},
   "outputs": [
    {
     "name": "stdout",
     "output_type": "stream",
     "text": [
      "              precision    recall  f1-score   support\n",
      "\n",
      "           0       1.00      0.91      0.95    208437\n",
      "           1       0.02      0.80      0.03       413\n",
      "\n",
      "    accuracy                           0.90    208850\n",
      "   macro avg       0.51      0.85      0.49    208850\n",
      "weighted avg       1.00      0.90      0.95    208850\n",
      "\n"
     ]
    }
   ],
   "source": [
    "preds = clf.predict(X_val)\n",
    "\n",
    "print(classification_report(y_true=y_val, y_pred=preds))"
   ]
  },
  {
   "cell_type": "markdown",
   "id": "6e1979ca",
   "metadata": {},
   "source": [
    "For recording model performance in registered models, we can define some useful metrics for this particular problem. \n",
    "\n",
    "Since we are mostly interested in the rare positive class (fraud, i.e. label 1), the precision score (# true positives / # predicted positives) for the positive class seems like a good metric. Let's also use the recall for the same class. "
   ]
  },
  {
   "cell_type": "code",
   "execution_count": 11,
   "id": "bed9fdc2",
   "metadata": {},
   "outputs": [
    {
     "name": "stdout",
     "output_type": "stream",
     "text": [
      "Fraud class precision: 0.016508378499328725, recall: 0.8038740920096852\n"
     ]
    }
   ],
   "source": [
    "pos_precision = precision_score(y_true=y_val, y_pred=preds, pos_label=1)\n",
    "pos_recall = recall_score(y_true=y_val, y_pred=preds, pos_label=1)\n",
    "\n",
    "print(f'Fraud class precision: {pos_precision}, recall: {pos_recall}')"
   ]
  },
  {
   "cell_type": "markdown",
   "id": "2fd005ae",
   "metadata": {},
   "source": [
    "## (3) Register model\n",
    "\n",
    "One of the features in Hopsworks is the model registry. This is where we can store different versions of models and compare their performance. Models from the registry can then be served as API endpoints.\n",
    "\n",
    "In order to talk to the model registry, we need to use the HSML library from Hopsworks. It should be pre-installed if you work through this tutorial in a Hopsworks Jupyter session, otherwise it is easy to pip install.\n",
    "\n",
    "Let's connect to the model registry."
   ]
  },
  {
   "cell_type": "code",
   "execution_count": 12,
   "id": "7d5fb22c",
   "metadata": {},
   "outputs": [
    {
     "name": "stdout",
     "output_type": "stream",
     "text": [
      "Connected. Call `.close()` to terminate connection gracefully.\n"
     ]
    }
   ],
   "source": [
    "import hsml\n",
    "\n",
    "conn = hsml.connection()\n",
    "\n",
    "mr = conn.get_model_registry()"
   ]
  },
  {
   "cell_type": "markdown",
   "id": "bb3f7260",
   "metadata": {},
   "source": [
    "To prepare for registering the model, we will export the classifier as a pickle file using joblib and then save it as a model. The model needs to be set up with a Schema, but this can be obtained automatically from training examples, as shown below.\n",
    "\n",
    "It's important to know that every time you save a model with the same name, a new version of the model will be saved, so nothing will be overwritten. In this way, you can compare several versions of the same model - or create a model with a new name, if you prefer that."
   ]
  },
  {
   "cell_type": "code",
   "execution_count": 13,
   "id": "b5f95cb4",
   "metadata": {},
   "outputs": [
    {
     "data": {
      "application/vnd.jupyter.widget-view+json": {
       "model_id": "82be0e1aedc34f94ad9aae36da358dfc",
       "version_major": 2,
       "version_minor": 0
      },
      "text/plain": [
       "HBox(children=(FloatProgress(value=0.0, max=6.0), HTML(value='')))"
      ]
     },
     "metadata": {},
     "output_type": "display_data"
    },
    {
     "name": "stdout",
     "output_type": "stream",
     "text": [
      "\n",
      "Exported model fraud_tutorial_model with version 1\n"
     ]
    },
    {
     "data": {
      "text/plain": [
       "<hsml.sklearn.model.Model at 0x7f1f48189c10>"
      ]
     },
     "execution_count": 13,
     "metadata": {},
     "output_type": "execute_result"
    }
   ],
   "source": [
    "import joblib\n",
    "import os\n",
    "\n",
    "from hsml.schema import Schema\n",
    "from hsml.model_schema import ModelSchema\n",
    "\n",
    "os.mkdir('tmp_model')\n",
    "joblib.dump(clf, 'tmp_model/model.pkl')\n",
    "\n",
    "MODEL_NAME = \"fraud_tutorial_model\"\n",
    "\n",
    "input_schema = Schema(X_train)\n",
    "output_schema = Schema(y_train)\n",
    "\n",
    "model = mr.sklearn.create_model(MODEL_NAME, \n",
    "                                metrics={'positive_precision': pos_precision, 'positive_recall': pos_recall},\n",
    "                                input_example=X_train,\n",
    "                                model_schema=ModelSchema(input_schema=input_schema, output_schema=output_schema))\n",
    "\n",
    "model.save('tmp_model')"
   ]
  },
  {
   "cell_type": "markdown",
   "id": "6f0b077e",
   "metadata": {},
   "source": [
    "### Finding the best performing model\n",
    "\n",
    "Let's imagine you have trained and registered several versions of the same model. Now you can query the model registry for the best model according to your preferred criterion, say positive recall in our case.\n",
    "\n",
    "The `direction` option is used to indicate if the metric should be high or low (max or min); in our case it should be high (max)."
   ]
  },
  {
   "cell_type": "code",
   "execution_count": 14,
   "id": "11960427",
   "metadata": {},
   "outputs": [
    {
     "data": {
      "text/plain": [
       "{'id': 'fraud_tutorial_model_1',\n",
       " 'experimentId': None,\n",
       " 'projectName': 'clean_up',\n",
       " 'experimentProjectName': 'clean_up',\n",
       " 'name': 'fraud_tutorial_model',\n",
       " 'modelSchema': {'href': 'https://hopsworks.glassfish.service.consul:8182/hopsworks-api/api/project/125/dataset/Projects/clean_up/Models/fraud_tutorial_model/1/model_schema.json',\n",
       "  'zip_state': 'NONE'},\n",
       " 'version': 1,\n",
       " 'description': 'A collection of models for fraud_tutorial_model',\n",
       " 'inputExample': {'href': 'https://hopsworks.glassfish.service.consul:8182/hopsworks-api/api/project/125/dataset/Projects/clean_up/Models/fraud_tutorial_model/1/input_example.json',\n",
       "  'zip_state': 'NONE'},\n",
       " 'framework': 'SKLEARN',\n",
       " 'metrics': {'positive_precision': '0.016508378499328725',\n",
       "  'positive_recall': '0.8038740920096852'},\n",
       " 'trainingDataset': None,\n",
       " 'environment': ['/Projects/clean_up/Models/fraud_tutorial_model/1/environment.yml'],\n",
       " 'program': 'Models/fraud_tutorial_model/1/program.ipynb'}"
      ]
     },
     "execution_count": 14,
     "metadata": {},
     "output_type": "execute_result"
    }
   ],
   "source": [
    "best_model = mr.get_best_model(name=\"fraud_tutorial_model\", metric=\"positive_recall\", direction=\"max\")\n",
    "best_model.to_dict()"
   ]
  },
  {
   "cell_type": "markdown",
   "id": "b5a25f21",
   "metadata": {},
   "source": [
    "## Next chapter\n",
    "\n",
    "In the next chapter, we'll look at hyperparameter optimization!"
   ]
  },
  {
   "cell_type": "code",
   "execution_count": null,
   "id": "0d742d82",
   "metadata": {},
   "outputs": [],
   "source": []
  }
 ],
 "metadata": {
  "kernelspec": {
   "display_name": "Python",
   "language": "python",
   "name": "python3"
  },
  "language_info": {
   "codemirror_mode": {
    "name": "ipython",
    "version": 3
   },
   "file_extension": ".py",
   "mimetype": "text/x-python",
   "name": "python",
   "nbconvert_exporter": "python",
   "pygments_lexer": "ipython3",
   "version": "3.8.11"
  }
 },
 "nbformat": 4,
 "nbformat_minor": 5
}
