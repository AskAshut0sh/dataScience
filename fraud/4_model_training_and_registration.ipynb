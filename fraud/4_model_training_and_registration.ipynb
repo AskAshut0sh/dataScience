{
 "cells": [
  {
   "cell_type": "markdown",
   "id": "23ed7328",
   "metadata": {},
   "source": [
    "## Model training and registration\n",
    "\n",
    "In this notebook we will:\n",
    "\n",
    "- Register a model to the model registry.\n",
    "- Fetch the model from the model registry.\n",
    "\n",
    "This will introduce the `hsml` (**H**opsworks **M**achine **L**earning) library, which contains functionality to keep track of models and deploy them.\n",
    "\n",
    "*Note: you need to enable Serving to run this notebook. Go to the **old** Hopsworks UI, click on settings, and check the Serving box.*"
   ]
  },
  {
   "cell_type": "code",
   "execution_count": 1,
   "id": "658e8e07",
   "metadata": {},
   "outputs": [
    {
     "name": "stdout",
     "output_type": "stream",
     "text": [
      "Connected. Call `.close()` to terminate connection gracefully.\n"
     ]
    }
   ],
   "source": [
    "import hsfs\n",
    "\n",
    "conn = hsfs.connection()\n",
    "fs = conn.get_feature_store()"
   ]
  },
  {
   "cell_type": "markdown",
   "id": "e9eae378",
   "metadata": {},
   "source": [
    "### Load Best Hyperparameters\n",
    "\n",
    "We will train a model using the best hyperparameters we found in the previous notebook.\n",
    "Recall that we saved these as a pickled dictionary that we uploaded to our cluster.\n",
    "If you don't have the file locally you can download it using the *hopsworks* library."
   ]
  },
  {
   "cell_type": "code",
   "execution_count": 2,
   "id": "b5863a28",
   "metadata": {},
   "outputs": [
    {
     "name": "stdout",
     "output_type": "stream",
     "text": [
      "Connected. Call `.close()` to terminate connection gracefully.\n"
     ]
    },
    {
     "data": {
      "application/vnd.jupyter.widget-view+json": {
       "model_id": "29346f5d94fb4291b11945355ae87d2f",
       "version_major": 2,
       "version_minor": 0
      },
      "text/plain": [
       "HBox(children=(FloatProgress(value=0.0, description='Downloading', max=43.0, style=ProgressStyle(description_w…"
      ]
     },
     "metadata": {},
     "output_type": "display_data"
    },
    {
     "name": "stdout",
     "output_type": "stream",
     "text": [
      "\n"
     ]
    },
    {
     "data": {
      "text/plain": [
       "'/srv/hops/staging/private_dirs/73268cbe6c091b28dfed07bbcd22e4093fb6a96467f44093772636a10323e841/best_params.pickle'"
      ]
     },
     "execution_count": 2,
     "metadata": {},
     "output_type": "execute_result"
    }
   ],
   "source": [
    "import hopsworks\n",
    "\n",
    "hopsworks_conn = hopsworks.connection()\n",
    "project = hopsworks_conn.get_project()\n",
    "dataset_api = project.get_dataset_api()\n",
    "\n",
    "uploaded_file_path = \"Resources/best_params.pickle\"\n",
    "dataset_api.download(uploaded_file_path)"
   ]
  },
  {
   "cell_type": "markdown",
   "id": "1fa30891",
   "metadata": {},
   "source": [
    "Retrieve the best hyperparameters from this file."
   ]
  },
  {
   "cell_type": "code",
   "execution_count": 3,
   "id": "7befcbdf",
   "metadata": {},
   "outputs": [
    {
     "name": "stdout",
     "output_type": "stream",
     "text": [
      "0.7048771928503996\n"
     ]
    }
   ],
   "source": [
    "import pickle\n",
    "\n",
    "with open(\"best_params.pickle\", \"rb\") as f:\n",
    "    best_params = pickle.load(f)\n",
    "\n",
    "pos_class_weight = best_params[\"pos_class_weight\"]\n",
    "\n",
    "print(pos_class_weight)"
   ]
  },
  {
   "cell_type": "markdown",
   "id": "0a249a4f",
   "metadata": {},
   "source": [
    "### Load Training Data & Train Model\n",
    "\n",
    "Next, we'll train a model in the same way as the previous notebook.\n",
    "\n",
    "# TODO (Davit): label returns empty list\n"
   ]
  },
  {
   "cell_type": "code",
   "execution_count": 6,
   "id": "cb9d56b7",
   "metadata": {},
   "outputs": [
    {
     "data": {
      "text/plain": [
       "LogisticRegression(C=1.0,\n",
       "                   class_weight={0: 0.2951228071496004, 1: 0.7048771928503996},\n",
       "                   dual=False, fit_intercept=True, intercept_scaling=1,\n",
       "                   l1_ratio=None, max_iter=100, multi_class='auto', n_jobs=None,\n",
       "                   penalty='l2', random_state=None, solver='liblinear',\n",
       "                   tol=0.0001, verbose=0, warm_start=False)"
      ]
     },
     "execution_count": 6,
     "metadata": {},
     "output_type": "execute_result"
    }
   ],
   "source": [
    "import pandas as pd\n",
    "from sklearn.linear_model import LogisticRegression\n",
    "from sklearn.preprocessing import OneHotEncoder\n",
    "\n",
    "# Load data.\n",
    "td = fs.get_training_dataset(\"transactions_view_1\",1)\n",
    "X_train = td.read(\"train\")\n",
    "X_val = td.read(\"validation\")\n",
    "\n",
    "# One-hot encode categorical feature \"category\".\n",
    "enc = OneHotEncoder(sparse=False)\n",
    "one_hot_train = pd.DataFrame(enc.fit_transform(X_train[[\"category\"]]))\n",
    "one_hot_val = pd.DataFrame(enc.transform(X_val[[\"category\"]]))\n",
    "X_train = pd.concat([X_train.drop(columns=\"category\"), one_hot_train], axis=1)\n",
    "X_val = pd.concat([X_val.drop(columns=\"category\"), one_hot_val], axis=1)\n",
    "\n",
    "# Separate target feature from input features.\n",
    "target = \"fraud_label\" #td.label[0]   \n",
    "y_train = X_train.pop(target)\n",
    "y_val = X_val.pop(target)\n",
    "\n",
    "# Train model.\n",
    "clf = LogisticRegression(class_weight={0: 1.0 - pos_class_weight, 1: pos_class_weight}, solver='liblinear')\n",
    "clf.fit(X_train, y_train)"
   ]
  },
  {
   "cell_type": "markdown",
   "id": "0aa03a08",
   "metadata": {},
   "source": [
    "We will also compute some evaluation metrics, which we will register together with the model."
   ]
  },
  {
   "cell_type": "code",
   "execution_count": 7,
   "id": "0c13909e",
   "metadata": {},
   "outputs": [
    {
     "name": "stdout",
     "output_type": "stream",
     "text": [
      "              precision    recall  f1-score   support\n",
      "\n",
      "           0       1.00      1.00      1.00     21014\n",
      "           1       0.88      0.19      0.32        36\n",
      "\n",
      "    accuracy                           1.00     21050\n",
      "   macro avg       0.94      0.60      0.66     21050\n",
      "weighted avg       1.00      1.00      1.00     21050\n",
      "\n"
     ]
    }
   ],
   "source": [
    "from sklearn.metrics import precision_recall_fscore_support, classification_report\n",
    "\n",
    "preds = clf.predict(X_val)\n",
    "\n",
    "precision, recall, fscore, _ = precision_recall_fscore_support(y_val, preds, average=\"binary\")\n",
    "\n",
    "metrics = {\n",
    "    'precision': precision,\n",
    "    'recall': recall,\n",
    "    'fscore': fscore\n",
    "}\n",
    "\n",
    "print(classification_report(y_val, preds))\n"
   ]
  },
  {
   "cell_type": "markdown",
   "id": "a984019b",
   "metadata": {},
   "source": [
    "### Register model\n",
    "\n",
    "One of the features in Hopsworks is the model registry. This is where we can store different versions of models and compare their performance. Models from the registry can then be served as API endpoints.\n",
    "\n",
    "Let's connect to the model registry using the [HSML library](https://docs.hopsworks.ai/machine-learning-api/latest) from Hopsworks.\n",
    "\n",
    "# TODO (Davit): make sure serving is enabled in the settings\n"
   ]
  },
  {
   "cell_type": "code",
   "execution_count": 9,
   "id": "8e9639d5",
   "metadata": {},
   "outputs": [
    {
     "name": "stdout",
     "output_type": "stream",
     "text": [
      "Connected. Call `.close()` to terminate connection gracefully.\n"
     ]
    }
   ],
   "source": [
    "import hsml\n",
    "\n",
    "conn = hsml.connection()\n",
    "mr = conn.get_model_registry()"
   ]
  },
  {
   "cell_type": "markdown",
   "id": "48a6ed0c",
   "metadata": {},
   "source": [
    "Before registering the model we will export it as a pickle file using joblib."
   ]
  },
  {
   "cell_type": "code",
   "execution_count": 10,
   "id": "272c30bd",
   "metadata": {},
   "outputs": [
    {
     "data": {
      "text/plain": [
       "['model.pkl']"
      ]
     },
     "execution_count": 10,
     "metadata": {},
     "output_type": "execute_result"
    }
   ],
   "source": [
    "import joblib\n",
    "\n",
    "joblib.dump(clf, 'model.pkl')"
   ]
  },
  {
   "cell_type": "markdown",
   "id": "edd35a90",
   "metadata": {},
   "source": [
    "The model needs to be set up with a [Model Schema](https://docs.hopsworks.ai/machine-learning-api/latest/generated/model_schema/), which describes the inputs and outputs for a model.\n",
    "\n",
    "A Model Schema can be automatically generated from training examples, as shown below."
   ]
  },
  {
   "cell_type": "code",
   "execution_count": 11,
   "id": "733ee548",
   "metadata": {},
   "outputs": [
    {
     "data": {
      "text/plain": [
       "{'input_schema': {'columnar_schema': [{'name': 'amount', 'type': 'float64'},\n",
       "   {'name': 'age_at_transaction', 'type': 'float64'},\n",
       "   {'name': 'days_until_card_expires', 'type': 'float64'},\n",
       "   {'name': 'loc_delta', 'type': 'float64'},\n",
       "   {'name': 'trans_volume_mavg', 'type': 'float64'},\n",
       "   {'name': 'trans_volume_mstd', 'type': 'float64'},\n",
       "   {'name': 'trans_freq', 'type': 'float64'},\n",
       "   {'name': 'loc_delta_mavg', 'type': 'float64'},\n",
       "   {'name': '0', 'type': 'float64'},\n",
       "   {'name': '1', 'type': 'float64'},\n",
       "   {'name': '2', 'type': 'float64'},\n",
       "   {'name': '3', 'type': 'float64'},\n",
       "   {'name': '4', 'type': 'float64'},\n",
       "   {'name': '5', 'type': 'float64'},\n",
       "   {'name': '6', 'type': 'float64'},\n",
       "   {'name': '7', 'type': 'float64'},\n",
       "   {'name': '8', 'type': 'float64'},\n",
       "   {'name': '9', 'type': 'float64'}]},\n",
       " 'output_schema': {'columnar_schema': [{'name': 'fraud_label',\n",
       "    'type': 'int64'}]}}"
      ]
     },
     "execution_count": 11,
     "metadata": {},
     "output_type": "execute_result"
    }
   ],
   "source": [
    "from hsml.schema import Schema\n",
    "from hsml.model_schema import ModelSchema\n",
    "\n",
    "input_schema = Schema(X_train)\n",
    "output_schema = Schema(y_train)\n",
    "model_schema = ModelSchema(input_schema=input_schema, output_schema=output_schema)\n",
    "\n",
    "model_schema.to_dict()"
   ]
  },
  {
   "cell_type": "markdown",
   "id": "eee763ad",
   "metadata": {},
   "source": [
    "With the schema in place, we can finally register our model."
   ]
  },
  {
   "cell_type": "code",
   "execution_count": 12,
   "id": "c7245f03",
   "metadata": {},
   "outputs": [
    {
     "data": {
      "application/vnd.jupyter.widget-view+json": {
       "model_id": "6ae1ee1b19594ce88ff2e7e5fc37f2da",
       "version_major": 2,
       "version_minor": 0
      },
      "text/plain": [
       "HBox(children=(FloatProgress(value=0.0, max=6.0), HTML(value='')))"
      ]
     },
     "metadata": {},
     "output_type": "display_data"
    },
    {
     "name": "stdout",
     "output_type": "stream",
     "text": [
      "\n",
      "Exported model fraud_tutorial_model with version 1\n"
     ]
    },
    {
     "data": {
      "text/plain": [
       "Model('fraud_tutorial_model', 1, 'SKLEARN')"
      ]
     },
     "execution_count": 12,
     "metadata": {},
     "output_type": "execute_result"
    }
   ],
   "source": [
    "model = mr.sklearn.create_model(\n",
    "    name=\"fraud_tutorial_model\",\n",
    "    metrics=metrics,\n",
    "    description=\"Logistic regression model trained with class weights.\",\n",
    "    input_example=X_train.sample(),\n",
    "    model_schema=model_schema\n",
    ")\n",
    "\n",
    "model.save('model.pkl')"
   ]
  },
  {
   "cell_type": "markdown",
   "id": "b463496a",
   "metadata": {},
   "source": [
    "Here we have also saved an input example from the training data, which can be helpful for test purposes.\n",
    "\n",
    "It's important to know that every time you save a model with the same name, a new version of the model will be saved, so nothing will be overwritten. In this way, you can compare several versions of the same model - or create a model with a new name, if you prefer that."
   ]
  },
  {
   "cell_type": "markdown",
   "id": "64f7ab18",
   "metadata": {},
   "source": [
    "#### Finding the best performing model\n",
    "\n",
    "Let's imagine you have trained and registered several versions of the same model. Now you can query the model registry for the best model according to your preferred criterion, say F1-score in our case.\n",
    "\n",
    "The `direction` option is used to indicate if the metric should be high or low (max or min); in our case, it should be high (max)."
   ]
  },
  {
   "cell_type": "code",
   "execution_count": 13,
   "id": "6dd9154f",
   "metadata": {},
   "outputs": [
    {
     "data": {
      "text/plain": [
       "{'id': 'fraud_tutorial_model_1',\n",
       " 'experimentId': None,\n",
       " 'projectName': 'fraud_demo',\n",
       " 'experimentProjectName': 'fraud_demo',\n",
       " 'name': 'fraud_tutorial_model',\n",
       " 'modelSchema': {'href': 'https://hopsworks.glassfish.service.consul:8182/hopsworks-api/api/project/119/dataset/Projects/fraud_demo/Models/fraud_tutorial_model/1/model_schema.json',\n",
       "  'zip_state': 'NONE'},\n",
       " 'version': 1,\n",
       " 'description': 'Logistic regression model trained with class weights.',\n",
       " 'inputExample': {'href': 'https://hopsworks.glassfish.service.consul:8182/hopsworks-api/api/project/119/dataset/Projects/fraud_demo/Models/fraud_tutorial_model/1/input_example.json',\n",
       "  'zip_state': 'NONE'},\n",
       " 'framework': 'SKLEARN',\n",
       " 'metrics': {'precision': '0.875',\n",
       "  'recall': '0.19444444444444445',\n",
       "  'fscore': '0.3181818181818182'},\n",
       " 'trainingDataset': None,\n",
       " 'environment': ['/Projects/fraud_demo/Models/fraud_tutorial_model/1/environment.yml'],\n",
       " 'program': 'Models/fraud_tutorial_model/1/program.ipynb'}"
      ]
     },
     "execution_count": 13,
     "metadata": {},
     "output_type": "execute_result"
    }
   ],
   "source": [
    "best_model = mr.get_best_model(name=\"fraud_tutorial_model\", metric=\"fscore\", direction=\"max\")\n",
    "best_model.to_dict()"
   ]
  },
  {
   "cell_type": "markdown",
   "id": "37cc6c30",
   "metadata": {},
   "source": [
    "### Next Steps\n",
    "\n",
    "In the next notebook, we'll look at model serving for the model we just registered to the Model Registry."
   ]
  }
 ],
 "metadata": {
  "kernelspec": {
   "display_name": "Python",
   "language": "python",
   "name": "python3"
  },
  "language_info": {
   "codemirror_mode": {
    "name": "ipython",
    "version": 3
   },
   "file_extension": ".py",
   "mimetype": "text/x-python",
   "name": "python",
   "nbconvert_exporter": "python",
   "pygments_lexer": "ipython3",
   "version": "3.8.11"
  }
 },
 "nbformat": 4,
 "nbformat_minor": 5
}