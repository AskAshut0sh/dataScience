{
 "cells": [
  {
   "cell_type": "markdown",
   "id": "5bbdfd41",
   "metadata": {},
   "source": [
    "## Model training and registration\n",
    "\n",
    "In this notebook we will:\n",
    "\n",
    "- Register a model to the model registry.\n",
    "- Fetch the model from the model registry.\n",
    "\n",
    "This will introduce the `hsml` (**H**opsworks **M**achine **L**earning) library, which contains functionality to keep track of models and deploy them."
   ]
  },
  {
   "cell_type": "code",
   "execution_count": 1,
   "id": "3f3b9bd3",
   "metadata": {},
   "outputs": [
    {
     "name": "stdout",
     "output_type": "stream",
     "text": [
      "Connected. Call `.close()` to terminate connection gracefully.\n"
     ]
    }
   ],
   "source": [
    "import hsfs\n",
    "\n",
    "conn = hsfs.connection()\n",
    "fs = conn.get_feature_store()"
   ]
  },
  {
   "cell_type": "markdown",
   "id": "c18d51b5",
   "metadata": {},
   "source": [
    "### Load Best Hyperparameters\n",
    "\n",
    "We will train a model using the best hyperparameters we found in the previous notebook.\n",
    "Recall that we saved these as a pickled dictionary that we uploaded to our cluster.\n",
    "If you don't have the file locally you can download it using the *hopsworks* library."
   ]
  },
  {
   "cell_type": "code",
   "execution_count": null,
   "id": "198f59c4",
   "metadata": {},
   "outputs": [],
   "source": [
    "import hopsworks\n",
    "\n",
    "hopsworks_conn = hopsworks.connection()\n",
    "project = hopsworks_conn.get_project()\n",
    "dataset_api = project.get_dataset_api()\n",
    "\n",
    "uploaded_file_path = \"Resources/best_params.pickle\"\n",
    "dataset_api.download(uploaded_file_path)"
   ]
  },
  {
   "cell_type": "markdown",
   "id": "a9ca3e69",
   "metadata": {},
   "source": [
    "Retrieve the best hyperparameters from this file."
   ]
  },
  {
   "cell_type": "code",
   "execution_count": null,
   "id": "5284e8b1",
   "metadata": {},
   "outputs": [],
   "source": [
    "import pickle\n",
    "\n",
    "with open(\"best_params.pickle\", \"rb\") as f:\n",
    "    best_params = pickle.load(f)\n",
    "\n",
    "pos_class_weight = best_params[\"pos_class_weight\"]\n",
    "\n",
    "print(pos_class_weight)"
   ]
  },
  {
   "cell_type": "markdown",
   "id": "05e5847a",
   "metadata": {},
   "source": [
    "### Load Training Data & Train Model\n",
    "\n",
    "Next, we'll train a model in the same way as the previous notebook."
   ]
  },
  {
   "cell_type": "code",
   "execution_count": 4,
   "id": "ebec6329",
   "metadata": {},
   "outputs": [
    {
     "name": "stderr",
     "output_type": "stream",
     "text": [
      "FutureWarning: pyarrow.hdfs.HadoopFileSystem is deprecated as of 2.0.0, please use pyarrow.fs.HadoopFileSystem instead.\n"
     ]
    }
   ],
   "source": [
    "from sklearn.linear_model import LogisticRegression\n",
    "\n",
    "# Load data.\n",
    "td = fs.get_training_dataset(\"transactions_dataset_splitted\")\n",
    "X_train = td.read(\"train\")\n",
    "X_val = td.read(\"validation\")\n",
    "target = td.label[0]  # \"fraud_label\"\n",
    "y_train = X_train.pop(target)\n",
    "y_val = X_val.pop(target)\n",
    "\n",
    "# Train model.\n",
    "clf = LogisticRegression(class_weight={0: 1.0 - pos_class_weight, 1: pos_class_weight}, solver='liblinear')\n",
    "clf.fit(X_train, y_train)"
   ]
  },
  {
   "cell_type": "markdown",
   "id": "27c9570d",
   "metadata": {},
   "source": [
    "We will also compute some evaluation metrics, which we will register together with the model."
   ]
  },
  {
   "cell_type": "code",
   "execution_count": null,
   "id": "cb072f21",
   "metadata": {},
   "outputs": [],
   "source": [
    "from sklearn.metrics import precision_recall_fscore_support, classification_report\n",
    "\n",
    "preds = clf.predict(X_val)\n",
    "\n",
    "precision, recall, fscore, _ = precision_recall_fscore_support(y_val, preds)\n",
    "\n",
    "metrics = {\n",
    "    'precision': precision[1],\n",
    "    'recall': recall[1],\n",
    "    'fscore': fscore[1]\n",
    "}\n",
    "\n",
    "print(classification_report(y_val, preds))\n"
   ]
  },
  {
   "cell_type": "markdown",
   "id": "2fd005ae",
   "metadata": {},
   "source": [
    "### Register model\n",
    "\n",
    "One of the features in Hopsworks is the model registry. This is where we can store different versions of models and compare their performance. Models from the registry can then be served as API endpoints.\n",
    "\n",
    "Let's connect to the model registry using the [HSML library](https://docs.hopsworks.ai/machine-learning-api/latest) from Hopsworks."
   ]
  },
  {
   "cell_type": "code",
   "execution_count": 12,
   "id": "7d5fb22c",
   "metadata": {},
   "outputs": [
    {
     "name": "stdout",
     "output_type": "stream",
     "text": [
      "Connected. Call `.close()` to terminate connection gracefully.\n"
     ]
    }
   ],
   "source": [
    "import hsml\n",
    "\n",
    "conn = hsml.connection()\n",
    "mr = conn.get_model_registry()"
   ]
  },
  {
   "cell_type": "markdown",
   "id": "bb3f7260",
   "metadata": {},
   "source": [
    "Before registering the model we will export it as a pickle file using joblib."
   ]
  },
  {
   "cell_type": "code",
   "execution_count": null,
   "id": "e1a0e371",
   "metadata": {},
   "outputs": [],
   "source": [
    "import joblib\n",
    "import os\n",
    "\n",
    "# TODO Do we need to store the .pkl file in a directory?\n",
    "\n",
    "os.mkdir('tmp_model')\n",
    "joblib.dump(clf, 'tmp_model/model.pkl')"
   ]
  },
  {
   "cell_type": "markdown",
   "id": "cdb793fa",
   "metadata": {},
   "source": [
    "The model needs to be set up with a [Model Schema](https://docs.hopsworks.ai/machine-learning-api/latest/generated/model_schema/), which describes the inputs and outputs for a model.\n",
    "\n",
    "A Model Schema can be automatically generated from training examples, as shown below."
   ]
  },
  {
   "cell_type": "code",
   "execution_count": 13,
   "id": "b5f95cb4",
   "metadata": {},
   "outputs": [
    {
     "data": {
      "application/vnd.jupyter.widget-view+json": {
       "model_id": "82be0e1aedc34f94ad9aae36da358dfc",
       "version_major": 2,
       "version_minor": 0
      },
      "text/plain": [
       "HBox(children=(FloatProgress(value=0.0, max=6.0), HTML(value='')))"
      ]
     },
     "metadata": {},
     "output_type": "display_data"
    },
    {
     "name": "stdout",
     "output_type": "stream",
     "text": [
      "\n",
      "Exported model fraud_tutorial_model with version 1\n"
     ]
    },
    {
     "data": {
      "text/plain": [
       "<hsml.sklearn.model.Model at 0x7f1f48189c10>"
      ]
     },
     "execution_count": 13,
     "metadata": {},
     "output_type": "execute_result"
    }
   ],
   "source": [
    "from hsml.schema import Schema\n",
    "from hsml.model_schema import ModelSchema\n",
    "\n",
    "input_schema = Schema(X_train)\n",
    "output_schema = Schema(y_train)\n",
    "model_schema = ModelSchema(input_schema=input_schema, output_schema=output_schema)\n",
    "\n",
    "model_schema.to_dict()"
   ]
  },
  {
   "cell_type": "markdown",
   "id": "40853df1",
   "metadata": {},
   "source": [
    "With the schema in place, we can finally register our model."
   ]
  },
  {
   "cell_type": "code",
   "execution_count": null,
   "id": "68144e4f",
   "metadata": {},
   "outputs": [],
   "source": [
    "model = mr.sklearn.create_model(\n",
    "    name=\"fraud_tutorial_model\",\n",
    "    metrics=metrics,\n",
    "    description=\"Logistic regression model trained with class weights.\",\n",
    "    input_example=X_train.sample(),\n",
    "    model_schema=model_schema\n",
    ")\n",
    "\n",
    "model.save('tmp_model')"
   ]
  },
  {
   "cell_type": "markdown",
   "id": "b79230b1",
   "metadata": {},
   "source": [
    "It's important to know that every time you save a model with the same name, a new version of the model will be saved, so nothing will be overwritten. In this way, you can compare several versions of the same model - or create a model with a new name, if you prefer that."
   ]
  },
  {
   "cell_type": "markdown",
   "id": "6f0b077e",
   "metadata": {},
   "source": [
    "#### Finding the best performing model\n",
    "\n",
    "Let's imagine you have trained and registered several versions of the same model. Now you can query the model registry for the best model according to your preferred criterion, say F1-score in our case.\n",
    "\n",
    "The `direction` option is used to indicate if the metric should be high or low (max or min); in our case, it should be high (max)."
   ]
  },
  {
   "cell_type": "code",
   "execution_count": 14,
   "id": "11960427",
   "metadata": {},
   "outputs": [
    {
     "data": {
      "text/plain": [
       "{'id': 'fraud_tutorial_model_1',\n",
       " 'experimentId': None,\n",
       " 'projectName': 'clean_up',\n",
       " 'experimentProjectName': 'clean_up',\n",
       " 'name': 'fraud_tutorial_model',\n",
       " 'modelSchema': {'href': 'https://hopsworks.glassfish.service.consul:8182/hopsworks-api/api/project/125/dataset/Projects/clean_up/Models/fraud_tutorial_model/1/model_schema.json',\n",
       "  'zip_state': 'NONE'},\n",
       " 'version': 1,\n",
       " 'description': 'A collection of models for fraud_tutorial_model',\n",
       " 'inputExample': {'href': 'https://hopsworks.glassfish.service.consul:8182/hopsworks-api/api/project/125/dataset/Projects/clean_up/Models/fraud_tutorial_model/1/input_example.json',\n",
       "  'zip_state': 'NONE'},\n",
       " 'framework': 'SKLEARN',\n",
       " 'metrics': {'positive_precision': '0.016508378499328725',\n",
       "  'positive_recall': '0.8038740920096852'},\n",
       " 'trainingDataset': None,\n",
       " 'environment': ['/Projects/clean_up/Models/fraud_tutorial_model/1/environment.yml'],\n",
       " 'program': 'Models/fraud_tutorial_model/1/program.ipynb'}"
      ]
     },
     "execution_count": 14,
     "metadata": {},
     "output_type": "execute_result"
    }
   ],
   "source": [
    "best_model = mr.get_best_model(name=\"fraud_tutorial_model\", metric=\"fscore\", direction=\"max\")\n",
    "best_model.to_dict()"
   ]
  },
  {
   "cell_type": "markdown",
   "id": "b5a25f21",
   "metadata": {},
   "source": [
    "### Next Steps\n",
    "\n",
    "In the next notebook, we'll look at model serving for the model we just registered to the Model Registry."
   ]
  }
 ],
 "metadata": {
  "kernelspec": {
   "display_name": "Python",
   "language": "python",
   "name": "python3"
  },
  "language_info": {
   "codemirror_mode": {
    "name": "ipython",
    "version": 3
   },
   "file_extension": ".py",
   "mimetype": "text/x-python",
   "name": "python",
   "nbconvert_exporter": "python",
   "pygments_lexer": "ipython3",
   "version": "3.8.11"
  }
 },
 "nbformat": 4,
 "nbformat_minor": 5
}
