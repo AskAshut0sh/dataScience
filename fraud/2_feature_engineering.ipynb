{
 "cells": [
  {
   "cell_type": "markdown",
   "id": "6b891afd",
   "metadata": {},
   "source": [
    "## Fraud Tutorial - Feature Engineering\n",
    "\n",
    "In this notebook you will learn how to:\n",
    "- Create derived feature groups from raw feature groups."
   ]
  },
  {
   "cell_type": "code",
   "execution_count": 1,
   "id": "a4b24f29",
   "metadata": {},
   "outputs": [
    {
     "name": "stdout",
     "output_type": "stream",
     "text": [
      "Connected. Call `.close()` to terminate connection gracefully.\n"
     ]
    }
   ],
   "source": [
    "import hsfs\n",
    "\n",
    "conn = hsfs.connection()\n",
    "fs = conn.get_feature_store()"
   ]
  },
  {
   "cell_type": "markdown",
   "id": "7f9f9d86",
   "metadata": {},
   "source": [
    "#### Load Feature Groups\n",
    "We start by loading the feature groups we created in the previous notebook.\n",
    "\n",
    "To load a feature group we simply run `fs.get_feature_group(name, version)` where `name` and `version` is the name and version of the feature group, respectively. By default `version` is set to `1`, which means that the first version of the feature group is loaded."
   ]
  },
  {
   "cell_type": "code",
   "execution_count": 4,
   "id": "2c64dc1a",
   "metadata": {},
   "outputs": [],
   "source": [
    "# TODO All of these should be version one in the final version.\n",
    "credit_cards_fg = fs.get_feature_group(\"credit_cards\", 1)\n",
    "profiles_fg = fs.get_feature_group(\"profiles\", 1)\n",
    "trans_fg = fs.get_feature_group(\"transactions\", 1)\n",
    "\n",
    "# trans_fg.show(5)"
   ]
  },
  {
   "cell_type": "markdown",
   "id": "0a12be25",
   "metadata": {},
   "source": [
    "### Feature Engineering\n",
    "\n",
    "To train a model on fraud detection we first need to design a dataset that includes informative features from our feature groups. This can be both raw features, e.g. `amount` in the transaction feature group, and engineered features.\n",
    "\n",
    "We will create two types of features:\n",
    "1. Features that aggregate data from multiple feature groups. This could for instance be the age of a customer at the time of a transaction, which combines the `birthdate` feature from the profiles feature group with the `datetime` feature from the transactions feature group. These features will be stored in a feature group named `transactions_add_info`.\n",
    "2. Features that aggregate data from multiple time steps. An example of this could be the transaction frequency of a credit card in the span of a few hours. These features will be stored in a feature group named `transactions_4h_aggs` (we will use 4-hour windows in this tutorial).\n",
    "\n",
    "Both of these feature groups will have the transaction ID `tid` as primary key, which allows us to join them with the transactions feature group when creating the dataset."
   ]
  },
  {
   "cell_type": "markdown",
   "id": "64e2d593",
   "metadata": {},
   "source": [
    "#### `transactions_add_info`\n",
    "\n",
    "We start with creating the `transactions_add_info` feature group, which for each transaction will have the following features:\n",
    "- `age_at_transaction`: The age of the customer.\n",
    "- `days_until_card_expires`: Number of days until the credit card expires.\n",
    "\n",
    "First, we make a query to get the raw features we need."
   ]
  },
  {
   "cell_type": "code",
   "execution_count": 5,
   "id": "264d1ca2",
   "metadata": {},
   "outputs": [
    {
     "name": "stdout",
     "output_type": "stream",
     "text": [
      "2022-04-25 20:29:22,818 INFO: USE `clean_up_featurestore`\n",
      "2022-04-25 20:29:23,513 INFO: SELECT `fg2`.`birthdate`, `fg0`.`tid`, `fg0`.`datetime`, `fg1`.`expires`\n",
      "FROM `clean_up_featurestore`.`profiles_1` `fg2`\n",
      "INNER JOIN `clean_up_featurestore`.`transactions_1` `fg0` ON `fg2`.`cc_num` = `fg0`.`cc_num`\n",
      "INNER JOIN `clean_up_featurestore`.`credit_cards_1` `fg1` ON `fg2`.`cc_num` = `fg1`.`cc_num`\n"
     ]
    },
    {
     "data": {
      "text/html": [
       "<div>\n",
       "<style scoped>\n",
       "    .dataframe tbody tr th:only-of-type {\n",
       "        vertical-align: middle;\n",
       "    }\n",
       "\n",
       "    .dataframe tbody tr th {\n",
       "        vertical-align: top;\n",
       "    }\n",
       "\n",
       "    .dataframe thead th {\n",
       "        text-align: right;\n",
       "    }\n",
       "</style>\n",
       "<table border=\"1\" class=\"dataframe\">\n",
       "  <thead>\n",
       "    <tr style=\"text-align: right;\">\n",
       "      <th></th>\n",
       "      <th>birthdate</th>\n",
       "      <th>tid</th>\n",
       "      <th>datetime</th>\n",
       "      <th>expires</th>\n",
       "    </tr>\n",
       "  </thead>\n",
       "  <tbody>\n",
       "    <tr>\n",
       "      <th>0</th>\n",
       "      <td>1933-07-23</td>\n",
       "      <td>d64878049fafec2835baa6bbcc521559</td>\n",
       "      <td>2022-02-14 16:32:52</td>\n",
       "      <td>06/22</td>\n",
       "    </tr>\n",
       "    <tr>\n",
       "      <th>1</th>\n",
       "      <td>1988-06-22</td>\n",
       "      <td>ddcfa7ca42e680cbf832c2d5b00c0644</td>\n",
       "      <td>2022-01-19 10:54:42</td>\n",
       "      <td>01/26</td>\n",
       "    </tr>\n",
       "    <tr>\n",
       "      <th>2</th>\n",
       "      <td>1968-09-18</td>\n",
       "      <td>9ed26465cc8f2f3d9ee1a7bea9a02c00</td>\n",
       "      <td>2022-01-15 23:30:50</td>\n",
       "      <td>05/22</td>\n",
       "    </tr>\n",
       "    <tr>\n",
       "      <th>3</th>\n",
       "      <td>2002-03-09</td>\n",
       "      <td>157acb8811ee9577ef5b279149ea8642</td>\n",
       "      <td>2022-02-08 15:16:13</td>\n",
       "      <td>08/21</td>\n",
       "    </tr>\n",
       "    <tr>\n",
       "      <th>4</th>\n",
       "      <td>1997-02-27</td>\n",
       "      <td>087f8c8b7c3f3bcd0970abbd17741331</td>\n",
       "      <td>2022-01-13 14:51:29</td>\n",
       "      <td>06/25</td>\n",
       "    </tr>\n",
       "  </tbody>\n",
       "</table>\n",
       "</div>"
      ],
      "text/plain": [
       "   birthdate                               tid            datetime expires\n",
       "0 1933-07-23  d64878049fafec2835baa6bbcc521559 2022-02-14 16:32:52   06/22\n",
       "1 1988-06-22  ddcfa7ca42e680cbf832c2d5b00c0644 2022-01-19 10:54:42   01/26\n",
       "2 1968-09-18  9ed26465cc8f2f3d9ee1a7bea9a02c00 2022-01-15 23:30:50   05/22\n",
       "3 2002-03-09  157acb8811ee9577ef5b279149ea8642 2022-02-08 15:16:13   08/21\n",
       "4 1997-02-27  087f8c8b7c3f3bcd0970abbd17741331 2022-01-13 14:51:29   06/25"
      ]
     },
     "execution_count": 5,
     "metadata": {},
     "output_type": "execute_result"
    }
   ],
   "source": [
    "# Fetch the features we need.\n",
    "query = profiles_fg.select([\"birthdate\"])\\\n",
    "    .join(trans_fg.select([\"tid\", \"datetime\"]), on=[\"cc_num\"])\\\n",
    "    .join(credit_cards_fg.select([\"expires\"]), on=[\"cc_num\"])\n",
    "\n",
    "# Load the query results into a dataframe.\n",
    "query_df = query.read()\n",
    "\n",
    "# TODO remove once the prefix bug has been resolved.\n",
    "query_df.columns = query_df.columns.str.lstrip('fg(0|1|2).')\n",
    "\n",
    "query_df.head()"
   ]
  },
  {
   "cell_type": "markdown",
   "id": "0075cb35",
   "metadata": {},
   "source": [
    "We can now compute the features we are interested in."
   ]
  },
  {
   "cell_type": "code",
   "execution_count": 6,
   "id": "71c5485f",
   "metadata": {},
   "outputs": [
    {
     "data": {
      "text/html": [
       "<div>\n",
       "<style scoped>\n",
       "    .dataframe tbody tr th:only-of-type {\n",
       "        vertical-align: middle;\n",
       "    }\n",
       "\n",
       "    .dataframe tbody tr th {\n",
       "        vertical-align: top;\n",
       "    }\n",
       "\n",
       "    .dataframe thead th {\n",
       "        text-align: right;\n",
       "    }\n",
       "</style>\n",
       "<table border=\"1\" class=\"dataframe\">\n",
       "  <thead>\n",
       "    <tr style=\"text-align: right;\">\n",
       "      <th></th>\n",
       "      <th>tid</th>\n",
       "      <th>age_at_transaction</th>\n",
       "      <th>days_until_card_expires</th>\n",
       "    </tr>\n",
       "  </thead>\n",
       "  <tbody>\n",
       "    <tr>\n",
       "      <th>0</th>\n",
       "      <td>d64878049fafec2835baa6bbcc521559</td>\n",
       "      <td>88.567704</td>\n",
       "      <td>106.310509</td>\n",
       "    </tr>\n",
       "    <tr>\n",
       "      <th>1</th>\n",
       "      <td>ddcfa7ca42e680cbf832c2d5b00c0644</td>\n",
       "      <td>33.578936</td>\n",
       "      <td>1442.545347</td>\n",
       "    </tr>\n",
       "    <tr>\n",
       "      <th>2</th>\n",
       "      <td>9ed26465cc8f2f3d9ee1a7bea9a02c00</td>\n",
       "      <td>53.328897</td>\n",
       "      <td>105.020255</td>\n",
       "    </tr>\n",
       "    <tr>\n",
       "      <th>3</th>\n",
       "      <td>157acb8811ee9577ef5b279149ea8642</td>\n",
       "      <td>19.922753</td>\n",
       "      <td>-191.636262</td>\n",
       "    </tr>\n",
       "    <tr>\n",
       "      <th>4</th>\n",
       "      <td>087f8c8b7c3f3bcd0970abbd17741331</td>\n",
       "      <td>24.878318</td>\n",
       "      <td>1234.380914</td>\n",
       "    </tr>\n",
       "  </tbody>\n",
       "</table>\n",
       "</div>"
      ],
      "text/plain": [
       "                                tid  age_at_transaction  \\\n",
       "0  d64878049fafec2835baa6bbcc521559           88.567704   \n",
       "1  ddcfa7ca42e680cbf832c2d5b00c0644           33.578936   \n",
       "2  9ed26465cc8f2f3d9ee1a7bea9a02c00           53.328897   \n",
       "3  157acb8811ee9577ef5b279149ea8642           19.922753   \n",
       "4  087f8c8b7c3f3bcd0970abbd17741331           24.878318   \n",
       "\n",
       "   days_until_card_expires  \n",
       "0               106.310509  \n",
       "1              1442.545347  \n",
       "2               105.020255  \n",
       "3              -191.636262  \n",
       "4              1234.380914  "
      ]
     },
     "execution_count": 6,
     "metadata": {},
     "output_type": "execute_result"
    }
   ],
   "source": [
    "import numpy as np\n",
    "import pandas as pd\n",
    "\n",
    "# Create dataframe for new feature group.\n",
    "trans_add_info_df = pd.DataFrame()\n",
    "trans_add_info_df[\"tid\"] = query_df[\"tid\"]\n",
    "\n",
    "trans_add_info_df[\"age_at_transaction\"] = (query_df[\"datetime\"] - query_df[\"birthdate\"]) / np.timedelta64(1, \"Y\")\n",
    "trans_add_info_df[\"days_until_card_expires\"] = (pd.to_datetime(query_df[\"expires\"], format=\"%m/%y\") - query_df[\"datetime\"]) / np.timedelta64(1, \"D\")\n",
    "\n",
    "trans_add_info_df.head()"
   ]
  },
  {
   "cell_type": "markdown",
   "id": "a3511973",
   "metadata": {},
   "source": [
    "We save the feature group to our feature store in the same way as before."
   ]
  },
  {
   "cell_type": "code",
   "execution_count": 7,
   "id": "6c8274db",
   "metadata": {},
   "outputs": [
    {
     "name": "stdout",
     "output_type": "stream",
     "text": [
      "Configuring ingestion job...\n",
      "Uploading Pandas dataframe...\n",
      "Launching ingestion job...\n",
      "Ingestion Job started successfully, you can follow the progress at https://hopsworks.glassfish.service.consul:8182/p/125/jobs/named/transactions_add_info_1_insert_fg_25042022203152/executions\n"
     ]
    },
    {
     "name": "stderr",
     "output_type": "stream",
     "text": [
      "VersionWarning: No version provided for creating feature group `transactions_add_info`, incremented version to `1`.\n"
     ]
    },
    {
     "data": {
      "text/plain": [
       "<hsfs.core.job.Job at 0x7fa592bba580>"
      ]
     },
     "execution_count": 7,
     "metadata": {},
     "output_type": "execute_result"
    }
   ],
   "source": [
    "trans_add_info_fg = fs.create_feature_group(\n",
    "    name=\"transactions_add_info\",\n",
    "    description=\"Additional transaction information.\",\n",
    "    primary_key=[\"tid\"],\n",
    "    online_enabled=True\n",
    ")\n",
    "trans_add_info_fg.save(trans_add_info_df)"
   ]
  },
  {
   "cell_type": "markdown",
   "id": "a48f49f5",
   "metadata": {},
   "source": [
    "#### `transactions_4h_aggs`\n",
    "\n",
    "Next, we create features that for each credit card aggregate data from multiple time steps.\n",
    "For each transaction we add 5 features:\n",
    "- `trans_volume_mavg`: Moving average of transaction volume in the last 4 hours.\n",
    "- `trans_volume_mstd`: Moving standard deviation of transaction volume in the last 4 hours.\n",
    "- `trans_freq`: Transaction frequency in the last 4 hours.\n",
    "- `loc_delta`: Distance between the location of two consecutive transactions of a credit card.\n",
    "- `loc_delta_mavg`: Moving average of `loc_delta` in the last 4 hours.\n",
    "\n",
    "We start by computing the first three features."
   ]
  },
  {
   "cell_type": "code",
   "execution_count": 8,
   "id": "5f4d65fc",
   "metadata": {},
   "outputs": [
    {
     "name": "stdout",
     "output_type": "stream",
     "text": [
      "2022-04-25 20:34:22,219 INFO: USE `clean_up_featurestore`\n",
      "2022-04-25 20:34:22,908 INFO: SELECT `fg0`.`tid`, `fg0`.`datetime`, `fg0`.`cc_num`, `fg0`.`category`, `fg0`.`amount`, `fg0`.`latitude`, `fg0`.`longitude`, `fg0`.`city`, `fg0`.`country`, `fg0`.`fraud_label`\n",
      "FROM `clean_up_featurestore`.`transactions_1` `fg0`\n"
     ]
    }
   ],
   "source": [
    "from math import radians\n",
    "\n",
    "# Load data from the transaction feature group.\n",
    "trans_df = trans_fg.read()\n",
    "\n",
    "# TODO remove once the prefix bug has been resolved.\n",
    "trans_df.columns = trans_df.columns.str.lstrip('fg(0|1|2).')\n",
    "\n",
    "# Do some simple preprocessing.\n",
    "trans_df.sort_values(\"datetime\", inplace=True)\n",
    "trans_df[[\"longitude\", \"latitude\"]] = trans_df[[\"longitude\", \"latitude\"]].applymap(radians)"
   ]
  },
  {
   "cell_type": "code",
   "execution_count": 9,
   "id": "131fd2c6",
   "metadata": {},
   "outputs": [
    {
     "data": {
      "text/html": [
       "<div>\n",
       "<style scoped>\n",
       "    .dataframe tbody tr th:only-of-type {\n",
       "        vertical-align: middle;\n",
       "    }\n",
       "\n",
       "    .dataframe tbody tr th {\n",
       "        vertical-align: top;\n",
       "    }\n",
       "\n",
       "    .dataframe thead th {\n",
       "        text-align: right;\n",
       "    }\n",
       "</style>\n",
       "<table border=\"1\" class=\"dataframe\">\n",
       "  <thead>\n",
       "    <tr style=\"text-align: right;\">\n",
       "      <th></th>\n",
       "      <th>tid</th>\n",
       "      <th>trans_volume_mavg</th>\n",
       "      <th>trans_volume_mstd</th>\n",
       "      <th>trans_freq</th>\n",
       "    </tr>\n",
       "  </thead>\n",
       "  <tbody>\n",
       "    <tr>\n",
       "      <th>263950</th>\n",
       "      <td>8fcb8bb87f0edfe2464f49e0b3b49a31</td>\n",
       "      <td>63.97</td>\n",
       "      <td>0.0</td>\n",
       "      <td>1.0</td>\n",
       "    </tr>\n",
       "    <tr>\n",
       "      <th>406927</th>\n",
       "      <td>c615c36e298e4ce00238484a93b581ae</td>\n",
       "      <td>585.64</td>\n",
       "      <td>0.0</td>\n",
       "      <td>1.0</td>\n",
       "    </tr>\n",
       "    <tr>\n",
       "      <th>65483</th>\n",
       "      <td>f0150f187cc462f7f649a4a8e13af28f</td>\n",
       "      <td>48.72</td>\n",
       "      <td>0.0</td>\n",
       "      <td>1.0</td>\n",
       "    </tr>\n",
       "    <tr>\n",
       "      <th>299322</th>\n",
       "      <td>bbd562425595518ec5d97ca41400aef9</td>\n",
       "      <td>1.42</td>\n",
       "      <td>0.0</td>\n",
       "      <td>1.0</td>\n",
       "    </tr>\n",
       "    <tr>\n",
       "      <th>224380</th>\n",
       "      <td>1a348f9ce0477c264edd70cff9a46beb</td>\n",
       "      <td>11.82</td>\n",
       "      <td>0.0</td>\n",
       "      <td>1.0</td>\n",
       "    </tr>\n",
       "  </tbody>\n",
       "</table>\n",
       "</div>"
      ],
      "text/plain": [
       "                                     tid  trans_volume_mavg  \\\n",
       "263950  8fcb8bb87f0edfe2464f49e0b3b49a31              63.97   \n",
       "406927  c615c36e298e4ce00238484a93b581ae             585.64   \n",
       "65483   f0150f187cc462f7f649a4a8e13af28f              48.72   \n",
       "299322  bbd562425595518ec5d97ca41400aef9               1.42   \n",
       "224380  1a348f9ce0477c264edd70cff9a46beb              11.82   \n",
       "\n",
       "        trans_volume_mstd  trans_freq  \n",
       "263950                0.0         1.0  \n",
       "406927                0.0         1.0  \n",
       "65483                 0.0         1.0  \n",
       "299322                0.0         1.0  \n",
       "224380                0.0         1.0  "
      ]
     },
     "execution_count": 9,
     "metadata": {},
     "output_type": "execute_result"
    }
   ],
   "source": [
    "# Create dataframe for new feature group.\n",
    "trans_4h_aggs_df = pd.DataFrame()\n",
    "trans_4h_aggs_df[\"tid\"] = trans_df[\"tid\"]\n",
    "\n",
    "window_len = \"4h\"\n",
    "cc_group = trans_df.groupby(\"cc_num\")\n",
    "\n",
    "trans_4h_aggs_df['trans_volume_mavg'] = cc_group[[\"datetime\", \"amount\"]]\\\n",
    "    .rolling(window_len, on=\"datetime\")\\\n",
    "    .mean()\\\n",
    "    .reset_index(level=0, drop=True)\\\n",
    "    .drop(columns=[\"datetime\"])\n",
    "\n",
    "trans_4h_aggs_df['trans_volume_mstd'] = cc_group[[\"datetime\", \"amount\"]]\\\n",
    "    .rolling(window_len, on=\"datetime\")\\\n",
    "    .std()\\\n",
    "    .reset_index(level=0, drop=True)\\\n",
    "    .drop(columns=[\"datetime\"])\\\n",
    "    .fillna(0)\n",
    "\n",
    "trans_4h_aggs_df['trans_freq'] = cc_group[[\"datetime\", \"tid\"]]\\\n",
    "    .rolling(window_len, on=\"datetime\")\\\n",
    "    .count()\\\n",
    "    .reset_index(level=0, drop=True)\\\n",
    "    .drop(columns=[\"datetime\"])\n",
    "\n",
    "trans_4h_aggs_df.tail()"
   ]
  },
  {
   "cell_type": "markdown",
   "id": "89566d49",
   "metadata": {},
   "source": [
    "Next, we compute the distance between consecutive transactions, as well as the moving average of that.\n",
    "Here we use the [Haversine distance](https://scikit-learn.org/stable/modules/generated/sklearn.metrics.pairwise.haversine_distances.html?highlight=haversine#sklearn.metrics.pairwise.haversine_distances) to quantify the distance between two longitude and latitude coordinates."
   ]
  },
  {
   "cell_type": "code",
   "execution_count": 10,
   "id": "9f18019e",
   "metadata": {},
   "outputs": [
    {
     "data": {
      "text/html": [
       "<div>\n",
       "<style scoped>\n",
       "    .dataframe tbody tr th:only-of-type {\n",
       "        vertical-align: middle;\n",
       "    }\n",
       "\n",
       "    .dataframe tbody tr th {\n",
       "        vertical-align: top;\n",
       "    }\n",
       "\n",
       "    .dataframe thead th {\n",
       "        text-align: right;\n",
       "    }\n",
       "</style>\n",
       "<table border=\"1\" class=\"dataframe\">\n",
       "  <thead>\n",
       "    <tr style=\"text-align: right;\">\n",
       "      <th></th>\n",
       "      <th>tid</th>\n",
       "      <th>trans_volume_mavg</th>\n",
       "      <th>trans_volume_mstd</th>\n",
       "      <th>trans_freq</th>\n",
       "      <th>loc_delta</th>\n",
       "      <th>loc_delta_mavg</th>\n",
       "    </tr>\n",
       "  </thead>\n",
       "  <tbody>\n",
       "    <tr>\n",
       "      <th>263950</th>\n",
       "      <td>8fcb8bb87f0edfe2464f49e0b3b49a31</td>\n",
       "      <td>63.97</td>\n",
       "      <td>0.0</td>\n",
       "      <td>1.0</td>\n",
       "      <td>0.000170</td>\n",
       "      <td>0.000170</td>\n",
       "    </tr>\n",
       "    <tr>\n",
       "      <th>406927</th>\n",
       "      <td>c615c36e298e4ce00238484a93b581ae</td>\n",
       "      <td>585.64</td>\n",
       "      <td>0.0</td>\n",
       "      <td>1.0</td>\n",
       "      <td>0.000096</td>\n",
       "      <td>0.000096</td>\n",
       "    </tr>\n",
       "    <tr>\n",
       "      <th>65483</th>\n",
       "      <td>f0150f187cc462f7f649a4a8e13af28f</td>\n",
       "      <td>48.72</td>\n",
       "      <td>0.0</td>\n",
       "      <td>1.0</td>\n",
       "      <td>0.000098</td>\n",
       "      <td>0.000098</td>\n",
       "    </tr>\n",
       "    <tr>\n",
       "      <th>299322</th>\n",
       "      <td>bbd562425595518ec5d97ca41400aef9</td>\n",
       "      <td>1.42</td>\n",
       "      <td>0.0</td>\n",
       "      <td>1.0</td>\n",
       "      <td>0.000034</td>\n",
       "      <td>0.000034</td>\n",
       "    </tr>\n",
       "    <tr>\n",
       "      <th>224380</th>\n",
       "      <td>1a348f9ce0477c264edd70cff9a46beb</td>\n",
       "      <td>11.82</td>\n",
       "      <td>0.0</td>\n",
       "      <td>1.0</td>\n",
       "      <td>0.000089</td>\n",
       "      <td>0.000089</td>\n",
       "    </tr>\n",
       "  </tbody>\n",
       "</table>\n",
       "</div>"
      ],
      "text/plain": [
       "                                     tid  trans_volume_mavg  \\\n",
       "263950  8fcb8bb87f0edfe2464f49e0b3b49a31              63.97   \n",
       "406927  c615c36e298e4ce00238484a93b581ae             585.64   \n",
       "65483   f0150f187cc462f7f649a4a8e13af28f              48.72   \n",
       "299322  bbd562425595518ec5d97ca41400aef9               1.42   \n",
       "224380  1a348f9ce0477c264edd70cff9a46beb              11.82   \n",
       "\n",
       "        trans_volume_mstd  trans_freq  loc_delta  loc_delta_mavg  \n",
       "263950                0.0         1.0   0.000170        0.000170  \n",
       "406927                0.0         1.0   0.000096        0.000096  \n",
       "65483                 0.0         1.0   0.000098        0.000098  \n",
       "299322                0.0         1.0   0.000034        0.000034  \n",
       "224380                0.0         1.0   0.000089        0.000089  "
      ]
     },
     "execution_count": 10,
     "metadata": {},
     "output_type": "execute_result"
    }
   ],
   "source": [
    "def haversine(long, lat):\n",
    "    \"\"\"Compute Haversine distance between each consecutive coordinate in (long, lat).\"\"\"\n",
    "\n",
    "    long_shifted = long.shift()\n",
    "    lat_shifted = lat.shift()\n",
    "    long_diff = long_shifted - long\n",
    "    lat_diff = lat_shifted - lat\n",
    "\n",
    "    a = np.sin(lat_diff/2.0)**2\n",
    "    b = np.cos(lat) * np.cos(lat_shifted) * np.sin(long_diff/2.0)**2\n",
    "    c = 2*np.arcsin(np.sqrt(a + b))\n",
    "\n",
    "    return c\n",
    "\n",
    "# Create temporary dataframe for computations.\n",
    "loc_df = trans_df[[\"tid\", \"datetime\", \"cc_num\"]].copy()\n",
    "\n",
    "# Distance betwen each consecutive transaction of a card.\n",
    "loc_df[\"loc_delta\"] = cc_group.apply(lambda x: haversine(x[\"longitude\"], x[\"latitude\"]))\\\n",
    "    .reset_index(level=0, drop=True)\\\n",
    "    .fillna(0)\n",
    "\n",
    "loc_df[\"loc_delta_mavg\"] = loc_df.groupby(\"cc_num\")[[\"datetime\", \"loc_delta\"]]\\\n",
    "    .rolling(window_len, on=\"datetime\")\\\n",
    "    .mean()\\\n",
    "    .reset_index(level=0, drop=True)\\\n",
    "    .drop(columns=[\"datetime\"])\n",
    "\n",
    "trans_4h_aggs_df[\"loc_delta\"] = loc_df[\"loc_delta\"]\n",
    "trans_4h_aggs_df[\"loc_delta_mavg\"] = loc_df[\"loc_delta_mavg\"]\n",
    "\n",
    "trans_4h_aggs_df.tail()"
   ]
  },
  {
   "cell_type": "code",
   "execution_count": 11,
   "id": "9f857134",
   "metadata": {},
   "outputs": [
    {
     "name": "stdout",
     "output_type": "stream",
     "text": [
      "Configuring ingestion job...\n",
      "Uploading Pandas dataframe...\n",
      "Launching ingestion job...\n",
      "Ingestion Job started successfully, you can follow the progress at https://hopsworks.glassfish.service.consul:8182/p/125/jobs/named/transactions_4h_aggs_1_insert_fg_25042022203515/executions\n"
     ]
    },
    {
     "name": "stderr",
     "output_type": "stream",
     "text": [
      "VersionWarning: No version provided for creating feature group `transactions_4h_aggs`, incremented version to `1`.\n"
     ]
    },
    {
     "data": {
      "text/plain": [
       "<hsfs.core.job.Job at 0x7fa58e680430>"
      ]
     },
     "execution_count": 11,
     "metadata": {},
     "output_type": "execute_result"
    }
   ],
   "source": [
    "trans_4h_aggs_fg = fs.create_feature_group(\n",
    "    name=f\"transactions_{window_len}_aggs\",\n",
    "    description=f\"Aggregate transaction data over {window_len} windows.\",\n",
    "    primary_key=[\"tid\"],\n",
    "    online_enabled=True,\n",
    ")\n",
    "trans_4h_aggs_fg.save(trans_4h_aggs_df)"
   ]
  },
  {
   "cell_type": "markdown",
   "id": "67d3a710",
   "metadata": {},
   "source": [
    "### Next Steps\n",
    "\n",
    "Now we have all the features we need for model training. In the next notebook, we will combine these features into a dataset that is compatible with the model we will train."
   ]
  }
 ],
 "metadata": {
  "interpreter": {
   "hash": "31f2aee4e71d21fbe5cf8b01ff0e069b9275f58929596ceb00d14d90e3e16cd6"
  },
  "kernelspec": {
   "display_name": "Python",
   "language": "python",
   "name": "python3"
  },
  "language_info": {
   "codemirror_mode": {
    "name": "ipython",
    "version": 3
   },
   "file_extension": ".py",
   "mimetype": "text/x-python",
   "name": "python",
   "nbconvert_exporter": "python",
   "pygments_lexer": "ipython3",
   "version": "3.8.11"
  }
 },
 "nbformat": 4,
 "nbformat_minor": 5
}
