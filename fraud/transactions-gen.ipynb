{
 "cells": [
  {
   "cell_type": "markdown",
   "metadata": {},
   "source": [
    "---\n",
    "title: \"2. Generate credit card transactions data and send to kafka topic\"\n",
    "date: 2021-04-25\n",
    "type: technical_note\n",
    "draft: false\n",
    "---"
   ]
  },
  {
   "cell_type": "markdown",
   "metadata": {
    "button": false,
    "new_sheet": false,
    "run_control": {
     "read_only": false
    }
   },
   "source": [
    "# Generate credit card transactions data and send to kafka topic."
   ]
  },
  {
   "cell_type": "markdown",
   "metadata": {
    "button": false,
    "new_sheet": false,
    "run_control": {
     "read_only": false
    }
   },
   "source": [
    "### Inspiration of this example was taken from [here](https://github.com/aws-samples/amazon-sagemaker-feature-store-streaming-aggregation)."
   ]
  },
  {
   "cell_type": "markdown",
   "metadata": {
    "button": false,
    "new_sheet": false,
    "run_control": {
     "read_only": false
    }
   },
   "source": [
    "#### Prerequisites "
   ]
  },
  {
   "cell_type": "code",
   "execution_count": 1,
   "metadata": {
    "button": false,
    "new_sheet": false,
    "run_control": {
     "read_only": false
    }
   },
   "outputs": [],
   "source": [
    "#!pip install Faker"
   ]
  },
  {
   "cell_type": "markdown",
   "metadata": {
    "button": false,
    "new_sheet": false,
    "run_control": {
     "read_only": false
    }
   },
   "source": [
    "#### Imports "
   ]
  },
  {
   "cell_type": "code",
   "execution_count": 2,
   "metadata": {
    "button": false,
    "new_sheet": false,
    "run_control": {
     "read_only": false
    }
   },
   "outputs": [],
   "source": [
    "from collections import defaultdict\n",
    "from faker import Faker\n",
    "import pandas as pd\n",
    "import numpy as np\n",
    "import datetime\n",
    "#from datetime import datetime, timedelta\n",
    "import hashlib\n",
    "import random\n",
    "import math\n",
    "import os\n",
    "import bisect\n",
    "from typing import Optional, Union, Any, Dict, List, TypeVar, Tuple\n",
    "\n",
    "#from hops import hdfs\n",
    "#from hops import pandas_helper as pandas\n",
    "#from faker.providers.address.sv_SE import Provider as SvSEProvider"
   ]
  },
  {
   "cell_type": "code",
   "execution_count": 3,
   "metadata": {
    "button": false,
    "new_sheet": false,
    "run_control": {
     "read_only": false
    }
   },
   "outputs": [],
   "source": [
    "# Seed for Reproducibility\n",
    "faker = Faker()\n",
    "faker.seed_locale('en_US', 0)"
   ]
  },
  {
   "cell_type": "code",
   "execution_count": 4,
   "metadata": {
    "button": false,
    "new_sheet": false,
    "run_control": {
     "read_only": false
    }
   },
   "outputs": [],
   "source": [
    "SEED = 12345\n",
    "random.seed(SEED)\n",
    "np.random.seed(SEED)\n",
    "faker.seed_instance(SEED)"
   ]
  },
  {
   "cell_type": "markdown",
   "metadata": {},
   "source": [
    "#### Constants "
   ]
  },
  {
   "cell_type": "code",
   "execution_count": 5,
   "metadata": {},
   "outputs": [],
   "source": [
    "TOTAL_UNIQUE_USERS = 2000\n",
    "TOTAL_UNIQUE_TRANSACTIONS = 54000\n",
    "CASH_WITHRAWAL_CARDS_TOTAL = 1000 \n",
    "TOTAL_UNIQUE_CASH_WITHDRAWALS = 12000 \n",
    "ATM_WITHRAWAL_SEQ_LENGTH = [3, 4, 5, 6, 7, 8, 9, 10]\n",
    "NORMAL_ATM_RADIUS = 0.01\n",
    "START_DATE = '2022-01-01 00:00:00'\n",
    "END_DATE = '2022-03-01 00:00:00'\n",
    "DATE_FORMAT = '%Y-%m-%d %H:%M:%S'\n",
    "\n",
    "AMOUNT_DISTRIBUTION_PERCENTAGES = {\n",
    "                                   0.05: (0.01, 1.01), \n",
    "                                   0.075: (1, 11.01),\n",
    "                                   0.525: (10, 100.01),\n",
    "                                   0.25: (100, 1000.01),\n",
    "                                   0.099: (1000, 10000.01),\n",
    "                                   0.001: (10000, 30000.01)\n",
    "                                  }\n",
    "\n",
    "CATEGORY_PERC_PRICE = {\n",
    "                       \"Grocery\":              (0.5, 0.01, 100), \n",
    "                       \"Restaurant/Cafeteria\": (0.2, 1, 100),\n",
    "                       \"Health/Beauty\":        (0.1, 10, 500.01),\n",
    "                       \"Domestic Transport\":   (0.1, 10, 100.01),\n",
    "                       \"Clothing\":             (0.05, 10, 2000.01),\n",
    "                       \"Electronics\":          (0.02, 100, 10000.01),\n",
    "                       \"Sports/Outdoors\":      (0.015, 10, 100.01),\n",
    "                       \"Holliday/Travel\":      (0.014, 10, 100.01),              \n",
    "                       \"Jewelery\":             (0.001, 10, 100.01)\n",
    "                       }\n",
    "\n",
    "FRAUD_RATIO = 0.0025 # percentage of transactions that are fraudulent\n",
    "NUMBER_OF_FRAUDULENT_TRANSACTIONS = int(FRAUD_RATIO * TOTAL_UNIQUE_TRANSACTIONS)\n",
    "ATTACK_CHAIN_LENGTHS = [3, 4, 5, 6, 7, 8, 9, 10]"
   ]
  },
  {
   "cell_type": "markdown",
   "metadata": {
    "button": false,
    "new_sheet": false,
    "run_control": {
     "read_only": false
    }
   },
   "source": [
    "### Generate Transactions"
   ]
  },
  {
   "cell_type": "markdown",
   "metadata": {
    "button": false,
    "new_sheet": false,
    "run_control": {
     "read_only": false
    }
   },
   "source": [
    "#### Generate Unique Credit Card Numbers \n",
    "<p> Credit card numbers are uniquely assigned to users. Since, there are 10K users, we would want to generate 10K unique card numbers.</p>"
   ]
  },
  {
   "cell_type": "code",
   "execution_count": 6,
   "metadata": {
    "button": false,
    "new_sheet": false,
    "run_control": {
     "read_only": false
    }
   },
   "outputs": [],
   "source": [
    "def generate_unique_credit_card_numbers(n: int) -> list:\n",
    "    cc_ids = set()\n",
    "    for _ in range(n):\n",
    "        cc_id = faker.credit_card_number(card_type='visa')\n",
    "        cc_ids.add(cc_id)\n",
    "    return list(cc_ids) "
   ]
  },
  {
   "cell_type": "code",
   "execution_count": 7,
   "metadata": {
    "button": false,
    "new_sheet": false,
    "run_control": {
     "read_only": false
    }
   },
   "outputs": [],
   "source": [
    "credit_card_numbers = generate_unique_credit_card_numbers(TOTAL_UNIQUE_USERS)"
   ]
  },
  {
   "cell_type": "code",
   "execution_count": 8,
   "metadata": {
    "button": false,
    "new_sheet": false,
    "run_control": {
     "read_only": false
    }
   },
   "outputs": [],
   "source": [
    "assert len(credit_card_numbers) == TOTAL_UNIQUE_USERS \n",
    "assert len(credit_card_numbers[0]) == 16 # validate if generated number is 16-digit"
   ]
  },
  {
   "cell_type": "code",
   "execution_count": 9,
   "metadata": {
    "button": false,
    "new_sheet": false,
    "run_control": {
     "read_only": false
    }
   },
   "outputs": [
    {
     "data": {
      "text/plain": [
       "['4913642076996526',\n",
       " '4148299918528368',\n",
       " '4002894877268355',\n",
       " '4351659675456339',\n",
       " '4208821021263067']"
      ]
     },
     "execution_count": 9,
     "metadata": {},
     "output_type": "execute_result"
    }
   ],
   "source": [
    "# inspect random sample of credit card numbers \n",
    "random.sample(credit_card_numbers, 5)"
   ]
  },
  {
   "cell_type": "markdown",
   "metadata": {},
   "source": [
    "# Generate credit card numbers"
   ]
  },
  {
   "cell_type": "code",
   "execution_count": 10,
   "metadata": {},
   "outputs": [],
   "source": [
    "delta_time_object = datetime.datetime.strptime(START_DATE, DATE_FORMAT)\n",
    "delta_time_object + datetime.timedelta(days=-728)\n",
    "\n",
    "credit_cards = []\n",
    "for cc_num in credit_card_numbers:\n",
    "    credit_cards.append({'cc_num': cc_num, 'provider': 'visa', 'expires': faker.credit_card_expire(start=delta_time_object, end=\"+5y\", date_format=\"%m/%y\")})"
   ]
  },
  {
   "cell_type": "code",
   "execution_count": 11,
   "metadata": {},
   "outputs": [
    {
     "data": {
      "text/html": [
       "<div>\n",
       "<style scoped>\n",
       "    .dataframe tbody tr th:only-of-type {\n",
       "        vertical-align: middle;\n",
       "    }\n",
       "\n",
       "    .dataframe tbody tr th {\n",
       "        vertical-align: top;\n",
       "    }\n",
       "\n",
       "    .dataframe thead th {\n",
       "        text-align: right;\n",
       "    }\n",
       "</style>\n",
       "<table border=\"1\" class=\"dataframe\">\n",
       "  <thead>\n",
       "    <tr style=\"text-align: right;\">\n",
       "      <th></th>\n",
       "      <th>cc_num</th>\n",
       "      <th>provider</th>\n",
       "      <th>expires</th>\n",
       "    </tr>\n",
       "  </thead>\n",
       "  <tbody>\n",
       "    <tr>\n",
       "      <th>0</th>\n",
       "      <td>4796807885357879</td>\n",
       "      <td>visa</td>\n",
       "      <td>05/23</td>\n",
       "    </tr>\n",
       "    <tr>\n",
       "      <th>1</th>\n",
       "      <td>4529266636192966</td>\n",
       "      <td>visa</td>\n",
       "      <td>03/22</td>\n",
       "    </tr>\n",
       "    <tr>\n",
       "      <th>2</th>\n",
       "      <td>4922690008243953</td>\n",
       "      <td>visa</td>\n",
       "      <td>02/27</td>\n",
       "    </tr>\n",
       "    <tr>\n",
       "      <th>3</th>\n",
       "      <td>4897369589533543</td>\n",
       "      <td>visa</td>\n",
       "      <td>04/22</td>\n",
       "    </tr>\n",
       "    <tr>\n",
       "      <th>4</th>\n",
       "      <td>4848518335893425</td>\n",
       "      <td>visa</td>\n",
       "      <td>10/26</td>\n",
       "    </tr>\n",
       "  </tbody>\n",
       "</table>\n",
       "</div>"
      ],
      "text/plain": [
       "             cc_num provider expires\n",
       "0  4796807885357879     visa   05/23\n",
       "1  4529266636192966     visa   03/22\n",
       "2  4922690008243953     visa   02/27\n",
       "3  4897369589533543     visa   04/22\n",
       "4  4848518335893425     visa   10/26"
      ]
     },
     "execution_count": 11,
     "metadata": {},
     "output_type": "execute_result"
    }
   ],
   "source": [
    "credit_cards_pdf = pd.DataFrame.from_records(credit_cards)\n",
    "credit_cards_pdf.head()"
   ]
  },
  {
   "cell_type": "markdown",
   "metadata": {},
   "source": [
    "# Generate user identity "
   ]
  },
  {
   "cell_type": "code",
   "execution_count": 12,
   "metadata": {},
   "outputs": [],
   "source": [
    "profiles = []\n",
    "for credit_card in credit_cards:\n",
    "    address = faker.local_latlng(country_code = 'US')\n",
    "    age = 0 \n",
    "    profile = None\n",
    "    while age < 18 or age > 100:\n",
    "        profile = faker.profile(fields=['name', 'sex', 'mail', 'birthdate'])\n",
    "        dday = profile['birthdate']\n",
    "        delta = datetime.datetime.now() - datetime.datetime(dday.year, dday.month, dday.day)\n",
    "        age = int(delta.days / 365)\n",
    "    if age >= 18 or age <= 100:\n",
    "        profile['City'] = address[2]\n",
    "        profile['Country'] = address[3]\n",
    "        profile['cc_num'] = credit_card['cc_num']\n",
    "        profile['age'] = age\n",
    "        credit_card['age'] = age\n",
    "        profiles.append(profile)"
   ]
  },
  {
   "cell_type": "code",
   "execution_count": 13,
   "metadata": {},
   "outputs": [
    {
     "data": {
      "text/html": [
       "<div>\n",
       "<style scoped>\n",
       "    .dataframe tbody tr th:only-of-type {\n",
       "        vertical-align: middle;\n",
       "    }\n",
       "\n",
       "    .dataframe tbody tr th {\n",
       "        vertical-align: top;\n",
       "    }\n",
       "\n",
       "    .dataframe thead th {\n",
       "        text-align: right;\n",
       "    }\n",
       "</style>\n",
       "<table border=\"1\" class=\"dataframe\">\n",
       "  <thead>\n",
       "    <tr style=\"text-align: right;\">\n",
       "      <th></th>\n",
       "      <th>name</th>\n",
       "      <th>sex</th>\n",
       "      <th>mail</th>\n",
       "      <th>birthdate</th>\n",
       "      <th>City</th>\n",
       "      <th>Country</th>\n",
       "      <th>cc_num</th>\n",
       "    </tr>\n",
       "  </thead>\n",
       "  <tbody>\n",
       "    <tr>\n",
       "      <th>0</th>\n",
       "      <td>Catherine Zimmerman</td>\n",
       "      <td>F</td>\n",
       "      <td>valenciajason@hotmail.com</td>\n",
       "      <td>1988-09-20</td>\n",
       "      <td>Bryn Mawr-Skyway</td>\n",
       "      <td>US</td>\n",
       "      <td>4796807885357879</td>\n",
       "    </tr>\n",
       "    <tr>\n",
       "      <th>1</th>\n",
       "      <td>Michael Williams</td>\n",
       "      <td>M</td>\n",
       "      <td>brettkennedy@yahoo.com</td>\n",
       "      <td>1977-03-01</td>\n",
       "      <td>Gates-North Gates</td>\n",
       "      <td>US</td>\n",
       "      <td>4529266636192966</td>\n",
       "    </tr>\n",
       "    <tr>\n",
       "      <th>2</th>\n",
       "      <td>Jessica Krueger</td>\n",
       "      <td>F</td>\n",
       "      <td>marthacruz@hotmail.com</td>\n",
       "      <td>1947-09-10</td>\n",
       "      <td>Greenfield</td>\n",
       "      <td>US</td>\n",
       "      <td>4922690008243953</td>\n",
       "    </tr>\n",
       "    <tr>\n",
       "      <th>3</th>\n",
       "      <td>Ruth Harris</td>\n",
       "      <td>F</td>\n",
       "      <td>james11@yahoo.com</td>\n",
       "      <td>1983-12-27</td>\n",
       "      <td>New City</td>\n",
       "      <td>US</td>\n",
       "      <td>4897369589533543</td>\n",
       "    </tr>\n",
       "    <tr>\n",
       "      <th>4</th>\n",
       "      <td>Paul Ashley</td>\n",
       "      <td>M</td>\n",
       "      <td>matthew97@hotmail.com</td>\n",
       "      <td>1974-11-10</td>\n",
       "      <td>Peabody</td>\n",
       "      <td>US</td>\n",
       "      <td>4848518335893425</td>\n",
       "    </tr>\n",
       "  </tbody>\n",
       "</table>\n",
       "</div>"
      ],
      "text/plain": [
       "                  name sex                       mail   birthdate  \\\n",
       "0  Catherine Zimmerman   F  valenciajason@hotmail.com  1988-09-20   \n",
       "1     Michael Williams   M     brettkennedy@yahoo.com  1977-03-01   \n",
       "2      Jessica Krueger   F     marthacruz@hotmail.com  1947-09-10   \n",
       "3          Ruth Harris   F          james11@yahoo.com  1983-12-27   \n",
       "4          Paul Ashley   M      matthew97@hotmail.com  1974-11-10   \n",
       "\n",
       "                City Country            cc_num  \n",
       "0   Bryn Mawr-Skyway      US  4796807885357879  \n",
       "1  Gates-North Gates      US  4529266636192966  \n",
       "2         Greenfield      US  4922690008243953  \n",
       "3           New City      US  4897369589533543  \n",
       "4            Peabody      US  4848518335893425  "
      ]
     },
     "execution_count": 13,
     "metadata": {},
     "output_type": "execute_result"
    }
   ],
   "source": [
    "profiles_pdf = pd.DataFrame.from_records(profiles)\n",
    "profiles_pdf.drop('age', axis=1, inplace=True)\n",
    "profiles_pdf.head()"
   ]
  },
  {
   "cell_type": "markdown",
   "metadata": {
    "button": false,
    "new_sheet": false,
    "run_control": {
     "read_only": false
    }
   },
   "source": [
    "#### Generate Time Series\n"
   ]
  },
  {
   "cell_type": "code",
   "execution_count": 14,
   "metadata": {
    "button": false,
    "new_sheet": false,
    "run_control": {
     "read_only": false
    }
   },
   "outputs": [],
   "source": [
    "def generate_timestamps(n: int) -> list:\n",
    "    start = datetime.datetime.strptime(START_DATE, DATE_FORMAT)\n",
    "    end = datetime.datetime.strptime(END_DATE, DATE_FORMAT)\n",
    "    timestamps = list()\n",
    "    for _ in range(n):\n",
    "        timestamp = faker.date_time_between(start_date=start, end_date=end, tzinfo=None).strftime(DATE_FORMAT)\n",
    "        timestamps.append(timestamp)\n",
    "    timestamps = sorted(timestamps)\n",
    "    return timestamps"
   ]
  },
  {
   "cell_type": "code",
   "execution_count": 15,
   "metadata": {
    "button": false,
    "new_sheet": false,
    "run_control": {
     "read_only": false
    }
   },
   "outputs": [],
   "source": [
    "timestamps = generate_timestamps(TOTAL_UNIQUE_TRANSACTIONS)"
   ]
  },
  {
   "cell_type": "code",
   "execution_count": 16,
   "metadata": {
    "button": false,
    "new_sheet": false,
    "run_control": {
     "read_only": false
    }
   },
   "outputs": [],
   "source": [
    "assert len(timestamps) == TOTAL_UNIQUE_TRANSACTIONS"
   ]
  },
  {
   "cell_type": "code",
   "execution_count": 17,
   "metadata": {
    "button": false,
    "new_sheet": false,
    "run_control": {
     "read_only": false
    }
   },
   "outputs": [
    {
     "data": {
      "text/plain": [
       "['2022-02-27 13:51:28',\n",
       " '2022-01-22 12:22:21',\n",
       " '2022-01-27 11:25:06',\n",
       " '2022-01-14 22:11:46',\n",
       " '2022-01-20 11:40:26']"
      ]
     },
     "execution_count": 17,
     "metadata": {},
     "output_type": "execute_result"
    }
   ],
   "source": [
    "# inspect random sample of timestamps\n",
    "random.sample(timestamps, 5)"
   ]
  },
  {
   "cell_type": "markdown",
   "metadata": {
    "button": false,
    "new_sheet": false,
    "run_control": {
     "read_only": false
    }
   },
   "source": [
    "#### Generate Random Transaction Amounts \n",
    "<p>The transaction amounts are presumed to follow Pareto distribution, as it is logical for consumers to make many more smaller purchases than large ones. The break down of the distribution is shown in the table below.</p>\n",
    "\n",
    "\n",
    "| Percentage        | Range (Amount in $)     |\n",
    "| :-------------: | :----------: |\n",
    "|  5\\% | 0.01 to 1    |\n",
    "| 7.5\\%   | 1 to 10 |\n",
    "| 52.5\\%   | 10 to 100 |\n",
    "| 25\\%   | 100 to 1000 |\n",
    "| 10\\%   | 1000 to 10000 |"
   ]
  },
  {
   "cell_type": "code",
   "execution_count": 18,
   "metadata": {
    "button": false,
    "new_sheet": false,
    "run_control": {
     "read_only": false
    }
   },
   "outputs": [],
   "source": [
    "def get_random_transaction_amount(start: float, end: float) -> float:\n",
    "    amt = round(np.random.uniform(start, end), 2)\n",
    "    return amt"
   ]
  },
  {
   "cell_type": "code",
   "execution_count": 19,
   "metadata": {
    "button": false,
    "new_sheet": false,
    "run_control": {
     "read_only": false
    }
   },
   "outputs": [],
   "source": [
    "amounts = []\n",
    "for percentage, span in AMOUNT_DISTRIBUTION_PERCENTAGES.items():\n",
    "    n = int(TOTAL_UNIQUE_TRANSACTIONS * percentage)\n",
    "    start, end = span\n",
    "    for _ in range(n):\n",
    "        amounts.append(get_random_transaction_amount(start, end+1))\n",
    "\n",
    "categories = []        \n",
    "for category, category_perc_price in CATEGORY_PERC_PRICE.items():\n",
    "    percentage, min_price, max_price = category_perc_price\n",
    "    n = int(TOTAL_UNIQUE_TRANSACTIONS * percentage)\n",
    "    for _ in range(n):\n",
    "        min_price_i = bisect.bisect_left(amounts, min_price)\n",
    "        max_price_i = bisect.bisect_right(amounts, max_price, lo=min_price_i)\n",
    "        categories.append({\"category\":category, \"amount\":random.choice(amounts[min_price_i:max_price_i])})\n",
    "        \n",
    "random.shuffle(categories)"
   ]
  },
  {
   "cell_type": "code",
   "execution_count": 20,
   "metadata": {},
   "outputs": [
    {
     "data": {
      "text/plain": [
       "54000"
      ]
     },
     "execution_count": 20,
     "metadata": {},
     "output_type": "execute_result"
    }
   ],
   "source": [
    "len(categories)"
   ]
  },
  {
   "cell_type": "code",
   "execution_count": 21,
   "metadata": {},
   "outputs": [
    {
     "data": {
      "text/plain": [
       "54000"
      ]
     },
     "execution_count": 21,
     "metadata": {},
     "output_type": "execute_result"
    }
   ],
   "source": [
    "len(amounts)"
   ]
  },
  {
   "cell_type": "code",
   "execution_count": 22,
   "metadata": {
    "button": false,
    "new_sheet": false,
    "run_control": {
     "read_only": false
    }
   },
   "outputs": [
    {
     "data": {
      "text/plain": [
       "[{'category': 'Grocery', 'amount': 16.4},\n",
       " {'category': 'Grocery', 'amount': 43.19},\n",
       " {'category': 'Grocery', 'amount': 37.13},\n",
       " {'category': 'Grocery', 'amount': 0.82},\n",
       " {'category': 'Grocery', 'amount': 80.37}]"
      ]
     },
     "execution_count": 22,
     "metadata": {},
     "output_type": "execute_result"
    }
   ],
   "source": [
    "# inspect random sample of transaction amounts\n",
    "random.sample(categories, 5)"
   ]
  },
  {
   "cell_type": "markdown",
   "metadata": {
    "button": false,
    "new_sheet": false,
    "run_control": {
     "read_only": false
    }
   },
   "source": [
    "#### Generate Credit Card Transactions\n",
    "<br>\n",
    "<div style=\"text-align: justify\">\n",
    "Using the random credit card numbers, timestamps and transaction amounts generated in the above steps, \n",
    "we can generate random credit card transactions by combining them. The transaction id for the transaction is the md5\n",
    "hash of the above mentioned entities.\n",
    "</div>"
   ]
  },
  {
   "cell_type": "code",
   "execution_count": 23,
   "metadata": {
    "button": false,
    "new_sheet": false,
    "run_control": {
     "read_only": false
    }
   },
   "outputs": [],
   "source": [
    "def generate_transaction_id(timestamp: str, credit_card_number: str, transaction_amount: float) -> str:\n",
    "    hashable = f'{timestamp}{credit_card_number}{transaction_amount}'\n",
    "    hexdigest = hashlib.md5(hashable.encode('utf-8')).hexdigest()\n",
    "    return hexdigest"
   ]
  },
  {
   "cell_type": "code",
   "execution_count": 24,
   "metadata": {
    "button": false,
    "new_sheet": false,
    "run_control": {
     "read_only": false
    }
   },
   "outputs": [],
   "source": [
    "transactions = []\n",
    "for timestamp, category in zip(timestamps, categories):\n",
    "    credit_card_number = random.choice(credit_card_numbers)\n",
    "    point_of_tr = faker.local_latlng(country_code = 'US')\n",
    "    transaction_id = generate_transaction_id(timestamp, credit_card_number, category['amount'])\n",
    "    transactions.append({\n",
    "                         'tid': transaction_id, \n",
    "                         'datetime': timestamp, \n",
    "                         'cc_num': credit_card_number, \n",
    "                         'category': category['category'], \n",
    "                         'amount': category['amount'],\n",
    "                         'latitude': point_of_tr[0], \n",
    "                         'longitude': point_of_tr[1],\n",
    "                         'city': point_of_tr[2],\n",
    "                         'country': point_of_tr[3],\n",
    "                         'fraud_label': 0\n",
    "                        }\n",
    "                       )"
   ]
  },
  {
   "cell_type": "code",
   "execution_count": 25,
   "metadata": {
    "button": false,
    "new_sheet": false,
    "run_control": {
     "read_only": false
    }
   },
   "outputs": [
    {
     "data": {
      "text/plain": [
       "[{'tid': '99883edc4d8aaa94b94b159865829379',\n",
       "  'datetime': '2022-01-29 02:38:15',\n",
       "  'cc_num': '4929411498746287',\n",
       "  'category': 'Restaurant/Cafeteria',\n",
       "  'amount': 53.95,\n",
       "  'latitude': '44.99012',\n",
       "  'longitude': '-123.02621',\n",
       "  'city': 'Keizer',\n",
       "  'country': 'US',\n",
       "  'fraud_label': 0}]"
      ]
     },
     "execution_count": 25,
     "metadata": {},
     "output_type": "execute_result"
    }
   ],
   "source": [
    "# inspect random sample of credit card transactions\n",
    "random.sample(transactions, 1)"
   ]
  },
  {
   "cell_type": "markdown",
   "metadata": {
    "button": false,
    "new_sheet": false,
    "run_control": {
     "read_only": false
    }
   },
   "source": [
    "#### Create Transaction Chains "
   ]
  },
  {
   "cell_type": "code",
   "execution_count": 26,
   "metadata": {
    "button": false,
    "new_sheet": false,
    "run_control": {
     "read_only": false
    }
   },
   "outputs": [],
   "source": [
    "visited = set()\n",
    "chains = defaultdict(list)"
   ]
  },
  {
   "cell_type": "code",
   "execution_count": 27,
   "metadata": {
    "button": false,
    "new_sheet": false,
    "run_control": {
     "read_only": false
    }
   },
   "outputs": [],
   "source": [
    "def size(chains: dict) -> int:\n",
    "    counts = {key: len(values)+1 for (key, values) in chains.items()}\n",
    "    return sum(counts.values())"
   ]
  },
  {
   "cell_type": "code",
   "execution_count": 28,
   "metadata": {
    "button": false,
    "new_sheet": false,
    "run_control": {
     "read_only": false
    }
   },
   "outputs": [],
   "source": [
    "def create_attack_chain(i: int):\n",
    "    chain_length = random.choice(ATTACK_CHAIN_LENGTHS)\n",
    "    for j in range(1, chain_length):\n",
    "        if i+j not in visited:\n",
    "            if size(chains) == NUMBER_OF_FRAUDULENT_TRANSACTIONS:\n",
    "                break\n",
    "            chains[i].append(i+j)\n",
    "            visited.add(i+j)"
   ]
  },
  {
   "cell_type": "code",
   "execution_count": 29,
   "metadata": {
    "button": false,
    "new_sheet": false,
    "run_control": {
     "read_only": false
    }
   },
   "outputs": [],
   "source": [
    "while size(chains) < NUMBER_OF_FRAUDULENT_TRANSACTIONS:\n",
    "    i = random.choice(range(TOTAL_UNIQUE_TRANSACTIONS))\n",
    "    if i not in visited:\n",
    "        create_attack_chain(i)\n",
    "        visited.add(i)"
   ]
  },
  {
   "cell_type": "markdown",
   "metadata": {},
   "source": [
    "## Create ATM cash withdrawal"
   ]
  },
  {
   "cell_type": "code",
   "execution_count": 30,
   "metadata": {},
   "outputs": [],
   "source": [
    "cash_amounts = []\n",
    "for percentage, span in AMOUNT_DISTRIBUTION_PERCENTAGES.items():\n",
    "    n = int(TOTAL_UNIQUE_CASH_WITHDRAWALS * percentage)\n",
    "    start, end = span\n",
    "    for _ in range(n):\n",
    "        cash_amounts.append(get_random_transaction_amount(start, end+1))"
   ]
  },
  {
   "cell_type": "code",
   "execution_count": 31,
   "metadata": {},
   "outputs": [
    {
     "data": {
      "text/plain": [
       "12000"
      ]
     },
     "execution_count": 31,
     "metadata": {},
     "output_type": "execute_result"
    }
   ],
   "source": [
    "len(cash_amounts)"
   ]
  },
  {
   "cell_type": "code",
   "execution_count": 32,
   "metadata": {},
   "outputs": [],
   "source": [
    "def generate_atm_withdrawal(credit_card_number: str, cash_amounts: list, length: int, delta: int, radius: float = None, country_code = 'US') -> List[Dict]:\n",
    "    atms = [] \n",
    "    start = datetime.datetime.strptime(START_DATE, DATE_FORMAT)\n",
    "    end = datetime.datetime.strptime(END_DATE, DATE_FORMAT)\n",
    "    timestamp = faker.date_time_between(start_date=start, end_date=end, tzinfo=None)\n",
    "    point_of_tr = faker.local_latlng(country_code = country_code)\n",
    "    latitude = point_of_tr[0] \n",
    "    longitude = point_of_tr[1]\n",
    "    city = point_of_tr[2]\n",
    "    for _ in range(length):\n",
    "        current = timestamp + datetime.timedelta(hours=delta)\n",
    "        if radius is not None:\n",
    "            latitude = faker.coordinate(latitude, radius) \n",
    "            longitude = faker.coordinate(longitude, radius)  \n",
    "        transaction_id = generate_transaction_id(timestamp, credit_card_number, category['amount'])\n",
    "        atms.append({'tid': transaction_id, \n",
    "                     'datetime': current.strftime(DATE_FORMAT), \n",
    "                     'cc_num': credit_card_number, \n",
    "                     'category': 'Cash Withdrawal', \n",
    "                     'amount': random.sample(cash_amounts, 1)[0],\n",
    "                     'latitude': latitude, \n",
    "                     'longitude': longitude,\n",
    "                     'city': city,\n",
    "                     'country': 'US',\n",
    "                     'fraud_label': 0\n",
    "                     })\n",
    "        timestamp = current\n",
    "    return atms"
   ]
  },
  {
   "cell_type": "code",
   "execution_count": 33,
   "metadata": {},
   "outputs": [],
   "source": [
    "SUSCEPTIBLE_CARDS_DISTRIBUTION_BY_AGE = {\n",
    "                                   0.055: (17, 24), \n",
    "                                   0.0015: (24, 34),\n",
    "                                   0.0015: (34, 44),\n",
    "                                   0.02: (44, 54),\n",
    "                                   0.022: (54, 64),\n",
    "                                   0.1: (64, 74),\n",
    "                                   0.40: (74, 84),\n",
    "                                   0.40: (84, 100),\n",
    "                                  }\n",
    "susseptible_cards = []\n",
    "visited = []\n",
    "for percentage, span in SUSCEPTIBLE_CARDS_DISTRIBUTION_BY_AGE.items():\n",
    "    n = int(TOTAL_UNIQUE_CASH_WITHDRAWALS * percentage) ## TODO: here total expected fraud \n",
    "    start, end = span\n",
    "    for _ in range(n):\n",
    "        for card in credit_cards:\n",
    "            if card['age'] > start and card['age'] < end:\n",
    "                if card['cc_num'] not in visited:\n",
    "                    current = card\n",
    "                    visited.append(card['cc_num'])\n",
    "                    break\n",
    "                else:\n",
    "                    current = None                    \n",
    "        if current is not None:\n",
    "            susseptible_cards.append(current)"
   ]
  },
  {
   "cell_type": "code",
   "execution_count": 34,
   "metadata": {},
   "outputs": [],
   "source": [
    "normal_atm_withdrawals = []\n",
    "atm_transactions = len(cash_amounts)\n",
    "cash_withdrawal_cards = random.sample(susseptible_cards, CASH_WITHRAWAL_CARDS_TOTAL//(CASH_WITHRAWAL_CARDS_TOTAL//len(susseptible_cards)+1))\n",
    "atm_count = 0\n",
    "while atm_count < atm_transactions:\n",
    "    for card in cash_withdrawal_cards:\n",
    "        for ATM_WITHRAWAL_SEQ in ATM_WITHRAWAL_SEQ_LENGTH: \n",
    "            # interval in hours between normal cash withdrawals\n",
    "            delta = random.randint(6, 168)\n",
    "            atm_tr = generate_atm_withdrawal(credit_card_number = card['cc_num'], cash_amounts = cash_amounts, length=ATM_WITHRAWAL_SEQ, delta=delta, radius = NORMAL_ATM_RADIUS)         \n",
    "            normal_atm_withdrawals.append(atm_tr)\n",
    "            atm_count += ATM_WITHRAWAL_SEQ"
   ]
  },
  {
   "cell_type": "code",
   "execution_count": 35,
   "metadata": {},
   "outputs": [
    {
     "data": {
      "text/plain": [
       "8000"
      ]
     },
     "execution_count": 35,
     "metadata": {},
     "output_type": "execute_result"
    }
   ],
   "source": [
    "len(normal_atm_withdrawals)"
   ]
  },
  {
   "cell_type": "markdown",
   "metadata": {
    "button": false,
    "new_sheet": false,
    "run_control": {
     "read_only": false
    }
   },
   "source": [
    "#### Modify Transactions with Fraud Chain Attacks "
   ]
  },
  {
   "cell_type": "code",
   "execution_count": 36,
   "metadata": {
    "button": false,
    "new_sheet": false,
    "run_control": {
     "read_only": false
    }
   },
   "outputs": [],
   "source": [
    "def generate_timestamps_for_fraud_attacks(timestamp: str, chain_length: int) -> list:\n",
    "    timestamps = []\n",
    "    timestamp = datetime.datetime.strptime(timestamp, DATE_FORMAT)\n",
    "    for _ in range(chain_length):\n",
    "        # interval in seconds between fraudulent attacks\n",
    "        delta = random.randint(30, 120)\n",
    "        current = timestamp + datetime.timedelta(seconds=delta)\n",
    "        timestamps.append(current.strftime(DATE_FORMAT))\n",
    "        timestamp = current\n",
    "    return timestamps "
   ]
  },
  {
   "cell_type": "code",
   "execution_count": 37,
   "metadata": {
    "button": false,
    "new_sheet": false,
    "run_control": {
     "read_only": false
    }
   },
   "outputs": [],
   "source": [
    "def generate_amounts_for_fraud_attacks(chain_length: int) -> list:\n",
    "    amounts = []\n",
    "    for percentage, span in AMOUNT_DISTRIBUTION_PERCENTAGES.items():\n",
    "        n = math.ceil(chain_length * percentage)\n",
    "        start, end = span\n",
    "        for _ in range(n):\n",
    "            amounts.append(get_random_transaction_amount(start, end+1))\n",
    "    return amounts[:chain_length]"
   ]
  },
  {
   "cell_type": "code",
   "execution_count": 38,
   "metadata": {
    "button": false,
    "new_sheet": false,
    "run_control": {
     "read_only": false
    }
   },
   "outputs": [],
   "source": [
    "for key, chain in chains.items():\n",
    "    transaction = transactions[key]\n",
    "    timestamp = transaction['datetime']\n",
    "    cc_num = transaction['cc_num']\n",
    "    amount = transaction['amount']\n",
    "    transaction['fraud_label'] = 1\n",
    "    inject_timestamps = generate_timestamps_for_fraud_attacks(timestamp, len(chain))\n",
    "    inject_amounts = generate_amounts_for_fraud_attacks(len(chain))\n",
    "    random.shuffle(inject_amounts)\n",
    "    for i, idx in enumerate(chain):\n",
    "        original_transaction = transactions[idx]\n",
    "        inject_timestamp = inject_timestamps[i]\n",
    "        original_transaction['datetime'] = inject_timestamp\n",
    "        original_transaction['fraud_label'] = 1\n",
    "        original_transaction['cc_num'] = cc_num\n",
    "        original_transaction['amount'] = inject_amounts[i]\n",
    "        original_transaction['category'] = [category for category, category_perc_price in CATEGORY_PERC_PRICE.items() if int(inject_amounts[i]) in range(int(category_perc_price[1]), int(category_perc_price[2]))][0]\n",
    "        original_transaction['tid'] = generate_transaction_id(inject_timestamp, cc_num, amount)\n",
    "        transactions[idx] = original_transaction"
   ]
  },
  {
   "cell_type": "markdown",
   "metadata": {},
   "source": [
    "#### Modify ATM normal cash withdrawals with fraudulent ones"
   ]
  },
  {
   "cell_type": "code",
   "execution_count": 39,
   "metadata": {},
   "outputs": [],
   "source": [
    "fraudulent_atm_tr_indxs = random.sample([i for i in range(0, len(normal_atm_withdrawals))], int(FRAUD_RATIO * len(normal_atm_withdrawals)))"
   ]
  },
  {
   "cell_type": "code",
   "execution_count": 40,
   "metadata": {},
   "outputs": [
    {
     "data": {
      "text/plain": [
       "[{'tid': 'ba3dc86c26230994301510dd4241e1bf',\n",
       "  'datetime': '2022-02-26 05:14:58',\n",
       "  'cc_num': '4978837587432787',\n",
       "  'category': 'Cash Withdrawal',\n",
       "  'amount': 66.79,\n",
       "  'latitude': Decimal('27.107439'),\n",
       "  'longitude': Decimal('-82.462260'),\n",
       "  'city': 'Venice',\n",
       "  'country': 'US',\n",
       "  'fraud_label': 0},\n",
       " {'tid': '453c7ea434a3cbfeef5891a0eea429b8',\n",
       "  'datetime': '2022-03-04 17:14:58',\n",
       "  'cc_num': '4978837587432787',\n",
       "  'category': 'Cash Withdrawal',\n",
       "  'amount': 895.29,\n",
       "  'latitude': Decimal('27.105581'),\n",
       "  'longitude': Decimal('-82.454755'),\n",
       "  'city': 'Venice',\n",
       "  'country': 'US',\n",
       "  'fraud_label': 0},\n",
       " {'tid': 'eaef30560442f424d97dee84a65f820a',\n",
       "  'datetime': '2022-03-11 05:14:58',\n",
       "  'cc_num': '4978837587432787',\n",
       "  'category': 'Cash Withdrawal',\n",
       "  'amount': 3779.88,\n",
       "  'latitude': Decimal('27.102719'),\n",
       "  'longitude': Decimal('-82.448723'),\n",
       "  'city': 'Venice',\n",
       "  'country': 'US',\n",
       "  'fraud_label': 0}]"
      ]
     },
     "execution_count": 40,
     "metadata": {},
     "output_type": "execute_result"
    }
   ],
   "source": [
    "normal_atm_withdrawals[0]"
   ]
  },
  {
   "cell_type": "code",
   "execution_count": 41,
   "metadata": {},
   "outputs": [],
   "source": [
    "for fraudulent_atm_tr_indx in fraudulent_atm_tr_indxs:\n",
    "    # interval in seconds between fraudulent attacks\n",
    "    delta = random.randint(1, 5)\n",
    "    atm_withdrawal = normal_atm_withdrawals[fraudulent_atm_tr_indx]\n",
    "    pre_fraudulent_atm_tr = atm_withdrawal[0]\n",
    "    fraudulent_atm_tr = generate_atm_withdrawal(credit_card_number = pre_fraudulent_atm_tr['cc_num'], cash_amounts = cash_amounts, length=1, delta=delta, radius = None)[0]\n",
    "    fraudulent_atm_location = faker.location_on_land()\n",
    "    while fraudulent_atm_location[3] == 'US':\n",
    "        fraudulent_atm_location = faker.location_on_land()\n",
    "    fraudulent_atm_tr['datetime'] = (datetime.datetime.strptime(pre_fraudulent_atm_tr['datetime'], DATE_FORMAT) + datetime.timedelta(hours=delta)).strftime(DATE_FORMAT)\n",
    "    fraudulent_atm_tr['latitude'] = fraudulent_atm_location[0]\n",
    "    fraudulent_atm_tr['longitude'] = fraudulent_atm_location[1]\n",
    "    fraudulent_atm_tr['city'] = fraudulent_atm_location[2]\n",
    "    fraudulent_atm_tr['country'] = fraudulent_atm_location[3]  \n",
    "    fraudulent_atm_tr['fraud_label'] = 1 \n",
    "    atm_withdrawal.append(fraudulent_atm_tr)\n",
    "    normal_atm_withdrawals[fraudulent_atm_tr_indx] = atm_withdrawal"
   ]
  },
  {
   "cell_type": "code",
   "execution_count": 42,
   "metadata": {},
   "outputs": [],
   "source": [
    "for atm_withdrawal in normal_atm_withdrawals:\n",
    "    for withdrawal in atm_withdrawal:\n",
    "        transactions.append(withdrawal)  "
   ]
  },
  {
   "cell_type": "code",
   "execution_count": 43,
   "metadata": {},
   "outputs": [
    {
     "data": {
      "text/html": [
       "<div>\n",
       "<style scoped>\n",
       "    .dataframe tbody tr th:only-of-type {\n",
       "        vertical-align: middle;\n",
       "    }\n",
       "\n",
       "    .dataframe tbody tr th {\n",
       "        vertical-align: top;\n",
       "    }\n",
       "\n",
       "    .dataframe thead th {\n",
       "        text-align: right;\n",
       "    }\n",
       "</style>\n",
       "<table border=\"1\" class=\"dataframe\">\n",
       "  <thead>\n",
       "    <tr style=\"text-align: right;\">\n",
       "      <th></th>\n",
       "      <th>tid</th>\n",
       "      <th>datetime</th>\n",
       "      <th>cc_num</th>\n",
       "      <th>category</th>\n",
       "      <th>amount</th>\n",
       "      <th>latitude</th>\n",
       "      <th>longitude</th>\n",
       "      <th>city</th>\n",
       "      <th>country</th>\n",
       "      <th>fraud_label</th>\n",
       "    </tr>\n",
       "  </thead>\n",
       "  <tbody>\n",
       "    <tr>\n",
       "      <th>0</th>\n",
       "      <td>11df919988c134d97bbff2678eb68e22</td>\n",
       "      <td>2022-01-01 00:00:24</td>\n",
       "      <td>4473593503484549</td>\n",
       "      <td>Health/Beauty</td>\n",
       "      <td>62.95</td>\n",
       "      <td>42.30865</td>\n",
       "      <td>-83.48216</td>\n",
       "      <td>Canton</td>\n",
       "      <td>US</td>\n",
       "      <td>0</td>\n",
       "    </tr>\n",
       "    <tr>\n",
       "      <th>1</th>\n",
       "      <td>dd0b2d6d4266ccd3bf05bc2ea91cf180</td>\n",
       "      <td>2022-01-01 00:00:56</td>\n",
       "      <td>4272465718946864</td>\n",
       "      <td>Grocery</td>\n",
       "      <td>85.45</td>\n",
       "      <td>33.52253</td>\n",
       "      <td>-117.70755</td>\n",
       "      <td>Laguna Niguel</td>\n",
       "      <td>US</td>\n",
       "      <td>0</td>\n",
       "    </tr>\n",
       "    <tr>\n",
       "      <th>2</th>\n",
       "      <td>e627f5d9a9739833bd52d2da51761fc3</td>\n",
       "      <td>2022-01-01 00:02:32</td>\n",
       "      <td>4104216579248948</td>\n",
       "      <td>Domestic Transport</td>\n",
       "      <td>21.63</td>\n",
       "      <td>37.60876</td>\n",
       "      <td>-77.37331</td>\n",
       "      <td>Mechanicsville</td>\n",
       "      <td>US</td>\n",
       "      <td>0</td>\n",
       "    </tr>\n",
       "    <tr>\n",
       "      <th>3</th>\n",
       "      <td>6fb3e6beafbb92b8e15827037f603c52</td>\n",
       "      <td>2022-01-01 00:03:24</td>\n",
       "      <td>4814447237003448</td>\n",
       "      <td>Health/Beauty</td>\n",
       "      <td>54.71</td>\n",
       "      <td>43.54072</td>\n",
       "      <td>-116.56346</td>\n",
       "      <td>Nampa</td>\n",
       "      <td>US</td>\n",
       "      <td>0</td>\n",
       "    </tr>\n",
       "    <tr>\n",
       "      <th>4</th>\n",
       "      <td>be0b8acc57bfe126a5a392fd99e6ddd1</td>\n",
       "      <td>2022-01-01 00:03:55</td>\n",
       "      <td>4515188652242507</td>\n",
       "      <td>Grocery</td>\n",
       "      <td>59.22</td>\n",
       "      <td>40.24537</td>\n",
       "      <td>-75.64963</td>\n",
       "      <td>Pottstown</td>\n",
       "      <td>US</td>\n",
       "      <td>0</td>\n",
       "    </tr>\n",
       "  </tbody>\n",
       "</table>\n",
       "</div>"
      ],
      "text/plain": [
       "                                tid             datetime            cc_num  \\\n",
       "0  11df919988c134d97bbff2678eb68e22  2022-01-01 00:00:24  4473593503484549   \n",
       "1  dd0b2d6d4266ccd3bf05bc2ea91cf180  2022-01-01 00:00:56  4272465718946864   \n",
       "2  e627f5d9a9739833bd52d2da51761fc3  2022-01-01 00:02:32  4104216579248948   \n",
       "3  6fb3e6beafbb92b8e15827037f603c52  2022-01-01 00:03:24  4814447237003448   \n",
       "4  be0b8acc57bfe126a5a392fd99e6ddd1  2022-01-01 00:03:55  4515188652242507   \n",
       "\n",
       "             category  amount  latitude   longitude            city country  \\\n",
       "0       Health/Beauty   62.95  42.30865   -83.48216          Canton      US   \n",
       "1             Grocery   85.45  33.52253  -117.70755   Laguna Niguel      US   \n",
       "2  Domestic Transport   21.63  37.60876   -77.37331  Mechanicsville      US   \n",
       "3       Health/Beauty   54.71  43.54072  -116.56346           Nampa      US   \n",
       "4             Grocery   59.22  40.24537   -75.64963       Pottstown      US   \n",
       "\n",
       "   fraud_label  \n",
       "0            0  \n",
       "1            0  \n",
       "2            0  \n",
       "3            0  \n",
       "4            0  "
      ]
     },
     "execution_count": 43,
     "metadata": {},
     "output_type": "execute_result"
    }
   ],
   "source": [
    "transactions_pdf = pd.DataFrame.from_records(transactions)\n",
    "transactions_pdf.head()"
   ]
  },
  {
   "cell_type": "code",
   "execution_count": 45,
   "metadata": {},
   "outputs": [],
   "source": [
    "import pandas as pd\n",
    "from hops import hdfs\n",
    "from hops import pandas_helper as pandas\n",
    "                                            \n",
    "#pandas.write_csv(\"/Projects/{}/Jupyter/hopsworks-tutorials/data/transactions.csv\", transactions_pdf, index=False)\n",
    "#pandas.write_csv(\"/Projects/{}/Jupyter/hopsworks-tutorials/data/profiles.csv\", profiles_pdf, index=False)\n",
    "#pandas.write_csv(\"/Projects/{}/Jupyter/hopsworks-tutorials/data/credit_cards.csv\", credit_cards_pdf, index=False)\n",
    "\n",
    "pandas.write_csv(hdfs.project_path() + \"/Resources/transactions.csv\", transactions_pdf, index=False)\n",
    "pandas.write_csv(hdfs.project_path() + \"/Resources/profiles.csv\", profiles_pdf, index=False)\n",
    "pandas.write_csv(hdfs.project_path() + \"/Resources/credit_cards.csv\", credit_cards_pdf, index=False)"
   ]
  },
  {
   "cell_type": "markdown",
   "metadata": {},
   "source": [
    "### Produce transactions "
   ]
  },
  {
   "cell_type": "code",
   "execution_count": 131,
   "metadata": {},
   "outputs": [],
   "source": [
    "from hops import kafka\n",
    "from hops import tls\n",
    "from hops import hdfs\n",
    "import json\n",
    "from confluent_kafka import Producer"
   ]
  },
  {
   "cell_type": "code",
   "execution_count": 132,
   "metadata": {},
   "outputs": [],
   "source": [
    "# change this according to your settings\n",
    "KAFKA_BROKER_ADDRES = \"broker.kafka.service.consul:9091\"\n",
    "KAFKA_TOPIC_NAME = \"credit_card_transactions\""
   ]
  },
  {
   "cell_type": "code",
   "execution_count": 133,
   "metadata": {},
   "outputs": [],
   "source": [
    "config = {\n",
    "    \"bootstrap.servers\": KAFKA_BROKER_ADDRES,\n",
    "    \"security.protocol\": kafka.get_security_protocol(),\n",
    "    \"ssl.ca.location\": tls.get_ca_chain_location(),\n",
    "    \"ssl.certificate.location\": tls.get_client_certificate_location(),\n",
    "    \"ssl.key.location\": tls.get_client_key_location(),\n",
    "    \"group.id\": \"1\"\n",
    "}\n",
    "\n",
    "producer = Producer(config)"
   ]
  },
  {
   "cell_type": "code",
   "execution_count": 134,
   "metadata": {},
   "outputs": [
    {
     "name": "stdout",
     "output_type": "stream",
     "text": [
      "{\"tid\": \"a323f156f0d5186cde4e73744838e24f\", \"datetime\": \"2022-01-01 00:01:51\", \"cc_num\": \"4541027012165198\", \"category\": \"Health/Beauty\", \"amount\": 62.95, \"latitude\": \"40.82232\", \"longitude\": \"-74.15987\", \"city\": \"Nutley\", \"country\": \"US\"}\n"
     ]
    },
    {
     "name": "stderr",
     "output_type": "stream",
     "text": [
      "<ipython-input-134-5dc0991d36c3>:7: DeprecationWarning: PY_SSIZE_T_CLEAN will be required for '#' formats\n",
      "  producer.produce(KAFKA_TOPIC_NAME, json.dumps(transaction))\n"
     ]
    },
    {
     "name": "stdout",
     "output_type": "stream",
     "text": [
      "{\"tid\": \"20bee5f14bc668ebba01913df1c831a4\", \"datetime\": \"2022-01-02 02:02:55\", \"cc_num\": \"4596835510263123\", \"category\": \"Health/Beauty\", \"amount\": 90.86, \"latitude\": \"40.65995\", \"longitude\": \"-111.99633\", \"city\": \"Kearns\", \"country\": \"US\"}\n",
      "{\"tid\": \"ff716695ece4ed4ef0997d60e65af82c\", \"datetime\": \"2022-01-03 03:37:39\", \"cc_num\": \"4564162231458983\", \"category\": \"Health/Beauty\", \"amount\": 17.25, \"latitude\": \"30.5427\", \"longitude\": \"-97.54667\", \"city\": \"Hutto\", \"country\": \"US\"}\n",
      "{\"tid\": \"d661edbc17e8c498fc3f73228f85b6aa\", \"datetime\": \"2022-01-04 05:30:32\", \"cc_num\": \"4238853522135258\", \"category\": \"Electronics\", \"amount\": 620.79, \"latitude\": \"39.32011\", \"longitude\": \"-76.51552\", \"city\": \"Rosedale\", \"country\": \"US\"}\n",
      "{\"tid\": \"b9fa056c91f35ca4976710a164fa371a\", \"datetime\": \"2022-01-05 07:54:59\", \"cc_num\": \"4337740519214735\", \"category\": \"Grocery\", \"amount\": 89.29, \"latitude\": \"44.73941\", \"longitude\": \"-93.12577\", \"city\": \"Rosemount\", \"country\": \"US\"}\n",
      "{\"tid\": \"73d81f9ded704586ca05f4e93a5ca523\", \"datetime\": \"2022-01-06 10:36:06\", \"cc_num\": \"4036390922086165\", \"category\": \"Domestic Transport\", \"amount\": 54.25, \"latitude\": \"41.16704\", \"longitude\": \"-73.20483\", \"city\": \"Bridgeport\", \"country\": \"US\"}\n",
      "{\"tid\": \"5fae9aad429224b67295db0d3f7bdd23\", \"datetime\": \"2022-01-07 11:33:21\", \"cc_num\": \"4762188703287006\", \"category\": \"Grocery\", \"amount\": 93.67, \"latitude\": \"34.14251\", \"longitude\": \"-118.25508\", \"city\": \"Glendale\", \"country\": \"US\"}\n",
      "{\"tid\": \"334b20ae5f7e1f4179ef119c072dcfee\", \"datetime\": \"2022-01-08 14:14:37\", \"cc_num\": \"4386831407989460\", \"category\": \"Electronics\", \"amount\": 7719.49, \"latitude\": \"40.24537\", \"longitude\": \"-75.64963\", \"city\": \"Pottstown\", \"country\": \"US\"}\n",
      "{\"tid\": \"1394d2a3bd883c3dc6e716edf8f42c67\", \"datetime\": \"2022-01-09 16:13:12\", \"cc_num\": \"4499000229108105\", \"category\": \"Health/Beauty\", \"amount\": 63.77, \"latitude\": \"32.5007\", \"longitude\": \"-94.74049\", \"city\": \"Longview\", \"country\": \"US\"}\n",
      "{\"tid\": \"a880b593fb30d9c5b138a24a29e34ce7\", \"datetime\": \"2022-01-10 18:58:08\", \"cc_num\": \"4445916313182760\", \"category\": \"Health/Beauty\", \"amount\": 462.55, \"latitude\": \"46.09273\", \"longitude\": \"-88.64235\", \"city\": \"Iron River\", \"country\": \"US\"}\n",
      "{\"tid\": \"3442b6cdae28683a73c1c1827a26c468\", \"datetime\": \"2022-01-11 20:12:38\", \"cc_num\": \"4085049862790828\", \"category\": \"Domestic Transport\", \"amount\": 92.03, \"latitude\": \"43.1009\", \"longitude\": \"-75.23266\", \"city\": \"Utica\", \"country\": \"US\"}\n",
      "{\"tid\": \"c01ef0fca9145f1bf819faadea9c1bb6\", \"datetime\": \"2022-01-12 23:10:39\", \"cc_num\": \"4118202503389390\", \"category\": \"Electronics\", \"amount\": 3901.53, \"latitude\": \"43.16547\", \"longitude\": \"-77.70066\", \"city\": \"Gates-North Gates\", \"country\": \"US\"}\n",
      "{\"tid\": \"48ef613155802f5c05ea1d8b1ecbf481\", \"datetime\": \"2022-01-14 02:52:13\", \"cc_num\": \"4512666926191421\", \"category\": \"Grocery\", \"amount\": 26.75, \"latitude\": \"41.55815\", \"longitude\": \"-73.0515\", \"city\": \"Waterbury\", \"country\": \"US\"}\n",
      "{\"tid\": \"ec98feeb4ba56fbe95a5ad956f8f355a\", \"datetime\": \"2022-01-15 06:06:50\", \"cc_num\": \"4507951807712496\", \"category\": \"Restaurant/Cafeteria\", \"amount\": 13.8, \"latitude\": \"40.34912\", \"longitude\": \"-111.90466\", \"city\": \"Saratoga Springs\", \"country\": \"US\"}\n",
      "{\"tid\": \"21299de67dc004d84a26abbee2256f94\", \"datetime\": \"2022-01-16 08:36:04\", \"cc_num\": \"4782192361332696\", \"category\": \"Grocery\", \"amount\": 85.55, \"latitude\": \"40.58654\", \"longitude\": \"-122.39168\", \"city\": \"Redding\", \"country\": \"US\"}\n",
      "{\"tid\": \"4fbd26a55d577c9d633cfce216a9aff5\", \"datetime\": \"2022-01-17 10:56:03\", \"cc_num\": \"4698453158969022\", \"category\": \"Grocery\", \"amount\": 5.83, \"latitude\": \"30.17746\", \"longitude\": \"-81.38758\", \"city\": \"Palm Valley\", \"country\": \"US\"}\n",
      "{\"tid\": \"90368f19bd34e2bf057319e528160309\", \"datetime\": \"2022-01-18 12:53:32\", \"cc_num\": \"4118278219116202\", \"category\": \"Grocery\", \"amount\": 26.54, \"latitude\": \"31.84568\", \"longitude\": \"-102.36764\", \"city\": \"Odessa\", \"country\": \"US\"}\n",
      "{\"tid\": \"62c23cc166f7cb96d77195d711e8f480\", \"datetime\": \"2022-01-19 15:26:05\", \"cc_num\": \"4327090937866720\", \"category\": \"Clothing\", \"amount\": 99.16, \"latitude\": \"42.4251\", \"longitude\": \"-71.06616\", \"city\": \"Malden\", \"country\": \"US\"}\n",
      "{\"tid\": \"02b768fa11f301a8223ef123f702d09a\", \"datetime\": \"2022-01-20 18:10:42\", \"cc_num\": \"4610739772483860\", \"category\": \"Domestic Transport\", \"amount\": 43.84, \"latitude\": \"39.32288\", \"longitude\": \"-76.72803\", \"city\": \"Woodlawn\", \"country\": \"US\"}\n",
      "{\"tid\": \"3db46ad87aec7d4f666f100a36670481\", \"datetime\": \"2022-01-21 20:13:43\", \"cc_num\": \"4210504619231607\", \"category\": \"Grocery\", \"amount\": 23.06, \"latitude\": \"41.24255\", \"longitude\": \"-82.61573\", \"city\": \"Norwalk\", \"country\": \"US\"}\n",
      "{\"tid\": \"a7bdf0835b72c6a62cd79d8e544f22ff\", \"datetime\": \"2022-01-22 21:35:21\", \"cc_num\": \"4615942299904229\", \"category\": \"Clothing\", \"amount\": 181.98, \"latitude\": \"42.52787\", \"longitude\": \"-70.92866\", \"city\": \"Peabody\", \"country\": \"US\"}\n",
      "{\"tid\": \"52c035055147605252ebd16e1049204d\", \"datetime\": \"2022-01-23 23:14:39\", \"cc_num\": \"4773430973341486\", \"category\": \"Health/Beauty\", \"amount\": 100.55, \"latitude\": \"40.64621\", \"longitude\": \"-73.97069\", \"city\": \"Kensington\", \"country\": \"US\"}\n",
      "{\"tid\": \"8094f0f9460651766131aa2eec227126\", \"datetime\": \"2022-01-25 01:18:14\", \"cc_num\": \"4991299196397278\", \"category\": \"Sports/Outdoors\", \"amount\": 47.7, \"latitude\": \"34.06635\", \"longitude\": \"-84.67837\", \"city\": \"Acworth\", \"country\": \"US\"}\n",
      "{\"tid\": \"9632162ff23c0a602792646914fb69d6\", \"datetime\": \"2022-01-26 04:52:05\", \"cc_num\": \"4709001521516926\", \"category\": \"Grocery\", \"amount\": 21.96, \"latitude\": \"30.17746\", \"longitude\": \"-81.38758\", \"city\": \"Palm Valley\", \"country\": \"US\"}\n",
      "{\"tid\": \"3612f619b0b271a51692e6da77ae8ca5\", \"datetime\": \"2022-01-27 06:40:25\", \"cc_num\": \"4400109238089798\", \"category\": \"Clothing\", \"amount\": 83.14, \"latitude\": \"32.42067\", \"longitude\": \"-104.22884\", \"city\": \"Carlsbad\", \"country\": \"US\"}\n",
      "{\"tid\": \"5b1082eaa6328b2eb535880e39b6945b\", \"datetime\": \"2022-01-28 09:26:45\", \"cc_num\": \"4865378406380150\", \"category\": \"Grocery\", \"amount\": 75.15, \"latitude\": \"34.95303\", \"longitude\": \"-120.43572\", \"city\": \"Santa Maria\", \"country\": \"US\"}\n",
      "{\"tid\": \"81355283ee1d8804eb7bb56ea2170448\", \"datetime\": \"2022-01-29 10:52:13\", \"cc_num\": \"4424789605603669\", \"category\": \"Grocery\", \"amount\": 60.02, \"latitude\": \"42.4251\", \"longitude\": \"-71.06616\", \"city\": \"Malden\", \"country\": \"US\"}\n",
      "{\"tid\": \"ccfe7459bbd3efd17cef9c10a0216890\", \"datetime\": \"2022-01-30 12:30:39\", \"cc_num\": \"4231173606661542\", \"category\": \"Health/Beauty\", \"amount\": 100.49, \"latitude\": \"26.91756\", \"longitude\": \"-82.07842\", \"city\": \"Punta Gorda Isles\", \"country\": \"US\"}\n",
      "{\"tid\": \"23f63119f20165d4e19ea071f8f70eeb\", \"datetime\": \"2022-01-31 16:16:23\", \"cc_num\": \"4593595867961777\", \"category\": \"Electronics\", \"amount\": 376.46, \"latitude\": \"47.64995\", \"longitude\": \"-117.23991\", \"city\": \"Opportunity\", \"country\": \"US\"}\n",
      "{\"tid\": \"a5a999c2e48fb1bcaa029e45609d43cd\", \"datetime\": \"2022-02-01 16:38:19\", \"cc_num\": \"4156977301337039\", \"category\": \"Grocery\", \"amount\": 44.21, \"latitude\": \"30.17746\", \"longitude\": \"-81.38758\", \"city\": \"Palm Valley\", \"country\": \"US\"}\n",
      "{\"tid\": \"5ca4a0a814a70eb739a8b7687e38e2f5\", \"datetime\": \"2022-02-02 19:42:15\", \"cc_num\": \"4110656522094588\", \"category\": \"Health/Beauty\", \"amount\": 16.59, \"latitude\": \"34.09611\", \"longitude\": \"-118.10583\", \"city\": \"San Gabriel\", \"country\": \"US\"}\n",
      "{\"tid\": \"2f9702b5ccf4343a11b5ecc7773d4b96\", \"datetime\": \"2022-02-03 22:12:31\", \"cc_num\": \"4361381888504817\", \"category\": \"Domestic Transport\", \"amount\": 10.26, \"latitude\": \"33.08014\", \"longitude\": \"-83.2321\", \"city\": \"Milledgeville\", \"country\": \"US\"}\n",
      "{\"tid\": \"d4e1cad23168e90c71167bde5bfed445\", \"datetime\": \"2022-02-05 00:42:24\", \"cc_num\": \"4075453714532051\", \"category\": \"Domestic Transport\", \"amount\": 59.52, \"latitude\": \"40.57788\", \"longitude\": \"-73.95958\", \"city\": \"Brighton Beach\", \"country\": \"US\"}\n",
      "{\"tid\": \"93572eb7131d5a541e2f39a528b27f28\", \"datetime\": \"2022-02-06 03:27:14\", \"cc_num\": \"4943813567177181\", \"category\": \"Grocery\", \"amount\": 11.32, \"latitude\": \"41.15376\", \"longitude\": \"-87.88754\", \"city\": \"Bourbonnais\", \"country\": \"US\"}\n",
      "{\"tid\": \"20271f2a9e3d957c0c062a8449740432\", \"datetime\": \"2022-02-07 05:41:51\", \"cc_num\": \"4400387596625607\", \"category\": \"Grocery\", \"amount\": 78.55, \"latitude\": \"35.74788\", \"longitude\": \"-95.36969\", \"city\": \"Muskogee\", \"country\": \"US\"}\n",
      "{\"tid\": \"34cd04c10a4841bfaeda8b9868a03e4b\", \"datetime\": \"2022-02-08 06:43:19\", \"cc_num\": \"4277223441510571\", \"category\": \"Grocery\", \"amount\": 72.07, \"latitude\": \"40.65538\", \"longitude\": \"-74.38987\", \"city\": \"Scotch Plains\", \"country\": \"US\"}\n",
      "{\"tid\": \"5e8ef3509eaae7fdb6f92a81542b8104\", \"datetime\": \"2022-02-09 09:33:53\", \"cc_num\": \"4217794863222880\", \"category\": \"Grocery\", \"amount\": 51.73, \"latitude\": \"30.17746\", \"longitude\": \"-81.38758\", \"city\": \"Palm Valley\", \"country\": \"US\"}\n",
      "{\"tid\": \"cb8a4c4406f7af5eb2113b1631d2172a\", \"datetime\": \"2022-02-10 10:56:01\", \"cc_num\": \"4972349737471042\", \"category\": \"Grocery\", \"amount\": 83.07, \"latitude\": \"33.45122\", \"longitude\": \"-86.99666\", \"city\": \"Hueytown\", \"country\": \"US\"}\n",
      "{\"tid\": \"50181f93bdecaacf858629a076b6fefe\", \"datetime\": \"2022-02-11 12:44:19\", \"cc_num\": \"4678548979434892\", \"category\": \"Health/Beauty\", \"amount\": 65.95, \"latitude\": \"41.6764\", \"longitude\": \"-91.58045\", \"city\": \"Coralville\", \"country\": \"US\"}\n",
      "{\"tid\": \"1cea9c411ac82455f155abde5915f1b3\", \"datetime\": \"2022-02-12 14:52:21\", \"cc_num\": \"4558136484428289\", \"category\": \"Restaurant/Cafeteria\", \"amount\": 4.2, \"latitude\": \"42.97086\", \"longitude\": \"-82.42491\", \"city\": \"Port Huron\", \"country\": \"US\"}\n",
      "{\"tid\": \"8b496bf01dd11bb6c0e54d2ca7626440\", \"datetime\": \"2022-02-13 16:31:34\", \"cc_num\": \"4541027012165198\", \"category\": \"Electronics\", \"amount\": 276.14, \"latitude\": \"39.43534\", \"longitude\": \"-84.20299\", \"city\": \"Lebanon\", \"country\": \"US\"}\n",
      "{\"tid\": \"48cdc92860f072b0d7a7548a5a1e3852\", \"datetime\": \"2022-02-14 17:36:07\", \"cc_num\": \"4408213386133549\", \"category\": \"Health/Beauty\", \"amount\": 41.28, \"latitude\": \"39.57582\", \"longitude\": \"-105.11221\", \"city\": \"Ken Caryl\", \"country\": \"US\"}\n"
     ]
    },
    {
     "ename": "KeyboardInterrupt",
     "evalue": "",
     "output_type": "error",
     "traceback": [
      "\u001b[0;31m---------------------------------------------------------------------------\u001b[0m",
      "\u001b[0;31mKeyboardInterrupt\u001b[0m                         Traceback (most recent call last)",
      "\u001b[0;32m<ipython-input-134-5dc0991d36c3>\u001b[0m in \u001b[0;36m<module>\u001b[0;34m\u001b[0m\n\u001b[1;32m      6\u001b[0m         \u001b[0mprint\u001b[0m\u001b[0;34m(\u001b[0m\u001b[0mjson\u001b[0m\u001b[0;34m.\u001b[0m\u001b[0mdumps\u001b[0m\u001b[0;34m(\u001b[0m\u001b[0mtransaction\u001b[0m\u001b[0;34m)\u001b[0m\u001b[0;34m)\u001b[0m\u001b[0;34m\u001b[0m\u001b[0;34m\u001b[0m\u001b[0m\n\u001b[1;32m      7\u001b[0m     \u001b[0mproducer\u001b[0m\u001b[0;34m.\u001b[0m\u001b[0mproduce\u001b[0m\u001b[0;34m(\u001b[0m\u001b[0mKAFKA_TOPIC_NAME\u001b[0m\u001b[0;34m,\u001b[0m \u001b[0mjson\u001b[0m\u001b[0;34m.\u001b[0m\u001b[0mdumps\u001b[0m\u001b[0;34m(\u001b[0m\u001b[0mtransaction\u001b[0m\u001b[0;34m)\u001b[0m\u001b[0;34m)\u001b[0m\u001b[0;34m\u001b[0m\u001b[0;34m\u001b[0m\u001b[0m\n\u001b[0;32m----> 8\u001b[0;31m     \u001b[0mproducer\u001b[0m\u001b[0;34m.\u001b[0m\u001b[0mflush\u001b[0m\u001b[0;34m(\u001b[0m\u001b[0;34m)\u001b[0m\u001b[0;34m\u001b[0m\u001b[0;34m\u001b[0m\u001b[0m\n\u001b[0m\u001b[1;32m      9\u001b[0m     \u001b[0mi\u001b[0m \u001b[0;34m+=\u001b[0m \u001b[0;36m1\u001b[0m\u001b[0;34m\u001b[0m\u001b[0;34m\u001b[0m\u001b[0m\n",
      "\u001b[0;31mKeyboardInterrupt\u001b[0m: "
     ]
    }
   ],
   "source": [
    "i = 0\n",
    "for transaction in transactions:\n",
    "    transaction_label = {}\n",
    "    _ = transaction.pop(\"fraud_label\")\n",
    "    if i % 1000 == 0:\n",
    "        print(json.dumps(transaction))\n",
    "    producer.produce(KAFKA_TOPIC_NAME, json.dumps(transaction))\n",
    "    producer.flush()    \n",
    "    i += 1"
   ]
  },
  {
   "cell_type": "code",
   "execution_count": null,
   "metadata": {},
   "outputs": [],
   "source": [
    "transactions[1]"
   ]
  },
  {
   "cell_type": "code",
   "execution_count": null,
   "metadata": {},
   "outputs": [],
   "source": []
  }
 ],
 "metadata": {
  "kernelspec": {
   "display_name": "Python",
   "language": "python",
   "name": "python3"
  },
  "language_info": {
   "codemirror_mode": {
    "name": "ipython",
    "version": 3
   },
   "file_extension": ".py",
   "mimetype": "text/x-python",
   "name": "python",
   "nbconvert_exporter": "python",
   "pygments_lexer": "ipython3",
   "version": "3.8.11"
  }
 },
 "nbformat": 4,
 "nbformat_minor": 4
}