{
 "cells": [
  {
   "cell_type": "markdown",
   "id": "9f2091db-2af3-497d-b02b-0e137bbf23fd",
   "metadata": {},
   "source": [
    "# Hyperparameter optimization with Maggy\n",
    "\n",
    "*Note: this notebook needs to be run with a PySpark kernel to work properly!*\n",
    "\n",
    "We'll use the [Maggy](https://maggy.ai/master/) library from Hopsworks to run experiments with hyperparameter tuning. \n",
    "\n",
    "The way it works is that we wrap training code in a function that we feed to an experiment object that executes the code. We can use code similar to the previous notebook, `4_model_training_and_registration.ipynb`.\n",
    "\n",
    "The function will accept input parameters corresponding to model parameters that we want to tune. In this tutorial, a simple optimization we might want to do is to find a suitable value for the class weight on the positive class. With another model, for instance random forest or gradient boosting, you might want to tune the number of trees in the ensemble, the maximum depth of the trees, and so on."
   ]
  },
  {
   "cell_type": "markdown",
   "id": "c586c9b4-8c1f-43b4-b2c2-6bbda65aee8c",
   "metadata": {},
   "source": [
    "Start by reading the training and validation data in the same way as for the previous notebook. We give the code without comments for brevity."
   ]
  },
  {
   "cell_type": "code",
   "execution_count": 1,
   "id": "1446938f-6580-4088-9048-6f21fef2b003",
   "metadata": {},
   "outputs": [
    {
     "name": "stdout",
     "output_type": "stream",
     "text": [
      "Starting Spark application\n"
     ]
    },
    {
     "data": {
      "text/html": [
       "<table>\n",
       "<tr><th>ID</th><th>Application ID</th><th>Kind</th><th>State</th><th>Spark UI</th><th>Driver log</th></tr><tr><td>10</td><td>application_1649849762999_0153</td><td>pyspark</td><td>idle</td><td><a target=\"_blank\" href=\"/hopsworks-api/yarnui/https://resourcemanager.service.consul:8089/proxy/application_1649849762999_0153/\">Link</a></td><td><a target=\"_blank\" href=\"/hopsworks-api/yarnui/https://ip-172-31-26-54.eu-north-1.compute.internal:8044/node/containerlogs/container_e01_1649849762999_0153_01_000001/fraud_tutorial__mikael00\">Link</a></td></tr></table>"
      ],
      "text/plain": [
       "<IPython.core.display.HTML object>"
      ]
     },
     "metadata": {},
     "output_type": "display_data"
    },
    {
     "name": "stdout",
     "output_type": "stream",
     "text": [
      "SparkSession available as 'spark'.\n",
      "Connected. Call `.close()` to terminate connection gracefully."
     ]
    }
   ],
   "source": [
    "import hsfs\n",
    "import pandas as pd\n",
    "\n",
    "conn = hsfs.connection()\n",
    "fs = conn.get_feature_store()\n",
    "td = fs.get_training_dataset(\"transactions_dataset_splitted\", version=2)\n",
    "train_df = td.read('train')\n",
    "val_df = td.read('validation')\n",
    "\n",
    "if not type(train_df) == pd.core.frame.DataFrame: \n",
    "    train_df = train_df.toPandas()\n",
    "    val_df = val_df.toPandas()\n",
    "    \n",
    "target = 'fraud_label'\n",
    "features = list(set(train_df.columns) - set([target]))\n",
    "\n",
    "X_train, y_train = train_df[features], train_df[target]\n",
    "X_val, y_val = val_df[features], val_df[target]"
   ]
  },
  {
   "cell_type": "markdown",
   "id": "a7852719-69bc-4696-bc8d-4dbea15a7855",
   "metadata": {},
   "source": [
    "Now wrap the training code into a function that returns some metric we want to optimize. \n",
    "\n",
    "This code assumes that the `X_train`, `y_train` etc variables already exist in the namespace. You could also require them to be inputs to the `fraud_logreg_train` function but would then need to modify how you call the function in the last cell for example using Python's `partial` functionality."
   ]
  },
  {
   "cell_type": "code",
   "execution_count": 8,
   "id": "8d638cc8-7279-4c5e-a843-a975657407c0",
   "metadata": {},
   "outputs": [],
   "source": [
    "def fraud_logreg_train(class_weight):\n",
    "    from sklearn.linear_model import LogisticRegression\n",
    "    from sklearn.metrics import precision_score\n",
    "    clf = LogisticRegression(class_weight={0: 1, 1: class_weight}, solver='liblinear')\n",
    "    clf.fit(X_train, y_train)\n",
    "    preds = clf.predict(X_val)\n",
    "    pos_prec = precision_score(y_true=y_val, y_pred=preds, pos_label=1)\n",
    "    return pos_prec"
   ]
  },
  {
   "cell_type": "markdown",
   "id": "c719e4db-7ae2-48e3-925f-23c78a2347ab",
   "metadata": {},
   "source": [
    "Just check that it works."
   ]
  },
  {
   "cell_type": "code",
   "execution_count": 12,
   "id": "9599f2d9-e907-4348-b215-e0f74741b448",
   "metadata": {},
   "outputs": [
    {
     "name": "stdout",
     "output_type": "stream",
     "text": [
      "0.004691789368604942"
     ]
    }
   ],
   "source": [
    "fraud_logreg_train(500)"
   ]
  },
  {
   "cell_type": "markdown",
   "id": "824b9a08-0524-4093-87eb-d3dae01f2f67",
   "metadata": {},
   "source": [
    "Now we have to define the search space, meaning the interval to be searched for the best value. We are trying to optimize the positive-class precision, and since the positive class is very rare, the weight on it should probably be large. Let's try between 10 and 10000."
   ]
  },
  {
   "cell_type": "code",
   "execution_count": 14,
   "id": "4c4e6722-53a8-41ad-ae3b-29448d117c3c",
   "metadata": {},
   "outputs": [
    {
     "name": "stdout",
     "output_type": "stream",
     "text": [
      "Hyperparameter added: class_weight"
     ]
    }
   ],
   "source": [
    "from maggy import Searchspace\n",
    "\n",
    "sp = Searchspace(class_weight=('DOUBLE', [10, 10000]))"
   ]
  },
  {
   "cell_type": "markdown",
   "id": "ffff604b-42a4-44b1-8a0b-d4abcc0bac84",
   "metadata": {},
   "source": [
    "Now we can run the `lagom` method, which tries to find the best value. Lagom is a Swedish word that means \"just right\". We give it the training wrapper function and the search space we just defined. Since precision is a metric we want to be as high as possible, we use `direction=max`. \n",
    "\n",
    "`num_trials` is simply how many models will be trained; you should set this based on how much time you are willing to spend. We'll just do five trials here to showcase the functionality.\n",
    "\n",
    "The `optimizer` is the strategy used to determine the next parameter value to try. We will just ise random search, which often works well in practice. You can read about alternatives [here](https://maggy.ai/master/hpo/strategies/)."
   ]
  },
  {
   "cell_type": "code",
   "execution_count": 15,
   "id": "bc7ecbd9-4119-47b3-a3d5-a8ccf2ad8197",
   "metadata": {},
   "outputs": [
    {
     "data": {
      "application/vnd.jupyter.widget-view+json": {
       "model_id": "6ba026e49604450c8d7b8452531c8afd",
       "version_major": 2,
       "version_minor": 0
      },
      "text/plain": [
       "HBox(children=(FloatProgress(value=0.0, description='Maggy experiment', max=5.0, style=ProgressStyle(descripti…"
      ]
     },
     "metadata": {},
     "output_type": "display_data"
    },
    {
     "name": "stdout",
     "output_type": "stream",
     "text": [
      "Started Maggy Experiment: fraud_lr, application_1649849762999_0153, run 1\n",
      "\n",
      "------ RandomSearch Results ------ direction(max) \n",
      "BEST combination {\"class_weight\": 1228.9784393829098} -- metric 0.00253848905950968\n",
      "WORST combination {\"class_weight\": 8672.772219669952} -- metric 0.002301660046847948\n",
      "AVERAGE metric -- 0.002397147451510917\n",
      "EARLY STOPPED Trials -- 0\n",
      "Total job time 0 hours, 0 minutes, 30 seconds\n",
      "\n",
      "Finished Experiment\n"
     ]
    }
   ],
   "source": [
    "from maggy import experiment\n",
    "\n",
    "result = experiment.lagom(train_fn=fraud_logreg_train,\n",
    "                            searchspace=sp,\n",
    "                            optimizer='randomsearch',\n",
    "                            direction='max',\n",
    "                            num_trials=5,\n",
    "                            name='fraud_lr'\n",
    "                           )"
   ]
  },
  {
   "cell_type": "code",
   "execution_count": 16,
   "id": "5a381adf-0e18-48c9-94a5-41886890b818",
   "metadata": {},
   "outputs": [
    {
     "name": "stdout",
     "output_type": "stream",
     "text": [
      "{'best_id': 'febae4089cd78087', 'best_val': 0.00253848905950968, 'best_hp': {'class_weight': 1228.9784393829098}, 'worst_id': '800cb7116ffe4670', 'worst_val': 0.002301660046847948, 'worst_hp': {'class_weight': 8672.772219669952}, 'avg': 0.002397147451510917, 'metric_list': [0.00253848905950968, 0.0023123936093849343, 0.002331002331002331, 0.002301660046847948, 0.002502192210809694], 'num_trials': 5, 'early_stopped': 0}"
     ]
    }
   ],
   "source": [
    "result"
   ]
  },
  {
   "cell_type": "code",
   "execution_count": null,
   "id": "7e406a4c-45ae-4747-ac34-58d74478d977",
   "metadata": {},
   "outputs": [],
   "source": []
  }
 ],
 "metadata": {
  "kernelspec": {
   "display_name": "PySpark",
   "language": "python",
   "name": "pysparkkernel"
  },
  "language_info": {
   "codemirror_mode": {
    "name": "python",
    "version": 3
   },
   "mimetype": "text/x-python",
   "name": "pyspark",
   "pygments_lexer": "python3"
  }
 },
 "nbformat": 4,
 "nbformat_minor": 5
}