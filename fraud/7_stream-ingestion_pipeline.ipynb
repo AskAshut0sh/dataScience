{
 "cells": [
  {
   "cell_type": "markdown",
   "id": "30b16267",
   "metadata": {},
   "source": [
    "## Windowed aggregations using spark streaming and ingestion to the online feature store\n",
    "\n",
    "### **Note: this notebook needs to be run with a PySpark kernel to work properly!*\n",
    "\n",
    "In this notebook, we'll use the spark structured streaming for real time feature aggregations and writing them to the online and offline FS:\n",
    "\n",
    "- Read data from the kafka topic .\n",
    "- Time window aggregations using spark structured streaming.\n",
    "- write aggregated feature to the online feature store\n"
   ]
  },
  {
   "cell_type": "markdown",
   "id": "f9f1e35c",
   "metadata": {},
   "source": [
    "## Import necessary libraries"
   ]
  },
  {
   "cell_type": "code",
   "execution_count": 1,
   "id": "02f09e0f",
   "metadata": {},
   "outputs": [
    {
     "name": "stdout",
     "output_type": "stream",
     "text": [
      "Starting Spark application\n"
     ]
    },
    {
     "data": {
      "text/html": [
       "<table>\n",
       "<tr><th>ID</th><th>Application ID</th><th>Kind</th><th>State</th><th>Spark UI</th><th>Driver log</th></tr><tr><td>8</td><td>application_1653093964210_0014</td><td>pyspark</td><td>idle</td><td><a target=\"_blank\" href=\"/hopsworks-api/yarnui/https://hopsworks0.logicalclocks.com:8089/proxy/application_1653093964210_0014/\">Link</a></td><td><a target=\"_blank\" href=\"/hopsworks-api/yarnui/https://hopsworks0.logicalclocks.com:8044/node/containerlogs/container_1653093964210_0014_01_000001/fraud_demo__meb10000\">Link</a></td></tr></table>"
      ],
      "text/plain": [
       "<IPython.core.display.HTML object>"
      ]
     },
     "metadata": {},
     "output_type": "display_data"
    },
    {
     "name": "stdout",
     "output_type": "stream",
     "text": [
      "SparkSession available as 'spark'.\n"
     ]
    }
   ],
   "source": [
    "import json\n",
    "\n",
    "from pyspark.sql.functions import from_json, window, avg,count, stddev, explode, date_format,col, mean\n",
    "from pyspark.sql.types import StructField, StructType, StringType, DoubleType, TimestampType, LongType, IntegerType\n",
    "\n",
    "from hops import kafka, tls, hdfs"
   ]
  },
  {
   "cell_type": "code",
   "execution_count": 2,
   "id": "fd66b5cb",
   "metadata": {},
   "outputs": [],
   "source": [
    "# name of the kafka topic to read card transactions from\n",
    "KAFKA_TOPIC_NAME = \"credit_card_transactions\""
   ]
  },
  {
   "cell_type": "markdown",
   "id": "33b23ed3",
   "metadata": {},
   "source": [
    "## Create a stream from the kafka topic\n"
   ]
  },
  {
   "cell_type": "code",
   "execution_count": 3,
   "id": "4a7e9f0c",
   "metadata": {},
   "outputs": [],
   "source": [
    "df_read = spark \\\n",
    "  .readStream \\\n",
    "  .format(\"kafka\") \\\n",
    "  .option(\"kafka.bootstrap.servers\", kafka.get_broker_endpoints()) \\\n",
    "  .option(\"kafka.security.protocol\",kafka.get_security_protocol()) \\\n",
    "  .option(\"kafka.ssl.truststore.location\", tls.get_trust_store()) \\\n",
    "  .option(\"kafka.ssl.truststore.password\", tls.get_key_store_pwd()) \\\n",
    "  .option(\"kafka.ssl.keystore.location\", tls.get_key_store()) \\\n",
    "  .option(\"kafka.ssl.keystore.password\", tls.get_key_store_pwd()) \\\n",
    "  .option(\"kafka.ssl.key.password\", tls.get_trust_store_pwd()) \\\n",
    "  .option(\"kafka.ssl.endpoint.identification.algorithm\", \"\") \\\n",
    "  .option(\"startingOffsets\", \"earliest\")\\\n",
    "  .option(\"subscribe\", KAFKA_TOPIC_NAME) \\\n",
    "  .load()"
   ]
  },
  {
   "cell_type": "code",
   "execution_count": 4,
   "id": "a1c4c944",
   "metadata": {},
   "outputs": [],
   "source": [
    "# Define schema to read from kafka topic \n",
    "parse_schema = StructType([StructField('tid', StringType(), True),\n",
    "                           StructField('datetime', StringType(), True),\n",
    "                           StructField('cc_num', StringType(), True),\n",
    "                           StructField('category', StringType(), True),\n",
    "                           StructField('amount', StringType(), True),\n",
    "                           StructField('latitude', StringType(), True),\n",
    "                           StructField('longitude', StringType(), True),\n",
    "                           StructField('city', StringType(), True),\n",
    "                           StructField('country', StringType(), True)]\n",
    "                         )"
   ]
  },
  {
   "cell_type": "code",
   "execution_count": 5,
   "id": "010ee7d6",
   "metadata": {},
   "outputs": [],
   "source": [
    "# Deserialise data from and create streaming query\n",
    "df_deser = df_read.selectExpr(\"CAST(value AS STRING)\")\\\n",
    "                   .select(from_json(\"value\", parse_schema).alias(\"value\"))\\\n",
    "                   .select(\"value.tid\", \n",
    "                           \"value.datetime\", \n",
    "                           \"value.cc_num\", \n",
    "                           \"value.category\", \n",
    "                           \"value.amount\", \n",
    "                           \"value.latitude\", \n",
    "                           \"value.longitude\",\n",
    "                           \"value.city\",\n",
    "                           \"value.country\")\\\n",
    "                   .selectExpr(\"CAST(tid as string)\", \n",
    "                               \"CAST(datetime as string)\", \n",
    "                               \"CAST(cc_num as long)\", \n",
    "                               \"CAST(category as string)\", \n",
    "                               \"CAST(amount as double)\",\n",
    "                               \"CAST(latitude as double)\",\n",
    "                               \"CAST(longitude as double)\",\n",
    "                               \"CAST(city as string)\",\n",
    "                               \"CAST(country as string)\")"
   ]
  },
  {
   "cell_type": "code",
   "execution_count": 6,
   "id": "60526229",
   "metadata": {},
   "outputs": [
    {
     "name": "stdout",
     "output_type": "stream",
     "text": [
      "True"
     ]
    }
   ],
   "source": [
    "df_deser.isStreaming"
   ]
  },
  {
   "cell_type": "code",
   "execution_count": 7,
   "id": "4fad0cf8",
   "metadata": {},
   "outputs": [
    {
     "name": "stdout",
     "output_type": "stream",
     "text": [
      "root\n",
      " |-- tid: string (nullable = true)\n",
      " |-- datetime: string (nullable = true)\n",
      " |-- cc_num: long (nullable = true)\n",
      " |-- category: string (nullable = true)\n",
      " |-- amount: double (nullable = true)\n",
      " |-- latitude: double (nullable = true)\n",
      " |-- longitude: double (nullable = true)\n",
      " |-- city: string (nullable = true)\n",
      " |-- country: string (nullable = true)"
     ]
    }
   ],
   "source": [
    "df_deser.printSchema() "
   ]
  },
  {
   "cell_type": "code",
   "execution_count": 18,
   "id": "0584d20f",
   "metadata": {},
   "outputs": [
    {
     "name": "stdout",
     "output_type": "stream",
     "text": [
      "<function haversine at 0x7fedcf8aef70>"
     ]
    }
   ],
   "source": [
    "def haversine(long, lat):\n",
    "    \"\"\"Compute Haversine distance between each consecutive coordinate in (long, lat).\"\"\"    \n",
    "    from math import radians\n",
    "    long = radians(long)\n",
    "    lat = radians(lat)\n",
    "    long_shifted = long.shift()\n",
    "    lat_shifted = lat.shift()\n",
    "    long_diff = long_shifted - long\n",
    "    lat_diff = lat_shifted - lat\n",
    "\n",
    "    a = np.sin(lat_diff/2.0)**2\n",
    "    b = np.cos(lat) * np.cos(lat_shifted) * np.sin(long_diff/2.0)**2\n",
    "    c = 2*np.arcsin(np.sqrt(a + b))\n",
    "\n",
    "    return c\n",
    "\n",
    "spark.udf.register(\"haversine\", haversine)"
   ]
  },
  {
   "cell_type": "markdown",
   "id": "276b92cb",
   "metadata": {},
   "source": [
    "## Create windowing aggregations over different time windows using spark streaming."
   ]
  },
  {
   "cell_type": "code",
   "execution_count": 19,
   "id": "085376e5",
   "metadata": {},
   "outputs": [],
   "source": [
    "# 4 hour window\n",
    "windowed4hTransactionDF =df_deser \\\n",
    "    .selectExpr(\"CAST(tid as string)\", \n",
    "                \"CAST(datetime as timestamp)\", \n",
    "                \"CAST(cc_num as long)\", \n",
    "                \"CAST(category as string)\", \n",
    "                \"CAST(amount as double)\",\n",
    "                \"haversine(longitude, latitude) as loc_delta\",\n",
    "                \"CAST(city as string)\",\n",
    "                \"CAST(country as string)\")\\\n",
    "    .withWatermark(\"datetime\", \"10 minutes\") \\\n",
    "    .groupBy(window(\"datetime\", \"240 minutes\"), \"cc_num\") \\\n",
    "    .agg(mean(\"amount\").alias(\"trans_volume_mavg\"), \n",
    "         stddev(\"amount\").alias(\"trans_volume_mstd\"), \n",
    "         count(\"cc_num\").alias(\"trans_freq\"),\n",
    "         mean(\"loc_delta\").alias(\"loc_delta_mavg\")\n",
    "        )\\\n",
    "    .select(\"cc_num\", \"trans_volume_mavg\", \"trans_volume_mstd\", \"trans_freq\", \"loc_delta_mavg\")\n"
   ]
  },
  {
   "cell_type": "code",
   "execution_count": 20,
   "id": "81515565",
   "metadata": {},
   "outputs": [
    {
     "name": "stdout",
     "output_type": "stream",
     "text": [
      "True"
     ]
    }
   ],
   "source": [
    "windowed4hTransactionDF.isStreaming"
   ]
  },
  {
   "cell_type": "code",
   "execution_count": 21,
   "id": "eb9deb56",
   "metadata": {},
   "outputs": [
    {
     "name": "stdout",
     "output_type": "stream",
     "text": [
      "root\n",
      " |-- cc_num: long (nullable = true)\n",
      " |-- trans_volume_mavg: double (nullable = true)\n",
      " |-- trans_volume_mstd: double (nullable = true)\n",
      " |-- trans_freq: long (nullable = false)\n",
      " |-- loc_delta_mavg: double (nullable = true)"
     ]
    }
   ],
   "source": [
    "windowed4hTransactionDF.printSchema()"
   ]
  },
  {
   "cell_type": "markdown",
   "id": "09223329",
   "metadata": {},
   "source": [
    "### Establish a connection with your Hopsworks feature store."
   ]
  },
  {
   "cell_type": "code",
   "execution_count": 22,
   "id": "4c97de74",
   "metadata": {},
   "outputs": [
    {
     "name": "stdout",
     "output_type": "stream",
     "text": [
      "Connected. Call `.close()` to terminate connection gracefully."
     ]
    }
   ],
   "source": [
    "import hsfs\n",
    "connection = hsfs.connection()\n",
    "# get a reference to the feature store, you can access also shared feature stores by providing the feature store name\n",
    "fs = connection.get_feature_store()"
   ]
  },
  {
   "cell_type": "markdown",
   "id": "0c76221d",
   "metadata": {},
   "source": [
    "## Get feature groups from hopsworks feature store."
   ]
  },
  {
   "cell_type": "code",
   "execution_count": 23,
   "id": "0a5a9e14",
   "metadata": {},
   "outputs": [],
   "source": [
    "transactions_4h_aggs = fs.get_feature_group(\"transactions_4h_aggs\", version = 1)"
   ]
  },
  {
   "cell_type": "markdown",
   "id": "1d8b53a4",
   "metadata": {},
   "source": [
    "## Insert streaming dataframes to the online feature group\n",
    "\n",
    "Now we are ready to write this streaming dataframe as a long living application to the online storage of the other feature group."
   ]
  },
  {
   "cell_type": "code",
   "execution_count": null,
   "id": "c132f444",
   "metadata": {},
   "outputs": [],
   "source": [
    "query_4h = transactions_4h_aggs.insert_stream(windowed4hTransactionDF)"
   ]
  },
  {
   "cell_type": "markdown",
   "id": "7878746a",
   "metadata": {},
   "source": [
    "### Check if spark streaming query is active"
   ]
  },
  {
   "cell_type": "code",
   "execution_count": null,
   "id": "6cb59a2a",
   "metadata": {},
   "outputs": [],
   "source": [
    "query_4h.isActive"
   ]
  },
  {
   "cell_type": "markdown",
   "id": "cbd97e83",
   "metadata": {},
   "source": [
    "#### We can also check status of a query and if there are any exceptions trown."
   ]
  },
  {
   "cell_type": "code",
   "execution_count": null,
   "id": "1c3d34f3",
   "metadata": {},
   "outputs": [],
   "source": [
    "query_4h.status"
   ]
  },
  {
   "cell_type": "code",
   "execution_count": null,
   "id": "1a118ffc",
   "metadata": {},
   "outputs": [],
   "source": [
    "query_4h.exception()"
   ]
  },
  {
   "cell_type": "markdown",
   "id": "b3efbbac",
   "metadata": {},
   "source": [
    "### Lets check if data was ingested in to the online feature store"
   ]
  },
  {
   "cell_type": "code",
   "execution_count": 33,
   "id": "ace6f60e",
   "metadata": {},
   "outputs": [
    {
     "name": "stdout",
     "output_type": "stream",
     "text": [
      "+----------------+-----------------+------------------+------------------+\n",
      "|cc_num          |num_trans_per_12h|avg_amt_per_12h   |stdev_amt_per_12h |\n",
      "+----------------+-----------------+------------------+------------------+\n",
      "|4444037300542691|7                |154.51857142857145|238.93552871214524|\n",
      "|4609072304828342|7                |176.02714285714288|263.06316920176454|\n",
      "|4161715127983823|10               |928.3030000000001 |1809.7934375689888|\n",
      "|4223253728365626|13               |1201.686153846154 |2724.0564739389993|\n",
      "|4572259224622748|9                |1291.5500000000002|2495.189283160699 |\n",
      "|4436298663019939|11               |149.78636363636366|235.75729924109365|\n",
      "|4159210768503456|6                |37.303333333333335|26.403001092047596|\n",
      "|4231082502226286|10               |977.8430000000001 |2071.1095165208753|\n",
      "|4090612125343330|15               |646.7259999999999 |1336.9214811370616|\n",
      "|4416410688550228|11               |663.0627272727273 |1631.6188600717442|\n",
      "|4853206196105715|10               |1077.6439999999998|2793.72050986255  |\n",
      "|4032763187099525|10               |425.006           |1204.4018071612704|\n",
      "|4811343280984688|6                |237.08166666666662|305.3312340666554 |\n",
      "|4815447301191763|6                |78.35833333333333 |29.206839895248287|\n",
      "|4645884898081724|8                |171.48125000000002|200.51632676222223|\n",
      "|4872287670027309|3                |260.63666666666666|427.3684126527525 |\n",
      "|4524584153018280|7                |160.18714285714285|223.19407330200963|\n",
      "|4734811798843814|7                |122.81714285714285|166.56810466135522|\n",
      "|4609746692923340|9                |1401.2866666666669|3007.164227935514 |\n",
      "|4526611032294580|6                |109.52166666666666|150.55966530471125|\n",
      "+----------------+-----------------+------------------+------------------+\n",
      "only showing top 20 rows"
     ]
    }
   ],
   "source": [
    "fs.sql(\"SELECT * FROM transactions_4h_aggs_agg_1\",online=True).show(20,False)"
   ]
  },
  {
   "cell_type": "markdown",
   "id": "0c91949a",
   "metadata": {},
   "source": [
    "### Stop queries\n",
    "If you are running this from a notebook, you can kill the Spark Structured Streaming Query by stopping the Kernel or by calling its `.stop()` method."
   ]
  },
  {
   "cell_type": "code",
   "execution_count": 43,
   "id": "2e6c73d4",
   "metadata": {},
   "outputs": [],
   "source": [
    "transactions_4h_aggs.stop()"
   ]
  },
  {
   "cell_type": "markdown",
   "id": "b3eae068",
   "metadata": {},
   "source": [
    "## TODO (Davit): gif how to run offline backfill job"
   ]
  },
  {
   "cell_type": "code",
   "execution_count": null,
   "id": "77a5a4eb",
   "metadata": {},
   "outputs": [],
   "source": []
  }
 ],
 "metadata": {
  "kernelspec": {
   "display_name": "PySpark",
   "language": "python",
   "name": "pysparkkernel"
  },
  "language_info": {
   "codemirror_mode": {
    "name": "python",
    "version": 3
   },
   "mimetype": "text/x-python",
   "name": "pyspark",
   "pygments_lexer": "python3"
  }
 },
 "nbformat": 4,
 "nbformat_minor": 5
}