{
 "cells": [
  {
   "cell_type": "markdown",
   "id": "0f457fcc",
   "metadata": {},
   "source": [
    "## Windowed aggregations using spark streaming and ingestion to the online feature store\n",
    "\n",
    "### **Note: this notebook needs to be run with a PySpark kernel to work properly!*\n",
    "\n",
    "In this notebook, we'll use the spark structured streaming for real time feature aggregations and writing them to the online and offline FS:\n",
    "\n",
    "- Read data from the kafka topic .\n",
    "- Time window aggregations using spark structured streaming.\n",
    "- write aggregated feature to the online feature store\n"
   ]
  },
  {
   "cell_type": "markdown",
   "id": "75f85981",
   "metadata": {},
   "source": [
    "## Import necessary libraries"
   ]
  },
  {
   "cell_type": "code",
   "execution_count": 1,
   "id": "2c2f666c",
   "metadata": {},
   "outputs": [
    {
     "name": "stdout",
     "output_type": "stream",
     "text": [
      "Starting Spark application\n"
     ]
    },
    {
     "data": {
      "text/html": [
       "<table>\n",
       "<tr><th>ID</th><th>Application ID</th><th>Kind</th><th>State</th><th>Spark UI</th><th>Driver log</th></tr><tr><td>9</td><td>application_1653174608434_0015</td><td>pyspark</td><td>idle</td><td><a target=\"_blank\" href=\"/hopsworks-api/yarnui/https://hopsworks0.logicalclocks.com:8089/proxy/application_1653174608434_0015/\">Link</a></td><td><a target=\"_blank\" href=\"/hopsworks-api/yarnui/https://hopsworks0.logicalclocks.com:8044/node/containerlogs/container_1653174608434_0015_01_000001/fraud_stream__meb10000\">Link</a></td></tr></table>"
      ],
      "text/plain": [
       "<IPython.core.display.HTML object>"
      ]
     },
     "metadata": {},
     "output_type": "display_data"
    },
    {
     "name": "stdout",
     "output_type": "stream",
     "text": [
      "SparkSession available as 'spark'.\n"
     ]
    }
   ],
   "source": [
    "import json\n",
    "\n",
    "from pyspark.sql.functions import from_json, window, avg,count, stddev, explode, date_format,col, mean\n",
    "from pyspark.sql.types import StructField, StructType, StringType, DoubleType, TimestampType, LongType, IntegerType\n",
    "\n",
    "from hops import kafka, tls, hdfs"
   ]
  },
  {
   "cell_type": "code",
   "execution_count": 2,
   "id": "b9d430a6",
   "metadata": {},
   "outputs": [],
   "source": [
    "# name of the kafka topic to read card transactions from\n",
    "KAFKA_TOPIC_NAME = \"credit_card_transactions\""
   ]
  },
  {
   "cell_type": "markdown",
   "id": "6a5abe2b",
   "metadata": {},
   "source": [
    "## Create a stream from the kafka topic\n"
   ]
  },
  {
   "cell_type": "code",
   "execution_count": 3,
   "id": "d06580c5",
   "metadata": {},
   "outputs": [],
   "source": [
    "df_read = spark \\\n",
    "  .readStream \\\n",
    "  .format(\"kafka\") \\\n",
    "  .option(\"kafka.bootstrap.servers\", kafka.get_broker_endpoints()) \\\n",
    "  .option(\"kafka.security.protocol\",kafka.get_security_protocol()) \\\n",
    "  .option(\"kafka.ssl.truststore.location\", tls.get_trust_store()) \\\n",
    "  .option(\"kafka.ssl.truststore.password\", tls.get_key_store_pwd()) \\\n",
    "  .option(\"kafka.ssl.keystore.location\", tls.get_key_store()) \\\n",
    "  .option(\"kafka.ssl.keystore.password\", tls.get_key_store_pwd()) \\\n",
    "  .option(\"kafka.ssl.key.password\", tls.get_trust_store_pwd()) \\\n",
    "  .option(\"kafka.ssl.endpoint.identification.algorithm\", \"\") \\\n",
    "  .option(\"startingOffsets\", \"earliest\")\\\n",
    "  .option(\"subscribe\", KAFKA_TOPIC_NAME) \\\n",
    "  .load()"
   ]
  },
  {
   "cell_type": "code",
   "execution_count": 4,
   "id": "0e8f77d7",
   "metadata": {},
   "outputs": [],
   "source": [
    "# Define schema to read from kafka topic \n",
    "parse_schema = StructType([StructField('tid', StringType(), True),\n",
    "                           StructField('datetime', StringType(), True),\n",
    "                           StructField('cc_num', StringType(), True),\n",
    "                           StructField('category', StringType(), True),\n",
    "                           StructField('amount', StringType(), True),\n",
    "                           StructField('latitude', StringType(), True),\n",
    "                           StructField('longitude', StringType(), True),\n",
    "                           StructField('city', StringType(), True),\n",
    "                           StructField('country', StringType(), True)]\n",
    "                         )"
   ]
  },
  {
   "cell_type": "code",
   "execution_count": 5,
   "id": "6aa6ea3d",
   "metadata": {},
   "outputs": [],
   "source": [
    "# Deserialise data from and create streaming query\n",
    "df_deser = df_read.selectExpr(\"CAST(value AS STRING)\")\\\n",
    "                   .select(from_json(\"value\", parse_schema).alias(\"value\"))\\\n",
    "                   .select(\"value.tid\", \n",
    "                           \"value.datetime\", \n",
    "                           \"value.cc_num\", \n",
    "                           \"value.category\", \n",
    "                           \"value.amount\", \n",
    "                           \"value.latitude\", \n",
    "                           \"value.longitude\",\n",
    "                           \"value.city\",\n",
    "                           \"value.country\")\\\n",
    "                   .selectExpr(\"CAST(tid as string)\", \n",
    "                               \"CAST(datetime as timestamp)\", \n",
    "                               \"CAST(cc_num as long)\", \n",
    "                               \"CAST(category as string)\", \n",
    "                               \"CAST(amount as double)\",\n",
    "                               \"CAST(latitude as double)\",\n",
    "                               \"CAST(longitude as double)\",\n",
    "                               \"CAST(city as string)\",\n",
    "                               \"CAST(country as string)\")"
   ]
  },
  {
   "cell_type": "code",
   "execution_count": 6,
   "id": "4749e127",
   "metadata": {},
   "outputs": [
    {
     "name": "stdout",
     "output_type": "stream",
     "text": [
      "True"
     ]
    }
   ],
   "source": [
    "df_deser.isStreaming"
   ]
  },
  {
   "cell_type": "code",
   "execution_count": 7,
   "id": "3e6f6606",
   "metadata": {},
   "outputs": [
    {
     "name": "stdout",
     "output_type": "stream",
     "text": [
      "root\n",
      " |-- tid: string (nullable = true)\n",
      " |-- datetime: timestamp (nullable = true)\n",
      " |-- cc_num: long (nullable = true)\n",
      " |-- category: string (nullable = true)\n",
      " |-- amount: double (nullable = true)\n",
      " |-- latitude: double (nullable = true)\n",
      " |-- longitude: double (nullable = true)\n",
      " |-- city: string (nullable = true)\n",
      " |-- country: string (nullable = true)"
     ]
    }
   ],
   "source": [
    "df_deser.printSchema() "
   ]
  },
  {
   "cell_type": "code",
   "execution_count": 8,
   "id": "84d89dab",
   "metadata": {},
   "outputs": [
    {
     "name": "stdout",
     "output_type": "stream",
     "text": [
      "<function radians at 0x7feb6f47d940>"
     ]
    }
   ],
   "source": [
    "from math import radians\n",
    "\n",
    "from pyspark.sql.functions import pandas_udf\n",
    "from pyspark.sql.functions import PandasUDFType\n",
    "from pyspark.sql.types import StructField, StructType, StringType, DoubleType, TimestampType, LongType, IntegerType\n",
    "\n",
    "schema = StructType([StructField('tid', StringType(), True),\n",
    "                     StructField('datetime', TimestampType(), True),\n",
    "                     StructField('cc_num', LongType(), True),\n",
    "                     StructField('category', StringType(), True),\n",
    "                     StructField('amount', DoubleType(), True),\n",
    "                     StructField('latitude', DoubleType(), True),\n",
    "                     StructField('longitude', DoubleType(), True),\n",
    "                     StructField('city', StringType(), True),\n",
    "                     StructField('country', StringType(), True),\n",
    "                     StructField('loc_delta', DoubleType(), True)\n",
    "                    ]) \n",
    "\n",
    "def haversine(pdf):\n",
    "    import numpy as np\n",
    "    long = pdf[\"longitude\"].astype(np.float)\n",
    "    lat = pdf[\"latitude\"].astype(np.float)\n",
    "    \n",
    "    long_shifted = long.shift()\n",
    "    lat_shifted = lat.shift()\n",
    "    long_shifted = long_shifted.astype(np.float)\n",
    "    lat_shifted = lat_shifted.astype(np.float)\n",
    "    \n",
    "    long_diff = long_shifted - long\n",
    "    lat_diff = lat_shifted - lat    \n",
    "    long_diff = long_diff.astype(np.float)\n",
    "    lat_diff = lat_diff.astype(np.float)\n",
    "\n",
    "    a = np.sin(lat_diff/2.0)**2\n",
    "    b = np.cos(lat) * np.cos(lat_shifted) * np.sin(long_diff/2.0)**2\n",
    "    pdf[\"loc_delta\"]  = 2*np.arcsin(np.sqrt(a + b))\n",
    "\n",
    "    return pdf\n",
    "\n",
    "spark.udf.register(\"radians\", radians)"
   ]
  },
  {
   "cell_type": "markdown",
   "id": "6431da9a",
   "metadata": {},
   "source": [
    "## Create windowing aggregations over different time windows using spark streaming."
   ]
  },
  {
   "cell_type": "code",
   "execution_count": 14,
   "id": "08aa072c",
   "metadata": {},
   "outputs": [],
   "source": [
    "# 4 hour window\n",
    "windowed4hTransactionDF =df_deser \\\n",
    "    .selectExpr(\"tid\", \n",
    "                \"datetime\", \n",
    "                \"cc_num\", \n",
    "                \"category\", \n",
    "                \"CAST(amount as double)\",\n",
    "                \"radians(latitude) as latitude\",\n",
    "                \"radians(longitude) as longitude\",\n",
    "                \"city\",\n",
    "                \"country\")\\\n",
    "    .selectExpr(\"tid\", \n",
    "                \"datetime\", \n",
    "                \"cc_num\", \n",
    "                \"category\", \n",
    "                \"CAST(amount as double)\",\n",
    "                \"CAST(latitude as double)\",\n",
    "                \"CAST(longitude as double)\",\n",
    "                \"city\",\n",
    "                \"country\")\\\n",
    "    .withWatermark(\"datetime\", \"10 minutes\") \\\n",
    "    .groupBy(window(\"datetime\", \"240 minutes\"), \"cc_num\")\\\n",
    "    .applyInPandas(haversine,schema = schema)\\\n",
    "    .selectExpr(\n",
    "                \"datetime\", \n",
    "                \"cc_num\", \n",
    "                \"category\", \n",
    "                \"CAST(amount as double)\",\n",
    "                \"CAST(loc_delta as double)\",\n",
    "                \"city\",\n",
    "                \"country\")\\\n",
    "    .withWatermark(\"datetime\", \"10 minutes\") \\\n",
    "    .groupBy(window(\"datetime\", \"240 minutes\"), \"cc_num\")\\\n",
    "    .agg(mean(\"amount\").alias(\"trans_volume_mavg\"), \n",
    "         stddev(\"amount\").alias(\"trans_volume_mstd\"), \n",
    "         count(\"cc_num\").alias(\"trans_freq\"),\n",
    "         mean(\"loc_delta\").alias(\"loc_delta_mavg\")\n",
    "        )\\\n",
    "    .selectExpr(\"cc_num\", \"trans_volume_mavg\", \"trans_volume_mstd\", \"trans_freq\", \"loc_delta_mavg\", \"unix_timestamp(window.end) as datetime\")"
   ]
  },
  {
   "cell_type": "code",
   "execution_count": 15,
   "id": "67f880e2",
   "metadata": {},
   "outputs": [
    {
     "name": "stdout",
     "output_type": "stream",
     "text": [
      "True"
     ]
    }
   ],
   "source": [
    "windowed4hTransactionDF.isStreaming"
   ]
  },
  {
   "cell_type": "code",
   "execution_count": 16,
   "id": "7019db24",
   "metadata": {},
   "outputs": [
    {
     "name": "stdout",
     "output_type": "stream",
     "text": [
      "root\n",
      " |-- cc_num: long (nullable = true)\n",
      " |-- trans_volume_mavg: double (nullable = true)\n",
      " |-- trans_volume_mstd: double (nullable = true)\n",
      " |-- trans_freq: long (nullable = false)\n",
      " |-- loc_delta_mavg: double (nullable = true)\n",
      " |-- datetime: long (nullable = true)"
     ]
    }
   ],
   "source": [
    "windowed4hTransactionDF.printSchema()"
   ]
  },
  {
   "cell_type": "markdown",
   "id": "0a96d3db",
   "metadata": {},
   "source": [
    "### Establish a connection with your Hopsworks feature store."
   ]
  },
  {
   "cell_type": "code",
   "execution_count": 17,
   "id": "9b567e56",
   "metadata": {},
   "outputs": [
    {
     "name": "stdout",
     "output_type": "stream",
     "text": [
      "Connected. Call `.close()` to terminate connection gracefully."
     ]
    }
   ],
   "source": [
    "import hsfs\n",
    "connection = hsfs.connection()\n",
    "# get a reference to the feature store, you can access also shared feature stores by providing the feature store name\n",
    "fs = connection.get_feature_store()"
   ]
  },
  {
   "cell_type": "markdown",
   "id": "e87a56a2",
   "metadata": {},
   "source": [
    "## Get feature groups from hopsworks feature store."
   ]
  },
  {
   "cell_type": "code",
   "execution_count": 18,
   "id": "8e0c27d0",
   "metadata": {},
   "outputs": [],
   "source": [
    "transactions_4h_aggs = fs.get_feature_group(\"transactions_4h_aggs\", version = 1)"
   ]
  },
  {
   "cell_type": "markdown",
   "id": "beecce36",
   "metadata": {},
   "source": [
    "## Insert streaming dataframes to the online feature group\n",
    "\n",
    "Now we are ready to write this streaming dataframe as a long living application to the online storage of the other feature group."
   ]
  },
  {
   "cell_type": "code",
   "execution_count": 19,
   "id": "4e8c455c",
   "metadata": {},
   "outputs": [
    {
     "name": "stdout",
     "output_type": "stream",
     "text": [
      "StatisticsWarning: Stream ingestion for feature group `transactions_4h_aggs`, with version `1` will not compute statistics."
     ]
    }
   ],
   "source": [
    "query_4h = transactions_4h_aggs.insert_stream(windowed4hTransactionDF)"
   ]
  },
  {
   "cell_type": "markdown",
   "id": "606b5be7",
   "metadata": {},
   "source": [
    "### Check if spark streaming query is active"
   ]
  },
  {
   "cell_type": "code",
   "execution_count": 20,
   "id": "6313439c",
   "metadata": {},
   "outputs": [
    {
     "name": "stdout",
     "output_type": "stream",
     "text": [
      "True"
     ]
    }
   ],
   "source": [
    "query_4h.isActive"
   ]
  },
  {
   "cell_type": "markdown",
   "id": "344ca25a",
   "metadata": {},
   "source": [
    "#### We can also check status of a query and if there are any exceptions thrown."
   ]
  },
  {
   "cell_type": "code",
   "execution_count": 26,
   "id": "76c3f472",
   "metadata": {},
   "outputs": [
    {
     "name": "stdout",
     "output_type": "stream",
     "text": [
      "{'message': 'Processing new data', 'isDataAvailable': True, 'isTriggerActive': True}"
     ]
    }
   ],
   "source": [
    "query_4h.status"
   ]
  },
  {
   "cell_type": "code",
   "execution_count": 27,
   "id": "81c82816",
   "metadata": {},
   "outputs": [],
   "source": [
    "query_4h.exception()"
   ]
  },
  {
   "cell_type": "markdown",
   "id": "df54a116",
   "metadata": {},
   "source": [
    "### Stop queries\n",
    "If you are running this from a notebook, you can kill the Spark Structured Streaming Query by stopping the Kernel or by calling its `.stop()` method."
   ]
  },
  {
   "cell_type": "code",
   "execution_count": 39,
   "id": "573b2660",
   "metadata": {},
   "outputs": [],
   "source": [
    "query_4h.stop()"
   ]
  },
  {
   "cell_type": "markdown",
   "id": "e554dd71",
   "metadata": {},
   "source": [
    "## TODO (Davit): gif how to run offline backfill job"
   ]
  },
  {
   "cell_type": "code",
   "execution_count": null,
   "id": "1a4ac212",
   "metadata": {},
   "outputs": [],
   "source": []
  }
 ],
 "metadata": {
  "kernelspec": {
   "display_name": "PySpark",
   "language": "python",
   "name": "pysparkkernel"
  },
  "language_info": {
   "codemirror_mode": {
    "name": "python",
    "version": 3
   },
   "mimetype": "text/x-python",
   "name": "pyspark",
   "pygments_lexer": "python3"
  }
 },
 "nbformat": 4,
 "nbformat_minor": 5
}