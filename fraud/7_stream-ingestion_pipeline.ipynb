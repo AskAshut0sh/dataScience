{
 "cells": [
  {
   "cell_type": "markdown",
   "id": "f34c27fe",
   "metadata": {},
   "source": [
    "## Windowed aggregations using spark streaming and ingestion to the online feature store\n",
    "\n",
    "### **Note: this notebook needs to be run with a PySpark kernel to work properly!*\n",
    "\n",
    "In this notebook, we'll use the spark structured streaming for real time feature aggregations and writing them to the online and offline FS:\n",
    "\n",
    "- Read data from the kafka topic .\n",
    "- Time window aggregations using spark structured streaming.\n",
    "- write aggregated feature to the online feature store\n"
   ]
  },
  {
   "cell_type": "markdown",
   "id": "b7769dce",
   "metadata": {},
   "source": [
    "## Import necessary libraries"
   ]
  },
  {
   "cell_type": "code",
   "execution_count": 10,
   "id": "7476009e",
   "metadata": {},
   "outputs": [],
   "source": [
    "import json\n",
    "\n",
    "from pyspark.sql.functions import from_json, window, avg,count, stddev, explode, date_format,col, mean\n",
    "from pyspark.sql.types import StructField, StructType, StringType, DoubleType, TimestampType, LongType, IntegerType\n",
    "\n",
    "from hops import kafka, tls, hdfs"
   ]
  },
  {
   "cell_type": "code",
   "execution_count": 11,
   "id": "12f514d5",
   "metadata": {},
   "outputs": [],
   "source": [
    "# name of the kafka topic to read card transactions from\n",
    "KAFKA_TOPIC_NAME = \"credit_card_transactions\""
   ]
  },
  {
   "cell_type": "markdown",
   "id": "4c264cf9",
   "metadata": {},
   "source": [
    "## Create a stream from the kafka topic\n"
   ]
  },
  {
   "cell_type": "code",
   "execution_count": 12,
   "id": "c8a67328",
   "metadata": {},
   "outputs": [],
   "source": [
    "df_read = spark \\\n",
    "  .readStream \\\n",
    "  .format(\"kafka\") \\\n",
    "  .option(\"kafka.bootstrap.servers\", kafka.get_broker_endpoints()) \\\n",
    "  .option(\"kafka.security.protocol\",kafka.get_security_protocol()) \\\n",
    "  .option(\"kafka.ssl.truststore.location\", tls.get_trust_store()) \\\n",
    "  .option(\"kafka.ssl.truststore.password\", tls.get_key_store_pwd()) \\\n",
    "  .option(\"kafka.ssl.keystore.location\", tls.get_key_store()) \\\n",
    "  .option(\"kafka.ssl.keystore.password\", tls.get_key_store_pwd()) \\\n",
    "  .option(\"kafka.ssl.key.password\", tls.get_trust_store_pwd()) \\\n",
    "  .option(\"kafka.ssl.endpoint.identification.algorithm\", \"\") \\\n",
    "  .option(\"startingOffsets\", \"earliest\")\\\n",
    "  .option(\"subscribe\", KAFKA_TOPIC_NAME) \\\n",
    "  .load()"
   ]
  },
  {
   "cell_type": "code",
   "execution_count": 13,
   "id": "77ccd8d4",
   "metadata": {},
   "outputs": [],
   "source": [
    "# Define schema to read from kafka topic \n",
    "parse_schema = StructType([StructField('tid', StringType(), True),\n",
    "                           StructField('datetime', StringType(), True),\n",
    "                           StructField('cc_num', StringType(), True),\n",
    "                           StructField('category', StringType(), True),\n",
    "                           StructField('amount', StringType(), True),\n",
    "                           StructField('latitude', StringType(), True),\n",
    "                           StructField('longitude', StringType(), True),\n",
    "                           StructField('city', StringType(), True),\n",
    "                           StructField('country', StringType(), True)]\n",
    "                         )"
   ]
  },
  {
   "cell_type": "code",
   "execution_count": 17,
   "id": "fe59bddd",
   "metadata": {},
   "outputs": [],
   "source": [
    "# Deserialise data from and create streaming query\n",
    "df_deser = df_read.selectExpr(\"CAST(value AS STRING)\")\\\n",
    "                   .select(from_json(\"value\", parse_schema).alias(\"value\"))\\\n",
    "                   .select(\"value.tid\", \n",
    "                           \"value.datetime\", \n",
    "                           \"value.cc_num\", \n",
    "                           \"value.category\", \n",
    "                           \"value.amount\", \n",
    "                           \"value.latitude\", \n",
    "                           \"value.longitude\",\n",
    "                           \"value.city\",\n",
    "                           \"value.country\")\\\n",
    "                   .selectExpr(\"CAST(tid as string)\", \n",
    "                               \"CAST(datetime as timestamp)\", \n",
    "                               \"CAST(cc_num as long)\", \n",
    "                               \"CAST(category as string)\", \n",
    "                               \"CAST(amount as double)\",\n",
    "                               \"CAST(latitude as double)\",\n",
    "                               \"CAST(longitude as double)\",\n",
    "                               \"CAST(city as string)\",\n",
    "                               \"CAST(country as string)\")"
   ]
  },
  {
   "cell_type": "code",
   "execution_count": 18,
   "id": "c492c577",
   "metadata": {},
   "outputs": [
    {
     "name": "stdout",
     "output_type": "stream",
     "text": [
      "True"
     ]
    }
   ],
   "source": [
    "df_deser.isStreaming"
   ]
  },
  {
   "cell_type": "code",
   "execution_count": 19,
   "id": "6543bcbb",
   "metadata": {},
   "outputs": [
    {
     "name": "stdout",
     "output_type": "stream",
     "text": [
      "root\n",
      " |-- tid: string (nullable = true)\n",
      " |-- datetime: timestamp (nullable = true)\n",
      " |-- cc_num: long (nullable = true)\n",
      " |-- category: string (nullable = true)\n",
      " |-- amount: double (nullable = true)\n",
      " |-- latitude: double (nullable = true)\n",
      " |-- longitude: double (nullable = true)\n",
      " |-- city: string (nullable = true)\n",
      " |-- country: string (nullable = true)"
     ]
    }
   ],
   "source": [
    "df_deser.printSchema() "
   ]
  },
  {
   "cell_type": "code",
   "execution_count": 36,
   "id": "1b0e0087",
   "metadata": {},
   "outputs": [
    {
     "name": "stdout",
     "output_type": "stream",
     "text": [
      "<function radians at 0x7fcdbf4a0f70>"
     ]
    }
   ],
   "source": [
    "from math import radians\n",
    "\n",
    "from pyspark.sql.functions import pandas_udf\n",
    "from pyspark.sql.functions import PandasUDFType\n",
    "\n",
    "@pandas_udf(\"datetime timestamp, cc_num long, category string, amount double, loc_delta double, city string, country string\", PandasUDFType.GROUPED_MAP)\n",
    "def haversine(pdf):\n",
    "    long_shifted = pdf[\"longitude\"].shift()\n",
    "    lat_shifted = pdf[\"latitude\"].shift()\n",
    "    long_diff = long_shifted - long\n",
    "    lat_diff = lat_shifted - lat\n",
    "\n",
    "    a = np.sin(lat_diff/2.0)**2\n",
    "    b = np.cos(lat) * np.cos(lat_shifted) * np.sin(long_diff/2.0)**2\n",
    "    pdf[\"loc_delta\"]  = 2*np.arcsin(np.sqrt(a + b))\n",
    "\n",
    "    return pdf\n",
    "\n",
    "spark.udf.register(\"radians\", radians)"
   ]
  },
  {
   "cell_type": "markdown",
   "id": "471eae6b",
   "metadata": {},
   "source": [
    "## Create windowing aggregations over different time windows using spark streaming."
   ]
  },
  {
   "cell_type": "code",
   "execution_count": 44,
   "id": "b3aec462",
   "metadata": {},
   "outputs": [],
   "source": [
    "# 4 hour window\n",
    "windowed4hTransactionDF =df_deser \\\n",
    "    .selectExpr(\"tid\", \n",
    "                \"datetime\", \n",
    "                \"cc_num\", \n",
    "                \"category\", \n",
    "                \"amount\",\n",
    "                \"radians(latitude) as latitude\",\n",
    "                \"radians(longitude) as longitude\",\n",
    "                \"city\",\n",
    "                \"country\")\\\n",
    "    .withWatermark(\"datetime\", \"10 minutes\") \\\n",
    "    .groupBy(window(\"datetime\", \"240 minutes\"), \"cc_num\")\\\n",
    "    .apply(haversine)\\\n",
    "    .selectExpr(\n",
    "                \"datetime\", \n",
    "                \"cc_num\", \n",
    "                \"category\", \n",
    "                \"amount\",\n",
    "                \"loc_delta\",\n",
    "                \"city\",\n",
    "                \"country\")\\\n",
    "    .withWatermark(\"datetime\", \"10 minutes\") \\\n",
    "    .groupBy(window(\"datetime\", \"240 minutes\"), \"cc_num\")\\\n",
    "    .agg(mean(\"amount\").alias(\"trans_volume_mavg\"), \n",
    "         stddev(\"amount\").alias(\"trans_volume_mstd\"), \n",
    "         count(\"cc_num\").alias(\"trans_freq\"),\n",
    "         mean(\"loc_delta\").alias(\"loc_delta_mavg\")\n",
    "        )\\\n",
    "    .selectExpr(\"cc_num\", \"trans_volume_mavg\", \"trans_volume_mstd\", \"trans_freq\", \"loc_delta_mavg\", \"unix_timestamp(window.end) as datetime\")"
   ]
  },
  {
   "cell_type": "code",
   "execution_count": 45,
   "id": "7ac214a8",
   "metadata": {},
   "outputs": [
    {
     "name": "stdout",
     "output_type": "stream",
     "text": [
      "True"
     ]
    }
   ],
   "source": [
    "windowed4hTransactionDF.isStreaming"
   ]
  },
  {
   "cell_type": "code",
   "execution_count": 46,
   "id": "76cfcf97",
   "metadata": {},
   "outputs": [
    {
     "name": "stdout",
     "output_type": "stream",
     "text": [
      "root\n",
      " |-- cc_num: long (nullable = true)\n",
      " |-- trans_volume_mavg: double (nullable = true)\n",
      " |-- trans_volume_mstd: double (nullable = true)\n",
      " |-- trans_freq: long (nullable = false)\n",
      " |-- loc_delta_mavg: double (nullable = true)\n",
      " |-- datetime: long (nullable = true)"
     ]
    }
   ],
   "source": [
    "windowed4hTransactionDF.printSchema()"
   ]
  },
  {
   "cell_type": "markdown",
   "id": "38a14e0b",
   "metadata": {},
   "source": [
    "### Establish a connection with your Hopsworks feature store."
   ]
  },
  {
   "cell_type": "code",
   "execution_count": 47,
   "id": "f0e905e0",
   "metadata": {},
   "outputs": [
    {
     "name": "stdout",
     "output_type": "stream",
     "text": [
      "Connected. Call `.close()` to terminate connection gracefully."
     ]
    }
   ],
   "source": [
    "import hsfs\n",
    "connection = hsfs.connection()\n",
    "# get a reference to the feature store, you can access also shared feature stores by providing the feature store name\n",
    "fs = connection.get_feature_store()"
   ]
  },
  {
   "cell_type": "markdown",
   "id": "3a73a1ae",
   "metadata": {},
   "source": [
    "## Get feature groups from hopsworks feature store."
   ]
  },
  {
   "cell_type": "code",
   "execution_count": 48,
   "id": "7fe6d640",
   "metadata": {},
   "outputs": [],
   "source": [
    "transactions_4h_aggs = fs.get_feature_group(\"transactions_4h_aggs\", version = 1)"
   ]
  },
  {
   "cell_type": "markdown",
   "id": "748a775e",
   "metadata": {},
   "source": [
    "## Insert streaming dataframes to the online feature group\n",
    "\n",
    "Now we are ready to write this streaming dataframe as a long living application to the online storage of the other feature group."
   ]
  },
  {
   "cell_type": "code",
   "execution_count": 49,
   "id": "bc12bc51",
   "metadata": {},
   "outputs": [
    {
     "name": "stdout",
     "output_type": "stream",
     "text": [
      "StatisticsWarning: Stream ingestion for feature group `transactions_4h_aggs`, with version `1` will not compute statistics."
     ]
    }
   ],
   "source": [
    "query_4h = transactions_4h_aggs.insert_stream(windowed4hTransactionDF)"
   ]
  },
  {
   "cell_type": "markdown",
   "id": "9f56d0dd",
   "metadata": {},
   "source": [
    "### Check if spark streaming query is active"
   ]
  },
  {
   "cell_type": "code",
   "execution_count": 50,
   "id": "32152eab",
   "metadata": {},
   "outputs": [
    {
     "name": "stdout",
     "output_type": "stream",
     "text": [
      "True"
     ]
    }
   ],
   "source": [
    "query_4h.isActive"
   ]
  },
  {
   "cell_type": "markdown",
   "id": "f3a96f08",
   "metadata": {},
   "source": [
    "#### We can also check status of a query and if there are any exceptions trown."
   ]
  },
  {
   "cell_type": "code",
   "execution_count": 51,
   "id": "368b6ab9",
   "metadata": {},
   "outputs": [
    {
     "name": "stdout",
     "output_type": "stream",
     "text": [
      "{'message': 'Processing new data', 'isDataAvailable': True, 'isTriggerActive': True}"
     ]
    }
   ],
   "source": [
    "query_4h.status"
   ]
  },
  {
   "cell_type": "code",
   "execution_count": 55,
   "id": "3407ef7b",
   "metadata": {},
   "outputs": [
    {
     "name": "stdout",
     "output_type": "stream",
     "text": [
      "StreamingQueryException('Writing job aborted.\\n=== Streaming Query ===\\nIdentifier: insert_stream_119_14_transactions_4h_aggs_1_onlinefs [id = ce179948-4241-402d-85fe-2aa13dd2c737, runId = d5b05c02-3781-41d9-9305-691ffb0f7824]\\nCurrent Committed Offsets: {}\\nCurrent Available Offsets: {KafkaV2[Subscribe[credit_card_transactions]]: {\"credit_card_transactions\":{\"0\":54000}}}\\n\\nCurrent State: ACTIVE\\nThread State: RUNNABLE\\n\\nLogical Plan:\\nWriteToMicroBatchDataSource org.apache.spark.sql.kafka010.KafkaStreamingWrite@2f466932\\n+- Project [to_avro(concat(cast(cc_num#809L as string)), None) AS key#827, to_avro(struct(trans_volume_mstd, trans_volume_mstd#811, trans_volume_mavg, trans_volume_mavg#810, trans_freq, trans_freq#812L, loc_delta_mavg, loc_delta_mavg#813, cc_num, cc_num#809L, datetime, datetime#814L), Some({\"type\": \"record\", \"name\": \"transactions_4h_aggs_1\", \"namespace\": \"fraud_stream_featurestore.db\", \"fields\": [{\"name\": \"trans_volume_mstd\", \"type\": [\"null\", \"double\"]}, {\"name\": \"trans_volume_mavg\", \"type\": [\"null\", \"double\"]}, {\"name\": \"trans_freq\", \"type\": [\"null\", \"double\"]}, {\"name\": \"loc_delta_mavg\", \"type\": [\"null\", \"double\"]}, {\"name\": \"cc_num\", \"type\": [\"null\", \"string\"]}, {\"name\": \"datetime\", \"type\": [\"null\", \"long\"]}]})) AS value#828]\\n   +- Project [trans_volume_mstd#811, trans_volume_mavg#810, trans_freq#812L, loc_delta_mavg#813, cc_num#809L, datetime#814L]\\n      +- Project [cc_num#742L AS cc_num#809L, trans_volume_mavg#771 AS trans_volume_mavg#810, trans_volume_mstd#781 AS trans_volume_mstd#811, trans_freq#783L AS trans_freq#812L, loc_delta_mavg#785 AS loc_delta_mavg#813, datetime#801L AS datetime#814L]\\n         +- Project [cc_num#742L, trans_volume_mavg#771, trans_volume_mstd#781, trans_freq#783L, loc_delta_mavg#785, unix_timestamp(window#762-T600000ms.end, yyyy-MM-dd HH:mm:ss, Some(GMT), false) AS datetime#801L]\\n            +- Aggregate [window#794-T600000ms, cc_num#742L], [window#794-T600000ms AS window#762-T600000ms, cc_num#742L, avg(amount#744) AS trans_volume_mavg#771, stddev_samp(amount#744) AS trans_volume_mstd#781, count(cc_num#742L) AS trans_freq#783L, avg(loc_delta#745) AS loc_delta_mavg#785]\\n               +- Filter isnotnull(datetime#741-T600000ms)\\n                  +- Project [named_struct(start, precisetimestampconversion(((((CASE WHEN (cast(CEIL((cast((precisetimestampconversion(datetime#741-T600000ms, TimestampType, LongType) - 0) as double) / cast(14400000000 as double))) as double) = (cast((precisetimestampconversion(datetime#741-T600000ms, TimestampType, LongType) - 0) as double) / cast(14400000000 as double))) THEN (CEIL((cast((precisetimestampconversion(datetime#741-T600000ms, TimestampType, LongType) - 0) as double) / cast(14400000000 as double))) + cast(1 as bigint)) ELSE CEIL((cast((precisetimestampconversion(datetime#741-T600000ms, TimestampType, LongType) - 0) as double) / cast(14400000000 as double))) END + cast(0 as bigint)) - cast(1 as bigint)) * 14400000000) + 0), LongType, TimestampType), end, precisetimestampconversion((((((CASE WHEN (cast(CEIL((cast((precisetimestampconversion(datetime#741-T600000ms, TimestampType, LongType) - 0) as double) / cast(14400000000 as double))) as double) = (cast((precisetimestampconversion(datetime#741-T600000ms, TimestampType, LongType) - 0) as double) / cast(14400000000 as double))) THEN (CEIL((cast((precisetimestampconversion(datetime#741-T600000ms, TimestampType, LongType) - 0) as double) / cast(14400000000 as double))) + cast(1 as bigint)) ELSE CEIL((cast((precisetimestampconversion(datetime#741-T600000ms, TimestampType, LongType) - 0) as double) / cast(14400000000 as double))) END + cast(0 as bigint)) - cast(1 as bigint)) * 14400000000) + 0) + 14400000000), LongType, TimestampType)) AS window#794-T600000ms, datetime#741-T600000ms, cc_num#742L, category#743, amount#744, loc_delta#745, city#746, country#747]\\n                     +- EventTimeWatermark datetime#741: timestamp, 10 minutes\\n                        +- Project [datetime#741, cc_num#742L, category#743, amount#744, loc_delta#745, city#746, country#747]\\n                           +- FlatMapGroupsInPandas [window#729-T600000ms, cc_num#145L], haversine(tid#144, datetime#152-T600000ms, cc_num#145L, category#146, amount#147, latitude#716, longitude#717, city#150, country#151), [datetime#741, cc_num#742L, category#743, amount#744, loc_delta#745, city#746, country#747]\\n                              +- Project [window#740-T600000ms AS window#729-T600000ms, cc_num#145L, tid#144, datetime#152-T600000ms, cc_num#145L, category#146, amount#147, latitude#716, longitude#717, city#150, country#151]\\n                                 +- Filter isnotnull(datetime#152-T600000ms)\\n                                    +- Project [named_struct(start, precisetimestampconversion(((((CASE WHEN (cast(CEIL((cast((precisetimestampconversion(datetime#152-T600000ms, TimestampType, LongType) - 0) as double) / cast(14400000000 as double))) as double) = (cast((precisetimestampconversion(datetime#152-T600000ms, TimestampType, LongType) - 0) as double) / cast(14400000000 as double))) THEN (CEIL((cast((precisetimestampconversion(datetime#152-T600000ms, TimestampType, LongType) - 0) as double) / cast(14400000000 as double))) + cast(1 as bigint)) ELSE CEIL((cast((precisetimestampconversion(datetime#152-T600000ms, TimestampType, LongType) - 0) as double) / cast(14400000000 as double))) END + cast(0 as bigint)) - cast(1 as bigint)) * 14400000000) + 0), LongType, TimestampType), end, precisetimestampconversion((((((CASE WHEN (cast(CEIL((cast((precisetimestampconversion(datetime#152-T600000ms, TimestampType, LongType) - 0) as double) / cast(14400000000 as double))) as double) = (cast((precisetimestampconversion(datetime#152-T600000ms, TimestampType, LongType) - 0) as double) / cast(14400000000 as double))) THEN (CEIL((cast((precisetimestampconversion(datetime#152-T600000ms, TimestampType, LongType) - 0) as double) / cast(14400000000 as double))) + cast(1 as bigint)) ELSE CEIL((cast((precisetimestampconversion(datetime#152-T600000ms, TimestampType, LongType) - 0) as double) / cast(14400000000 as double))) END + cast(0 as bigint)) - cast(1 as bigint)) * 14400000000) + 0) + 14400000000), LongType, TimestampType)) AS window#740-T600000ms, tid#144, datetime#152-T600000ms, cc_num#145L, category#146, amount#147, latitude#716, longitude#717, city#150, country#151]\\n                                       +- EventTimeWatermark datetime#152: timestamp, 10 minutes\\n                                          +- Project [tid#144, datetime#152, cc_num#145L, category#146, amount#147, radians(latitude#148) AS latitude#716, radians(longitude#149) AS longitude#717, city#150, country#151]\\n                                             +- Project [cast(tid#126 as string) AS tid#144, cast(datetime#127 as timestamp) AS datetime#152, cast(cc_num#128 as bigint) AS cc_num#145L, cast(category#129 as string) AS category#146, cast(amount#130 as double) AS amount#147, cast(latitude#131 as double) AS latitude#148, cast(longitude#132 as double) AS longitude#149, cast(city#133 as string) AS city#150, cast(country#134 as string) AS country#151]\\n                                                +- Project [value#124.tid AS tid#126, value#124.datetime AS datetime#127, value#124.cc_num AS cc_num#128, value#124.category AS category#129, value#124.amount AS amount#130, value#124.latitude AS latitude#131, value#124.longitude AS longitude#132, value#124.city AS city#133, value#124.country AS country#134]\\n                                                   +- Project [from_json(StructField(tid,StringType,true), StructField(datetime,StringType,true), StructField(cc_num,StringType,true), StructField(category,StringType,true), StructField(amount,StringType,true), StructField(latitude,StringType,true), StructField(longitude,StringType,true), StructField(city,StringType,true), StructField(country,StringType,true), value#122, Some(GMT)) AS value#124]\\n                                                      +- Project [cast(value#69 as string) AS value#122]\\n                                                         +- StreamingDataSourceV2Relation [key#68, value#69, topic#70, partition#71, offset#72L, timestamp#73, timestampType#74], org.apache.spark.sql.kafka010.KafkaSourceProvider$KafkaScan@348adfc1, KafkaV2[Subscribe[credit_card_transactions]]\\n', 'org.apache.spark.sql.execution.streaming.StreamExecution.org$apache$spark$sql$execution$streaming$StreamExecution$$runStream(StreamExecution.scala:354)\\n\\t at org.apache.spark.sql.execution.streaming.StreamExecution$$anon$1.run(StreamExecution.scala:244)', JavaObject id=o895)"
     ]
    }
   ],
   "source": [
    "query_4h.exception()"
   ]
  },
  {
   "cell_type": "markdown",
   "id": "e9f9e724",
   "metadata": {},
   "source": [
    "### Lets check if data was ingested in to the online feature store"
   ]
  },
  {
   "cell_type": "code",
   "execution_count": 33,
   "id": "b037fb2d",
   "metadata": {},
   "outputs": [
    {
     "name": "stdout",
     "output_type": "stream",
     "text": [
      "+----------------+-----------------+------------------+------------------+\n",
      "|cc_num          |num_trans_per_12h|avg_amt_per_12h   |stdev_amt_per_12h |\n",
      "+----------------+-----------------+------------------+------------------+\n",
      "|4444037300542691|7                |154.51857142857145|238.93552871214524|\n",
      "|4609072304828342|7                |176.02714285714288|263.06316920176454|\n",
      "|4161715127983823|10               |928.3030000000001 |1809.7934375689888|\n",
      "|4223253728365626|13               |1201.686153846154 |2724.0564739389993|\n",
      "|4572259224622748|9                |1291.5500000000002|2495.189283160699 |\n",
      "|4436298663019939|11               |149.78636363636366|235.75729924109365|\n",
      "|4159210768503456|6                |37.303333333333335|26.403001092047596|\n",
      "|4231082502226286|10               |977.8430000000001 |2071.1095165208753|\n",
      "|4090612125343330|15               |646.7259999999999 |1336.9214811370616|\n",
      "|4416410688550228|11               |663.0627272727273 |1631.6188600717442|\n",
      "|4853206196105715|10               |1077.6439999999998|2793.72050986255  |\n",
      "|4032763187099525|10               |425.006           |1204.4018071612704|\n",
      "|4811343280984688|6                |237.08166666666662|305.3312340666554 |\n",
      "|4815447301191763|6                |78.35833333333333 |29.206839895248287|\n",
      "|4645884898081724|8                |171.48125000000002|200.51632676222223|\n",
      "|4872287670027309|3                |260.63666666666666|427.3684126527525 |\n",
      "|4524584153018280|7                |160.18714285714285|223.19407330200963|\n",
      "|4734811798843814|7                |122.81714285714285|166.56810466135522|\n",
      "|4609746692923340|9                |1401.2866666666669|3007.164227935514 |\n",
      "|4526611032294580|6                |109.52166666666666|150.55966530471125|\n",
      "+----------------+-----------------+------------------+------------------+\n",
      "only showing top 20 rows"
     ]
    }
   ],
   "source": [
    "fs.sql(\"SELECT * FROM transactions_4h_aggs_agg_1\",online=True).show(20,False)"
   ]
  },
  {
   "cell_type": "markdown",
   "id": "d7f30aca",
   "metadata": {},
   "source": [
    "### Stop queries\n",
    "If you are running this from a notebook, you can kill the Spark Structured Streaming Query by stopping the Kernel or by calling its `.stop()` method."
   ]
  },
  {
   "cell_type": "code",
   "execution_count": 39,
   "id": "6e68d5eb",
   "metadata": {},
   "outputs": [],
   "source": [
    "query_4h.stop()"
   ]
  },
  {
   "cell_type": "markdown",
   "id": "fc50e7e6",
   "metadata": {},
   "source": [
    "## TODO (Davit): gif how to run offline backfill job"
   ]
  },
  {
   "cell_type": "code",
   "execution_count": null,
   "id": "d02a2cac",
   "metadata": {},
   "outputs": [],
   "source": []
  }
 ],
 "metadata": {
  "kernelspec": {
   "display_name": "PySpark",
   "language": "python",
   "name": "pysparkkernel"
  },
  "language_info": {
   "codemirror_mode": {
    "name": "python",
    "version": 3
   },
   "mimetype": "text/x-python",
   "name": "pyspark",
   "pygments_lexer": "python3"
  }
 },
 "nbformat": 4,
 "nbformat_minor": 5
}