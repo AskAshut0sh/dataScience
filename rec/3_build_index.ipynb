{
 "cells": [
  {
   "cell_type": "markdown",
   "metadata": {},
   "source": [
    "## Build Index\n",
    "\n",
    "In this notebook we will build an index for our candidate embeddings. Here we will use OpenSearch, which is natively supported by Hopsworks."
   ]
  },
  {
   "cell_type": "markdown",
   "metadata": {},
   "source": [
    "### Compute Candidate Embeddings\n",
    "\n",
    "We start by computing candidate embeddings for all items in the training data.\n",
    "\n",
    "First, we load our candidate model. Recall that we uploaded it to the Hopsworks Model Registry in the previous notebook. If you don't have the model locally you can download it from the Model Registry using the following code:"
   ]
  },
  {
   "cell_type": "code",
   "execution_count": 1,
   "metadata": {},
   "outputs": [
    {
     "name": "stdout",
     "output_type": "stream",
     "text": [
      "Connected. Call `.close()` to terminate connection gracefully.\n"
     ]
    },
    {
     "name": "stderr",
     "output_type": "stream",
     "text": [
      "VersionWarning: No version provided for getting model `candidate_model`, defaulting to `1`.\n"
     ]
    },
    {
     "name": "stdout",
     "output_type": "stream",
     "text": [
      "Downloading file ... "
     ]
    }
   ],
   "source": [
    "import hsml\n",
    "\n",
    "conn = hsml.connection()\n",
    "mr = conn.get_model_registry()\n",
    "\n",
    "model = mr.get_model(\"candidate_model\")\n",
    "model_path = model.download()"
   ]
  },
  {
   "cell_type": "markdown",
   "metadata": {},
   "source": [
    "If you already have the model saved locally you can simply replace `model_path` with the path to your model."
   ]
  },
  {
   "cell_type": "code",
   "execution_count": 2,
   "metadata": {},
   "outputs": [
    {
     "name": "stderr",
     "output_type": "stream",
     "text": [
      "DeprecationWarning: NEAREST is deprecated and will be removed in Pillow 10 (2023-07-01). Use Resampling.NEAREST or Dither.NONE instead.\n",
      "DeprecationWarning: BILINEAR is deprecated and will be removed in Pillow 10 (2023-07-01). Use Resampling.BILINEAR instead.\n",
      "DeprecationWarning: BICUBIC is deprecated and will be removed in Pillow 10 (2023-07-01). Use Resampling.BICUBIC instead.\n",
      "DeprecationWarning: HAMMING is deprecated and will be removed in Pillow 10 (2023-07-01). Use Resampling.HAMMING instead.\n",
      "DeprecationWarning: BOX is deprecated and will be removed in Pillow 10 (2023-07-01). Use Resampling.BOX instead.\n",
      "DeprecationWarning: LANCZOS is deprecated and will be removed in Pillow 10 (2023-07-01). Use Resampling.LANCZOS instead.\n"
     ]
    }
   ],
   "source": [
    "import tensorflow as tf\n",
    "\n",
    "candidate_model = tf.saved_model.load(model_path)"
   ]
  },
  {
   "cell_type": "markdown",
   "metadata": {},
   "source": [
    "Next we compute the embeddings of all candidate items that were used to train the retrieval model."
   ]
  },
  {
   "cell_type": "code",
   "execution_count": 3,
   "metadata": {},
   "outputs": [
    {
     "name": "stdout",
     "output_type": "stream",
     "text": [
      "Connected. Call `.close()` to terminate connection gracefully.\n"
     ]
    }
   ],
   "source": [
    "import hsfs\n",
    "\n",
    "conn = hsfs.connection()\n",
    "fs = conn.get_feature_store()"
   ]
  },
  {
   "cell_type": "code",
   "execution_count": 4,
   "metadata": {},
   "outputs": [
    {
     "name": "stdout",
     "output_type": "stream",
     "text": [
      "2022-09-16 11:36:27,617 INFO: USE `rec_featurestore`\n",
      "2022-09-16 11:36:28,381 INFO: SELECT `fg2`.`customer_id` `customer_id`, `fg2`.`article_id` `article_id`, `fg2`.`month_sin` `month_sin`, `fg2`.`month_cos` `month_cos`, `fg0`.`age` `age`, `fg1`.`garment_group_name` `garment_group_name`, `fg1`.`index_group_name` `index_group_name`\n",
      "FROM `rec_featurestore`.`transactions_1` `fg2`\n",
      "INNER JOIN `rec_featurestore`.`customers_1` `fg0` ON `fg2`.`customer_id` = `fg0`.`customer_id`\n",
      "INNER JOIN `rec_featurestore`.`articles_1` `fg1` ON `fg2`.`article_id` = `fg1`.`article_id`\n"
     ]
    }
   ],
   "source": [
    "feature_view = fs.get_feature_view(\"retrieval\", version=1)\n",
    "train_df, y_train, val_df, y_val, test_df, y_test = feature_view.get_train_validation_test_split(training_dataset_version=4)"
   ]
  },
  {
   "cell_type": "code",
   "execution_count": 5,
   "metadata": {},
   "outputs": [
    {
     "name": "stderr",
     "output_type": "stream",
     "text": [
      "SettingWithCopyWarning: \n",
      "A value is trying to be set on a copy of a slice from a DataFrame\n",
      "\n",
      "See the caveats in the documentation: https://pandas.pydata.org/pandas-docs/stable/user_guide/indexing.html#returning-a-view-versus-a-copy\n"
     ]
    }
   ],
   "source": [
    "# import hsfs\n",
    "\n",
    "# conn = hsfs.connection()\n",
    "# fs = conn.get_feature_store()\n",
    "\n",
    "# Load training dataset.\n",
    "# td = fs.get_training_dataset(\"retrieval_1\")\n",
    "# train_df = td.read(\"train\")\n",
    "train_df[\"article_id\"] = train_df[\"article_id\"].astype(str)\n",
    "\n",
    "# Get list of input features for the candidate model.\n",
    "model_schema = model.model_schema['input_schema']['columnar_schema']\n",
    "candidate_features = [feat['name'] for feat in model_schema]\n",
    "\n",
    "# Get list of unique candidate items.\n",
    "item_df = train_df[candidate_features]\n",
    "item_df.drop_duplicates(subset=\"article_id\", inplace=True)\n",
    "\n",
    "item_ds = tf.data.Dataset.from_tensor_slices(\n",
    "    {col: item_df[col] for col in item_df})\n",
    "\n",
    "# Compute embeddings for all candidate items.\n",
    "candidate_embeddings = item_ds.batch(2048).map(\n",
    "    lambda x: (x[\"article_id\"], candidate_model(x)))"
   ]
  },
  {
   "cell_type": "markdown",
   "metadata": {},
   "source": [
    "(Strictly speaking, we haven't actually computed the candidate embeddings yet, as the dataset functions are lazily evaluated.)"
   ]
  },
  {
   "cell_type": "markdown",
   "metadata": {},
   "source": [
    "#### Index Embeddings\n",
    "\n",
    "Next we index these embeddings. We start by connecting to our project's OpenSearch client using the *hopsworks* library."
   ]
  },
  {
   "cell_type": "code",
   "execution_count": 6,
   "metadata": {},
   "outputs": [
    {
     "name": "stdout",
     "output_type": "stream",
     "text": [
      "Connected. Call `.close()` to terminate connection gracefully.\n"
     ]
    }
   ],
   "source": [
    "import hopsworks\n",
    "from opensearchpy import OpenSearch\n",
    "\n",
    "connection = hopsworks.connection()\n",
    "project = connection.get_project()\n",
    "opensearch_api = project.get_opensearch_api()\n",
    "\n",
    "client = OpenSearch(**opensearch_api.get_default_py_config())"
   ]
  },
  {
   "cell_type": "markdown",
   "metadata": {},
   "source": [
    "We'll create an index called `candidate_index`."
   ]
  },
  {
   "cell_type": "code",
   "execution_count": 7,
   "metadata": {},
   "outputs": [],
   "source": [
    "index_name = opensearch_api.get_project_index(\"candidate_index\")"
   ]
  },
  {
   "cell_type": "markdown",
   "metadata": {},
   "source": [
    "Here we use the HNSW (Hierarchical Navigable Small World) data structure, which can be thought of as a skip list for graphs.\n",
    "\n",
    "See the [OpenSearch documentation](https://opensearch.org/docs/latest/search-plugins/knn/knn-index) for more detailed information about parameters."
   ]
  },
  {
   "cell_type": "code",
   "execution_count": 9,
   "metadata": {},
   "outputs": [
    {
     "name": "stdout",
     "output_type": "stream",
     "text": [
      "2022-09-16 11:41:42,890 INFO: PUT https://172.16.4.231:9200/rec_candidate_index [status:200 request:0.098s]\n",
      "{'acknowledged': True, 'shards_acknowledged': True, 'index': 'rec_candidate_index'}\n"
     ]
    }
   ],
   "source": [
    "# Dimensionality of candidate embeddings.\n",
    "emb_dim = 16 # candidate_model.layers[-1].output.shape[-1]\n",
    "\n",
    "index_body = {\n",
    "    \"settings\": {\n",
    "        \"knn\": True,\n",
    "        \"knn.algo_param.ef_search\": 100,\n",
    "    },\n",
    "    \"mappings\": {\n",
    "        \"properties\": {\n",
    "            \"my_vector1\": {\n",
    "                \"type\": \"knn_vector\",\n",
    "                \"dimension\": emb_dim,\n",
    "                \"method\": {\n",
    "                    \"name\": \"hnsw\",\n",
    "                    \"space_type\": \"innerproduct\",\n",
    "                    \"engine\": \"faiss\",\n",
    "                    \"parameters\": {\n",
    "                        \"ef_construction\": 256,\n",
    "                        \"m\": 48\n",
    "                    }\n",
    "                }\n",
    "            }\n",
    "        }\n",
    "    }\n",
    "}\n",
    "\n",
    "response = client.indices.create(index_name, body=index_body)\n",
    "print(response)"
   ]
  },
  {
   "cell_type": "markdown",
   "metadata": {},
   "source": [
    "Now we can finally insert our candidate embeddings."
   ]
  },
  {
   "cell_type": "code",
   "execution_count": 10,
   "metadata": {},
   "outputs": [
    {
     "name": "stdout",
     "output_type": "stream",
     "text": [
      "2022-09-16 11:42:02,582 INFO: POST https://172.16.4.231:9200/_bulk [status:200 request:0.124s]\n",
      "2022-09-16 11:42:02,672 INFO: POST https://172.16.4.231:9200/_bulk [status:200 request:0.074s]\n",
      "2022-09-16 11:42:02,718 INFO: POST https://172.16.4.231:9200/_bulk [status:200 request:0.038s]\n"
     ]
    },
    {
     "data": {
      "text/plain": [
       "(1215, [])"
      ]
     },
     "execution_count": 10,
     "metadata": {},
     "output_type": "execute_result"
    }
   ],
   "source": [
    "from opensearchpy.helpers import bulk\n",
    "\n",
    "actions = []\n",
    "for batch in candidate_embeddings:\n",
    "    item_id_list, embedding_list = batch\n",
    "    item_id_list = item_id_list.numpy().astype(int)\n",
    "    embedding_list = embedding_list.numpy()\n",
    "\n",
    "    for item_id, embedding in zip(item_id_list, embedding_list):\n",
    "        actions.append({\n",
    "            \"_index\": index_name,\n",
    "            \"_id\": item_id,\n",
    "            \"_source\": {\n",
    "                \"my_vector1\": embedding,\n",
    "            }\n",
    "        })\n",
    "\n",
    "# Bulk insertion.\n",
    "bulk(client, actions)"
   ]
  },
  {
   "cell_type": "markdown",
   "metadata": {},
   "source": [
    "To test that it works we can retrieve the neighbors of a random vector."
   ]
  },
  {
   "cell_type": "code",
   "execution_count": 11,
   "metadata": {},
   "outputs": [
    {
     "name": "stdout",
     "output_type": "stream",
     "text": [
      "2022-09-16 11:42:25,510 INFO: POST https://172.16.4.231:9200/rec_candidate_index/_search [status:200 request:0.091s]\n",
      "{'_shards': {'failed': 0, 'skipped': 0, 'successful': 1, 'total': 1},\n",
      " 'hits': {'hits': [{'_id': '860632003',\n",
      "                    '_index': 'rec_candidate_index',\n",
      "                    '_score': 2.7318163,\n",
      "                    '_source': {'my_vector1': [0.5746775269508362,\n",
      "                                               -0.05191389471292496,\n",
      "                                               0.5020051002502441,\n",
      "                                               -0.003409195691347122,\n",
      "                                               0.15812934935092926,\n",
      "                                               0.16854670643806458,\n",
      "                                               0.10850943624973297,\n",
      "                                               0.17470090091228485,\n",
      "                                               0.17700625956058502,\n",
      "                                               0.22156503796577454,\n",
      "                                               -0.037161871790885925,\n",
      "                                               -0.09995181113481522,\n",
      "                                               0.10043605417013168,\n",
      "                                               0.5833610892295837,\n",
      "                                               -0.3666372001171112,\n",
      "                                               0.02654070220887661]},\n",
      "                    '_type': '_doc'},\n",
      "                   {'_id': '579010039',\n",
      "                    '_index': 'rec_candidate_index',\n",
      "                    '_score': 2.7112265,\n",
      "                    '_source': {'my_vector1': [0.5838927030563354,\n",
      "                                               -0.05956199765205383,\n",
      "                                               0.43555131554603577,\n",
      "                                               -0.1392350047826767,\n",
      "                                               0.20735126733779907,\n",
      "                                               0.1575198918581009,\n",
      "                                               0.042194217443466187,\n",
      "                                               0.28946924209594727,\n",
      "                                               0.27076902985572815,\n",
      "                                               0.22088685631752014,\n",
      "                                               0.018849654123187065,\n",
      "                                               -0.03568055480718613,\n",
      "                                               0.08779869228601456,\n",
      "                                               0.5878302454948425,\n",
      "                                               -0.36901193857192993,\n",
      "                                               -0.09885869175195694]},\n",
      "                    '_type': '_doc'},\n",
      "                   {'_id': '579010044',\n",
      "                    '_index': 'rec_candidate_index',\n",
      "                    '_score': 2.673263,\n",
      "                    '_source': {'my_vector1': [0.5334358811378479,\n",
      "                                               -0.05612042918801308,\n",
      "                                               0.4272432327270508,\n",
      "                                               -0.039110973477363586,\n",
      "                                               0.1486590951681137,\n",
      "                                               0.18252959847450256,\n",
      "                                               0.09816691279411316,\n",
      "                                               0.23798657953739166,\n",
      "                                               0.2580258846282959,\n",
      "                                               0.22648896276950836,\n",
      "                                               0.006721377372741699,\n",
      "                                               -0.0325215607881546,\n",
      "                                               0.0945882722735405,\n",
      "                                               0.5376281142234802,\n",
      "                                               -0.3717358112335205,\n",
      "                                               -0.05160611495375633]},\n",
      "                    '_type': '_doc'},\n",
      "                   {'_id': '874390011',\n",
      "                    '_index': 'rec_candidate_index',\n",
      "                    '_score': 2.6661162,\n",
      "                    '_source': {'my_vector1': [0.5554420948028564,\n",
      "                                               -0.05044011026620865,\n",
      "                                               0.41271495819091797,\n",
      "                                               -0.10349249094724655,\n",
      "                                               0.18130521476268768,\n",
      "                                               0.1635429710149765,\n",
      "                                               0.04131954535841942,\n",
      "                                               0.28062132000923157,\n",
      "                                               0.2810770571231842,\n",
      "                                               0.21726158261299133,\n",
      "                                               0.03211033344268799,\n",
      "                                               -0.020657414570450783,\n",
      "                                               0.07458724826574326,\n",
      "                                               0.5612476468086243,\n",
      "                                               -0.36282333731651306,\n",
      "                                               -0.0782640129327774]},\n",
      "                    '_type': '_doc'},\n",
      "                   {'_id': '734027020',\n",
      "                    '_index': 'rec_candidate_index',\n",
      "                    '_score': 2.6607974,\n",
      "                    '_source': {'my_vector1': [0.5545284748077393,\n",
      "                                               -0.0431654155254364,\n",
      "                                               0.40809640288352966,\n",
      "                                               -0.07620789110660553,\n",
      "                                               0.15441091358661652,\n",
      "                                               0.16004258394241333,\n",
      "                                               0.05801063030958176,\n",
      "                                               0.24919246137142181,\n",
      "                                               0.2493574619293213,\n",
      "                                               0.23184552788734436,\n",
      "                                               0.021544640883803368,\n",
      "                                               -0.042124368250370026,\n",
      "                                               0.08507215231657028,\n",
      "                                               0.5665886402130127,\n",
      "                                               -0.36787402629852295,\n",
      "                                               -0.04858974739909172]},\n",
      "                    '_type': '_doc'},\n",
      "                   {'_id': '714714014',\n",
      "                    '_index': 'rec_candidate_index',\n",
      "                    '_score': 2.659665,\n",
      "                    '_source': {'my_vector1': [0.5737566947937012,\n",
      "                                               -0.048956986516714096,\n",
      "                                               0.38966673612594604,\n",
      "                                               -0.11365590989589691,\n",
      "                                               0.18241292238235474,\n",
      "                                               0.16765809059143066,\n",
      "                                               0.019189851358532906,\n",
      "                                               0.25449076294898987,\n",
      "                                               0.26958805322647095,\n",
      "                                               0.2341856062412262,\n",
      "                                               0.029980221763253212,\n",
      "                                               -0.028289547190070152,\n",
      "                                               0.08153583854436874,\n",
      "                                               0.5796880722045898,\n",
      "                                               -0.3676944077014923,\n",
      "                                               -0.0629488155245781]},\n",
      "                    '_type': '_doc'},\n",
      "                   {'_id': '883435001',\n",
      "                    '_index': 'rec_candidate_index',\n",
      "                    '_score': 2.6263876,\n",
      "                    '_source': {'my_vector1': [0.5571666955947876,\n",
      "                                               -0.047382693737745285,\n",
      "                                               0.4291515052318573,\n",
      "                                               -0.05942082405090332,\n",
      "                                               0.16970732808113098,\n",
      "                                               0.15677790343761444,\n",
      "                                               0.04986729845404625,\n",
      "                                               0.22070491313934326,\n",
      "                                               0.23807315528392792,\n",
      "                                               0.21389688551425934,\n",
      "                                               -0.020313825458288193,\n",
      "                                               -0.06330687552690506,\n",
      "                                               0.08555282652378082,\n",
      "                                               0.5646985173225403,\n",
      "                                               -0.36828362941741943,\n",
      "                                               -0.012860218062996864]},\n",
      "                    '_type': '_doc'},\n",
      "                   {'_id': '874390010',\n",
      "                    '_index': 'rec_candidate_index',\n",
      "                    '_score': 2.6263876,\n",
      "                    '_source': {'my_vector1': [0.5571666955947876,\n",
      "                                               -0.047382693737745285,\n",
      "                                               0.4291515052318573,\n",
      "                                               -0.05942082405090332,\n",
      "                                               0.16970732808113098,\n",
      "                                               0.15677790343761444,\n",
      "                                               0.04986729845404625,\n",
      "                                               0.22070491313934326,\n",
      "                                               0.23807315528392792,\n",
      "                                               0.21389688551425934,\n",
      "                                               -0.020313825458288193,\n",
      "                                               -0.06330687552690506,\n",
      "                                               0.08555282652378082,\n",
      "                                               0.5646985173225403,\n",
      "                                               -0.36828362941741943,\n",
      "                                               -0.012860218062996864]},\n",
      "                    '_type': '_doc'},\n",
      "                   {'_id': '579010041',\n",
      "                    '_index': 'rec_candidate_index',\n",
      "                    '_score': 2.6249323,\n",
      "                    '_source': {'my_vector1': [0.5219732522964478,\n",
      "                                               -0.02932596579194069,\n",
      "                                               0.45370545983314514,\n",
      "                                               0.029898880049586296,\n",
      "                                               0.11292918771505356,\n",
      "                                               0.14689554274082184,\n",
      "                                               0.1152886152267456,\n",
      "                                               0.16531062126159668,\n",
      "                                               0.17647023499011993,\n",
      "                                               0.20344530045986176,\n",
      "                                               -0.06579378992319107,\n",
      "                                               -0.08990570157766342,\n",
      "                                               0.11404543370008469,\n",
      "                                               0.5592211484909058,\n",
      "                                               -0.3576866686344147,\n",
      "                                               0.0373368039727211]},\n",
      "                    '_type': '_doc'},\n",
      "                   {'_id': '395127011',\n",
      "                    '_index': 'rec_candidate_index',\n",
      "                    '_score': 2.456371,\n",
      "                    '_source': {'my_vector1': [0.42989593744277954,\n",
      "                                               0.09389514476060867,\n",
      "                                               0.6607947945594788,\n",
      "                                               -0.1624266505241394,\n",
      "                                               -0.033168766647577286,\n",
      "                                               -0.1109500601887703,\n",
      "                                               0.135978564620018,\n",
      "                                               0.09736759215593338,\n",
      "                                               -0.5033473372459412,\n",
      "                                               -0.21215558052062988,\n",
      "                                               -0.26032763719558716,\n",
      "                                               -0.04483521729707718,\n",
      "                                               0.30181685090065,\n",
      "                                               0.7408866882324219,\n",
      "                                               0.17129231989383698,\n",
      "                                               -0.1252414882183075]},\n",
      "                    '_type': '_doc'}],\n",
      "          'max_score': 2.7318163,\n",
      "          'total': {'relation': 'eq', 'value': 10}},\n",
      " 'timed_out': False,\n",
      " 'took': 88}\n"
     ]
    }
   ],
   "source": [
    "# TODO would be more illustrative to select a vector from 'actions'\n",
    "# and join the results with item_df.\n",
    "\n",
    "import pprint\n",
    "import numpy as np\n",
    "\n",
    "embedding = np.random.rand(emb_dim)\n",
    "\n",
    "query = {\n",
    "  \"size\": 10,\n",
    "  \"query\": {\n",
    "    \"knn\": {\n",
    "      \"my_vector1\": {\n",
    "        \"vector\": embedding,\n",
    "        \"k\": 10\n",
    "      }\n",
    "    }\n",
    "  }\n",
    "}\n",
    "\n",
    "response = client.search(\n",
    "    body = query,\n",
    "    index = index_name\n",
    ")\n",
    "\n",
    "pprint.pprint(response)"
   ]
  },
  {
   "cell_type": "markdown",
   "metadata": {},
   "source": [
    "#### Next Steps\n",
    "\n",
    "At this point we have a recommender system that is able to generate a set of candidate items for a customer. However, many of these could be poor, as the candidate model was trained with only a few subset of the features. In the next notebook, we'll train a *ranking model* to do more fine-grained predictions."
   ]
  }
 ],
 "metadata": {
  "interpreter": {
   "hash": "31f2aee4e71d21fbe5cf8b01ff0e069b9275f58929596ceb00d14d90e3e16cd6"
  },
  "kernelspec": {
   "display_name": "Python",
   "language": "python",
   "name": "python3"
  },
  "language_info": {
   "codemirror_mode": {
    "name": "ipython",
    "version": 3
   },
   "file_extension": ".py",
   "mimetype": "text/x-python",
   "name": "python",
   "nbconvert_exporter": "python",
   "pygments_lexer": "ipython3",
   "version": "3.8.11"
  }
 },
 "nbformat": 4,
 "nbformat_minor": 4
}