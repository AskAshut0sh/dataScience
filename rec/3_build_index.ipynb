{
 "cells": [
  {
   "cell_type": "code",
   "execution_count": 2,
   "metadata": {},
   "outputs": [
    {
     "name": "stdout",
     "output_type": "stream",
     "text": [
      "Connected. Call `.close()` to terminate connection gracefully.\n",
      "\n",
      "Logged in to project, explore it here https://b0636a00-6406-11ed-88f4-3779517939b7.cloud.hopsworks.ai:443/p/119\n"
     ]
    }
   ],
   "source": [
    "import hopsworks\n",
    "\n",
    "project = hopsworks.login()  # insert API Key from https://app.hopsworks.ai"
   ]
  },
  {
   "cell_type": "markdown",
   "metadata": {},
   "source": [
    "## Requirements\n",
    "\n",
    "Install libraries:\n",
    "\n",
    "* **tensorflow** (version 2.9.1)\n",
    "* **opensearch**"
   ]
  },
  {
   "cell_type": "code",
   "execution_count": 3,
   "metadata": {},
   "outputs": [
    {
     "name": "stdout",
     "output_type": "stream",
     "text": [
      "\u001b[31mERROR: pip's dependency resolver does not currently take into account all the packages that are installed. This behaviour is the source of the following dependency conflicts.\n",
      "nbconvert 7.0.0 requires jinja2>=3.0, but you have jinja2 2.11.3 which is incompatible.\n",
      "nbconvert 7.0.0 requires mistune<3,>=2.0.3, but you have mistune 0.8.4 which is incompatible.\n",
      "hsfs 3.1.0.dev1 requires markupsafe<2.1.0, but you have markupsafe 2.1.1 which is incompatible.\u001b[0m\u001b[31m\n",
      "\u001b[0m\n",
      "\u001b[1m[\u001b[0m\u001b[34;49mnotice\u001b[0m\u001b[1;39;49m]\u001b[0m\u001b[39;49m A new release of pip available: \u001b[0m\u001b[31;49m22.2.2\u001b[0m\u001b[39;49m -> \u001b[0m\u001b[32;49m22.3.1\u001b[0m\n",
      "\u001b[1m[\u001b[0m\u001b[34;49mnotice\u001b[0m\u001b[1;39;49m]\u001b[0m\u001b[39;49m To update, run: \u001b[0m\u001b[32;49mpython3.9 -m pip install --upgrade pip\u001b[0m\n",
      "\n",
      "\u001b[1m[\u001b[0m\u001b[34;49mnotice\u001b[0m\u001b[1;39;49m]\u001b[0m\u001b[39;49m A new release of pip available: \u001b[0m\u001b[31;49m22.2.2\u001b[0m\u001b[39;49m -> \u001b[0m\u001b[32;49m22.3.1\u001b[0m\n",
      "\u001b[1m[\u001b[0m\u001b[34;49mnotice\u001b[0m\u001b[1;39;49m]\u001b[0m\u001b[39;49m To update, run: \u001b[0m\u001b[32;49mpython3.9 -m pip install --upgrade pip\u001b[0m\n"
     ]
    }
   ],
   "source": [
    "!pip install --quiet tensorflow==2.9.1\n",
    "!pip install --quiet opensearch-py"
   ]
  },
  {
   "cell_type": "markdown",
   "metadata": {},
   "source": [
    "## Build Index\n",
    "\n",
    "In this notebook we will build an index for our candidate embeddings. Here we will use OpenSearch, which is natively supported by Hopsworks."
   ]
  },
  {
   "cell_type": "markdown",
   "metadata": {},
   "source": [
    "### Compute Candidate Embeddings\n",
    "\n",
    "We start by computing candidate embeddings for all items in the training data.\n",
    "\n",
    "First, we load our candidate model. Recall that we uploaded it to the Hopsworks Model Registry in the previous notebook. If you don't have the model locally you can download it from the Model Registry using the following code:"
   ]
  },
  {
   "cell_type": "code",
   "execution_count": 4,
   "metadata": {},
   "outputs": [
    {
     "name": "stdout",
     "output_type": "stream",
     "text": [
      "Connected. Call `.close()` to terminate connection gracefully.\n"
     ]
    },
    {
     "name": "stderr",
     "output_type": "stream",
     "text": [
      "VersionWarning: No version provided for getting model `candidate_model`, defaulting to `1`.\n"
     ]
    },
    {
     "name": "stdout",
     "output_type": "stream",
     "text": [
      "Downloading file ... "
     ]
    }
   ],
   "source": [
    "mr = project.get_model_registry()\n",
    "\n",
    "model = mr.get_model(\"candidate_model\")\n",
    "model_path = model.download()"
   ]
  },
  {
   "cell_type": "markdown",
   "metadata": {},
   "source": [
    "If you already have the model saved locally you can simply replace `model_path` with the path to your model."
   ]
  },
  {
   "cell_type": "code",
   "execution_count": 5,
   "metadata": {},
   "outputs": [
    {
     "name": "stderr",
     "output_type": "stream",
     "text": [
      "2022-11-15 10:54:19.278761: W tensorflow/stream_executor/platform/default/dso_loader.cc:64] Could not load dynamic library 'libcudart.so.11.0'; dlerror: libcudart.so.11.0: cannot open shared object file: No such file or directory\n",
      "2022-11-15 10:54:19.278779: I tensorflow/stream_executor/cuda/cudart_stub.cc:29] Ignore above cudart dlerror if you do not have a GPU set up on your machine.\n",
      "DeprecationWarning: the imp module is deprecated in favour of importlib; see the module's documentation for alternative uses\n",
      "DeprecationWarning: NEAREST is deprecated and will be removed in Pillow 10 (2023-07-01). Use Resampling.NEAREST or Dither.NONE instead.\n",
      "DeprecationWarning: BILINEAR is deprecated and will be removed in Pillow 10 (2023-07-01). Use Resampling.BILINEAR instead.\n",
      "DeprecationWarning: BICUBIC is deprecated and will be removed in Pillow 10 (2023-07-01). Use Resampling.BICUBIC instead.\n",
      "DeprecationWarning: HAMMING is deprecated and will be removed in Pillow 10 (2023-07-01). Use Resampling.HAMMING instead.\n",
      "DeprecationWarning: BOX is deprecated and will be removed in Pillow 10 (2023-07-01). Use Resampling.BOX instead.\n",
      "DeprecationWarning: LANCZOS is deprecated and will be removed in Pillow 10 (2023-07-01). Use Resampling.LANCZOS instead.\n",
      "2022-11-15 10:54:20.393916: E tensorflow/stream_executor/cuda/cuda_driver.cc:271] failed call to cuInit: CUDA_ERROR_NO_DEVICE: no CUDA-capable device is detected\n",
      "2022-11-15 10:54:20.393937: I tensorflow/stream_executor/cuda/cuda_diagnostics.cc:156] kernel driver does not appear to be running on this host (xps-15): /proc/driver/nvidia/version does not exist\n",
      "2022-11-15 10:54:20.394141: I tensorflow/core/platform/cpu_feature_guard.cc:193] This TensorFlow binary is optimized with oneAPI Deep Neural Network Library (oneDNN) to use the following CPU instructions in performance-critical operations:  AVX2 FMA\n",
      "To enable them in other operations, rebuild TensorFlow with the appropriate compiler flags.\n"
     ]
    }
   ],
   "source": [
    "import tensorflow as tf\n",
    "\n",
    "candidate_model = tf.saved_model.load(model_path)"
   ]
  },
  {
   "cell_type": "markdown",
   "metadata": {},
   "source": [
    "Next we compute the embeddings of all candidate items that were used to train the retrieval model."
   ]
  },
  {
   "cell_type": "code",
   "execution_count": 6,
   "metadata": {
    "tags": []
   },
   "outputs": [
    {
     "name": "stdout",
     "output_type": "stream",
     "text": [
      "Connected. Call `.close()` to terminate connection gracefully.\n"
     ]
    }
   ],
   "source": [
    "fs = project.get_feature_store()"
   ]
  },
  {
   "cell_type": "code",
   "execution_count": 7,
   "metadata": {},
   "outputs": [],
   "source": [
    "feature_view = fs.get_feature_view(\"retrieval\", version=1)\n",
    "\n",
    "train_df, val_df, test_df, y_train, y_val, y_test = feature_view.get_train_validation_test_split(training_dataset_version=1)"
   ]
  },
  {
   "cell_type": "code",
   "execution_count": 8,
   "metadata": {
    "jupyter": {
     "source_hidden": true
    },
    "tags": []
   },
   "outputs": [],
   "source": [
    "train_df[\"article_id\"] = train_df[\"article_id\"].astype(str)\n",
    "val_df[\"article_id\"] = val_df[\"article_id\"].astype(str)"
   ]
  },
  {
   "cell_type": "code",
   "execution_count": 9,
   "metadata": {},
   "outputs": [
    {
     "name": "stderr",
     "output_type": "stream",
     "text": [
      "SettingWithCopyWarning: \n",
      "A value is trying to be set on a copy of a slice from a DataFrame\n",
      "\n",
      "See the caveats in the documentation: https://pandas.pydata.org/pandas-docs/stable/user_guide/indexing.html#returning-a-view-versus-a-copy\n"
     ]
    }
   ],
   "source": [
    "# Get list of input features for the candidate model.\n",
    "model_schema = model.model_schema['input_schema']['columnar_schema']\n",
    "candidate_features = [feat['name'] for feat in model_schema]\n",
    "\n",
    "# Get list of unique candidate items.\n",
    "item_df = train_df[candidate_features]\n",
    "item_df.drop_duplicates(subset=\"article_id\", inplace=True)\n",
    "\n",
    "item_ds = tf.data.Dataset.from_tensor_slices(\n",
    "    {col: item_df[col] for col in item_df})\n",
    "\n",
    "# Compute embeddings for all candidate items.\n",
    "candidate_embeddings = item_ds.batch(2048).map(\n",
    "    lambda x: (x[\"article_id\"], candidate_model(x)))"
   ]
  },
  {
   "cell_type": "markdown",
   "metadata": {},
   "source": [
    "(Strictly speaking, we haven't actually computed the candidate embeddings yet, as the dataset functions are lazily evaluated.)"
   ]
  },
  {
   "cell_type": "markdown",
   "metadata": {},
   "source": [
    "#### Index Embeddings\n",
    "\n",
    "Next we index these embeddings. We start by connecting to our project's OpenSearch client using the *hopsworks* library."
   ]
  },
  {
   "cell_type": "code",
   "execution_count": 10,
   "metadata": {
    "jupyter": {
     "source_hidden": true
    },
    "tags": []
   },
   "outputs": [],
   "source": [
    "# TODO: Remove env var\n",
    "import os\n",
    "os.environ[\"ELASTIC_ENDPOINT\"] = \"https://b0636a00-6406-11ed-88f4-3779517939b7.cloud.hopsworks.ai:9200\""
   ]
  },
  {
   "cell_type": "code",
   "execution_count": 11,
   "metadata": {},
   "outputs": [],
   "source": [
    "from opensearchpy import OpenSearch\n",
    "\n",
    "opensearch_api = project.get_opensearch_api()\n",
    "client = OpenSearch(**opensearch_api.get_default_py_config())"
   ]
  },
  {
   "cell_type": "markdown",
   "metadata": {},
   "source": [
    "We'll create an index called `candidate_index`."
   ]
  },
  {
   "cell_type": "code",
   "execution_count": 12,
   "metadata": {},
   "outputs": [],
   "source": [
    "index_name = opensearch_api.get_project_index(\"candidate_index\")\n",
    "\n",
    "emb_dim = 16 # candidate_model.layers[-1].output.shape[-1]"
   ]
  },
  {
   "cell_type": "markdown",
   "metadata": {},
   "source": [
    "Here we use the HNSW (Hierarchical Navigable Small World) data structure, which can be thought of as a skip list for graphs.\n",
    "\n",
    "See the [OpenSearch documentation](https://opensearch.org/docs/latest/search-plugins/knn/knn-index) for more detailed information about parameters."
   ]
  },
  {
   "cell_type": "code",
   "execution_count": null,
   "metadata": {
    "jupyter": {
     "source_hidden": true
    },
    "tags": []
   },
   "outputs": [],
   "source": [
    "# todo: remove\n",
    "# response = client.indices.delete(\n",
    "#     index = index_name\n",
    "# )\n",
    "# print(response)"
   ]
  },
  {
   "cell_type": "code",
   "execution_count": 13,
   "metadata": {
    "tags": []
   },
   "outputs": [
    {
     "name": "stdout",
     "output_type": "stream",
     "text": [
      "2022-11-15 10:55:22,039 INFO: PUT https://b0636a00-6406-11ed-88f4-3779517939b7.cloud.hopsworks.ai:9200/recsys_candidate_index [status:200 request:0.472s]\n",
      "{'acknowledged': True, 'shards_acknowledged': True, 'index': 'recsys_candidate_index'}\n"
     ]
    }
   ],
   "source": [
    "# Dimensionality of candidate embeddings.\n",
    "\n",
    "index_body = {\n",
    "    \"settings\": {\n",
    "        \"knn\": True,\n",
    "        \"knn.algo_param.ef_search\": 100,\n",
    "    },\n",
    "    \"mappings\": {\n",
    "        \"properties\": {\n",
    "            \"my_vector1\": {\n",
    "                \"type\": \"knn_vector\",\n",
    "                \"dimension\": emb_dim,\n",
    "                \"method\": {\n",
    "                    \"name\": \"hnsw\",\n",
    "                    \"space_type\": \"innerproduct\",\n",
    "                    \"engine\": \"faiss\",\n",
    "                    \"parameters\": {\n",
    "                        \"ef_construction\": 256,\n",
    "                        \"m\": 48\n",
    "                    }\n",
    "                }\n",
    "            }\n",
    "        }\n",
    "    }\n",
    "}\n",
    "\n",
    "response = client.indices.create(index_name, body=index_body)\n",
    "print(response)"
   ]
  },
  {
   "cell_type": "markdown",
   "metadata": {},
   "source": [
    "Now we can finally insert our candidate embeddings."
   ]
  },
  {
   "cell_type": "code",
   "execution_count": 14,
   "metadata": {},
   "outputs": [
    {
     "name": "stdout",
     "output_type": "stream",
     "text": [
      "2022-11-15 10:55:25,172 INFO: POST https://b0636a00-6406-11ed-88f4-3779517939b7.cloud.hopsworks.ai:9200/_bulk [status:200 request:0.944s]\n",
      "2022-11-15 10:55:25,472 INFO: POST https://b0636a00-6406-11ed-88f4-3779517939b7.cloud.hopsworks.ai:9200/_bulk [status:200 request:0.277s]\n",
      "2022-11-15 10:55:25,693 INFO: POST https://b0636a00-6406-11ed-88f4-3779517939b7.cloud.hopsworks.ai:9200/_bulk [status:200 request:0.166s]\n",
      "2022-11-15 10:55:25,897 INFO: POST https://b0636a00-6406-11ed-88f4-3779517939b7.cloud.hopsworks.ai:9200/_bulk [status:200 request:0.166s]\n",
      "2022-11-15 10:55:26,088 INFO: POST https://b0636a00-6406-11ed-88f4-3779517939b7.cloud.hopsworks.ai:9200/_bulk [status:200 request:0.156s]\n",
      "2022-11-15 10:55:26,275 INFO: POST https://b0636a00-6406-11ed-88f4-3779517939b7.cloud.hopsworks.ai:9200/_bulk [status:200 request:0.158s]\n",
      "2022-11-15 10:55:26,488 INFO: POST https://b0636a00-6406-11ed-88f4-3779517939b7.cloud.hopsworks.ai:9200/_bulk [status:200 request:0.161s]\n",
      "2022-11-15 10:55:26,700 INFO: POST https://b0636a00-6406-11ed-88f4-3779517939b7.cloud.hopsworks.ai:9200/_bulk [status:200 request:0.161s]\n",
      "2022-11-15 10:55:26,910 INFO: POST https://b0636a00-6406-11ed-88f4-3779517939b7.cloud.hopsworks.ai:9200/_bulk [status:200 request:0.156s]\n",
      "2022-11-15 10:55:27,128 INFO: POST https://b0636a00-6406-11ed-88f4-3779517939b7.cloud.hopsworks.ai:9200/_bulk [status:200 request:0.165s]\n",
      "2022-11-15 10:55:27,345 INFO: POST https://b0636a00-6406-11ed-88f4-3779517939b7.cloud.hopsworks.ai:9200/_bulk [status:200 request:0.165s]\n",
      "2022-11-15 10:55:27,555 INFO: POST https://b0636a00-6406-11ed-88f4-3779517939b7.cloud.hopsworks.ai:9200/_bulk [status:200 request:0.158s]\n",
      "2022-11-15 10:55:27,767 INFO: POST https://b0636a00-6406-11ed-88f4-3779517939b7.cloud.hopsworks.ai:9200/_bulk [status:200 request:0.159s]\n",
      "2022-11-15 10:55:27,984 INFO: POST https://b0636a00-6406-11ed-88f4-3779517939b7.cloud.hopsworks.ai:9200/_bulk [status:200 request:0.166s]\n",
      "2022-11-15 10:55:28,164 INFO: POST https://b0636a00-6406-11ed-88f4-3779517939b7.cloud.hopsworks.ai:9200/_bulk [status:200 request:0.158s]\n",
      "2022-11-15 10:55:28,355 INFO: POST https://b0636a00-6406-11ed-88f4-3779517939b7.cloud.hopsworks.ai:9200/_bulk [status:200 request:0.158s]\n",
      "2022-11-15 10:55:28,566 INFO: POST https://b0636a00-6406-11ed-88f4-3779517939b7.cloud.hopsworks.ai:9200/_bulk [status:200 request:0.157s]\n",
      "2022-11-15 10:55:28,776 INFO: POST https://b0636a00-6406-11ed-88f4-3779517939b7.cloud.hopsworks.ai:9200/_bulk [status:200 request:0.158s]\n",
      "2022-11-15 10:55:28,988 INFO: POST https://b0636a00-6406-11ed-88f4-3779517939b7.cloud.hopsworks.ai:9200/_bulk [status:200 request:0.160s]\n",
      "2022-11-15 10:55:29,302 INFO: POST https://b0636a00-6406-11ed-88f4-3779517939b7.cloud.hopsworks.ai:9200/_bulk [status:200 request:0.264s]\n",
      "2022-11-15 10:55:29,495 INFO: POST https://b0636a00-6406-11ed-88f4-3779517939b7.cloud.hopsworks.ai:9200/_bulk [status:200 request:0.165s]\n",
      "2022-11-15 10:55:29,673 INFO: POST https://b0636a00-6406-11ed-88f4-3779517939b7.cloud.hopsworks.ai:9200/_bulk [status:200 request:0.160s]\n",
      "2022-11-15 10:55:29,892 INFO: POST https://b0636a00-6406-11ed-88f4-3779517939b7.cloud.hopsworks.ai:9200/_bulk [status:200 request:0.168s]\n",
      "2022-11-15 10:55:30,100 INFO: POST https://b0636a00-6406-11ed-88f4-3779517939b7.cloud.hopsworks.ai:9200/_bulk [status:200 request:0.155s]\n",
      "2022-11-15 10:55:30,318 INFO: POST https://b0636a00-6406-11ed-88f4-3779517939b7.cloud.hopsworks.ai:9200/_bulk [status:200 request:0.166s]\n",
      "2022-11-15 10:55:30,496 INFO: POST https://b0636a00-6406-11ed-88f4-3779517939b7.cloud.hopsworks.ai:9200/_bulk [status:200 request:0.160s]\n",
      "2022-11-15 10:55:30,671 INFO: POST https://b0636a00-6406-11ed-88f4-3779517939b7.cloud.hopsworks.ai:9200/_bulk [status:200 request:0.158s]\n",
      "2022-11-15 10:55:30,867 INFO: POST https://b0636a00-6406-11ed-88f4-3779517939b7.cloud.hopsworks.ai:9200/_bulk [status:200 request:0.167s]\n",
      "2022-11-15 10:55:31,087 INFO: POST https://b0636a00-6406-11ed-88f4-3779517939b7.cloud.hopsworks.ai:9200/_bulk [status:200 request:0.168s]\n",
      "2022-11-15 10:55:31,301 INFO: POST https://b0636a00-6406-11ed-88f4-3779517939b7.cloud.hopsworks.ai:9200/_bulk [status:200 request:0.162s]\n",
      "2022-11-15 10:55:31,517 INFO: POST https://b0636a00-6406-11ed-88f4-3779517939b7.cloud.hopsworks.ai:9200/_bulk [status:200 request:0.168s]\n",
      "2022-11-15 10:55:31,729 INFO: POST https://b0636a00-6406-11ed-88f4-3779517939b7.cloud.hopsworks.ai:9200/_bulk [status:200 request:0.161s]\n",
      "2022-11-15 10:55:31,938 INFO: POST https://b0636a00-6406-11ed-88f4-3779517939b7.cloud.hopsworks.ai:9200/_bulk [status:200 request:0.162s]\n",
      "2022-11-15 10:55:32,153 INFO: POST https://b0636a00-6406-11ed-88f4-3779517939b7.cloud.hopsworks.ai:9200/_bulk [status:200 request:0.163s]\n",
      "2022-11-15 10:55:32,340 INFO: POST https://b0636a00-6406-11ed-88f4-3779517939b7.cloud.hopsworks.ai:9200/_bulk [status:200 request:0.166s]\n",
      "2022-11-15 10:55:32,553 INFO: POST https://b0636a00-6406-11ed-88f4-3779517939b7.cloud.hopsworks.ai:9200/_bulk [status:200 request:0.160s]\n",
      "2022-11-15 10:55:32,731 INFO: POST https://b0636a00-6406-11ed-88f4-3779517939b7.cloud.hopsworks.ai:9200/_bulk [status:200 request:0.161s]\n",
      "2022-11-15 10:55:32,916 INFO: POST https://b0636a00-6406-11ed-88f4-3779517939b7.cloud.hopsworks.ai:9200/_bulk [status:200 request:0.159s]\n",
      "2022-11-15 10:55:33,127 INFO: POST https://b0636a00-6406-11ed-88f4-3779517939b7.cloud.hopsworks.ai:9200/_bulk [status:200 request:0.159s]\n",
      "2022-11-15 10:55:33,340 INFO: POST https://b0636a00-6406-11ed-88f4-3779517939b7.cloud.hopsworks.ai:9200/_bulk [status:200 request:0.161s]\n",
      "2022-11-15 10:55:33,530 INFO: POST https://b0636a00-6406-11ed-88f4-3779517939b7.cloud.hopsworks.ai:9200/_bulk [status:200 request:0.171s]\n",
      "2022-11-15 10:55:33,740 INFO: POST https://b0636a00-6406-11ed-88f4-3779517939b7.cloud.hopsworks.ai:9200/_bulk [status:200 request:0.158s]\n",
      "2022-11-15 10:55:33,929 INFO: POST https://b0636a00-6406-11ed-88f4-3779517939b7.cloud.hopsworks.ai:9200/_bulk [status:200 request:0.158s]\n",
      "2022-11-15 10:55:34,142 INFO: POST https://b0636a00-6406-11ed-88f4-3779517939b7.cloud.hopsworks.ai:9200/_bulk [status:200 request:0.160s]\n",
      "2022-11-15 10:55:34,322 INFO: POST https://b0636a00-6406-11ed-88f4-3779517939b7.cloud.hopsworks.ai:9200/_bulk [status:200 request:0.158s]\n",
      "2022-11-15 10:55:34,664 INFO: POST https://b0636a00-6406-11ed-88f4-3779517939b7.cloud.hopsworks.ai:9200/_bulk [status:200 request:0.301s]\n",
      "2022-11-15 10:55:34,880 INFO: POST https://b0636a00-6406-11ed-88f4-3779517939b7.cloud.hopsworks.ai:9200/_bulk [status:200 request:0.168s]\n",
      "2022-11-15 10:55:35,071 INFO: POST https://b0636a00-6406-11ed-88f4-3779517939b7.cloud.hopsworks.ai:9200/_bulk [status:200 request:0.160s]\n",
      "2022-11-15 10:55:35,281 INFO: POST https://b0636a00-6406-11ed-88f4-3779517939b7.cloud.hopsworks.ai:9200/_bulk [status:200 request:0.157s]\n",
      "2022-11-15 10:55:35,480 INFO: POST https://b0636a00-6406-11ed-88f4-3779517939b7.cloud.hopsworks.ai:9200/_bulk [status:200 request:0.159s]\n",
      "2022-11-15 10:55:35,688 INFO: POST https://b0636a00-6406-11ed-88f4-3779517939b7.cloud.hopsworks.ai:9200/_bulk [status:200 request:0.158s]\n",
      "2022-11-15 10:55:35,892 INFO: POST https://b0636a00-6406-11ed-88f4-3779517939b7.cloud.hopsworks.ai:9200/_bulk [status:200 request:0.167s]\n",
      "2022-11-15 10:55:36,108 INFO: POST https://b0636a00-6406-11ed-88f4-3779517939b7.cloud.hopsworks.ai:9200/_bulk [status:200 request:0.171s]\n",
      "2022-11-15 10:55:36,325 INFO: POST https://b0636a00-6406-11ed-88f4-3779517939b7.cloud.hopsworks.ai:9200/_bulk [status:200 request:0.164s]\n",
      "2022-11-15 10:55:36,529 INFO: POST https://b0636a00-6406-11ed-88f4-3779517939b7.cloud.hopsworks.ai:9200/_bulk [status:200 request:0.161s]\n",
      "2022-11-15 10:55:36,746 INFO: POST https://b0636a00-6406-11ed-88f4-3779517939b7.cloud.hopsworks.ai:9200/_bulk [status:200 request:0.164s]\n",
      "2022-11-15 10:55:36,950 INFO: POST https://b0636a00-6406-11ed-88f4-3779517939b7.cloud.hopsworks.ai:9200/_bulk [status:200 request:0.167s]\n",
      "2022-11-15 10:55:37,165 INFO: POST https://b0636a00-6406-11ed-88f4-3779517939b7.cloud.hopsworks.ai:9200/_bulk [status:200 request:0.158s]\n",
      "2022-11-15 10:55:37,359 INFO: POST https://b0636a00-6406-11ed-88f4-3779517939b7.cloud.hopsworks.ai:9200/_bulk [status:200 request:0.161s]\n",
      "2022-11-15 10:55:37,569 INFO: POST https://b0636a00-6406-11ed-88f4-3779517939b7.cloud.hopsworks.ai:9200/_bulk [status:200 request:0.158s]\n",
      "2022-11-15 10:55:37,784 INFO: POST https://b0636a00-6406-11ed-88f4-3779517939b7.cloud.hopsworks.ai:9200/_bulk [status:200 request:0.161s]\n",
      "2022-11-15 10:55:37,999 INFO: POST https://b0636a00-6406-11ed-88f4-3779517939b7.cloud.hopsworks.ai:9200/_bulk [status:200 request:0.160s]\n",
      "2022-11-15 10:55:38,213 INFO: POST https://b0636a00-6406-11ed-88f4-3779517939b7.cloud.hopsworks.ai:9200/_bulk [status:200 request:0.165s]\n",
      "2022-11-15 10:55:38,413 INFO: POST https://b0636a00-6406-11ed-88f4-3779517939b7.cloud.hopsworks.ai:9200/_bulk [status:200 request:0.159s]\n",
      "2022-11-15 10:55:38,629 INFO: POST https://b0636a00-6406-11ed-88f4-3779517939b7.cloud.hopsworks.ai:9200/_bulk [status:200 request:0.164s]\n",
      "2022-11-15 10:55:38,846 INFO: POST https://b0636a00-6406-11ed-88f4-3779517939b7.cloud.hopsworks.ai:9200/_bulk [status:200 request:0.166s]\n",
      "2022-11-15 10:55:39,067 INFO: POST https://b0636a00-6406-11ed-88f4-3779517939b7.cloud.hopsworks.ai:9200/_bulk [status:200 request:0.170s]\n",
      "2022-11-15 10:55:39,264 INFO: POST https://b0636a00-6406-11ed-88f4-3779517939b7.cloud.hopsworks.ai:9200/_bulk [status:200 request:0.166s]\n",
      "2022-11-15 10:55:39,490 INFO: POST https://b0636a00-6406-11ed-88f4-3779517939b7.cloud.hopsworks.ai:9200/_bulk [status:200 request:0.172s]\n",
      "2022-11-15 10:55:39,705 INFO: POST https://b0636a00-6406-11ed-88f4-3779517939b7.cloud.hopsworks.ai:9200/_bulk [status:200 request:0.173s]\n",
      "2022-11-15 10:55:39,906 INFO: POST https://b0636a00-6406-11ed-88f4-3779517939b7.cloud.hopsworks.ai:9200/_bulk [status:200 request:0.163s]\n",
      "2022-11-15 10:55:40,134 INFO: POST https://b0636a00-6406-11ed-88f4-3779517939b7.cloud.hopsworks.ai:9200/_bulk [status:200 request:0.179s]\n",
      "2022-11-15 10:55:40,347 INFO: POST https://b0636a00-6406-11ed-88f4-3779517939b7.cloud.hopsworks.ai:9200/_bulk [status:200 request:0.160s]\n",
      "2022-11-15 10:55:40,558 INFO: POST https://b0636a00-6406-11ed-88f4-3779517939b7.cloud.hopsworks.ai:9200/_bulk [status:200 request:0.161s]\n",
      "2022-11-15 10:55:40,755 INFO: POST https://b0636a00-6406-11ed-88f4-3779517939b7.cloud.hopsworks.ai:9200/_bulk [status:200 request:0.168s]\n",
      "2022-11-15 10:55:40,968 INFO: POST https://b0636a00-6406-11ed-88f4-3779517939b7.cloud.hopsworks.ai:9200/_bulk [status:200 request:0.160s]\n",
      "2022-11-15 10:55:41,176 INFO: POST https://b0636a00-6406-11ed-88f4-3779517939b7.cloud.hopsworks.ai:9200/_bulk [status:200 request:0.165s]\n",
      "2022-11-15 10:55:41,383 INFO: POST https://b0636a00-6406-11ed-88f4-3779517939b7.cloud.hopsworks.ai:9200/_bulk [status:200 request:0.158s]\n",
      "2022-11-15 10:55:41,593 INFO: POST https://b0636a00-6406-11ed-88f4-3779517939b7.cloud.hopsworks.ai:9200/_bulk [status:200 request:0.187s]\n",
      "2022-11-15 10:55:41,806 INFO: POST https://b0636a00-6406-11ed-88f4-3779517939b7.cloud.hopsworks.ai:9200/_bulk [status:200 request:0.167s]\n",
      "2022-11-15 10:55:42,024 INFO: POST https://b0636a00-6406-11ed-88f4-3779517939b7.cloud.hopsworks.ai:9200/_bulk [status:200 request:0.166s]\n",
      "2022-11-15 10:55:42,232 INFO: POST https://b0636a00-6406-11ed-88f4-3779517939b7.cloud.hopsworks.ai:9200/_bulk [status:200 request:0.161s]\n",
      "2022-11-15 10:55:42,454 INFO: POST https://b0636a00-6406-11ed-88f4-3779517939b7.cloud.hopsworks.ai:9200/_bulk [status:200 request:0.169s]\n",
      "2022-11-15 10:55:42,675 INFO: POST https://b0636a00-6406-11ed-88f4-3779517939b7.cloud.hopsworks.ai:9200/_bulk [status:200 request:0.169s]\n",
      "2022-11-15 10:55:42,897 INFO: POST https://b0636a00-6406-11ed-88f4-3779517939b7.cloud.hopsworks.ai:9200/_bulk [status:200 request:0.168s]\n",
      "2022-11-15 10:55:43,110 INFO: POST https://b0636a00-6406-11ed-88f4-3779517939b7.cloud.hopsworks.ai:9200/_bulk [status:200 request:0.166s]\n",
      "2022-11-15 10:55:43,312 INFO: POST https://b0636a00-6406-11ed-88f4-3779517939b7.cloud.hopsworks.ai:9200/_bulk [status:200 request:0.159s]\n",
      "2022-11-15 10:55:43,519 INFO: POST https://b0636a00-6406-11ed-88f4-3779517939b7.cloud.hopsworks.ai:9200/_bulk [status:200 request:0.160s]\n",
      "2022-11-15 10:55:43,731 INFO: POST https://b0636a00-6406-11ed-88f4-3779517939b7.cloud.hopsworks.ai:9200/_bulk [status:200 request:0.164s]\n",
      "2022-11-15 10:55:43,952 INFO: POST https://b0636a00-6406-11ed-88f4-3779517939b7.cloud.hopsworks.ai:9200/_bulk [status:200 request:0.173s]\n",
      "2022-11-15 10:55:44,171 INFO: POST https://b0636a00-6406-11ed-88f4-3779517939b7.cloud.hopsworks.ai:9200/_bulk [status:200 request:0.170s]\n",
      "2022-11-15 10:55:44,392 INFO: POST https://b0636a00-6406-11ed-88f4-3779517939b7.cloud.hopsworks.ai:9200/_bulk [status:200 request:0.167s]\n",
      "2022-11-15 10:55:44,613 INFO: POST https://b0636a00-6406-11ed-88f4-3779517939b7.cloud.hopsworks.ai:9200/_bulk [status:200 request:0.169s]\n",
      "2022-11-15 10:55:44,829 INFO: POST https://b0636a00-6406-11ed-88f4-3779517939b7.cloud.hopsworks.ai:9200/_bulk [status:200 request:0.166s]\n",
      "2022-11-15 10:55:45,048 INFO: POST https://b0636a00-6406-11ed-88f4-3779517939b7.cloud.hopsworks.ai:9200/_bulk [status:200 request:0.167s]\n",
      "2022-11-15 10:55:45,264 INFO: POST https://b0636a00-6406-11ed-88f4-3779517939b7.cloud.hopsworks.ai:9200/_bulk [status:200 request:0.171s]\n",
      "2022-11-15 10:55:45,478 INFO: POST https://b0636a00-6406-11ed-88f4-3779517939b7.cloud.hopsworks.ai:9200/_bulk [status:200 request:0.176s]\n",
      "2022-11-15 10:55:45,704 INFO: POST https://b0636a00-6406-11ed-88f4-3779517939b7.cloud.hopsworks.ai:9200/_bulk [status:200 request:0.172s]\n",
      "2022-11-15 10:55:45,909 INFO: POST https://b0636a00-6406-11ed-88f4-3779517939b7.cloud.hopsworks.ai:9200/_bulk [status:200 request:0.175s]\n",
      "2022-11-15 10:55:46,131 INFO: POST https://b0636a00-6406-11ed-88f4-3779517939b7.cloud.hopsworks.ai:9200/_bulk [status:200 request:0.171s]\n",
      "2022-11-15 10:55:46,341 INFO: POST https://b0636a00-6406-11ed-88f4-3779517939b7.cloud.hopsworks.ai:9200/_bulk [status:200 request:0.159s]\n",
      "2022-11-15 10:55:46,552 INFO: POST https://b0636a00-6406-11ed-88f4-3779517939b7.cloud.hopsworks.ai:9200/_bulk [status:200 request:0.159s]\n",
      "2022-11-15 10:55:46,758 INFO: POST https://b0636a00-6406-11ed-88f4-3779517939b7.cloud.hopsworks.ai:9200/_bulk [status:200 request:0.163s]\n",
      "2022-11-15 10:55:46,961 INFO: POST https://b0636a00-6406-11ed-88f4-3779517939b7.cloud.hopsworks.ai:9200/_bulk [status:200 request:0.161s]\n",
      "2022-11-15 10:55:47,178 INFO: POST https://b0636a00-6406-11ed-88f4-3779517939b7.cloud.hopsworks.ai:9200/_bulk [status:200 request:0.165s]\n",
      "2022-11-15 10:55:47,392 INFO: POST https://b0636a00-6406-11ed-88f4-3779517939b7.cloud.hopsworks.ai:9200/_bulk [status:200 request:0.162s]\n",
      "2022-11-15 10:55:47,607 INFO: POST https://b0636a00-6406-11ed-88f4-3779517939b7.cloud.hopsworks.ai:9200/_bulk [status:200 request:0.162s]\n",
      "2022-11-15 10:55:47,822 INFO: POST https://b0636a00-6406-11ed-88f4-3779517939b7.cloud.hopsworks.ai:9200/_bulk [status:200 request:0.165s]\n",
      "2022-11-15 10:55:48,046 INFO: POST https://b0636a00-6406-11ed-88f4-3779517939b7.cloud.hopsworks.ai:9200/_bulk [status:200 request:0.171s]\n",
      "2022-11-15 10:55:48,226 INFO: POST https://b0636a00-6406-11ed-88f4-3779517939b7.cloud.hopsworks.ai:9200/_bulk [status:200 request:0.160s]\n",
      "2022-11-15 10:55:48,410 INFO: POST https://b0636a00-6406-11ed-88f4-3779517939b7.cloud.hopsworks.ai:9200/_bulk [status:200 request:0.163s]\n",
      "2022-11-15 10:55:48,628 INFO: POST https://b0636a00-6406-11ed-88f4-3779517939b7.cloud.hopsworks.ai:9200/_bulk [status:200 request:0.163s]\n",
      "2022-11-15 10:55:48,838 INFO: POST https://b0636a00-6406-11ed-88f4-3779517939b7.cloud.hopsworks.ai:9200/_bulk [status:200 request:0.159s]\n",
      "2022-11-15 10:55:49,054 INFO: POST https://b0636a00-6406-11ed-88f4-3779517939b7.cloud.hopsworks.ai:9200/_bulk [status:200 request:0.162s]\n",
      "2022-11-15 10:55:49,250 INFO: POST https://b0636a00-6406-11ed-88f4-3779517939b7.cloud.hopsworks.ai:9200/_bulk [status:200 request:0.176s]\n",
      "2022-11-15 10:55:49,444 INFO: POST https://b0636a00-6406-11ed-88f4-3779517939b7.cloud.hopsworks.ai:9200/_bulk [status:200 request:0.173s]\n",
      "2022-11-15 10:55:49,606 INFO: POST https://b0636a00-6406-11ed-88f4-3779517939b7.cloud.hopsworks.ai:9200/_bulk [status:200 request:0.145s]\n"
     ]
    },
    {
     "data": {
      "text/plain": [
       "(58305, [])"
      ]
     },
     "execution_count": 14,
     "metadata": {},
     "output_type": "execute_result"
    }
   ],
   "source": [
    "from opensearchpy.helpers import bulk\n",
    "\n",
    "actions = []\n",
    "for batch in candidate_embeddings:\n",
    "    item_id_list, embedding_list = batch\n",
    "    item_id_list = item_id_list.numpy().astype(int)\n",
    "    embedding_list = embedding_list.numpy()\n",
    "\n",
    "    for item_id, embedding in zip(item_id_list, embedding_list):\n",
    "        actions.append({\n",
    "            \"_index\": index_name,\n",
    "            \"_id\": item_id,\n",
    "            \"_source\": {\n",
    "                \"my_vector1\": embedding,\n",
    "            }\n",
    "        })\n",
    "\n",
    "# Bulk insertion.\n",
    "bulk(client, actions)"
   ]
  },
  {
   "cell_type": "markdown",
   "metadata": {},
   "source": [
    "To test that it works we can retrieve the neighbors of a random vector."
   ]
  },
  {
   "cell_type": "code",
   "execution_count": 15,
   "metadata": {},
   "outputs": [
    {
     "name": "stdout",
     "output_type": "stream",
     "text": [
      "2022-11-15 10:55:49,782 INFO: POST https://b0636a00-6406-11ed-88f4-3779517939b7.cloud.hopsworks.ai:9200/recsys_candidate_index/_search [status:200 request:0.152s]\n",
      "{'_shards': {'failed': 0, 'skipped': 0, 'successful': 1, 'total': 1},\n",
      " 'hits': {'hits': [{'_id': '727641001',\n",
      "                    '_index': 'recsys_candidate_index',\n",
      "                    '_score': 7.507862,\n",
      "                    '_source': {'my_vector1': [-2.214114189147949,\n",
      "                                               -0.4502824544906616,\n",
      "                                               2.4246411323547363,\n",
      "                                               0.758843719959259,\n",
      "                                               1.4847484827041626,\n",
      "                                               -0.3893885612487793,\n",
      "                                               -2.0370888710021973,\n",
      "                                               0.33446311950683594,\n",
      "                                               -0.1956670880317688,\n",
      "                                               1.2512109279632568,\n",
      "                                               0.31177985668182373,\n",
      "                                               2.1063952445983887,\n",
      "                                               0.46035903692245483,\n",
      "                                               -0.19109556078910828,\n",
      "                                               6.506893634796143,\n",
      "                                               -1.3112913370132446]},\n",
      "                    '_type': '_doc'},\n",
      "                   {'_id': '854043008',\n",
      "                    '_index': 'recsys_candidate_index',\n",
      "                    '_score': 7.484438,\n",
      "                    '_source': {'my_vector1': [-1.8805469274520874,\n",
      "                                               -0.1946008801460266,\n",
      "                                               2.2716238498687744,\n",
      "                                               0.9846509695053101,\n",
      "                                               0.934151291847229,\n",
      "                                               -0.019814826548099518,\n",
      "                                               -1.9251378774642944,\n",
      "                                               0.2869526147842407,\n",
      "                                               -0.1314375400543213,\n",
      "                                               2.1051583290100098,\n",
      "                                               0.7662968635559082,\n",
      "                                               1.655335545539856,\n",
      "                                               1.292300820350647,\n",
      "                                               -0.6468626260757446,\n",
      "                                               5.740839004516602,\n",
      "                                               -1.433392882347107]},\n",
      "                    '_type': '_doc'},\n",
      "                   {'_id': '827411005',\n",
      "                    '_index': 'recsys_candidate_index',\n",
      "                    '_score': 7.2827907,\n",
      "                    '_source': {'my_vector1': [-1.4625000953674316,\n",
      "                                               0.624474287033081,\n",
      "                                               2.1822457313537598,\n",
      "                                               1.0265251398086548,\n",
      "                                               0.9717670679092407,\n",
      "                                               -0.35551366209983826,\n",
      "                                               -2.0992846488952637,\n",
      "                                               -0.3729332685470581,\n",
      "                                               -0.009624719619750977,\n",
      "                                               2.1293742656707764,\n",
      "                                               1.000524640083313,\n",
      "                                               1.6113687753677368,\n",
      "                                               1.001124620437622,\n",
      "                                               -0.3154582679271698,\n",
      "                                               5.819310665130615,\n",
      "                                               -1.98797607421875]},\n",
      "                    '_type': '_doc'},\n",
      "                   {'_id': '857448003',\n",
      "                    '_index': 'recsys_candidate_index',\n",
      "                    '_score': 7.052051,\n",
      "                    '_source': {'my_vector1': [0.008029624819755554,\n",
      "                                               1.1466031074523926,\n",
      "                                               2.383820056915283,\n",
      "                                               2.2506184577941895,\n",
      "                                               0.7656761407852173,\n",
      "                                               0.19321078062057495,\n",
      "                                               -2.331967353820801,\n",
      "                                               0.4027373194694519,\n",
      "                                               -0.510596513748169,\n",
      "                                               1.0205730199813843,\n",
      "                                               -0.6043151021003723,\n",
      "                                               0.8835595846176147,\n",
      "                                               -1.7301570177078247,\n",
      "                                               1.6245450973510742,\n",
      "                                               5.593921184539795,\n",
      "                                               -0.4525330662727356]},\n",
      "                    '_type': '_doc'},\n",
      "                   {'_id': '632362013',\n",
      "                    '_index': 'recsys_candidate_index',\n",
      "                    '_score': 7.011027,\n",
      "                    '_source': {'my_vector1': [-0.8680651783943176,\n",
      "                                               0.16410954296588898,\n",
      "                                               2.9199142456054688,\n",
      "                                               1.6598174571990967,\n",
      "                                               0.551099419593811,\n",
      "                                               -0.4397159814834595,\n",
      "                                               -2.5471315383911133,\n",
      "                                               -0.4611487090587616,\n",
      "                                               0.20016443729400635,\n",
      "                                               2.1890881061553955,\n",
      "                                               -0.10184280574321747,\n",
      "                                               0.7341006994247437,\n",
      "                                               -0.0674489289522171,\n",
      "                                               1.070580244064331,\n",
      "                                               5.795358180999756,\n",
      "                                               -1.279129981994629]},\n",
      "                    '_type': '_doc'},\n",
      "                   {'_id': '808631002',\n",
      "                    '_index': 'recsys_candidate_index',\n",
      "                    '_score': 6.839784,\n",
      "                    '_source': {'my_vector1': [-1.6104949712753296,\n",
      "                                               -0.24657005071640015,\n",
      "                                               2.1536285877227783,\n",
      "                                               1.1086605787277222,\n",
      "                                               0.48620808124542236,\n",
      "                                               0.07584764063358307,\n",
      "                                               -2.254179000854492,\n",
      "                                               0.47730064392089844,\n",
      "                                               -0.13305151462554932,\n",
      "                                               2.2987570762634277,\n",
      "                                               -0.09438201040029526,\n",
      "                                               1.1680022478103638,\n",
      "                                               0.9081721305847168,\n",
      "                                               0.15261469781398773,\n",
      "                                               5.276254177093506,\n",
      "                                               -0.8709114193916321]},\n",
      "                    '_type': '_doc'},\n",
      "                   {'_id': '849214004',\n",
      "                    '_index': 'recsys_candidate_index',\n",
      "                    '_score': 6.6699905,\n",
      "                    '_source': {'my_vector1': [0.2090313881635666,\n",
      "                                               1.048876166343689,\n",
      "                                               2.889343500137329,\n",
      "                                               2.5325112342834473,\n",
      "                                               0.21884816884994507,\n",
      "                                               0.33672377467155457,\n",
      "                                               -2.373340606689453,\n",
      "                                               -0.0727451890707016,\n",
      "                                               -0.24864763021469116,\n",
      "                                               1.567444086074829,\n",
      "                                               -0.684248685836792,\n",
      "                                               0.27047014236450195,\n",
      "                                               -1.7260334491729736,\n",
      "                                               1.973740816116333,\n",
      "                                               5.445176601409912,\n",
      "                                               -0.29786884784698486]},\n",
      "                    '_type': '_doc'},\n",
      "                   {'_id': '780852001',\n",
      "                    '_index': 'recsys_candidate_index',\n",
      "                    '_score': 6.614898,\n",
      "                    '_source': {'my_vector1': [-1.145161747932434,\n",
      "                                               -0.2677016258239746,\n",
      "                                               3.0773746967315674,\n",
      "                                               1.3207775354385376,\n",
      "                                               0.36066579818725586,\n",
      "                                               -0.38237327337265015,\n",
      "                                               -2.565896987915039,\n",
      "                                               -0.12120318412780762,\n",
      "                                               0.13489627838134766,\n",
      "                                               2.2716381549835205,\n",
      "                                               -0.349854975938797,\n",
      "                                               0.9712120294570923,\n",
      "                                               -0.2189568281173706,\n",
      "                                               0.8102962374687195,\n",
      "                                               5.901308536529541,\n",
      "                                               -1.134080410003662]},\n",
      "                    '_type': '_doc'},\n",
      "                   {'_id': '753906002',\n",
      "                    '_index': 'recsys_candidate_index',\n",
      "                    '_score': 6.6014977,\n",
      "                    '_source': {'my_vector1': [-1.8726459741592407,\n",
      "                                               -0.08122849464416504,\n",
      "                                               2.043933391571045,\n",
      "                                               1.0107905864715576,\n",
      "                                               1.0491198301315308,\n",
      "                                               -0.6745457649230957,\n",
      "                                               -2.016569137573242,\n",
      "                                               -0.4347080588340759,\n",
      "                                               0.016503095626831055,\n",
      "                                               1.4994639158248901,\n",
      "                                               0.6401646733283997,\n",
      "                                               1.370242714881897,\n",
      "                                               0.6114721894264221,\n",
      "                                               0.33080029487609863,\n",
      "                                               5.77596378326416,\n",
      "                                               -1.5323196649551392]},\n",
      "                    '_type': '_doc'},\n",
      "                   {'_id': '735537001',\n",
      "                    '_index': 'recsys_candidate_index',\n",
      "                    '_score': 6.5391936,\n",
      "                    '_source': {'my_vector1': [-2.098238945007324,\n",
      "                                               -0.4750959277153015,\n",
      "                                               2.5587239265441895,\n",
      "                                               0.6235242486000061,\n",
      "                                               1.449038028717041,\n",
      "                                               -0.27175235748291016,\n",
      "                                               -2.1646690368652344,\n",
      "                                               0.15815183520317078,\n",
      "                                               -0.31593501567840576,\n",
      "                                               1.1832650899887085,\n",
      "                                               0.16794955730438232,\n",
      "                                               1.864960789680481,\n",
      "                                               0.13140854239463806,\n",
      "                                               -0.3438384234905243,\n",
      "                                               6.217432498931885,\n",
      "                                               -1.0292246341705322]},\n",
      "                    '_type': '_doc'}],\n",
      "          'max_score': 7.507862,\n",
      "          'total': {'relation': 'eq', 'value': 90}},\n",
      " 'timed_out': False,\n",
      " 'took': 37}\n"
     ]
    }
   ],
   "source": [
    "import pprint\n",
    "import numpy as np\n",
    "\n",
    "embedding = np.random.rand(emb_dim)\n",
    "\n",
    "query = {\n",
    "  \"size\": 10,\n",
    "  \"query\": {\n",
    "    \"knn\": {\n",
    "      \"my_vector1\": {\n",
    "        \"vector\": embedding,\n",
    "        \"k\": 10\n",
    "      }\n",
    "    }\n",
    "  }\n",
    "}\n",
    "\n",
    "response = client.search(\n",
    "    body = query,\n",
    "    index = index_name\n",
    ")\n",
    "\n",
    "pprint.pprint(response)"
   ]
  },
  {
   "cell_type": "markdown",
   "metadata": {},
   "source": [
    "#### Next Steps\n",
    "\n",
    "At this point we have a recommender system that is able to generate a set of candidate items for a customer. However, many of these could be poor, as the candidate model was trained with only a few subset of the features. In the next notebook, we'll train a *ranking model* to do more fine-grained predictions."
   ]
  }
 ],
 "metadata": {
  "interpreter": {
   "hash": "31f2aee4e71d21fbe5cf8b01ff0e069b9275f58929596ceb00d14d90e3e16cd6"
  },
  "kernelspec": {
   "display_name": "Python 3 (ipykernel)",
   "language": "python",
   "name": "python3"
  },
  "language_info": {
   "codemirror_mode": {
    "name": "ipython",
    "version": 3
   },
   "file_extension": ".py",
   "mimetype": "text/x-python",
   "name": "python",
   "nbconvert_exporter": "python",
   "pygments_lexer": "ipython3",
   "version": "3.9.13"
  }
 },
 "nbformat": 4,
 "nbformat_minor": 4
}
