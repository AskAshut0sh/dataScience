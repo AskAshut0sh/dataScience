{
 "cells": [
  {
   "cell_type": "code",
   "execution_count": 2,
   "metadata": {},
   "outputs": [
    {
     "name": "stdout",
     "output_type": "stream",
     "text": [
      "Connected. Call `.close()` to terminate connection gracefully.\n",
      "\n",
      "Logged in to project, explore it here https://b0636a00-6406-11ed-88f4-3779517939b7.cloud.hopsworks.ai:443/p/119\n"
     ]
    }
   ],
   "source": [
    "import hopsworks\n",
    "\n",
    "project = hopsworks.login()  # insert API Key from https://app.hopsworks.ai"
   ]
  },
  {
   "cell_type": "markdown",
   "metadata": {},
   "source": [
    "## Train Ranking Model\n",
    "\n",
    "In this notebook, we will train a ranking model using gradient boosted trees. \n",
    "\n",
    "Let's start by loading the datasets we created in the previous notebook."
   ]
  },
  {
   "cell_type": "code",
   "execution_count": 3,
   "metadata": {},
   "outputs": [
    {
     "data": {
      "application/vnd.jupyter.widget-view+json": {
       "model_id": "05af725e12684becbded39b792c67a1d",
       "version_major": 2,
       "version_minor": 0
      },
      "text/plain": [
       "Downloading: 0.000%|          | 0/674667596 elapsed<00:00 remaining<?"
      ]
     },
     "metadata": {},
     "output_type": "display_data"
    },
    {
     "data": {
      "application/vnd.jupyter.widget-view+json": {
       "model_id": "97735e901d654e15b7df1ad56eff2a01",
       "version_major": 2,
       "version_minor": 0
      },
      "text/plain": [
       "Downloading: 0.000%|          | 0/83896790 elapsed<00:00 remaining<?"
      ]
     },
     "metadata": {},
     "output_type": "display_data"
    },
    {
     "data": {
      "text/plain": [
       "'/home/javierdlrm/Workspace/Hopsworks/hopsworks-tutorials-1/rec/ranking_validation.csv'"
      ]
     },
     "execution_count": 3,
     "metadata": {},
     "output_type": "execute_result"
    }
   ],
   "source": [
    "dataset_api = project.get_dataset_api()\n",
    "\n",
    "dataset_api.download(\"Resources/ranking_train.csv\", overwrite=True)\n",
    "dataset_api.download(\"Resources/ranking_validation.csv\", overwrite=True)"
   ]
  },
  {
   "cell_type": "code",
   "execution_count": 4,
   "metadata": {},
   "outputs": [
    {
     "data": {
      "text/html": [
       "<div>\n",
       "<style scoped>\n",
       "    .dataframe tbody tr th:only-of-type {\n",
       "        vertical-align: middle;\n",
       "    }\n",
       "\n",
       "    .dataframe tbody tr th {\n",
       "        vertical-align: top;\n",
       "    }\n",
       "\n",
       "    .dataframe thead th {\n",
       "        text-align: right;\n",
       "    }\n",
       "</style>\n",
       "<table border=\"1\" class=\"dataframe\">\n",
       "  <thead>\n",
       "    <tr style=\"text-align: right;\">\n",
       "      <th></th>\n",
       "      <th>age</th>\n",
       "      <th>month_sin</th>\n",
       "      <th>month_cos</th>\n",
       "      <th>product_type_name</th>\n",
       "      <th>product_group_name</th>\n",
       "      <th>graphical_appearance_name</th>\n",
       "      <th>colour_group_name</th>\n",
       "      <th>perceived_colour_value_name</th>\n",
       "      <th>perceived_colour_master_name</th>\n",
       "      <th>department_name</th>\n",
       "      <th>index_name</th>\n",
       "      <th>index_group_name</th>\n",
       "      <th>section_name</th>\n",
       "      <th>garment_group_name</th>\n",
       "    </tr>\n",
       "  </thead>\n",
       "  <tbody>\n",
       "    <tr>\n",
       "      <th>1813705</th>\n",
       "      <td>44.0</td>\n",
       "      <td>0.866025</td>\n",
       "      <td>-0.500000</td>\n",
       "      <td>Dress</td>\n",
       "      <td>Garment Full body</td>\n",
       "      <td>Denim</td>\n",
       "      <td>Blue</td>\n",
       "      <td>Light</td>\n",
       "      <td>Blue</td>\n",
       "      <td>Dresses</td>\n",
       "      <td>Divided</td>\n",
       "      <td>Divided</td>\n",
       "      <td>Divided Collection</td>\n",
       "      <td>Dresses Ladies</td>\n",
       "    </tr>\n",
       "    <tr>\n",
       "      <th>2254877</th>\n",
       "      <td>25.0</td>\n",
       "      <td>0.500000</td>\n",
       "      <td>0.866025</td>\n",
       "      <td>Trousers</td>\n",
       "      <td>Garment Lower body</td>\n",
       "      <td>All over pattern</td>\n",
       "      <td>Blue</td>\n",
       "      <td>Medium Dusty</td>\n",
       "      <td>Blue</td>\n",
       "      <td>Trouser</td>\n",
       "      <td>Ladieswear</td>\n",
       "      <td>Ladieswear</td>\n",
       "      <td>Womens Everyday Collection</td>\n",
       "      <td>Trousers</td>\n",
       "    </tr>\n",
       "    <tr>\n",
       "      <th>1155760</th>\n",
       "      <td>32.0</td>\n",
       "      <td>0.500000</td>\n",
       "      <td>0.866025</td>\n",
       "      <td>Underwear Tights</td>\n",
       "      <td>Socks &amp; Tights</td>\n",
       "      <td>All over pattern</td>\n",
       "      <td>Black</td>\n",
       "      <td>Dark</td>\n",
       "      <td>Black</td>\n",
       "      <td>Tights basic</td>\n",
       "      <td>Lingeries/Tights</td>\n",
       "      <td>Ladieswear</td>\n",
       "      <td>Womens Nightwear, Socks &amp; Tigh</td>\n",
       "      <td>Socks and Tights</td>\n",
       "    </tr>\n",
       "    <tr>\n",
       "      <th>892496</th>\n",
       "      <td>18.0</td>\n",
       "      <td>0.500000</td>\n",
       "      <td>0.866025</td>\n",
       "      <td>Dress</td>\n",
       "      <td>Garment Full body</td>\n",
       "      <td>Solid</td>\n",
       "      <td>Black</td>\n",
       "      <td>Dark</td>\n",
       "      <td>Black</td>\n",
       "      <td>Basic 1</td>\n",
       "      <td>Divided</td>\n",
       "      <td>Divided</td>\n",
       "      <td>Divided Basics</td>\n",
       "      <td>Jersey Basic</td>\n",
       "    </tr>\n",
       "    <tr>\n",
       "      <th>2799615</th>\n",
       "      <td>25.0</td>\n",
       "      <td>0.000000</td>\n",
       "      <td>1.000000</td>\n",
       "      <td>Jacket</td>\n",
       "      <td>Garment Upper body</td>\n",
       "      <td>Solid</td>\n",
       "      <td>Blue</td>\n",
       "      <td>Medium</td>\n",
       "      <td>Blue</td>\n",
       "      <td>Outdoor/Blazers</td>\n",
       "      <td>Divided</td>\n",
       "      <td>Divided</td>\n",
       "      <td>Divided Collection</td>\n",
       "      <td>Outdoor</td>\n",
       "    </tr>\n",
       "  </tbody>\n",
       "</table>\n",
       "</div>"
      ],
      "text/plain": [
       "          age  month_sin  month_cos product_type_name  product_group_name  \\\n",
       "1813705  44.0   0.866025  -0.500000             Dress   Garment Full body   \n",
       "2254877  25.0   0.500000   0.866025          Trousers  Garment Lower body   \n",
       "1155760  32.0   0.500000   0.866025  Underwear Tights      Socks & Tights   \n",
       "892496   18.0   0.500000   0.866025             Dress   Garment Full body   \n",
       "2799615  25.0   0.000000   1.000000            Jacket  Garment Upper body   \n",
       "\n",
       "        graphical_appearance_name colour_group_name  \\\n",
       "1813705                     Denim              Blue   \n",
       "2254877          All over pattern              Blue   \n",
       "1155760          All over pattern             Black   \n",
       "892496                      Solid             Black   \n",
       "2799615                     Solid              Blue   \n",
       "\n",
       "        perceived_colour_value_name perceived_colour_master_name  \\\n",
       "1813705                       Light                         Blue   \n",
       "2254877                Medium Dusty                         Blue   \n",
       "1155760                        Dark                        Black   \n",
       "892496                         Dark                        Black   \n",
       "2799615                      Medium                         Blue   \n",
       "\n",
       "         department_name        index_name index_group_name  \\\n",
       "1813705          Dresses           Divided          Divided   \n",
       "2254877          Trouser        Ladieswear       Ladieswear   \n",
       "1155760     Tights basic  Lingeries/Tights       Ladieswear   \n",
       "892496           Basic 1           Divided          Divided   \n",
       "2799615  Outdoor/Blazers           Divided          Divided   \n",
       "\n",
       "                           section_name garment_group_name  \n",
       "1813705              Divided Collection     Dresses Ladies  \n",
       "2254877      Womens Everyday Collection           Trousers  \n",
       "1155760  Womens Nightwear, Socks & Tigh   Socks and Tights  \n",
       "892496                   Divided Basics       Jersey Basic  \n",
       "2799615              Divided Collection            Outdoor  "
      ]
     },
     "execution_count": 4,
     "metadata": {},
     "output_type": "execute_result"
    }
   ],
   "source": [
    "import pandas as pd\n",
    "\n",
    "X_train = pd.read_csv(\"ranking_train.csv\")\n",
    "X_val = pd.read_csv(\"ranking_validation.csv\")\n",
    "\n",
    "y_train = X_train.pop(\"label\")\n",
    "y_val = X_val.pop(\"label\")\n",
    "\n",
    "X_train.sample(5)"
   ]
  },
  {
   "cell_type": "markdown",
   "metadata": {},
   "source": [
    "Let's train a model."
   ]
  },
  {
   "cell_type": "code",
   "execution_count": 5,
   "metadata": {
    "tags": []
   },
   "outputs": [
    {
     "name": "stdout",
     "output_type": "stream",
     "text": [
      "0:\tlearn: 0.6869087\ttest: 0.6870068\tbest: 0.6870068 (0)\ttotal: 1.77s\tremaining: 2m 54s\n",
      "1:\tlearn: 0.6850737\ttest: 0.6852878\tbest: 0.6852878 (1)\ttotal: 3.13s\tremaining: 2m 33s\n",
      "2:\tlearn: 0.6850736\ttest: 0.6852879\tbest: 0.6852878 (1)\ttotal: 3.46s\tremaining: 1m 51s\n",
      "3:\tlearn: 0.6820082\ttest: 0.6823183\tbest: 0.6823183 (3)\ttotal: 5.04s\tremaining: 2m 1s\n",
      "4:\tlearn: 0.6785049\ttest: 0.6788925\tbest: 0.6788925 (4)\ttotal: 6.38s\tremaining: 2m 1s\n",
      "5:\tlearn: 0.6776948\ttest: 0.6781578\tbest: 0.6781578 (5)\ttotal: 7.41s\tremaining: 1m 56s\n",
      "6:\tlearn: 0.6752486\ttest: 0.6758257\tbest: 0.6758257 (6)\ttotal: 8.4s\tremaining: 1m 51s\n",
      "7:\tlearn: 0.6740182\ttest: 0.6746670\tbest: 0.6746670 (7)\ttotal: 9.23s\tremaining: 1m 46s\n",
      "8:\tlearn: 0.6723343\ttest: 0.6730809\tbest: 0.6730809 (8)\ttotal: 10.1s\tremaining: 1m 41s\n",
      "9:\tlearn: 0.6723343\ttest: 0.6730809\tbest: 0.6730809 (8)\ttotal: 10.3s\tremaining: 1m 32s\n",
      "10:\tlearn: 0.6704537\ttest: 0.6712865\tbest: 0.6712865 (10)\ttotal: 11s\tremaining: 1m 29s\n",
      "11:\tlearn: 0.6700372\ttest: 0.6709268\tbest: 0.6709268 (11)\ttotal: 11.9s\tremaining: 1m 26s\n",
      "12:\tlearn: 0.6695335\ttest: 0.6704020\tbest: 0.6704020 (12)\ttotal: 12.9s\tremaining: 1m 26s\n",
      "13:\tlearn: 0.6695331\ttest: 0.6704020\tbest: 0.6704020 (12)\ttotal: 13.2s\tremaining: 1m 20s\n",
      "14:\tlearn: 0.6685266\ttest: 0.6694334\tbest: 0.6694334 (14)\ttotal: 14.1s\tremaining: 1m 19s\n",
      "15:\tlearn: 0.6678139\ttest: 0.6687654\tbest: 0.6687654 (15)\ttotal: 14.9s\tremaining: 1m 18s\n",
      "16:\tlearn: 0.6662661\ttest: 0.6673094\tbest: 0.6673094 (16)\ttotal: 15.7s\tremaining: 1m 16s\n",
      "17:\tlearn: 0.6652402\ttest: 0.6663364\tbest: 0.6663364 (17)\ttotal: 16.6s\tremaining: 1m 15s\n",
      "18:\tlearn: 0.6640167\ttest: 0.6651843\tbest: 0.6651843 (18)\ttotal: 17.5s\tremaining: 1m 14s\n",
      "19:\tlearn: 0.6634545\ttest: 0.6646433\tbest: 0.6646433 (19)\ttotal: 18.4s\tremaining: 1m 13s\n",
      "20:\tlearn: 0.6624347\ttest: 0.6636917\tbest: 0.6636917 (20)\ttotal: 19.3s\tremaining: 1m 12s\n",
      "21:\tlearn: 0.6621570\ttest: 0.6634348\tbest: 0.6634348 (21)\ttotal: 20.2s\tremaining: 1m 11s\n",
      "22:\tlearn: 0.6618054\ttest: 0.6631216\tbest: 0.6631216 (22)\ttotal: 21.1s\tremaining: 1m 10s\n",
      "23:\tlearn: 0.6618052\ttest: 0.6631216\tbest: 0.6631216 (22)\ttotal: 21.6s\tremaining: 1m 8s\n",
      "24:\tlearn: 0.6613427\ttest: 0.6626599\tbest: 0.6626599 (24)\ttotal: 22.4s\tremaining: 1m 7s\n",
      "25:\tlearn: 0.6609594\ttest: 0.6623282\tbest: 0.6623282 (25)\ttotal: 23.4s\tremaining: 1m 6s\n",
      "26:\tlearn: 0.6604824\ttest: 0.6618815\tbest: 0.6618815 (26)\ttotal: 24.5s\tremaining: 1m 6s\n",
      "27:\tlearn: 0.6604823\ttest: 0.6618815\tbest: 0.6618815 (26)\ttotal: 24.7s\tremaining: 1m 3s\n",
      "28:\tlearn: 0.6601504\ttest: 0.6615762\tbest: 0.6615762 (28)\ttotal: 25.6s\tremaining: 1m 2s\n",
      "29:\tlearn: 0.6595763\ttest: 0.6610477\tbest: 0.6610477 (29)\ttotal: 26.6s\tremaining: 1m 2s\n",
      "30:\tlearn: 0.6591628\ttest: 0.6606607\tbest: 0.6606607 (30)\ttotal: 27.5s\tremaining: 1m 1s\n",
      "31:\tlearn: 0.6586642\ttest: 0.6601770\tbest: 0.6601770 (31)\ttotal: 28.3s\tremaining: 1m\n",
      "32:\tlearn: 0.6586641\ttest: 0.6601770\tbest: 0.6601770 (31)\ttotal: 28.9s\tremaining: 58.7s\n",
      "33:\tlearn: 0.6583623\ttest: 0.6599300\tbest: 0.6599300 (33)\ttotal: 29.8s\tremaining: 57.8s\n",
      "34:\tlearn: 0.6580476\ttest: 0.6596283\tbest: 0.6596283 (34)\ttotal: 30.6s\tremaining: 56.7s\n",
      "35:\tlearn: 0.6577304\ttest: 0.6593587\tbest: 0.6593587 (35)\ttotal: 31.3s\tremaining: 55.7s\n",
      "36:\tlearn: 0.6576761\ttest: 0.6593098\tbest: 0.6593098 (36)\ttotal: 32.1s\tremaining: 54.7s\n",
      "37:\tlearn: 0.6575387\ttest: 0.6591961\tbest: 0.6591961 (37)\ttotal: 32.9s\tremaining: 53.7s\n",
      "38:\tlearn: 0.6572950\ttest: 0.6589698\tbest: 0.6589698 (38)\ttotal: 34.1s\tremaining: 53.3s\n",
      "39:\tlearn: 0.6568669\ttest: 0.6585902\tbest: 0.6585902 (39)\ttotal: 35.3s\tremaining: 53s\n",
      "40:\tlearn: 0.6567801\ttest: 0.6585127\tbest: 0.6585127 (40)\ttotal: 36.4s\tremaining: 52.4s\n",
      "41:\tlearn: 0.6564874\ttest: 0.6582927\tbest: 0.6582927 (41)\ttotal: 37.5s\tremaining: 51.8s\n",
      "42:\tlearn: 0.6564871\ttest: 0.6582927\tbest: 0.6582927 (41)\ttotal: 37.9s\tremaining: 50.2s\n",
      "43:\tlearn: 0.6564317\ttest: 0.6582481\tbest: 0.6582481 (43)\ttotal: 39s\tremaining: 49.6s\n",
      "44:\tlearn: 0.6564310\ttest: 0.6582481\tbest: 0.6582481 (44)\ttotal: 39.7s\tremaining: 48.5s\n",
      "45:\tlearn: 0.6563064\ttest: 0.6581284\tbest: 0.6581284 (45)\ttotal: 40.8s\tremaining: 47.8s\n",
      "46:\tlearn: 0.6563064\ttest: 0.6581284\tbest: 0.6581284 (45)\ttotal: 41s\tremaining: 46.3s\n",
      "47:\tlearn: 0.6559486\ttest: 0.6577691\tbest: 0.6577691 (47)\ttotal: 42s\tremaining: 45.5s\n",
      "48:\tlearn: 0.6557792\ttest: 0.6575950\tbest: 0.6575950 (48)\ttotal: 42.9s\tremaining: 44.7s\n",
      "49:\tlearn: 0.6554407\ttest: 0.6572840\tbest: 0.6572840 (49)\ttotal: 43.8s\tremaining: 43.8s\n",
      "50:\tlearn: 0.6553318\ttest: 0.6571975\tbest: 0.6571975 (50)\ttotal: 44.7s\tremaining: 43s\n",
      "51:\tlearn: 0.6549624\ttest: 0.6568173\tbest: 0.6568173 (51)\ttotal: 45.7s\tremaining: 42.2s\n",
      "52:\tlearn: 0.6549619\ttest: 0.6568173\tbest: 0.6568173 (52)\ttotal: 46.4s\tremaining: 41.1s\n",
      "53:\tlearn: 0.6549619\ttest: 0.6568173\tbest: 0.6568173 (52)\ttotal: 46.7s\tremaining: 39.8s\n",
      "54:\tlearn: 0.6546583\ttest: 0.6565732\tbest: 0.6565732 (54)\ttotal: 47.6s\tremaining: 38.9s\n",
      "55:\tlearn: 0.6546583\ttest: 0.6565732\tbest: 0.6565732 (54)\ttotal: 47.8s\tremaining: 37.6s\n",
      "56:\tlearn: 0.6546187\ttest: 0.6565500\tbest: 0.6565500 (56)\ttotal: 48.7s\tremaining: 36.7s\n",
      "57:\tlearn: 0.6540670\ttest: 0.6560546\tbest: 0.6560546 (57)\ttotal: 49.6s\tremaining: 35.9s\n",
      "58:\tlearn: 0.6539264\ttest: 0.6559456\tbest: 0.6559456 (58)\ttotal: 50.5s\tremaining: 35.1s\n",
      "59:\tlearn: 0.6537223\ttest: 0.6557484\tbest: 0.6557484 (59)\ttotal: 51.4s\tremaining: 34.3s\n",
      "60:\tlearn: 0.6536030\ttest: 0.6556356\tbest: 0.6556356 (60)\ttotal: 52.3s\tremaining: 33.5s\n",
      "61:\tlearn: 0.6536029\ttest: 0.6556356\tbest: 0.6556356 (60)\ttotal: 52.8s\tremaining: 32.4s\n",
      "62:\tlearn: 0.6535746\ttest: 0.6556169\tbest: 0.6556169 (62)\ttotal: 53.7s\tremaining: 31.5s\n",
      "63:\tlearn: 0.6535746\ttest: 0.6556170\tbest: 0.6556169 (62)\ttotal: 53.9s\tremaining: 30.3s\n",
      "64:\tlearn: 0.6533203\ttest: 0.6553890\tbest: 0.6553890 (64)\ttotal: 54.8s\tremaining: 29.5s\n",
      "65:\tlearn: 0.6531874\ttest: 0.6552673\tbest: 0.6552673 (65)\ttotal: 55.8s\tremaining: 28.8s\n",
      "66:\tlearn: 0.6531872\ttest: 0.6552673\tbest: 0.6552673 (65)\ttotal: 56.1s\tremaining: 27.6s\n",
      "67:\tlearn: 0.6531872\ttest: 0.6552673\tbest: 0.6552673 (65)\ttotal: 56.4s\tremaining: 26.5s\n",
      "68:\tlearn: 0.6531537\ttest: 0.6552358\tbest: 0.6552358 (68)\ttotal: 57.3s\tremaining: 25.7s\n",
      "69:\tlearn: 0.6529851\ttest: 0.6550981\tbest: 0.6550981 (69)\ttotal: 58.1s\tremaining: 24.9s\n",
      "70:\tlearn: 0.6529232\ttest: 0.6550555\tbest: 0.6550555 (70)\ttotal: 59.1s\tremaining: 24.2s\n",
      "71:\tlearn: 0.6527194\ttest: 0.6549002\tbest: 0.6549002 (71)\ttotal: 1m\tremaining: 23.4s\n",
      "72:\tlearn: 0.6523986\ttest: 0.6546455\tbest: 0.6546455 (72)\ttotal: 1m 1s\tremaining: 22.6s\n",
      "73:\tlearn: 0.6523986\ttest: 0.6546455\tbest: 0.6546455 (72)\ttotal: 1m 1s\tremaining: 21.5s\n",
      "74:\tlearn: 0.6521968\ttest: 0.6544967\tbest: 0.6544967 (74)\ttotal: 1m 2s\tremaining: 20.8s\n",
      "75:\tlearn: 0.6520144\ttest: 0.6543601\tbest: 0.6543601 (75)\ttotal: 1m 3s\tremaining: 20s\n",
      "76:\tlearn: 0.6518951\ttest: 0.6542590\tbest: 0.6542590 (76)\ttotal: 1m 4s\tremaining: 19.2s\n",
      "77:\tlearn: 0.6518036\ttest: 0.6541979\tbest: 0.6541979 (77)\ttotal: 1m 5s\tremaining: 18.5s\n",
      "78:\tlearn: 0.6516783\ttest: 0.6541005\tbest: 0.6541005 (78)\ttotal: 1m 6s\tremaining: 17.7s\n",
      "79:\tlearn: 0.6516466\ttest: 0.6540773\tbest: 0.6540773 (79)\ttotal: 1m 7s\tremaining: 17s\n",
      "80:\tlearn: 0.6515783\ttest: 0.6540164\tbest: 0.6540164 (80)\ttotal: 1m 8s\tremaining: 16.1s\n",
      "81:\tlearn: 0.6514162\ttest: 0.6538594\tbest: 0.6538594 (81)\ttotal: 1m 9s\tremaining: 15.3s\n",
      "82:\tlearn: 0.6513447\ttest: 0.6537958\tbest: 0.6537958 (82)\ttotal: 1m 10s\tremaining: 14.4s\n",
      "83:\tlearn: 0.6512564\ttest: 0.6537235\tbest: 0.6537235 (83)\ttotal: 1m 11s\tremaining: 13.6s\n",
      "84:\tlearn: 0.6510847\ttest: 0.6535953\tbest: 0.6535953 (84)\ttotal: 1m 12s\tremaining: 12.8s\n",
      "85:\tlearn: 0.6509170\ttest: 0.6534544\tbest: 0.6534544 (85)\ttotal: 1m 13s\tremaining: 11.9s\n",
      "86:\tlearn: 0.6508657\ttest: 0.6534160\tbest: 0.6534160 (86)\ttotal: 1m 14s\tremaining: 11.1s\n",
      "87:\tlearn: 0.6507890\ttest: 0.6533589\tbest: 0.6533589 (87)\ttotal: 1m 15s\tremaining: 10.2s\n",
      "88:\tlearn: 0.6507147\ttest: 0.6533095\tbest: 0.6533095 (88)\ttotal: 1m 15s\tremaining: 9.38s\n",
      "89:\tlearn: 0.6506025\ttest: 0.6532195\tbest: 0.6532195 (89)\ttotal: 1m 16s\tremaining: 8.54s\n",
      "90:\tlearn: 0.6505136\ttest: 0.6531426\tbest: 0.6531426 (90)\ttotal: 1m 17s\tremaining: 7.68s\n",
      "91:\tlearn: 0.6504593\ttest: 0.6531079\tbest: 0.6531079 (91)\ttotal: 1m 18s\tremaining: 6.83s\n",
      "92:\tlearn: 0.6503932\ttest: 0.6530505\tbest: 0.6530505 (92)\ttotal: 1m 19s\tremaining: 5.98s\n",
      "93:\tlearn: 0.6503555\ttest: 0.6530337\tbest: 0.6530337 (93)\ttotal: 1m 20s\tremaining: 5.12s\n",
      "94:\tlearn: 0.6502867\ttest: 0.6529999\tbest: 0.6529999 (94)\ttotal: 1m 21s\tremaining: 4.27s\n",
      "95:\tlearn: 0.6502650\ttest: 0.6529938\tbest: 0.6529938 (95)\ttotal: 1m 22s\tremaining: 3.42s\n",
      "96:\tlearn: 0.6501326\ttest: 0.6528912\tbest: 0.6528912 (96)\ttotal: 1m 22s\tremaining: 2.56s\n",
      "97:\tlearn: 0.6500378\ttest: 0.6528256\tbest: 0.6528256 (97)\ttotal: 1m 23s\tremaining: 1.71s\n",
      "98:\tlearn: 0.6499480\ttest: 0.6527517\tbest: 0.6527517 (98)\ttotal: 1m 24s\tremaining: 855ms\n",
      "99:\tlearn: 0.6497874\ttest: 0.6525942\tbest: 0.6525942 (99)\ttotal: 1m 25s\tremaining: 0us\n",
      "\n",
      "bestTest = 0.6525942227\n",
      "bestIteration = 99\n",
      "\n"
     ]
    },
    {
     "data": {
      "text/plain": [
       "<catboost.core.CatBoostClassifier at 0x7f3834e3e0d0>"
      ]
     },
     "execution_count": 5,
     "metadata": {},
     "output_type": "execute_result"
    }
   ],
   "source": [
    "from catboost import CatBoostClassifier, Pool\n",
    "\n",
    "cat_features = list(\n",
    "    X_train.select_dtypes(include=['string', 'object']).columns\n",
    ")\n",
    "\n",
    "pool_train = Pool(X_train, y_train, cat_features=cat_features)\n",
    "pool_val = Pool(X_val, y_val, cat_features=cat_features)\n",
    "\n",
    "model = CatBoostClassifier(\n",
    "    learning_rate=0.2,\n",
    "    iterations=100,\n",
    "    depth=10,\n",
    "    scale_pos_weight=10,\n",
    "    early_stopping_rounds=5,\n",
    "    use_best_model=True\n",
    ")\n",
    "\n",
    "model.fit(pool_train, eval_set=pool_val)"
   ]
  },
  {
   "cell_type": "markdown",
   "metadata": {},
   "source": [
    "Next, we'll evaluate how well the model performs on the validation data."
   ]
  },
  {
   "cell_type": "code",
   "execution_count": 6,
   "metadata": {},
   "outputs": [
    {
     "name": "stdout",
     "output_type": "stream",
     "text": [
      "              precision    recall  f1-score   support\n",
      "\n",
      "           0       0.94      0.57      0.71    525210\n",
      "           1       0.13      0.65      0.22     52521\n",
      "\n",
      "    accuracy                           0.57    577731\n",
      "   macro avg       0.54      0.61      0.46    577731\n",
      "weighted avg       0.87      0.57      0.66    577731\n",
      "\n"
     ]
    }
   ],
   "source": [
    "from sklearn.metrics import classification_report, precision_recall_fscore_support\n",
    "\n",
    "preds = model.predict(pool_val)\n",
    "\n",
    "precision, recall, fscore, _ = precision_recall_fscore_support(y_val, preds, average=\"binary\")\n",
    "\n",
    "metrics = {\n",
    "    \"precision\" : precision,\n",
    "    \"recall\" : recall,\n",
    "    \"fscore\" : fscore\n",
    "}\n",
    "\n",
    "print(classification_report(y_val, preds))"
   ]
  },
  {
   "cell_type": "markdown",
   "metadata": {},
   "source": [
    "It can be seen that the model has a low F1-score on the positive class (higher is better). The performance could potentially be improved by adding more features to the dataset, e.g. image embeddings.\n",
    "\n",
    "Let's see which features our model considers important."
   ]
  },
  {
   "cell_type": "code",
   "execution_count": 7,
   "metadata": {},
   "outputs": [
    {
     "data": {
      "text/plain": [
       "{'product_type_name': 16.089815083678165,\n",
       " 'month_sin': 15.215697873860751,\n",
       " 'month_cos': 14.327220746946468,\n",
       " 'product_group_name': 10.984299334165481,\n",
       " 'age': 7.366683690336384,\n",
       " 'garment_group_name': 6.169202336103466,\n",
       " 'index_name': 6.158166644254398,\n",
       " 'department_name': 5.889640566283271,\n",
       " 'perceived_colour_value_name': 4.652374917327656,\n",
       " 'section_name': 4.070205049786829,\n",
       " 'graphical_appearance_name': 3.10524045270199,\n",
       " 'perceived_colour_master_name': 2.5523558214357744,\n",
       " 'index_group_name': 1.7757813603025683,\n",
       " 'colour_group_name': 1.6433161228168147}"
      ]
     },
     "execution_count": 7,
     "metadata": {},
     "output_type": "execute_result"
    }
   ],
   "source": [
    "feat_to_score = {feature: score for feature, score in zip(\n",
    "    X_train.columns, model.feature_importances_)}\n",
    "\n",
    "feat_to_score = dict(\n",
    "    sorted(\n",
    "        feat_to_score.items(),\n",
    "        key=lambda item: item[1],\n",
    "        reverse=True\n",
    "    )\n",
    ")\n",
    "\n",
    "feat_to_score"
   ]
  },
  {
   "cell_type": "markdown",
   "metadata": {},
   "source": [
    "It can be seen that the model places high importance on user and item embedding features. Consequently, better trained embeddings could yield a better ranking model.\n",
    "\n",
    "Finally, we'll save our model."
   ]
  },
  {
   "cell_type": "code",
   "execution_count": 8,
   "metadata": {},
   "outputs": [
    {
     "data": {
      "text/plain": [
       "['ranking_model.pkl']"
      ]
     },
     "execution_count": 8,
     "metadata": {},
     "output_type": "execute_result"
    }
   ],
   "source": [
    "import joblib\n",
    "\n",
    "joblib.dump(model, 'ranking_model.pkl')"
   ]
  },
  {
   "cell_type": "markdown",
   "metadata": {},
   "source": [
    "### Upload Model to Model Registry\n",
    "\n",
    "We'll upload the model to the Hopsworks Model Registry."
   ]
  },
  {
   "cell_type": "code",
   "execution_count": 9,
   "metadata": {},
   "outputs": [
    {
     "name": "stdout",
     "output_type": "stream",
     "text": [
      "Connected. Call `.close()` to terminate connection gracefully.\n"
     ]
    }
   ],
   "source": [
    "# connect to Hopsworks Model Registry\n",
    "mr = project.get_model_registry()"
   ]
  },
  {
   "cell_type": "code",
   "execution_count": 10,
   "metadata": {},
   "outputs": [
    {
     "data": {
      "application/vnd.jupyter.widget-view+json": {
       "model_id": "a9b3cf5186fd4dbd88c3bd5e1f81b073",
       "version_major": 2,
       "version_minor": 0
      },
      "text/plain": [
       "  0%|          | 0/6 [00:00<?, ?it/s]"
      ]
     },
     "metadata": {},
     "output_type": "display_data"
    },
    {
     "name": "stdout",
     "output_type": "stream",
     "text": [
      "Model created, explore it at https://b0636a00-6406-11ed-88f4-3779517939b7.cloud.hopsworks.ai:443/p/119/models/ranking_model/1\n"
     ]
    },
    {
     "data": {
      "text/plain": [
       "Model(name: 'ranking_model', version: 1)"
      ]
     },
     "execution_count": 10,
     "metadata": {},
     "output_type": "execute_result"
    }
   ],
   "source": [
    "from hsml.schema import Schema\n",
    "from hsml.model_schema import ModelSchema\n",
    "\n",
    "input_example = X_train.sample().to_dict(\"records\")\n",
    "input_schema = Schema(X_train)\n",
    "output_schema = Schema(y_train)\n",
    "model_schema = ModelSchema(input_schema, output_schema)\n",
    "\n",
    "ranking_model = mr.python.create_model(\n",
    "    name=\"ranking_model\", metrics=metrics,\n",
    "    model_schema=model_schema,\n",
    "    input_example=input_example,\n",
    "    description=\"Ranking model that scores item candidates\")\n",
    "\n",
    "ranking_model.save(\"ranking_model.pkl\")"
   ]
  },
  {
   "cell_type": "markdown",
   "metadata": {},
   "source": [
    "### Next Steps\n",
    "\n",
    "Now we have trained both a retrieval and a ranking model, which will allow us to generate recommendations for users. In the next notebook, we'll take a look at how we can deploy these models with the `HSML` library."
   ]
  }
 ],
 "metadata": {
  "interpreter": {
   "hash": "31f2aee4e71d21fbe5cf8b01ff0e069b9275f58929596ceb00d14d90e3e16cd6"
  },
  "kernelspec": {
   "display_name": "Python 3 (ipykernel)",
   "language": "python",
   "name": "python3"
  },
  "language_info": {
   "codemirror_mode": {
    "name": "ipython",
    "version": 3
   },
   "file_extension": ".py",
   "mimetype": "text/x-python",
   "name": "python",
   "nbconvert_exporter": "python",
   "pygments_lexer": "ipython3",
   "version": "3.9.13"
  }
 },
 "nbformat": 4,
 "nbformat_minor": 4
}
