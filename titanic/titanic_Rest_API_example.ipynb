{
  "cells": [
    {
      "attachments": {},
      "cell_type": "markdown",
      "metadata": {},
      "source": [
        "# Using the Rest API to query a prediction from a deployed model in Hopsworks\n",
        "This notebook is an example on how to use a deployed model's Rest API, from the titanic tutorial to get back a prediction. We will create random data to input for the prediction."
      ]
    },
    {
      "cell_type": "code",
      "execution_count": 3,
      "metadata": {},
      "outputs": [
        {
          "name": "stdout",
          "output_type": "stream",
          "text": [
            "{'passenger_id': 51, 'sex': 2, 'age': 16.33, 'age_child': 22, 'age_teen': 47, 'age_young_adult': 86, 'age_middle_aged': 25, 'age_pensioner': 49, 'fare': 38.24, 'embarked': 25}\n"
          ]
        }
      ],
      "source": [
        "import random\n",
        "\n",
        "# Define the schema\n",
        "schema = {\n",
        "    \"columnar_schema\": [\n",
        "        {\n",
        "            \"name\": \"passenger_id\",\n",
        "            \"type\": \"int64\"\n",
        "        },\n",
        "        {\n",
        "            \"name\": \"sex\",\n",
        "            \"type\": \"int64\"\n",
        "        },\n",
        "        {\n",
        "            \"name\": \"age\",\n",
        "            \"type\": \"float64\"\n",
        "        },\n",
        "        {\n",
        "            \"name\": \"age_child\",\n",
        "            \"type\": \"int64\"\n",
        "        },\n",
        "        {\n",
        "            \"name\": \"age_teen\",\n",
        "            \"type\": \"int64\"\n",
        "        },\n",
        "        {\n",
        "            \"name\": \"age_young_adult\",\n",
        "            \"type\": \"int64\"\n",
        "        },\n",
        "        {\n",
        "            \"name\": \"age_middle_aged\",\n",
        "            \"type\": \"int64\"\n",
        "        },\n",
        "        {\n",
        "            \"name\": \"age_pensioner\",\n",
        "            \"type\": \"int64\"\n",
        "        },\n",
        "        {\n",
        "            \"name\": \"fare\",\n",
        "            \"type\": \"float64\"\n",
        "        },\n",
        "        {\n",
        "            \"name\": \"embarked\",\n",
        "            \"type\": \"int64\"\n",
        "        }\n",
        "    ]\n",
        "}\n",
        "\n",
        "# Define a function to generate random data for a column\n",
        "def generate_data(column):\n",
        "    col_type = column['type']\n",
        "    col_name = column['name']\n",
        "    if col_type == 'int64':\n",
        "        return random.randint(0, 100)\n",
        "    elif col_type == 'float64':\n",
        "        return round(random.uniform(0, 100), 2)\n",
        "    else:\n",
        "        return f\"{col_name}_{random.choice(['child', 'teen', 'young_adult', 'middle_aged', 'pensioner'])}\"\n",
        "\n",
        "# Generate 1 rows of data\n",
        "num_rows = 1\n",
        "data = {}\n",
        "for column in schema['columnar_schema']:\n",
        "    col_name = column['name']\n",
        "    data[col_name] = [generate_data(column) for i in range(num_rows)]\n",
        "\n",
        "# Print the generated data\n",
        "for i in range(num_rows):\n",
        "    print({k: v[i] for k, v in data.items()})\n"
      ]
    },
    {
      "cell_type": "code",
      "execution_count": 4,
      "metadata": {
        "colab": {
          "base_uri": "https://localhost:8080/"
        },
        "id": "7FXOLL6avfCY",
        "outputId": "0ca66e80-cfbd-4b71-bc2d-fc9a1376740b"
      },
      "outputs": [
        {
          "ename": "ModuleNotFoundError",
          "evalue": "No module named 'requests'",
          "output_type": "error",
          "traceback": [
            "\u001b[0;31m---------------------------------------------------------------------------\u001b[0m",
            "\u001b[0;31mModuleNotFoundError\u001b[0m                       Traceback (most recent call last)",
            "Cell \u001b[0;32mIn[4], line 1\u001b[0m\n\u001b[0;32m----> 1\u001b[0m \u001b[39mimport\u001b[39;00m \u001b[39mrequests\u001b[39;00m\n\u001b[1;32m      2\u001b[0m \u001b[39mimport\u001b[39;00m \u001b[39mjson\u001b[39;00m\n\u001b[1;32m      4\u001b[0m \u001b[39m# Define the API endpoint\u001b[39;00m\n",
            "\u001b[0;31mModuleNotFoundError\u001b[0m: No module named 'requests'"
          ]
        }
      ],
      "source": [
        "import requests\n",
        "import json\n",
        "\n",
        "# Define the project number\n",
        "project_number = \"3234\"\n",
        "\n",
        "# Define the deployment number\n",
        "deployment_number = \"17420\"\n",
        "\n",
        "# Define the REST API endpoint\n",
        "rest_api = \"hopsworks-api/api/project/3234/inference/models/titanicmodel:predict\"\n",
        "\n",
        "# Define the API endpoint using the variables\n",
        "url = f\"https://c.app.hopsworks.ai/p/{project_number}/deployments/{deployment_number}/{rest_api}\"\n",
        "\n",
        "# Define the authorization Api Key\n",
        "ApiKey = \"\"\n",
        "\n",
        "# Define the headers of the HTTP request\n",
        "headers = {\n",
        "    \"Authorization\": f\"ApiKey {ApiKey}\",\n",
        "}\n",
        "\n",
        "# Define the input data for prediction\n",
        "input_data = {\n",
        "    \"data\": data\n",
        "}\n",
        "\n",
        "# Send a HTTP POST request to the API endpoint\n",
        "response = requests.post(url, json=input_data, headers = headers)\n",
        "\n",
        "# Print the response\n",
        "print(response.json())\n"
      ]
    },
    {
      "cell_type": "markdown",
      "metadata": {},
      "source": []
    },
    {
      "cell_type": "code",
      "execution_count": null,
      "metadata": {},
      "outputs": [],
      "source": []
    }
  ],
  "metadata": {
    "colab": {
      "provenance": []
    },
    "kernelspec": {
      "display_name": "Python 3",
      "language": "python",
      "name": "python3"
    },
    "language_info": {
      "codemirror_mode": {
        "name": "ipython",
        "version": 3
      },
      "file_extension": ".py",
      "mimetype": "text/x-python",
      "name": "python",
      "nbconvert_exporter": "python",
      "pygments_lexer": "ipython3",
      "version": "3.11.2"
    },
    "vscode": {
      "interpreter": {
        "hash": "b0fa6594d8f4cbf19f97940f81e996739fb7646882a419484c72d19e05852a7e"
      }
    }
  },
  "nbformat": 4,
  "nbformat_minor": 0
}
