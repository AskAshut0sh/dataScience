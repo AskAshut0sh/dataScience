{
 "cells": [
  {
   "attachments": {},
   "cell_type": "markdown",
   "id": "b266a486",
   "metadata": {},
   "source": [
    "## Introduction to feature groups with Hopsworks\n",
    "**This notebook inmports 3 CSV**; Titanic's passengers, tickets and survivors.\n",
    "We then perform some minor feature engineering (binning and one-hot-encoding) and process to create a feature group for each. "
   ]
  },
  {
   "cell_type": "code",
   "execution_count": null,
   "id": "25c58707",
   "metadata": {},
   "outputs": [],
   "source": [
    "!pip install -U hopsworks --quiet"
   ]
  },
  {
   "cell_type": "code",
   "execution_count": null,
   "id": "056c8bbf",
   "metadata": {},
   "outputs": [],
   "source": [
    "import hopsworks\n",
    "import pandas as pd"
   ]
  },
  {
   "cell_type": "code",
   "execution_count": null,
   "id": "e957cb8f",
   "metadata": {},
   "outputs": [],
   "source": [
    "project = hopsworks.login()\n",
    "fs = project.get_feature_store()"
   ]
  },
  {
   "cell_type": "code",
   "execution_count": null,
   "id": "7c02af1d",
   "metadata": {},
   "outputs": [],
   "source": [
    "titanic_passengers_df = pd.read_csv(\"https://repo.hops.works/dev/jdowling/titanic/titanic_passengers.csv\")\n",
    "titanic_passengers_df"
   ]
  },
  {
   "cell_type": "code",
   "execution_count": null,
   "id": "738da9e4",
   "metadata": {},
   "outputs": [],
   "source": [
    "titanic_tickets_df = pd.read_csv(\"https://repo.hops.works/dev/jdowling/titanic/titanic_tickets.csv\")\n",
    "titanic_tickets_df"
   ]
  },
  {
   "cell_type": "code",
   "execution_count": null,
   "id": "a51d26a5",
   "metadata": {},
   "outputs": [],
   "source": [
    "titanic_survived_df = pd.read_csv(\"https://repo.hops.works/dev/jdowling/titanic/titanic_survived.csv\")\n",
    "titanic_survived_df"
   ]
  },
  {
   "cell_type": "markdown",
   "id": "049c746a",
   "metadata": {},
   "source": [
    "## Feature Engineering\n",
    "\n",
    "Encode all the categorical features as number"
   ]
  },
  {
   "cell_type": "code",
   "execution_count": null,
   "id": "8dc4ba01",
   "metadata": {},
   "outputs": [],
   "source": [
    "titanic_passengers_df['sex'].replace('female', 0,inplace=True)\n",
    "titanic_passengers_df['sex'].replace('male', 1,inplace=True)\n",
    "titanic_passengers_df['sex'].astype(int)\n",
    "\n",
    "\n",
    "titanic_passengers_df['age_bin'] = pd.cut(titanic_passengers_df['age'], bins=[0,12,19,40, 65, 130], \n",
    "                                          labels=['child','teen','young_adult','middle_aged','pensioner'])\n",
    "titanic_passengers_df = pd.get_dummies(titanic_passengers_df, columns=[\"age_bin\"], prefix=[\"age\"])\n",
    "\n",
    "titanic_passengers_df"
   ]
  },
  {
   "cell_type": "code",
   "execution_count": null,
   "id": "63a7a7e4",
   "metadata": {},
   "outputs": [],
   "source": [
    "titanic_tickets_df['embarked'].replace('S', 0,inplace=True)\n",
    "titanic_tickets_df['embarked'].replace('C', 1,inplace=True)\n",
    "titanic_tickets_df['embarked'].replace('Q', 2,inplace=True) \n",
    "titanic_tickets_df['embarked'].astype(int)\n",
    "\n",
    "titanic_tickets_df"
   ]
  },
  {
   "cell_type": "code",
   "execution_count": null,
   "id": "b4411bc8",
   "metadata": {},
   "outputs": [],
   "source": [
    "titanic_passengers_fg = fs.get_or_create_feature_group(\n",
    "    name=\"titanic_passengers\",\n",
    "    version=1,\n",
    "    primary_key=[\"passenger_id\"]\n",
    ")\n",
    "titanic_passengers_fg.insert(titanic_passengers_df, write_options={\"wait_for_job\" : False})"
   ]
  },
  {
   "cell_type": "markdown",
   "id": "9f135342",
   "metadata": {},
   "source": []
  },
  {
   "cell_type": "code",
   "execution_count": null,
   "id": "8a3e9dc3",
   "metadata": {},
   "outputs": [],
   "source": [
    "titanic_tickets_fg = fs.get_or_create_feature_group(\n",
    "    name=\"titanic_tickets\",\n",
    "    version=1,\n",
    "    primary_key=[\"passenger_id\"]\n",
    ")\n",
    "titanic_tickets_fg.insert(titanic_tickets_df, write_options={\"wait_for_job\" : False})"
   ]
  },
  {
   "cell_type": "code",
   "execution_count": null,
   "id": "1b8f50dc",
   "metadata": {},
   "outputs": [],
   "source": [
    "titanic_survived_fg = fs.get_or_create_feature_group(\n",
    "    name=\"titanic_survived\",\n",
    "    version=1,\n",
    "    primary_key=[\"passenger_id\"]\n",
    ")\n",
    "titanic_survived_fg.insert(titanic_survived_df, write_options={\"wait_for_job\" : False})"
   ]
  },
  {
   "cell_type": "code",
   "execution_count": null,
   "id": "6b9b50d6",
   "metadata": {},
   "outputs": [],
   "source": []
  }
 ],
 "metadata": {
  "kernelspec": {
   "display_name": "Python 3",
   "language": "python",
   "name": "python3"
  },
  "language_info": {
   "codemirror_mode": {
    "name": "ipython",
    "version": 3
   },
   "file_extension": ".py",
   "mimetype": "text/x-python",
   "name": "python",
   "nbconvert_exporter": "python",
   "pygments_lexer": "ipython3",
   "version": "3.11.2"
  },
  "vscode": {
   "interpreter": {
    "hash": "b0fa6594d8f4cbf19f97940f81e996739fb7646882a419484c72d19e05852a7e"
   }
  }
 },
 "nbformat": 4,
 "nbformat_minor": 5
}
