{
 "cells": [
  {
   "attachments": {},
   "cell_type": "markdown",
   "id": "82c8836a",
   "metadata": {},
   "source": [
    "# Introduction to Feature View and Model Registry in Hopsworks\n",
    "In this notebook we will join our previously created feature groups into a single feature view, create a train, test split dataset and train a simple model Gradient Boosting Classifier where we will want to predict the chances or of survival of passengers of the Titanic depending on their demographics and socio-economic status."
   ]
  },
  {
   "cell_type": "code",
   "execution_count": null,
   "id": "0dd9b695",
   "metadata": {},
   "outputs": [],
   "source": [
    "!pip install -U hopsworks --quiet"
   ]
  },
  {
   "cell_type": "code",
   "execution_count": null,
   "id": "056c8bbf",
   "metadata": {},
   "outputs": [],
   "source": [
    "import hopsworks\n",
    "from hsml.schema import Schema\n",
    "from hsml.model_schema import ModelSchema\n",
    "import pandas as pd\n",
    "from sklearn.ensemble import GradientBoostingClassifier\n",
    "from sklearn.metrics import accuracy_score\n",
    "from sklearn.metrics import confusion_matrix\n",
    "from sklearn.metrics import classification_report\n",
    "import seaborn as sns\n",
    "import os\n",
    "import joblib"
   ]
  },
  {
   "cell_type": "code",
   "execution_count": null,
   "id": "e957cb8f",
   "metadata": {},
   "outputs": [],
   "source": [
    "project = hopsworks.login()\n",
    "fs = project.get_feature_store()"
   ]
  },
  {
   "cell_type": "code",
   "execution_count": null,
   "id": "b4411bc8",
   "metadata": {},
   "outputs": [],
   "source": [
    "titanic_passengers_fg = fs.get_feature_group(name=\"titanic_passengers\",version=1)\n",
    "titanic_tickets_fg = fs.get_feature_group(name=\"titanic_tickets\",version=1)\n",
    "titanic_survived_fg = fs.get_feature_group(name=\"titanic_survived\",version=1)"
   ]
  },
  {
   "cell_type": "code",
   "execution_count": null,
   "id": "6b9b50d6",
   "metadata": {},
   "outputs": [],
   "source": [
    "query = titanic_passengers_fg.select_except([\"name\"]).join(\n",
    "    titanic_tickets_fg.select_all()).join(titanic_survived_fg.select_all())"
   ]
  },
  {
   "cell_type": "code",
   "execution_count": null,
   "id": "715a7471",
   "metadata": {},
   "outputs": [],
   "source": [
    "try:\n",
    "    fv = fs.get_feature_view(name=\"titanic\", version=1)\n",
    "except:\n",
    "    fv = fs.create_feature_view(name=\"titanic\", \n",
    "                                version=1, \n",
    "                                query=query, \n",
    "                                labels=[\"survived\"])"
   ]
  },
  {
   "cell_type": "code",
   "execution_count": null,
   "id": "1cd5ba37",
   "metadata": {},
   "outputs": [],
   "source": [
    "X_train, X_test, y_train, y_test = fv.train_test_split(test_size=0.2)\n",
    "X_train"
   ]
  },
  {
   "cell_type": "code",
   "execution_count": null,
   "id": "40c84125",
   "metadata": {},
   "outputs": [],
   "source": [
    "y_train"
   ]
  },
  {
   "cell_type": "code",
   "execution_count": null,
   "id": "599a67d3",
   "metadata": {},
   "outputs": [],
   "source": [
    "# Train our model with the Scikit-learn binary classifier algorithm using our features (X_train) and labels (y_train)\n",
    "model = GradientBoostingClassifier(n_estimators=1000, random_state=42)\n",
    "model.fit(X_train, y_train.values.ravel())"
   ]
  },
  {
   "cell_type": "code",
   "execution_count": null,
   "id": "695b5939",
   "metadata": {},
   "outputs": [],
   "source": [
    "# Evaluate model performance using the features from the test set (X_test)\n",
    "y_pred = model.predict(X_test)\n",
    "\n",
    "# Compare predictions (y_pred) with the labels in the test set (y_test)\n",
    "metrics = classification_report(y_test, y_pred, output_dict=True)\n",
    "results = confusion_matrix(y_test, y_pred)\n",
    "results"
   ]
  },
  {
   "cell_type": "code",
   "execution_count": null,
   "id": "c6daa4e7",
   "metadata": {},
   "outputs": [],
   "source": [
    "# Create the confusion matrix as a figure, we will later store it as a PNG image file\n",
    "df_cm = pd.DataFrame(results, ['True Dead', 'True Survived'], \n",
    "                                ['Predicted Dead', 'Predicted Survived'])\n",
    "\n",
    "cm = sns.heatmap(df_cm, annot=True)\n",
    "fig = cm.get_figure()\n",
    "fig.show()"
   ]
  },
  {
   "cell_type": "code",
   "execution_count": null,
   "id": "6789e4fd",
   "metadata": {},
   "outputs": [],
   "source": [
    "# We will now upload our model to the Hopsworks Model Registry. First get an object for the model registry.\n",
    "mr = project.get_model_registry()\n",
    "\n",
    "# The contents of the 'titanic_model' directory will be saved to the model registry. Create the dir, first.\n",
    "model_dir=\"titanic_model\"\n",
    "if os.path.isdir(model_dir) == False:\n",
    "    os.mkdir(model_dir)\n",
    "\n",
    "# Save both our model and the confusion matrix to 'model_dir', whose contents will be uploaded to the model registry\n",
    "joblib.dump(model, model_dir + \"/titanic_model.pkl\")\n",
    "fig.savefig(model_dir + \"/confusion_matrix.png\")    \n",
    "\n",
    "\n",
    "# Specify the schema of the model's input/output using the features (X_train) and labels (y_train)\n",
    "input_schema = Schema(X_train)\n",
    "output_schema = Schema(y_train)\n",
    "model_schema = ModelSchema(input_schema, output_schema)\n",
    "\n",
    "# Create an entry in the model registry that includes the model's name, desc, metrics\n",
    "titanic_model = mr.python.create_model(\n",
    "    name=\"titanic_model\", \n",
    "    metrics={\"accuracy\" : metrics['accuracy']},\n",
    "    model_schema=model_schema,\n",
    "    description=\"titanic Predictor\"\n",
    ")\n",
    "\n",
    "# Upload the model to the model registry, including all files in 'model_dir'\n",
    "titanic_model.save(model_dir)"
   ]
  },
  {
   "cell_type": "code",
   "execution_count": null,
   "id": "35bd0e72",
   "metadata": {},
   "outputs": [],
   "source": [
    "%%writefile predict_example.py\n",
    "\n",
    "import joblib\n",
    "import os\n",
    "\n",
    "class Predict(object):\n",
    "    \n",
    "    def __init__(self):\n",
    "        # NOTE: env var ARTIFACT_FILES_PATH has the local path to the model artifact files        \n",
    "        self.model = joblib.load(os.environ[\"ARTIFACT_FILES_PATH\"] + \"/titanic_model.pkl\")\n",
    "\n",
    "\n",
    "    def predict(self, inputs):\n",
    "        \"\"\" Serves a prediction request from a trained model\"\"\"\n",
    "        return self.model.predict(inputs).tolist()"
   ]
  }
 ],
 "metadata": {
  "kernelspec": {
   "display_name": "Python 3",
   "language": "python",
   "name": "python3"
  },
  "language_info": {
   "codemirror_mode": {
    "name": "ipython",
    "version": 3
   },
   "file_extension": ".py",
   "mimetype": "text/x-python",
   "name": "python",
   "nbconvert_exporter": "python",
   "pygments_lexer": "ipython3",
   "version": "3.11.2"
  },
  "vscode": {
   "interpreter": {
    "hash": "b0fa6594d8f4cbf19f97940f81e996739fb7646882a419484c72d19e05852a7e"
   }
  }
 },
 "nbformat": 4,
 "nbformat_minor": 5
}
